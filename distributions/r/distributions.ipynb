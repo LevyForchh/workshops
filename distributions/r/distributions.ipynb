{
 "cells": [
  {
   "cell_type": "markdown",
   "metadata": {},
   "source": [
    "# 1. Introduction\n",
    "\n",
    "This is the R track of the *Distributions* workshop prepared by\n",
    "Los Angeles County, ISAB.  Section numbering is intended to be\n",
    "consistently referenced from the main workshop document available\n",
    "at\n",
    "\n",
    "<https://github.com/lacounty-isab/workshops/tree/master/distributions>\n",
    "\n",
    "## 1.1. Preparation\n",
    "\n",
    "Since R is oriented toward statistics, no special preparation is\n",
    "required to work with distributions.\n",
    "You can obtain a list of *baked-in* distributions by entering\n",
    "\n",
    "```\n",
    "?Distributions\n",
    "```\n",
    "\n",
    "These are all part of the **stats** package which is available\n",
    "in every R installation.\n",
    "\n",
    "## 1.2 Conventions\n",
    "\n",
    "R has a consistent naming convention for functions that work\n",
    "with distributions - a single letter followed by the name of\n",
    "the distribution.  The four single letters are\n",
    "\n",
    "* `d` - density function\n",
    "* `p` - percent point function (CDF)\n",
    "* `q` - quantile (inverse of CDF)\n",
    "* `r` - random sampler\n",
    "\n",
    "If we take the binomial distribution as an example, then\n",
    "`dbinom` is a *binomial density function*.\n",
    "\n",
    "Throughout this tutorial we'll use the **round** function\n",
    "to limit the size of the output to two or three decimal points.\n",
    "It has the syntax of\n",
    "\n",
    "```\n",
    "round(x, 3)\n",
    "```\n",
    "\n",
    "where `x` is the number or vector you wish to round and `3`\n",
    "is the number of digits to the left of the decimal point."
   ]
  },
  {
   "cell_type": "code",
   "execution_count": 4,
   "metadata": {},
   "outputs": [
    {
     "data": {
      "text/html": [
       "0.2"
      ],
      "text/latex": [
       "0.2"
      ],
      "text/markdown": [
       "0.2"
      ],
      "text/plain": [
       "[1] 0.2"
      ]
     },
     "metadata": {},
     "output_type": "display_data"
    }
   ],
   "source": [
    "round( dbinom(4, 10, 0.3), 3)"
   ]
  },
  {
   "cell_type": "markdown",
   "metadata": {},
   "source": [
    "This gives the probability of getting **4** successes after **10**\n",
    "bernoulli trials where each success has a probability of **0.3**;\n",
    "which is about **20%**.\n",
    "\n",
    "# 2 Discrete Distributions\n",
    "\n",
    "## 2.1 Binomial Distribution\n",
    "\n",
    "The binomial distribution has a `binom` suffix for each of\n",
    "its standard methods.  We'll assume 100 trials with 20%\n",
    "chance of success at each trial.  The value of the random\n",
    "variable is the number of successes.\n",
    "Let's start with the density function `dbinom`.\n",
    "This is equation (7) of the math supplement.\n",
    "\n",
    "$$\n",
    "f_X(i) = \\sum_{i=0}^n {n \\choose i} p^i (1-p)^{n-i}\n",
    "$$\n",
    "\n",
    "Here we consider the case of $n=100$ and $p=0.2$.\n",
    "We suspect that the highest probability will be around 20\n",
    "successes since the probability of each success is 0.2 and\n",
    "there are 100 trials.  The `dbinom` function accepts numeric\n",
    "vectors, so we'll check `10`, `20`, and `30` in one go."
   ]
  },
  {
   "cell_type": "code",
   "execution_count": 5,
   "metadata": {},
   "outputs": [
    {
     "data": {
      "text/html": [
       "<ol class=list-inline>\n",
       "\t<li>0.003</li>\n",
       "\t<li>0.099</li>\n",
       "\t<li>0.005</li>\n",
       "</ol>\n"
      ],
      "text/latex": [
       "\\begin{enumerate*}\n",
       "\\item 0.003\n",
       "\\item 0.099\n",
       "\\item 0.005\n",
       "\\end{enumerate*}\n"
      ],
      "text/markdown": [
       "1. 0.003\n",
       "2. 0.099\n",
       "3. 0.005\n",
       "\n",
       "\n"
      ],
      "text/plain": [
       "[1] 0.003 0.099 0.005"
      ]
     },
     "metadata": {},
     "output_type": "display_data"
    }
   ],
   "source": [
    "round( dbinom(c(10, 20, 30), 100, 0.2), 3)"
   ]
  },
  {
   "cell_type": "markdown",
   "metadata": {},
   "source": [
    "Sure enough, the density functon shows a 9.9% chance of\n",
    "obtaining exactly 20 successes.  The probability for 10\n",
    "and 30 are each less than 1%.\n",
    "\n",
    "Now let's check the associated cumulative distribution\n",
    "function, or CDF.  The CDF at a point is the cumulation\n",
    "of probability from the density function for all points\n",
    "equal or less.  Since we expect the average to be around\n",
    "20, the CDF should be close to 0.5 at 20."
   ]
  },
  {
   "cell_type": "code",
   "execution_count": 6,
   "metadata": {},
   "outputs": [
    {
     "data": {
      "text/html": [
       "<ol class=list-inline>\n",
       "\t<li>0.006</li>\n",
       "\t<li>0.559</li>\n",
       "\t<li>0.994</li>\n",
       "</ol>\n"
      ],
      "text/latex": [
       "\\begin{enumerate*}\n",
       "\\item 0.006\n",
       "\\item 0.559\n",
       "\\item 0.994\n",
       "\\end{enumerate*}\n"
      ],
      "text/markdown": [
       "1. 0.006\n",
       "2. 0.559\n",
       "3. 0.994\n",
       "\n",
       "\n"
      ],
      "text/plain": [
       "[1] 0.006 0.559 0.994"
      ]
     },
     "metadata": {},
     "output_type": "display_data"
    }
   ],
   "source": [
    "round( pbinom(c(10, 20, 30), 100, 0.2), 3)"
   ]
  },
  {
   "cell_type": "markdown",
   "metadata": {},
   "source": [
    "This shows that the probability of having *less than or equal\n",
    "to 10 successes* is 0.6%.  The probability of having less\n",
    "than or equal to 30 successes is 99.4%.\n",
    "\n",
    "To better see the relationship between the density and \n",
    "cumulative distributions, we can plot them."
   ]
  },
  {
   "cell_type": "code",
   "execution_count": 7,
   "metadata": {
    "collapsed": true
   },
   "outputs": [],
   "source": [
    "options(repr.plot.width=6, repr.plot.height=4) # For jupyter notebooks."
   ]
  },
  {
   "cell_type": "code",
   "execution_count": 8,
   "metadata": {},
   "outputs": [
    {
     "data": {
      "image/png": "[encoded data removed]",
      "text/plain": [
       "Plot with title “Binomial density and distribution for n=100, p=0.2”"
      ]
     },
     "metadata": {},
     "output_type": "display_data"
    }
   ],
   "source": [
    "x <- seq(0, 100)\n",
    "plot(x, pbinom(x, 100, 0.2), col=\"blue\", pch=19)\n",
    "points(x, dbinom(x, 100, 0.2), col=\"red\", pch=19)\n",
    "title(main=\"Binomial density and distribution for n=100, p=0.2\")"
   ]
  },
  {
   "cell_type": "markdown",
   "metadata": {},
   "source": [
    "**Quantiles** are the inverse of the CDF function.  For any\n",
    "probability, a quantile function tells us the value of the\n",
    "random variable for which the CDF is equal to that probability.\n",
    "\n",
    "How many successes can we expect to have 25%, 50%, and 75%\n",
    "of the time?"
   ]
  },
  {
   "cell_type": "code",
   "execution_count": 9,
   "metadata": {},
   "outputs": [
    {
     "data": {
      "text/html": [
       "<ol class=list-inline>\n",
       "\t<li>17</li>\n",
       "\t<li>20</li>\n",
       "\t<li>23</li>\n",
       "</ol>\n"
      ],
      "text/latex": [
       "\\begin{enumerate*}\n",
       "\\item 17\n",
       "\\item 20\n",
       "\\item 23\n",
       "\\end{enumerate*}\n"
      ],
      "text/markdown": [
       "1. 17\n",
       "2. 20\n",
       "3. 23\n",
       "\n",
       "\n"
      ],
      "text/plain": [
       "[1] 17 20 23"
      ]
     },
     "metadata": {},
     "output_type": "display_data"
    }
   ],
   "source": [
    "qbinom(c(0.25, 0.5, 0.75), 100, 0.2)"
   ]
  },
  {
   "cell_type": "markdown",
   "metadata": {},
   "source": [
    "The reason these come out to exact integers is because the\n",
    "binomial random variable only takes integer values.  The\n",
    "`qbinom` can be interpreted as *the smallest integer number\n",
    "of successes with probability greater than or equal to the\n",
    "argument*.  So it's not a strict inverse.\n",
    "\n",
    "The binomial CDF is provided by `pbinom`. "
   ]
  },
  {
   "cell_type": "code",
   "execution_count": 10,
   "metadata": {},
   "outputs": [
    {
     "data": {
      "text/html": [
       "<ol class=list-inline>\n",
       "\t<li>0.19</li>\n",
       "\t<li>0.27</li>\n",
       "\t<li>0.46</li>\n",
       "\t<li>0.56</li>\n",
       "\t<li>0.74</li>\n",
       "\t<li>0.81</li>\n",
       "</ol>\n"
      ],
      "text/latex": [
       "\\begin{enumerate*}\n",
       "\\item 0.19\n",
       "\\item 0.27\n",
       "\\item 0.46\n",
       "\\item 0.56\n",
       "\\item 0.74\n",
       "\\item 0.81\n",
       "\\end{enumerate*}\n"
      ],
      "text/markdown": [
       "1. 0.19\n",
       "2. 0.27\n",
       "3. 0.46\n",
       "4. 0.56\n",
       "5. 0.74\n",
       "6. 0.81\n",
       "\n",
       "\n"
      ],
      "text/plain": [
       "[1] 0.19 0.27 0.46 0.56 0.74 0.81"
      ]
     },
     "metadata": {},
     "output_type": "display_data"
    }
   ],
   "source": [
    "round( pbinom(c(16, 17, 19, 20, 22, 23), 100, 0.2), 2)"
   ]
  },
  {
   "cell_type": "markdown",
   "metadata": {},
   "source": [
    "Sometimes it's useful to generate samples from a distribution.\n",
    "In other words, the numbers are generated as if they came\n",
    "from running the experiement associated with the model.\n",
    "The `rbinom` function is used for this."
   ]
  },
  {
   "cell_type": "code",
   "execution_count": 30,
   "metadata": {},
   "outputs": [
    {
     "data": {
      "text/html": [
       "<ol class=list-inline>\n",
       "\t<li>18</li>\n",
       "\t<li>16</li>\n",
       "\t<li>23</li>\n",
       "\t<li>25</li>\n",
       "\t<li>18</li>\n",
       "\t<li>14</li>\n",
       "\t<li>16</li>\n",
       "\t<li>28</li>\n",
       "\t<li>17</li>\n",
       "\t<li>16</li>\n",
       "\t<li>23</li>\n",
       "\t<li>17</li>\n",
       "\t<li>19</li>\n",
       "\t<li>21</li>\n",
       "\t<li>16</li>\n",
       "\t<li>20</li>\n",
       "\t<li>20</li>\n",
       "\t<li>12</li>\n",
       "\t<li>19</li>\n",
       "\t<li>20</li>\n",
       "\t<li>17</li>\n",
       "\t<li>15</li>\n",
       "\t<li>24</li>\n",
       "\t<li>27</li>\n",
       "\t<li>15</li>\n",
       "\t<li>20</li>\n",
       "\t<li>9</li>\n",
       "\t<li>16</li>\n",
       "\t<li>20</li>\n",
       "\t<li>23</li>\n",
       "\t<li>19</li>\n",
       "\t<li>21</li>\n",
       "\t<li>20</li>\n",
       "\t<li>24</li>\n",
       "\t<li>13</li>\n",
       "\t<li>20</li>\n",
       "\t<li>21</li>\n",
       "\t<li>21</li>\n",
       "\t<li>17</li>\n",
       "\t<li>23</li>\n",
       "\t<li>23</li>\n",
       "\t<li>17</li>\n",
       "\t<li>20</li>\n",
       "\t<li>28</li>\n",
       "\t<li>25</li>\n",
       "\t<li>20</li>\n",
       "\t<li>21</li>\n",
       "\t<li>19</li>\n",
       "\t<li>17</li>\n",
       "\t<li>28</li>\n",
       "</ol>\n"
      ],
      "text/latex": [
       "\\begin{enumerate*}\n",
       "\\item 18\n",
       "\\item 16\n",
       "\\item 23\n",
       "\\item 25\n",
       "\\item 18\n",
       "\\item 14\n",
       "\\item 16\n",
       "\\item 28\n",
       "\\item 17\n",
       "\\item 16\n",
       "\\item 23\n",
       "\\item 17\n",
       "\\item 19\n",
       "\\item 21\n",
       "\\item 16\n",
       "\\item 20\n",
       "\\item 20\n",
       "\\item 12\n",
       "\\item 19\n",
       "\\item 20\n",
       "\\item 17\n",
       "\\item 15\n",
       "\\item 24\n",
       "\\item 27\n",
       "\\item 15\n",
       "\\item 20\n",
       "\\item 9\n",
       "\\item 16\n",
       "\\item 20\n",
       "\\item 23\n",
       "\\item 19\n",
       "\\item 21\n",
       "\\item 20\n",
       "\\item 24\n",
       "\\item 13\n",
       "\\item 20\n",
       "\\item 21\n",
       "\\item 21\n",
       "\\item 17\n",
       "\\item 23\n",
       "\\item 23\n",
       "\\item 17\n",
       "\\item 20\n",
       "\\item 28\n",
       "\\item 25\n",
       "\\item 20\n",
       "\\item 21\n",
       "\\item 19\n",
       "\\item 17\n",
       "\\item 28\n",
       "\\end{enumerate*}\n"
      ],
      "text/markdown": [
       "1. 18\n",
       "2. 16\n",
       "3. 23\n",
       "4. 25\n",
       "5. 18\n",
       "6. 14\n",
       "7. 16\n",
       "8. 28\n",
       "9. 17\n",
       "10. 16\n",
       "11. 23\n",
       "12. 17\n",
       "13. 19\n",
       "14. 21\n",
       "15. 16\n",
       "16. 20\n",
       "17. 20\n",
       "18. 12\n",
       "19. 19\n",
       "20. 20\n",
       "21. 17\n",
       "22. 15\n",
       "23. 24\n",
       "24. 27\n",
       "25. 15\n",
       "26. 20\n",
       "27. 9\n",
       "28. 16\n",
       "29. 20\n",
       "30. 23\n",
       "31. 19\n",
       "32. 21\n",
       "33. 20\n",
       "34. 24\n",
       "35. 13\n",
       "36. 20\n",
       "37. 21\n",
       "38. 21\n",
       "39. 17\n",
       "40. 23\n",
       "41. 23\n",
       "42. 17\n",
       "43. 20\n",
       "44. 28\n",
       "45. 25\n",
       "46. 20\n",
       "47. 21\n",
       "48. 19\n",
       "49. 17\n",
       "50. 28\n",
       "\n",
       "\n"
      ],
      "text/plain": [
       " [1] 18 16 23 25 18 14 16 28 17 16 23 17 19 21 16 20 20 12 19 20 17 15 24 27 15\n",
       "[26] 20  9 16 20 23 19 21 20 24 13 20 21 21 17 23 23 17 20 28 25 20 21 19 17 28"
      ]
     },
     "metadata": {},
     "output_type": "display_data"
    }
   ],
   "source": [
    "b_sample <- rbinom(1000, 100, 0.2)\n",
    "b_sample[1:50]"
   ]
  },
  {
   "cell_type": "markdown",
   "metadata": {},
   "source": [
    "This simulates the arduous task of \n",
    "\n",
    "1. flipping an unfair coin (with 20% chance of heads) 100 times,\n",
    "2. noting the number of heads,\n",
    "3. repeating steps 1 and 2 for 1,000 times\n",
    "\n",
    "It's fun to plot a histogram of our sample.  It should have a\n",
    "shape \"approaching\" our density function."
   ]
  },
  {
   "cell_type": "code",
   "execution_count": 12,
   "metadata": {},
   "outputs": [
    {
     "data": {
      "image/png": "[encoded data removed]",
      "text/plain": [
       "Plot with title “Histogram of b_sample”"
      ]
     },
     "metadata": {},
     "output_type": "display_data"
    }
   ],
   "source": [
    "hist(b_sample, breaks=30, xlim=c(0, 100), col=\"blue\")"
   ]
  },
  {
   "cell_type": "markdown",
   "metadata": {},
   "source": [
    "## 2.2 Poisson Distribution\n",
    "\n",
    "The Poisson random variable represents the number of occurrences of an event\n",
    "over a fixed interval of time.\n",
    "An example could be the number of crimes reported per hour.\n",
    "The parameter of the random variable, usually\n",
    "denoted by $\\lambda$, turns out to be the expected number of occurrences.\n",
    "The Poisson density function is given by\n",
    "\n",
    "$$\n",
    "f_X(i;\\lambda) = e^{-\\lambda} \\frac{\\lambda^i}{i!}\n",
    "$$\n",
    "\n",
    "For each $i$, this represents the probability of observing $i$ counts within\n",
    "the unit time period.  R provides the usual four random variable functions\n",
    "for the Poisson random variable.\n",
    "\n",
    "* `dpois` - Poisson density (PMF) function\n",
    "* `ppois` - Poisson probability (CDF) function\n",
    "* `qpois` - Poisson quantile (inverse CDF) function\n",
    "* `rpois` - Poisson random sample\n",
    "\n",
    "Let's consider a case of a Poisson process where the expected\n",
    "number of occurrences per time period is 5.\n",
    "\n",
    "Since 5 is the expected value, we expect the mass function to be strong\n",
    "near 5.  Let's check this."
   ]
  },
  {
   "cell_type": "code",
   "execution_count": 13,
   "metadata": {},
   "outputs": [
    {
     "data": {
      "text/html": [
       "<ol class=list-inline>\n",
       "\t<li>0.14</li>\n",
       "\t<li>0.175</li>\n",
       "\t<li>0.104</li>\n",
       "</ol>\n"
      ],
      "text/latex": [
       "\\begin{enumerate*}\n",
       "\\item 0.14\n",
       "\\item 0.175\n",
       "\\item 0.104\n",
       "\\end{enumerate*}\n"
      ],
      "text/markdown": [
       "1. 0.14\n",
       "2. 0.175\n",
       "3. 0.104\n",
       "\n",
       "\n"
      ],
      "text/plain": [
       "[1] 0.140 0.175 0.104"
      ]
     },
     "metadata": {},
     "output_type": "display_data"
    }
   ],
   "source": [
    "round( dpois(c(3,5,7), 5), 3)"
   ]
  },
  {
   "cell_type": "markdown",
   "metadata": {},
   "source": [
    "We see a 14% of getting a 3 count, an 18% chance of getting a 5 count\n",
    "and a 10% chance of getting a 7 count.  Now let's check the cumulative\n",
    "distribution function."
   ]
  },
  {
   "cell_type": "code",
   "execution_count": 14,
   "metadata": {},
   "outputs": [
    {
     "data": {
      "text/html": [
       "<ol class=list-inline>\n",
       "\t<li>0.265</li>\n",
       "\t<li>0.616</li>\n",
       "\t<li>0.867</li>\n",
       "</ol>\n"
      ],
      "text/latex": [
       "\\begin{enumerate*}\n",
       "\\item 0.265\n",
       "\\item 0.616\n",
       "\\item 0.867\n",
       "\\end{enumerate*}\n"
      ],
      "text/markdown": [
       "1. 0.265\n",
       "2. 0.616\n",
       "3. 0.867\n",
       "\n",
       "\n"
      ],
      "text/plain": [
       "[1] 0.265 0.616 0.867"
      ]
     },
     "metadata": {},
     "output_type": "display_data"
    }
   ],
   "source": [
    "round( ppois(c(3,5,7), 5), 3)"
   ]
  },
  {
   "cell_type": "markdown",
   "metadata": {},
   "source": [
    "The chance of getting\n",
    "\n",
    "* 3 or less is 27%\n",
    "* 5 or less is 62%\n",
    "* 7 or less is 87%\n",
    "\n",
    "Let's view this graphically."
   ]
  },
  {
   "cell_type": "code",
   "execution_count": 15,
   "metadata": {},
   "outputs": [
    {
     "data": {
      "image/png": "[encoded data removed]",
      "text/plain": [
       "Plot with title “Poisson density and distribution for lambda = 5”"
      ]
     },
     "metadata": {},
     "output_type": "display_data"
    }
   ],
   "source": [
    "x <- seq(0, 20)\n",
    "plot(x, ppois(x, 5), col=\"blue\", pch=19)\n",
    "points(x, dpois(x, 5), col=\"red\", pch=19)\n",
    "title(main=\"Poisson density and distribution for lambda = 5\")"
   ]
  },
  {
   "cell_type": "markdown",
   "metadata": {},
   "source": [
    "The standard quantiles are giving by"
   ]
  },
  {
   "cell_type": "code",
   "execution_count": 16,
   "metadata": {},
   "outputs": [
    {
     "data": {
      "text/html": [
       "<ol class=list-inline>\n",
       "\t<li>3</li>\n",
       "\t<li>5</li>\n",
       "\t<li>6</li>\n",
       "</ol>\n"
      ],
      "text/latex": [
       "\\begin{enumerate*}\n",
       "\\item 3\n",
       "\\item 5\n",
       "\\item 6\n",
       "\\end{enumerate*}\n"
      ],
      "text/markdown": [
       "1. 3\n",
       "2. 5\n",
       "3. 6\n",
       "\n",
       "\n"
      ],
      "text/plain": [
       "[1] 3 5 6"
      ]
     },
     "metadata": {},
     "output_type": "display_data"
    }
   ],
   "source": [
    "qpois(c(0.25, 0.5, 0.75), 5)"
   ]
  },
  {
   "cell_type": "markdown",
   "metadata": {},
   "source": [
    "* 3 is the smallest count that occurs at least 25% of the time\n",
    "* 5 is the smallest count that occurs at least 50% of the time\n",
    "* 6 is the smallest count that occurs at least 75% of the time\n",
    "\n",
    "Finally, let's run a Poisson simulation with 1,000 trials with\n",
    "$\\lambda = 5$."
   ]
  },
  {
   "cell_type": "code",
   "execution_count": 31,
   "metadata": {},
   "outputs": [
    {
     "data": {
      "text/html": [
       "<ol class=list-inline>\n",
       "\t<li>1</li>\n",
       "\t<li>5</li>\n",
       "\t<li>6</li>\n",
       "\t<li>8</li>\n",
       "\t<li>4</li>\n",
       "\t<li>3</li>\n",
       "\t<li>8</li>\n",
       "\t<li>3</li>\n",
       "\t<li>5</li>\n",
       "\t<li>3</li>\n",
       "\t<li>8</li>\n",
       "\t<li>3</li>\n",
       "\t<li>3</li>\n",
       "\t<li>3</li>\n",
       "\t<li>1</li>\n",
       "\t<li>4</li>\n",
       "\t<li>5</li>\n",
       "\t<li>5</li>\n",
       "\t<li>2</li>\n",
       "\t<li>6</li>\n",
       "\t<li>4</li>\n",
       "\t<li>8</li>\n",
       "\t<li>4</li>\n",
       "\t<li>8</li>\n",
       "\t<li>1</li>\n",
       "\t<li>7</li>\n",
       "\t<li>5</li>\n",
       "\t<li>4</li>\n",
       "\t<li>4</li>\n",
       "\t<li>5</li>\n",
       "\t<li>6</li>\n",
       "\t<li>4</li>\n",
       "\t<li>6</li>\n",
       "\t<li>4</li>\n",
       "\t<li>6</li>\n",
       "\t<li>4</li>\n",
       "\t<li>10</li>\n",
       "\t<li>6</li>\n",
       "\t<li>5</li>\n",
       "\t<li>4</li>\n",
       "\t<li>2</li>\n",
       "\t<li>3</li>\n",
       "\t<li>5</li>\n",
       "\t<li>6</li>\n",
       "\t<li>6</li>\n",
       "\t<li>3</li>\n",
       "\t<li>9</li>\n",
       "\t<li>5</li>\n",
       "\t<li>8</li>\n",
       "\t<li>3</li>\n",
       "</ol>\n"
      ],
      "text/latex": [
       "\\begin{enumerate*}\n",
       "\\item 1\n",
       "\\item 5\n",
       "\\item 6\n",
       "\\item 8\n",
       "\\item 4\n",
       "\\item 3\n",
       "\\item 8\n",
       "\\item 3\n",
       "\\item 5\n",
       "\\item 3\n",
       "\\item 8\n",
       "\\item 3\n",
       "\\item 3\n",
       "\\item 3\n",
       "\\item 1\n",
       "\\item 4\n",
       "\\item 5\n",
       "\\item 5\n",
       "\\item 2\n",
       "\\item 6\n",
       "\\item 4\n",
       "\\item 8\n",
       "\\item 4\n",
       "\\item 8\n",
       "\\item 1\n",
       "\\item 7\n",
       "\\item 5\n",
       "\\item 4\n",
       "\\item 4\n",
       "\\item 5\n",
       "\\item 6\n",
       "\\item 4\n",
       "\\item 6\n",
       "\\item 4\n",
       "\\item 6\n",
       "\\item 4\n",
       "\\item 10\n",
       "\\item 6\n",
       "\\item 5\n",
       "\\item 4\n",
       "\\item 2\n",
       "\\item 3\n",
       "\\item 5\n",
       "\\item 6\n",
       "\\item 6\n",
       "\\item 3\n",
       "\\item 9\n",
       "\\item 5\n",
       "\\item 8\n",
       "\\item 3\n",
       "\\end{enumerate*}\n"
      ],
      "text/markdown": [
       "1. 1\n",
       "2. 5\n",
       "3. 6\n",
       "4. 8\n",
       "5. 4\n",
       "6. 3\n",
       "7. 8\n",
       "8. 3\n",
       "9. 5\n",
       "10. 3\n",
       "11. 8\n",
       "12. 3\n",
       "13. 3\n",
       "14. 3\n",
       "15. 1\n",
       "16. 4\n",
       "17. 5\n",
       "18. 5\n",
       "19. 2\n",
       "20. 6\n",
       "21. 4\n",
       "22. 8\n",
       "23. 4\n",
       "24. 8\n",
       "25. 1\n",
       "26. 7\n",
       "27. 5\n",
       "28. 4\n",
       "29. 4\n",
       "30. 5\n",
       "31. 6\n",
       "32. 4\n",
       "33. 6\n",
       "34. 4\n",
       "35. 6\n",
       "36. 4\n",
       "37. 10\n",
       "38. 6\n",
       "39. 5\n",
       "40. 4\n",
       "41. 2\n",
       "42. 3\n",
       "43. 5\n",
       "44. 6\n",
       "45. 6\n",
       "46. 3\n",
       "47. 9\n",
       "48. 5\n",
       "49. 8\n",
       "50. 3\n",
       "\n",
       "\n"
      ],
      "text/plain": [
       " [1]  1  5  6  8  4  3  8  3  5  3  8  3  3  3  1  4  5  5  2  6  4  8  4  8  1\n",
       "[26]  7  5  4  4  5  6  4  6  4  6  4 10  6  5  4  2  3  5  6  6  3  9  5  8  3"
      ]
     },
     "metadata": {},
     "output_type": "display_data"
    }
   ],
   "source": [
    "poisson_sample <- rpois(1000, 5)\n",
    "poisson_sample[1:50]"
   ]
  },
  {
   "cell_type": "markdown",
   "metadata": {},
   "source": [
    "Let's check that our histogram looks anything like our PMF."
   ]
  },
  {
   "cell_type": "code",
   "execution_count": 18,
   "metadata": {},
   "outputs": [
    {
     "data": {
      "image/png": "[encoded data removed]",
      "text/plain": [
       "Plot with title “Histogram of poisson_sample”"
      ]
     },
     "metadata": {},
     "output_type": "display_data"
    }
   ],
   "source": [
    "hist(poisson_sample, breaks=20, xlim=c(0, 20), col=\"blue\")"
   ]
  },
  {
   "cell_type": "markdown",
   "metadata": {},
   "source": [
    "# 3 Continuous Distributions\n",
    "\n",
    "## 3.1 Normal Distribution\n",
    "\n",
    "The following functions address the normal distribution.\n",
    "\n",
    "* `dnorm` - density function\n",
    "* `pnorm` - cumulative distribution function\n",
    "* `qnorm` - quantiles\n",
    "* `rnorm` - random samples"
   ]
  },
  {
   "cell_type": "code",
   "execution_count": 19,
   "metadata": {},
   "outputs": [
    {
     "data": {
      "text/html": [
       "<ol class=list-inline>\n",
       "\t<li>0.004</li>\n",
       "\t<li>0.054</li>\n",
       "\t<li>0.242</li>\n",
       "\t<li>0.399</li>\n",
       "\t<li>0.242</li>\n",
       "\t<li>0.054</li>\n",
       "\t<li>0.004</li>\n",
       "</ol>\n"
      ],
      "text/latex": [
       "\\begin{enumerate*}\n",
       "\\item 0.004\n",
       "\\item 0.054\n",
       "\\item 0.242\n",
       "\\item 0.399\n",
       "\\item 0.242\n",
       "\\item 0.054\n",
       "\\item 0.004\n",
       "\\end{enumerate*}\n"
      ],
      "text/markdown": [
       "1. 0.004\n",
       "2. 0.054\n",
       "3. 0.242\n",
       "4. 0.399\n",
       "5. 0.242\n",
       "6. 0.054\n",
       "7. 0.004\n",
       "\n",
       "\n"
      ],
      "text/plain": [
       "[1] 0.004 0.054 0.242 0.399 0.242 0.054 0.004"
      ]
     },
     "metadata": {},
     "output_type": "display_data"
    }
   ],
   "source": [
    "round( dnorm(c(-3, -2, -1, 0, 1, 2, 3)), 3)"
   ]
  },
  {
   "cell_type": "markdown",
   "metadata": {},
   "source": [
    "The symmetric character of the normal distribution is apparent \n",
    "here. We don't interpret these as probabilities (like we did \n",
    "with discrete mass function) since the continuous case represents\n",
    "an infinitesimal range of the random variable. But we still extract\n",
    "probabilities from the CDF."
   ]
  },
  {
   "cell_type": "code",
   "execution_count": 20,
   "metadata": {},
   "outputs": [
    {
     "data": {
      "text/html": [
       "<ol class=list-inline>\n",
       "\t<li>0.001</li>\n",
       "\t<li>0.023</li>\n",
       "\t<li>0.159</li>\n",
       "\t<li>0.5</li>\n",
       "\t<li>0.841</li>\n",
       "\t<li>0.977</li>\n",
       "\t<li>0.999</li>\n",
       "</ol>\n"
      ],
      "text/latex": [
       "\\begin{enumerate*}\n",
       "\\item 0.001\n",
       "\\item 0.023\n",
       "\\item 0.159\n",
       "\\item 0.5\n",
       "\\item 0.841\n",
       "\\item 0.977\n",
       "\\item 0.999\n",
       "\\end{enumerate*}\n"
      ],
      "text/markdown": [
       "1. 0.001\n",
       "2. 0.023\n",
       "3. 0.159\n",
       "4. 0.5\n",
       "5. 0.841\n",
       "6. 0.977\n",
       "7. 0.999\n",
       "\n",
       "\n"
      ],
      "text/plain": [
       "[1] 0.001 0.023 0.159 0.500 0.841 0.977 0.999"
      ]
     },
     "metadata": {},
     "output_type": "display_data"
    }
   ],
   "source": [
    "round( pnorm(c(-3, -2, -1, 0, 1, 2, 3)), 3)"
   ]
  },
  {
   "cell_type": "markdown",
   "metadata": {},
   "source": [
    "Graphically the normal is the familiar bell curve."
   ]
  },
  {
   "cell_type": "code",
   "execution_count": 21,
   "metadata": {},
   "outputs": [
    {
     "data": {
      "image/png": "[encoded data removed]",
      "text/plain": [
       "Plot with title “Standard Normal PDF and CDF”"
      ]
     },
     "metadata": {},
     "output_type": "display_data"
    }
   ],
   "source": [
    "x <- seq(-3, 3, by=0.02)\n",
    "plot(x, pnorm(x), col='blue', type='l', lty='solid')\n",
    "lines(x, dnorm(x), col='red')\n",
    "title(main=\"Standard Normal PDF and CDF\", ylab=\"\", xlab=\"\")"
   ]
  },
  {
   "cell_type": "markdown",
   "metadata": {},
   "source": [
    "The `qnorm` function provides quantile information.\n",
    "In other distributions we've shown quantile information for\n",
    "quarters, i.e. quartile information.  But due to the role\n",
    "of the normal distribution in the\n",
    "[Central Limit Theorem](https://en.wikipedia.org/wiki/Central_limit_theorem),\n",
    "we'll examine quantiles for 90%, 95%, and 97.5% since these are often\n",
    "referenced in the study of confidence intervals."
   ]
  },
  {
   "cell_type": "code",
   "execution_count": 22,
   "metadata": {},
   "outputs": [
    {
     "data": {
      "text/html": [
       "<ol class=list-inline>\n",
       "\t<li>0</li>\n",
       "\t<li>1.282</li>\n",
       "\t<li>1.645</li>\n",
       "\t<li>1.96</li>\n",
       "</ol>\n"
      ],
      "text/latex": [
       "\\begin{enumerate*}\n",
       "\\item 0\n",
       "\\item 1.282\n",
       "\\item 1.645\n",
       "\\item 1.96\n",
       "\\end{enumerate*}\n"
      ],
      "text/markdown": [
       "1. 0\n",
       "2. 1.282\n",
       "3. 1.645\n",
       "4. 1.96\n",
       "\n",
       "\n"
      ],
      "text/plain": [
       "[1] 0.000 1.282 1.645 1.960"
      ]
     },
     "metadata": {},
     "output_type": "display_data"
    }
   ],
   "source": [
    "round( qnorm(c(0.5, 0.9, 0.95, 0.975)), 3)"
   ]
  },
  {
   "cell_type": "markdown",
   "metadata": {},
   "source": [
    "Since the normal distribution is symmetric about the origin,\n",
    "we expect half to lie on one side of 0 and half on the other\n",
    "side.  The last number says that 97.5% of the curve lies to\n",
    "the left of **1.96**.  This is a number we'll commit to memory\n",
    "during the study of confidence intervals.\n",
    "\n",
    "Finally, let's run a normal simulation with 1,000 trials \n",
    "using $\\mu = 0$ and $\\sigma = 1$."
   ]
  },
  {
   "cell_type": "code",
   "execution_count": 32,
   "metadata": {},
   "outputs": [
    {
     "data": {
      "text/html": [
       "<ol class=list-inline>\n",
       "\t<li>1.42</li>\n",
       "\t<li>0.14</li>\n",
       "\t<li>-0.37</li>\n",
       "\t<li>-1</li>\n",
       "\t<li>-0.83</li>\n",
       "\t<li>-1.53</li>\n",
       "\t<li>-0.08</li>\n",
       "\t<li>0.9</li>\n",
       "\t<li>-0.06</li>\n",
       "\t<li>-0.16</li>\n",
       "\t<li>-1.3</li>\n",
       "\t<li>0.27</li>\n",
       "\t<li>1.75</li>\n",
       "\t<li>-0.66</li>\n",
       "\t<li>0.57</li>\n",
       "\t<li>0.54</li>\n",
       "\t<li>-0.53</li>\n",
       "\t<li>-0.69</li>\n",
       "\t<li>-1.14</li>\n",
       "\t<li>0.23</li>\n",
       "\t<li>-0.9</li>\n",
       "\t<li>-0.45</li>\n",
       "\t<li>-1.31</li>\n",
       "\t<li>-1.42</li>\n",
       "\t<li>0.43</li>\n",
       "\t<li>-0.82</li>\n",
       "\t<li>-0.28</li>\n",
       "\t<li>0.02</li>\n",
       "\t<li>-0.12</li>\n",
       "\t<li>1.55</li>\n",
       "\t<li>-0.75</li>\n",
       "\t<li>2.01</li>\n",
       "\t<li>-1.52</li>\n",
       "\t<li>-1.47</li>\n",
       "\t<li>0.41</li>\n",
       "\t<li>-0.48</li>\n",
       "\t<li>0.22</li>\n",
       "\t<li>-1.54</li>\n",
       "\t<li>-0.36</li>\n",
       "\t<li>0.1</li>\n",
       "\t<li>-0.85</li>\n",
       "\t<li>-0.35</li>\n",
       "\t<li>0.28</li>\n",
       "\t<li>-0.16</li>\n",
       "\t<li>0.03</li>\n",
       "\t<li>0.37</li>\n",
       "\t<li>1.31</li>\n",
       "\t<li>-0.09</li>\n",
       "\t<li>-0.18</li>\n",
       "\t<li>0.93</li>\n",
       "</ol>\n"
      ],
      "text/latex": [
       "\\begin{enumerate*}\n",
       "\\item 1.42\n",
       "\\item 0.14\n",
       "\\item -0.37\n",
       "\\item -1\n",
       "\\item -0.83\n",
       "\\item -1.53\n",
       "\\item -0.08\n",
       "\\item 0.9\n",
       "\\item -0.06\n",
       "\\item -0.16\n",
       "\\item -1.3\n",
       "\\item 0.27\n",
       "\\item 1.75\n",
       "\\item -0.66\n",
       "\\item 0.57\n",
       "\\item 0.54\n",
       "\\item -0.53\n",
       "\\item -0.69\n",
       "\\item -1.14\n",
       "\\item 0.23\n",
       "\\item -0.9\n",
       "\\item -0.45\n",
       "\\item -1.31\n",
       "\\item -1.42\n",
       "\\item 0.43\n",
       "\\item -0.82\n",
       "\\item -0.28\n",
       "\\item 0.02\n",
       "\\item -0.12\n",
       "\\item 1.55\n",
       "\\item -0.75\n",
       "\\item 2.01\n",
       "\\item -1.52\n",
       "\\item -1.47\n",
       "\\item 0.41\n",
       "\\item -0.48\n",
       "\\item 0.22\n",
       "\\item -1.54\n",
       "\\item -0.36\n",
       "\\item 0.1\n",
       "\\item -0.85\n",
       "\\item -0.35\n",
       "\\item 0.28\n",
       "\\item -0.16\n",
       "\\item 0.03\n",
       "\\item 0.37\n",
       "\\item 1.31\n",
       "\\item -0.09\n",
       "\\item -0.18\n",
       "\\item 0.93\n",
       "\\end{enumerate*}\n"
      ],
      "text/markdown": [
       "1. 1.42\n",
       "2. 0.14\n",
       "3. -0.37\n",
       "4. -1\n",
       "5. -0.83\n",
       "6. -1.53\n",
       "7. -0.08\n",
       "8. 0.9\n",
       "9. -0.06\n",
       "10. -0.16\n",
       "11. -1.3\n",
       "12. 0.27\n",
       "13. 1.75\n",
       "14. -0.66\n",
       "15. 0.57\n",
       "16. 0.54\n",
       "17. -0.53\n",
       "18. -0.69\n",
       "19. -1.14\n",
       "20. 0.23\n",
       "21. -0.9\n",
       "22. -0.45\n",
       "23. -1.31\n",
       "24. -1.42\n",
       "25. 0.43\n",
       "26. -0.82\n",
       "27. -0.28\n",
       "28. 0.02\n",
       "29. -0.12\n",
       "30. 1.55\n",
       "31. -0.75\n",
       "32. 2.01\n",
       "33. -1.52\n",
       "34. -1.47\n",
       "35. 0.41\n",
       "36. -0.48\n",
       "37. 0.22\n",
       "38. -1.54\n",
       "39. -0.36\n",
       "40. 0.1\n",
       "41. -0.85\n",
       "42. -0.35\n",
       "43. 0.28\n",
       "44. -0.16\n",
       "45. 0.03\n",
       "46. 0.37\n",
       "47. 1.31\n",
       "48. -0.09\n",
       "49. -0.18\n",
       "50. 0.93\n",
       "\n",
       "\n"
      ],
      "text/plain": [
       " [1]  1.42  0.14 -0.37 -1.00 -0.83 -1.53 -0.08  0.90 -0.06 -0.16 -1.30  0.27\n",
       "[13]  1.75 -0.66  0.57  0.54 -0.53 -0.69 -1.14  0.23 -0.90 -0.45 -1.31 -1.42\n",
       "[25]  0.43 -0.82 -0.28  0.02 -0.12  1.55 -0.75  2.01 -1.52 -1.47  0.41 -0.48\n",
       "[37]  0.22 -1.54 -0.36  0.10 -0.85 -0.35  0.28 -0.16  0.03  0.37  1.31 -0.09\n",
       "[49] -0.18  0.93"
      ]
     },
     "metadata": {},
     "output_type": "display_data"
    }
   ],
   "source": [
    "norm_sample <- rnorm(1000)\n",
    "round(norm_sample[1:50], 2)"
   ]
  },
  {
   "cell_type": "markdown",
   "metadata": {},
   "source": [
    "Let's check that our histogram looks anything like our PMF."
   ]
  },
  {
   "cell_type": "code",
   "execution_count": 24,
   "metadata": {},
   "outputs": [
    {
     "data": {
      "image/png": "[encoded data removed]",
      "text/plain": [
       "Plot with title “Histogram of norm_sample”"
      ]
     },
     "metadata": {},
     "output_type": "display_data"
    }
   ],
   "source": [
    "hist(norm_sample, breaks=20, xlim=c(-4, 4), col=\"blue\")"
   ]
  },
  {
   "cell_type": "markdown",
   "metadata": {},
   "source": [
    "## 3.2 Exponential Distribution\n",
    "\n",
    "The *exponential distribution* is a continuous distribution that\n",
    "complements the discrete Poisson distribution that we encountered\n",
    "above.  Whereas a Poisson random variable represents a count of\n",
    "events that occur over a fixed unit of time, an exponential\n",
    "random variable represents the amount of time between one such\n",
    "event and the next.\n",
    "\n",
    "The density function for the exponential function is\n",
    "\n",
    "$$\n",
    "f_X(x; \\lambda) = \\lambda e^{-\\lambda x}\n",
    "$$\n",
    "\n",
    "where the expected wait time is $1/\\lambda$  Let's go through\n",
    "the usual moments with $\\lambda = 1/3$.  The exponential function\n",
    "decreases as x gets larger."
   ]
  },
  {
   "cell_type": "code",
   "execution_count": 25,
   "metadata": {},
   "outputs": [
    {
     "data": {
      "text/html": [
       "<ol class=list-inline>\n",
       "\t<li>0.24</li>\n",
       "\t<li>0.17</li>\n",
       "\t<li>0.12</li>\n",
       "\t<li>0.09</li>\n",
       "</ol>\n"
      ],
      "text/latex": [
       "\\begin{enumerate*}\n",
       "\\item 0.24\n",
       "\\item 0.17\n",
       "\\item 0.12\n",
       "\\item 0.09\n",
       "\\end{enumerate*}\n"
      ],
      "text/markdown": [
       "1. 0.24\n",
       "2. 0.17\n",
       "3. 0.12\n",
       "4. 0.09\n",
       "\n",
       "\n"
      ],
      "text/plain": [
       "[1] 0.24 0.17 0.12 0.09"
      ]
     },
     "metadata": {},
     "output_type": "display_data"
    }
   ],
   "source": [
    "x <- dexp(c(1,2,3,4), 1/3)\n",
    "round(x, 2)"
   ]
  },
  {
   "cell_type": "markdown",
   "metadata": {},
   "source": [
    "Since the expected wait time is $1/\\lambda = 3$ units of time,\n",
    "we expect the CDF to cross 50% there."
   ]
  },
  {
   "cell_type": "code",
   "execution_count": 26,
   "metadata": {},
   "outputs": [
    {
     "data": {
      "text/html": [
       "<ol class=list-inline>\n",
       "\t<li>0.28</li>\n",
       "\t<li>0.49</li>\n",
       "\t<li>0.63</li>\n",
       "\t<li>0.74</li>\n",
       "</ol>\n"
      ],
      "text/latex": [
       "\\begin{enumerate*}\n",
       "\\item 0.28\n",
       "\\item 0.49\n",
       "\\item 0.63\n",
       "\\item 0.74\n",
       "\\end{enumerate*}\n"
      ],
      "text/markdown": [
       "1. 0.28\n",
       "2. 0.49\n",
       "3. 0.63\n",
       "4. 0.74\n",
       "\n",
       "\n"
      ],
      "text/plain": [
       "[1] 0.28 0.49 0.63 0.74"
      ]
     },
     "metadata": {},
     "output_type": "display_data"
    }
   ],
   "source": [
    "x <- pexp(c(1,2,3,4), 1/3)\n",
    "round(x, 2)"
   ]
  },
  {
   "cell_type": "markdown",
   "metadata": {},
   "source": [
    "The is the PDF and CDF graphically."
   ]
  },
  {
   "cell_type": "code",
   "execution_count": 27,
   "metadata": {},
   "outputs": [
    {
     "data": {
      "image/png": "[encoded data removed]",
      "text/plain": [
       "Plot with title “Exponential PDF and CDF”"
      ]
     },
     "metadata": {},
     "output_type": "display_data"
    }
   ],
   "source": [
    "x <- seq(0, 12, by=0.02)\n",
    "plot(x, pexp(x, 1/3), col='blue', type='l', lty='solid')\n",
    "lines(x, dexp(x, 1/3), col='red')\n",
    "title(main=\"Exponential PDF and CDF\", ylab=\"\", xlab=\"\")"
   ]
  },
  {
   "cell_type": "markdown",
   "metadata": {},
   "source": [
    "Once again, we can see the relationship between the \n",
    "CDF $F_X(x; \\lambda)$ and the PDF $f_X(x; \\lambda)$.\n",
    "\n",
    "$$\n",
    "F_X(x; \\lambda) = \\int_0^x f_X(t; \\lambda) dt\n",
    "$$\n",
    "\n",
    "The standard quartiles are given by"
   ]
  },
  {
   "cell_type": "code",
   "execution_count": 28,
   "metadata": {},
   "outputs": [
    {
     "data": {
      "text/html": [
       "<ol class=list-inline>\n",
       "\t<li>0.86</li>\n",
       "\t<li>2.08</li>\n",
       "\t<li>4.16</li>\n",
       "</ol>\n"
      ],
      "text/latex": [
       "\\begin{enumerate*}\n",
       "\\item 0.86\n",
       "\\item 2.08\n",
       "\\item 4.16\n",
       "\\end{enumerate*}\n"
      ],
      "text/markdown": [
       "1. 0.86\n",
       "2. 2.08\n",
       "3. 4.16\n",
       "\n",
       "\n"
      ],
      "text/plain": [
       "[1] 0.86 2.08 4.16"
      ]
     },
     "metadata": {},
     "output_type": "display_data"
    }
   ],
   "source": [
    "x = qexp(c(0.25, 0.5, 0.75), 1/3)\n",
    "round(x, 2)"
   ]
  },
  {
   "cell_type": "markdown",
   "metadata": {},
   "source": [
    "Notice that the median is 2.08.  This is an example the median\n",
    "and the average do not agree, even for a continuous random variable.\n",
    "These values tell us we should expect a wait time of\n",
    "\n",
    "* 0.86 time units or less 25% of the time\n",
    "* 2.08 time units or less 50% of the time\n",
    "* 4.16 time units or less 75% of the time\n",
    "\n",
    "Let's generate some exponential distributed time intervals for\n",
    "a simulated Poisson process.\n",
    "\n",
    "Finally, let's run an exponential simulation with 1,000 trials with\n",
    "$\\lambda = 1/3$."
   ]
  },
  {
   "cell_type": "code",
   "execution_count": 33,
   "metadata": {},
   "outputs": [
    {
     "data": {
      "text/html": [
       "<ol class=list-inline>\n",
       "\t<li>5.36</li>\n",
       "\t<li>2.16</li>\n",
       "\t<li>0.19</li>\n",
       "\t<li>0.14</li>\n",
       "\t<li>1.09</li>\n",
       "\t<li>7.14</li>\n",
       "\t<li>6.33</li>\n",
       "\t<li>1.95</li>\n",
       "\t<li>1.68</li>\n",
       "\t<li>0.04</li>\n",
       "\t<li>3.89</li>\n",
       "\t<li>3.78</li>\n",
       "\t<li>1.07</li>\n",
       "\t<li>2.98</li>\n",
       "\t<li>0.77</li>\n",
       "\t<li>19.12</li>\n",
       "\t<li>3.53</li>\n",
       "\t<li>4.3</li>\n",
       "\t<li>1.93</li>\n",
       "\t<li>2.42</li>\n",
       "\t<li>0.99</li>\n",
       "\t<li>2.35</li>\n",
       "\t<li>5.63</li>\n",
       "\t<li>5.4</li>\n",
       "\t<li>1.46</li>\n",
       "\t<li>1.12</li>\n",
       "\t<li>0.52</li>\n",
       "\t<li>3.16</li>\n",
       "\t<li>3.89</li>\n",
       "\t<li>4.48</li>\n",
       "\t<li>6.31</li>\n",
       "\t<li>2.17</li>\n",
       "\t<li>5.19</li>\n",
       "\t<li>2.58</li>\n",
       "\t<li>4.23</li>\n",
       "\t<li>0.21</li>\n",
       "\t<li>0.07</li>\n",
       "\t<li>0.73</li>\n",
       "\t<li>4.18</li>\n",
       "\t<li>3.91</li>\n",
       "\t<li>4.25</li>\n",
       "\t<li>0.99</li>\n",
       "\t<li>0.43</li>\n",
       "\t<li>13.24</li>\n",
       "\t<li>9.73</li>\n",
       "\t<li>1.54</li>\n",
       "\t<li>1.52</li>\n",
       "\t<li>15.38</li>\n",
       "\t<li>0.23</li>\n",
       "\t<li>3.65</li>\n",
       "</ol>\n"
      ],
      "text/latex": [
       "\\begin{enumerate*}\n",
       "\\item 5.36\n",
       "\\item 2.16\n",
       "\\item 0.19\n",
       "\\item 0.14\n",
       "\\item 1.09\n",
       "\\item 7.14\n",
       "\\item 6.33\n",
       "\\item 1.95\n",
       "\\item 1.68\n",
       "\\item 0.04\n",
       "\\item 3.89\n",
       "\\item 3.78\n",
       "\\item 1.07\n",
       "\\item 2.98\n",
       "\\item 0.77\n",
       "\\item 19.12\n",
       "\\item 3.53\n",
       "\\item 4.3\n",
       "\\item 1.93\n",
       "\\item 2.42\n",
       "\\item 0.99\n",
       "\\item 2.35\n",
       "\\item 5.63\n",
       "\\item 5.4\n",
       "\\item 1.46\n",
       "\\item 1.12\n",
       "\\item 0.52\n",
       "\\item 3.16\n",
       "\\item 3.89\n",
       "\\item 4.48\n",
       "\\item 6.31\n",
       "\\item 2.17\n",
       "\\item 5.19\n",
       "\\item 2.58\n",
       "\\item 4.23\n",
       "\\item 0.21\n",
       "\\item 0.07\n",
       "\\item 0.73\n",
       "\\item 4.18\n",
       "\\item 3.91\n",
       "\\item 4.25\n",
       "\\item 0.99\n",
       "\\item 0.43\n",
       "\\item 13.24\n",
       "\\item 9.73\n",
       "\\item 1.54\n",
       "\\item 1.52\n",
       "\\item 15.38\n",
       "\\item 0.23\n",
       "\\item 3.65\n",
       "\\end{enumerate*}\n"
      ],
      "text/markdown": [
       "1. 5.36\n",
       "2. 2.16\n",
       "3. 0.19\n",
       "4. 0.14\n",
       "5. 1.09\n",
       "6. 7.14\n",
       "7. 6.33\n",
       "8. 1.95\n",
       "9. 1.68\n",
       "10. 0.04\n",
       "11. 3.89\n",
       "12. 3.78\n",
       "13. 1.07\n",
       "14. 2.98\n",
       "15. 0.77\n",
       "16. 19.12\n",
       "17. 3.53\n",
       "18. 4.3\n",
       "19. 1.93\n",
       "20. 2.42\n",
       "21. 0.99\n",
       "22. 2.35\n",
       "23. 5.63\n",
       "24. 5.4\n",
       "25. 1.46\n",
       "26. 1.12\n",
       "27. 0.52\n",
       "28. 3.16\n",
       "29. 3.89\n",
       "30. 4.48\n",
       "31. 6.31\n",
       "32. 2.17\n",
       "33. 5.19\n",
       "34. 2.58\n",
       "35. 4.23\n",
       "36. 0.21\n",
       "37. 0.07\n",
       "38. 0.73\n",
       "39. 4.18\n",
       "40. 3.91\n",
       "41. 4.25\n",
       "42. 0.99\n",
       "43. 0.43\n",
       "44. 13.24\n",
       "45. 9.73\n",
       "46. 1.54\n",
       "47. 1.52\n",
       "48. 15.38\n",
       "49. 0.23\n",
       "50. 3.65\n",
       "\n",
       "\n"
      ],
      "text/plain": [
       " [1]  5.36  2.16  0.19  0.14  1.09  7.14  6.33  1.95  1.68  0.04  3.89  3.78\n",
       "[13]  1.07  2.98  0.77 19.12  3.53  4.30  1.93  2.42  0.99  2.35  5.63  5.40\n",
       "[25]  1.46  1.12  0.52  3.16  3.89  4.48  6.31  2.17  5.19  2.58  4.23  0.21\n",
       "[37]  0.07  0.73  4.18  3.91  4.25  0.99  0.43 13.24  9.73  1.54  1.52 15.38\n",
       "[49]  0.23  3.65"
      ]
     },
     "metadata": {},
     "output_type": "display_data"
    }
   ],
   "source": [
    "exp_sample <- rexp(1000, 1/3)\n",
    "round(exp_sample[1:50], 2)"
   ]
  },
  {
   "cell_type": "markdown",
   "metadata": {},
   "source": [
    "Let's check that our histogram looks anything like our PMF."
   ]
  },
  {
   "cell_type": "code",
   "execution_count": 34,
   "metadata": {},
   "outputs": [
    {
     "data": {
      "image/png": "[encoded data removed]",
      "text/plain": [
       "Plot with title “Histogram of exp_sample”"
      ]
     },
     "metadata": {},
     "output_type": "display_data"
    }
   ],
   "source": [
    "hist(exp_sample, breaks=24, xlim=c(0, 12), col=\"blue\")"
   ]
  },
  {
   "cell_type": "markdown",
   "metadata": {},
   "source": [
    "## Gamma Distribution\n",
    "\n",
    "A Gamma random variable is often interpreted as a sum of $r$ independent\n",
    "exponential random variables with the same parameter $\\lambda$.  The\n",
    "density function is\n",
    "\n",
    "$$\n",
    "f_X(x; \\lambda, r) = \\frac{\\lambda}{\\Gamma(r)}(\\lambda x)^{r-1} e^{-\\lambda x}\n",
    "$$\n",
    "\n",
    "So we have $r$ Poisson processes with an expected wait time of $1/\\lambda$.\n",
    "Let's continue using our Poisson process from before with an expected wait\n",
    "time of 3 time units; but this time let's assume we are waiting for 5 of\n",
    "them (one after another).  So in this particular case, $\\lambda = 1/3$ and\n",
    "$r = 5$.\n",
    "\n",
    "The R functions related to the Gamma random variable take two parameters:\n",
    "\n",
    "* `shape` - this corresponds to $r$ in the density function above\n",
    "* `scale` - this corresponds to $\\lambda$ in the density function above\n",
    "\n",
    "Let's check a few density function values."
   ]
  },
  {
   "cell_type": "code",
   "execution_count": 35,
   "metadata": {},
   "outputs": [
    {
     "data": {
      "text/html": [
       "<ol class=list-inline>\n",
       "\t<li>0.02</li>\n",
       "\t<li>0.06</li>\n",
       "\t<li>0.06</li>\n",
       "\t<li>0.03</li>\n",
       "\t<li>0.02</li>\n",
       "</ol>\n"
      ],
      "text/latex": [
       "\\begin{enumerate*}\n",
       "\\item 0.02\n",
       "\\item 0.06\n",
       "\\item 0.06\n",
       "\\item 0.03\n",
       "\\item 0.02\n",
       "\\end{enumerate*}\n"
      ],
      "text/markdown": [
       "1. 0.02\n",
       "2. 0.06\n",
       "3. 0.06\n",
       "4. 0.03\n",
       "5. 0.02\n",
       "\n",
       "\n"
      ],
      "text/plain": [
       "[1] 0.02 0.06 0.06 0.03 0.02"
      ]
     },
     "metadata": {},
     "output_type": "display_data"
    }
   ],
   "source": [
    "x <- dgamma(c(5, 10, 15, 20, 25), shape=5, scale=3)\n",
    "round(x, 2)"
   ]
  },
  {
   "cell_type": "markdown",
   "metadata": {},
   "source": [
    "The cumulative distribution function gives a better feel for the distribution."
   ]
  },
  {
   "cell_type": "code",
   "execution_count": 36,
   "metadata": {},
   "outputs": [
    {
     "data": {
      "text/html": [
       "<ol class=list-inline>\n",
       "\t<li>0.03</li>\n",
       "\t<li>0.24</li>\n",
       "\t<li>0.56</li>\n",
       "\t<li>0.79</li>\n",
       "\t<li>0.92</li>\n",
       "</ol>\n"
      ],
      "text/latex": [
       "\\begin{enumerate*}\n",
       "\\item 0.03\n",
       "\\item 0.24\n",
       "\\item 0.56\n",
       "\\item 0.79\n",
       "\\item 0.92\n",
       "\\end{enumerate*}\n"
      ],
      "text/markdown": [
       "1. 0.03\n",
       "2. 0.24\n",
       "3. 0.56\n",
       "4. 0.79\n",
       "5. 0.92\n",
       "\n",
       "\n"
      ],
      "text/plain": [
       "[1] 0.03 0.24 0.56 0.79 0.92"
      ]
     },
     "metadata": {},
     "output_type": "display_data"
    }
   ],
   "source": [
    "x <- pgamma(c(5, 10, 15, 20, 25), shape=5, scale=3)\n",
    "round(x, 2)"
   ]
  },
  {
   "cell_type": "markdown",
   "metadata": {},
   "source": [
    "The is the PDF and CDF graphically."
   ]
  },
  {
   "cell_type": "code",
   "execution_count": 37,
   "metadata": {},
   "outputs": [
    {
     "data": {
      "image/png": "[encoded data removed]",
      "text/plain": [
       "Plot with title “Gamma PDF and CDF”"
      ]
     },
     "metadata": {},
     "output_type": "display_data"
    }
   ],
   "source": [
    "x <- seq(0, 50, by=0.02)\n",
    "plot(x,  pgamma(x, shape=5, scale=3), col='blue', type='l', lty='solid')\n",
    "lines(x, dgamma(x, shape=5, scale=3) * 10, col='red')\n",
    "title(main=\"Gamma PDF and CDF\", ylab=\" \", xlab=\" \")"
   ]
  },
  {
   "cell_type": "markdown",
   "metadata": {},
   "source": [
    "The PDF was multiplied by 10 to emphasize its shape.\n",
    "The quartiles are given by "
   ]
  },
  {
   "cell_type": "code",
   "execution_count": 38,
   "metadata": {},
   "outputs": [
    {
     "data": {
      "text/html": [
       "<ol class=list-inline>\n",
       "\t<li>10.11</li>\n",
       "\t<li>14.01</li>\n",
       "\t<li>18.82</li>\n",
       "</ol>\n"
      ],
      "text/latex": [
       "\\begin{enumerate*}\n",
       "\\item 10.11\n",
       "\\item 14.01\n",
       "\\item 18.82\n",
       "\\end{enumerate*}\n"
      ],
      "text/markdown": [
       "1. 10.11\n",
       "2. 14.01\n",
       "3. 18.82\n",
       "\n",
       "\n"
      ],
      "text/plain": [
       "[1] 10.11 14.01 18.82"
      ]
     },
     "metadata": {},
     "output_type": "display_data"
    }
   ],
   "source": [
    "x <- qgamma(c(0.25, 0.5, 0.75), shape=5, scale=3)\n",
    "round(x, 2)"
   ]
  },
  {
   "cell_type": "markdown",
   "metadata": {},
   "source": [
    "This means that we can expect a trial (which consists of 5 independent Poisson\n",
    "processes, each with expected duration of 3 time units) to take\n",
    "\n",
    "* `10.11` or less time units 25% of the time\n",
    "* `14.01` or less time units 50% of the time\n",
    "* `18.82` or less time units 75% of the time\n",
    "\n",
    "Let's simulate 1,000 trials through a random number generator."
   ]
  },
  {
   "cell_type": "code",
   "execution_count": 40,
   "metadata": {},
   "outputs": [
    {
     "data": {
      "text/html": [
       "<ol class=list-inline>\n",
       "\t<li>15.44</li>\n",
       "\t<li>21.86</li>\n",
       "\t<li>15.93</li>\n",
       "\t<li>11.12</li>\n",
       "\t<li>18.38</li>\n",
       "\t<li>21.7</li>\n",
       "\t<li>4.87</li>\n",
       "\t<li>4.88</li>\n",
       "\t<li>16.23</li>\n",
       "\t<li>9.2</li>\n",
       "\t<li>9.4</li>\n",
       "\t<li>28.42</li>\n",
       "\t<li>16.2</li>\n",
       "\t<li>7.65</li>\n",
       "\t<li>15.83</li>\n",
       "\t<li>26.88</li>\n",
       "\t<li>13.07</li>\n",
       "\t<li>34.68</li>\n",
       "\t<li>10.85</li>\n",
       "\t<li>9.06</li>\n",
       "\t<li>17.49</li>\n",
       "\t<li>16.62</li>\n",
       "\t<li>13.5</li>\n",
       "\t<li>10.41</li>\n",
       "\t<li>19.64</li>\n",
       "\t<li>10.57</li>\n",
       "\t<li>16.11</li>\n",
       "\t<li>17.64</li>\n",
       "\t<li>11.18</li>\n",
       "\t<li>11.24</li>\n",
       "\t<li>7.95</li>\n",
       "\t<li>15.75</li>\n",
       "\t<li>21.16</li>\n",
       "\t<li>24.7</li>\n",
       "\t<li>11.05</li>\n",
       "\t<li>15.6</li>\n",
       "\t<li>19.91</li>\n",
       "\t<li>7.08</li>\n",
       "\t<li>16.33</li>\n",
       "\t<li>4.59</li>\n",
       "\t<li>13.32</li>\n",
       "\t<li>16.28</li>\n",
       "\t<li>19.1</li>\n",
       "\t<li>16.76</li>\n",
       "\t<li>16.68</li>\n",
       "\t<li>15.72</li>\n",
       "\t<li>14.03</li>\n",
       "\t<li>26.68</li>\n",
       "\t<li>4.51</li>\n",
       "\t<li>21.48</li>\n",
       "</ol>\n"
      ],
      "text/latex": [
       "\\begin{enumerate*}\n",
       "\\item 15.44\n",
       "\\item 21.86\n",
       "\\item 15.93\n",
       "\\item 11.12\n",
       "\\item 18.38\n",
       "\\item 21.7\n",
       "\\item 4.87\n",
       "\\item 4.88\n",
       "\\item 16.23\n",
       "\\item 9.2\n",
       "\\item 9.4\n",
       "\\item 28.42\n",
       "\\item 16.2\n",
       "\\item 7.65\n",
       "\\item 15.83\n",
       "\\item 26.88\n",
       "\\item 13.07\n",
       "\\item 34.68\n",
       "\\item 10.85\n",
       "\\item 9.06\n",
       "\\item 17.49\n",
       "\\item 16.62\n",
       "\\item 13.5\n",
       "\\item 10.41\n",
       "\\item 19.64\n",
       "\\item 10.57\n",
       "\\item 16.11\n",
       "\\item 17.64\n",
       "\\item 11.18\n",
       "\\item 11.24\n",
       "\\item 7.95\n",
       "\\item 15.75\n",
       "\\item 21.16\n",
       "\\item 24.7\n",
       "\\item 11.05\n",
       "\\item 15.6\n",
       "\\item 19.91\n",
       "\\item 7.08\n",
       "\\item 16.33\n",
       "\\item 4.59\n",
       "\\item 13.32\n",
       "\\item 16.28\n",
       "\\item 19.1\n",
       "\\item 16.76\n",
       "\\item 16.68\n",
       "\\item 15.72\n",
       "\\item 14.03\n",
       "\\item 26.68\n",
       "\\item 4.51\n",
       "\\item 21.48\n",
       "\\end{enumerate*}\n"
      ],
      "text/markdown": [
       "1. 15.44\n",
       "2. 21.86\n",
       "3. 15.93\n",
       "4. 11.12\n",
       "5. 18.38\n",
       "6. 21.7\n",
       "7. 4.87\n",
       "8. 4.88\n",
       "9. 16.23\n",
       "10. 9.2\n",
       "11. 9.4\n",
       "12. 28.42\n",
       "13. 16.2\n",
       "14. 7.65\n",
       "15. 15.83\n",
       "16. 26.88\n",
       "17. 13.07\n",
       "18. 34.68\n",
       "19. 10.85\n",
       "20. 9.06\n",
       "21. 17.49\n",
       "22. 16.62\n",
       "23. 13.5\n",
       "24. 10.41\n",
       "25. 19.64\n",
       "26. 10.57\n",
       "27. 16.11\n",
       "28. 17.64\n",
       "29. 11.18\n",
       "30. 11.24\n",
       "31. 7.95\n",
       "32. 15.75\n",
       "33. 21.16\n",
       "34. 24.7\n",
       "35. 11.05\n",
       "36. 15.6\n",
       "37. 19.91\n",
       "38. 7.08\n",
       "39. 16.33\n",
       "40. 4.59\n",
       "41. 13.32\n",
       "42. 16.28\n",
       "43. 19.1\n",
       "44. 16.76\n",
       "45. 16.68\n",
       "46. 15.72\n",
       "47. 14.03\n",
       "48. 26.68\n",
       "49. 4.51\n",
       "50. 21.48\n",
       "\n",
       "\n"
      ],
      "text/plain": [
       " [1] 15.44 21.86 15.93 11.12 18.38 21.70  4.87  4.88 16.23  9.20  9.40 28.42\n",
       "[13] 16.20  7.65 15.83 26.88 13.07 34.68 10.85  9.06 17.49 16.62 13.50 10.41\n",
       "[25] 19.64 10.57 16.11 17.64 11.18 11.24  7.95 15.75 21.16 24.70 11.05 15.60\n",
       "[37] 19.91  7.08 16.33  4.59 13.32 16.28 19.10 16.76 16.68 15.72 14.03 26.68\n",
       "[49]  4.51 21.48"
      ]
     },
     "metadata": {},
     "output_type": "display_data"
    }
   ],
   "source": [
    "g35_sample <- rgamma(1000, shape=5, scale=3)\n",
    "round(g35_sample[1:50], 2)"
   ]
  },
  {
   "cell_type": "markdown",
   "metadata": {},
   "source": [
    "Now let's check the histogram."
   ]
  },
  {
   "cell_type": "code",
   "execution_count": 41,
   "metadata": {},
   "outputs": [
    {
     "data": {
      "image/png": "[encoded data removed]",
      "text/plain": [
       "Plot with title “Histogram of g35_sample”"
      ]
     },
     "metadata": {},
     "output_type": "display_data"
    }
   ],
   "source": [
    "hist(g35_sample, breaks=25, xlim=c(0, 50), col=\"blue\")"
   ]
  }
 ],
 "metadata": {
  "kernelspec": {
   "display_name": "R",
   "language": "R",
   "name": "ir"
  },
  "language_info": {
   "codemirror_mode": "r",
   "file_extension": ".r",
   "mimetype": "text/x-r-source",
   "name": "R",
   "pygments_lexer": "r",
   "version": "3.4.1"
  }
 },
 "nbformat": 4,
 "nbformat_minor": 1
}
