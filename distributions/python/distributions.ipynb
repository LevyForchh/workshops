{
 "cells": [
  {
   "cell_type": "markdown",
   "metadata": {},
   "source": [
    "# Some Probability Distributions\n",
    "\n",
    "This notebook introduces the **scipy.stats** package through a review of common probability distributions.\n",
    "\n",
    "## 1 Introduction\n",
    "\n",
    "### 1.1 Preparation\n",
    "\n",
    "You should already have Python 3 installed, hopefully through the **conda** utility.  But you may not have installed the **scipy** module.  It's easy enough to check.  If you have `scipy` installed, you can list its details in the following way.\n",
    "\n",
    "```\n",
    "workshops/distributions/python$ conda list scipy\n",
    "# packages in environment at /Users/pglezen/apps/miniconda3:\n",
    "#\n",
    "scipy                     0.17.0              np111py35_4\n",
    "```\n",
    "\n",
    "If instead of `scipy` you see a blank line, you can install it with the following `conda` command.\n",
    "\n",
    "```\n",
    "conda install scipy\n",
    "```\n",
    "\n",
    "If you already have it installed, you may still wish to update it to the latest version.\n",
    "\n",
    "```\n",
    "conda update scipy\n",
    "```\n",
    "\n",
    "Of course, this only applies to the *current conda execution environment*.  If you don't know what that is, then you probably only have one, so you're probably fine.\n",
    "\n",
    "Once you have the package installed, you should bookmark the documentation in your web browser for easy reference.  The **scipy** project has many nice packages.  The API for the **stats** package is available at\n",
    "\n",
    "<https://docs.scipy.org/doc/scipy/reference/stats.html>\n",
    "\n",
    "The SciPy homepage is https://scipy.org/.\n",
    "\n",
    "### 1.2 Conventions\n",
    "\n",
    "SciPy has consistent naming conventions for methods on probability\n",
    "distribution objects.\n",
    "\n",
    "* `pmf` - probability mass function for discrete distributions\n",
    "* `cdf` - cumulative distribution\n",
    "* `ppf` - percentage point function (inverse of CDF)\n",
    "* `rvs` - random variate sampling\n",
    "\n",
    "### Import\n",
    "\n",
    "The top level package name for the SciPy statistical objects is `scipy.stats`.  To make working with individual objects more\n",
    "convenient, we'll import them directly into our namespace rather\n",
    "than referencing them through their full package references.\n",
    "So instead of\n",
    "\n",
    "```\n",
    "import scipy.stats.binom\n",
    "```\n",
    "\n",
    "to reference binomial distribution functions through `scipy.stats.binom`, we'll use"
   ]
  },
  {
   "cell_type": "code",
   "execution_count": 1,
   "metadata": {
    "collapsed": true
   },
   "outputs": [],
   "source": [
    "from scipy.stats import binom\n",
    "from matplotlib import pyplot as plt\n",
    "import numpy as np\n",
    "\n",
    "%matplotlib inline"
   ]
  },
  {
   "cell_type": "markdown",
   "metadata": {},
   "source": [
    "This makes the `binom` object referenceable directly.  The\n",
    "\n",
    "```\n",
    "from <this package> import <that object>\n",
    "```\n",
    "\n",
    "style of import will be used throughout this workshop to\n",
    "reference Python distribution objects.\n",
    "\n",
    "### Frozen Parameters\n",
    "\n",
    "Most probability distributions require certain parameters\n",
    "to be completely specified.  For example, the binomial\n",
    "distribution requires two parameters:\n",
    "\n",
    "* `n` - the number of bernoulli trials\n",
    "* `p` - the probability of success for each trial\n",
    "\n",
    "These two parameters must be specified for each invocation\n",
    "of a `binom` object, along with the function arguments.  If\n",
    "the distribution parameters are expected to be constant through\n",
    "out a session, one can *freeze* the parameter values.\n",
    "\n",
    "```\n",
    "b = binom(100, 0.2)\n",
    "```\n",
    "You can then invoke all the `binom` methods on `myRV` without\n",
    "specifying the `n` and `p` parameters."
   ]
  },
  {
   "cell_type": "markdown",
   "metadata": {},
   "source": [
    "## 2 Discrete Distributions\n",
    "\n",
    "The following sections introduce SciPy objects working with\n",
    "discrete distributions.  In addition to methods particular\n",
    "to each distribution, the\n",
    "[rv_discrete](https://docs.scipy.org/doc/scipy/reference/generated/scipy.stats.rv_discrete.html#scipy.stats.rv_discrete)\n",
    "page documents methods common to all discrete distributions.\n",
    "\n",
    "### 2.1 Binomial\n",
    "\n",
    "The binomial distribution is handled by the \n",
    "[binom](https://docs.scipy.org/doc/scipy/reference/generated/scipy.stats.binom.html#scipy.stats.binom)\n",
    "object.  Let's create an instance **frozen** at 100 trials\n",
    "with probability of 0.2 success rate.  We'll invoke our \n",
    "distribution methods on this instance."
   ]
  },
  {
   "cell_type": "code",
   "execution_count": 2,
   "metadata": {
    "collapsed": true
   },
   "outputs": [],
   "source": [
    "b = binom(100, 0.2)"
   ]
  },
  {
   "cell_type": "markdown",
   "metadata": {},
   "source": [
    "With `b` as our binomial instance frozen at 100 trials with 0.2 chance\n",
    "of succeeding each time, let's start with the *probability mass function*,\n",
    "or `pmf`.  This is equation (7) of the math supplement.\n",
    "\n",
    "$$\n",
    "f_X(i) = \\sum_{i=0}^n {n \\choose i} p^i (1-p)^{n-i}\n",
    "$$\n",
    "\n",
    "Here we consider the case of $n=100$ and $p=0.2$. We suspect that\n",
    "the highest probability will be around 20 successes since the probability\n",
    "of each success is 0.2 and there are 100 trials.  The `pmf` function accepts\n",
    "numeric arrays, so we'll check `10`, `20`, and `30` in one go."
   ]
  },
  {
   "cell_type": "code",
   "execution_count": 3,
   "metadata": {
    "collapsed": false
   },
   "outputs": [
    {
     "data": {
      "text/plain": [
       "array([ 0.00336282,  0.09930021,  0.00518964])"
      ]
     },
     "execution_count": 3,
     "metadata": {},
     "output_type": "execute_result"
    }
   ],
   "source": [
    "b.pmf([10, 20, 30])"
   ]
  },
  {
   "cell_type": "markdown",
   "metadata": {},
   "source": [
    "Sure enough, the PMF function shows a 9.9% chance of obtaining\n",
    "exactly 20 successes.  The probabilities for 10 and 30 are each\n",
    "less than 1%.\n",
    "\n",
    "Now let's check the associated cumulative distribution function,\n",
    "or CDF.  The CDF at a point is the cumulation of probability from\n",
    "the PMF for all points equal or less.  Since we expect the average\n",
    "to be around 20, the CDF should be close to 0.5."
   ]
  },
  {
   "cell_type": "code",
   "execution_count": 4,
   "metadata": {
    "collapsed": false
   },
   "outputs": [
    {
     "data": {
      "text/plain": [
       "array([ 0.00569638,  0.55946158,  0.99394066])"
      ]
     },
     "execution_count": 4,
     "metadata": {},
     "output_type": "execute_result"
    }
   ],
   "source": [
    "b.cdf([10, 20, 30])"
   ]
  },
  {
   "cell_type": "markdown",
   "metadata": {},
   "source": [
    "This shows that the probability of having *less than or equal to 10 successes*\n",
    "is 0.57%.  The probability of having *less than or equal to 20 successes*\n",
    "is 56%.  The probabiliy of having *less than or equal to 30 successes*\n",
    "is 99.4%.\n",
    "\n",
    "To better see the relationship between the PMF and CDF, we can\n",
    "plot them."
   ]
  },
  {
   "cell_type": "code",
   "execution_count": 5,
   "metadata": {
    "collapsed": false
   },
   "outputs": [
    {
     "data": {
      "image/png": "[encoded data removed]",
      "text/plain": [
       "<matplotlib.figure.Figure at 0x10e3985f8>"
      ]
     },
     "metadata": {},
     "output_type": "display_data"
    }
   ],
   "source": [
    "fig, ax = plt.subplots(1,1)\n",
    "x = np.arange(101)\n",
    "ax.plot(x, b.pmf(x), 'ro')\n",
    "ax.plot(x, b.cdf(x), 'bo')\n",
    "plt.show()"
   ]
  },
  {
   "cell_type": "markdown",
   "metadata": {},
   "source": [
    "The PMF is in red.  The CDF is in blue.\n",
    "The blue value at each point is the sum of all the\n",
    "red points at or before it.  Let's verify this\n",
    "for the probability of 22 or fewer successes.\n",
    "The `np.arange` function is used which returns a\n",
    "sequence of integers from 0 to one less than the\n",
    "argument."
   ]
  },
  {
   "cell_type": "code",
   "execution_count": 6,
   "metadata": {
    "collapsed": false
   },
   "outputs": [
    {
     "data": {
      "text/plain": [
       "0.73893275233089206"
      ]
     },
     "execution_count": 6,
     "metadata": {},
     "output_type": "execute_result"
    }
   ],
   "source": [
    "b.pmf(np.arange(23)).sum()"
   ]
  },
  {
   "cell_type": "code",
   "execution_count": 7,
   "metadata": {
    "collapsed": false
   },
   "outputs": [
    {
     "data": {
      "text/plain": [
       "0.73893275233090572"
      ]
     },
     "execution_count": 7,
     "metadata": {},
     "output_type": "execute_result"
    }
   ],
   "source": [
    "b.cdf(22)"
   ]
  },
  {
   "cell_type": "markdown",
   "metadata": {},
   "source": [
    "With the `pmf`, we summed all the values of the PMF\n",
    "from 0 to 22.  But this is precisely what the CDF does.\n",
    "\n",
    "**Quantiles** are the inverse of the CDF function.\n",
    "For any probability, a quantile function tells us the\n",
    "value of the random variable for which the CDF is\n",
    "equal to that probability.  The SciPy stats function\n",
    "for this is **ppf**, or *percentage point function*.\n",
    "\n",
    "How many successes can we expect to happen 25% of the time?"
   ]
  },
  {
   "cell_type": "code",
   "execution_count": 8,
   "metadata": {
    "collapsed": false
   },
   "outputs": [
    {
     "data": {
      "text/plain": [
       "17.0"
      ]
     },
     "execution_count": 8,
     "metadata": {},
     "output_type": "execute_result"
    }
   ],
   "source": [
    "b.ppf(0.25)"
   ]
  },
  {
   "cell_type": "markdown",
   "metadata": {},
   "source": [
    "This means that 25% of the time, the number of successes\n",
    "will be 17 or less.  We can pass in arrays just like we\n",
    "did for `pmf`."
   ]
  },
  {
   "cell_type": "code",
   "execution_count": 9,
   "metadata": {
    "collapsed": false
   },
   "outputs": [
    {
     "data": {
      "text/plain": [
       "array([ 17.,  20.,  23.])"
      ]
     },
     "execution_count": 9,
     "metadata": {},
     "output_type": "execute_result"
    }
   ],
   "source": [
    "b.ppf([0.25, 0.5, 0.75])"
   ]
  },
  {
   "cell_type": "markdown",
   "metadata": {},
   "source": [
    "The reasons these come out exact integers is the\n",
    "binomial random variables only take integer values.\n",
    "The `ppf` can be interpreted as *the smallest integer\n",
    "number of successes with probabiliy greater than or equal\n",
    "the argument*.  So it's not a strict inverse."
   ]
  },
  {
   "cell_type": "code",
   "execution_count": 10,
   "metadata": {
    "collapsed": false
   },
   "outputs": [
    {
     "data": {
      "text/plain": [
       "array([ 0.19233758,  0.27118896,  0.46016137,  0.55946158,  0.73893275,\n",
       "        0.81091279])"
      ]
     },
     "execution_count": 10,
     "metadata": {},
     "output_type": "execute_result"
    }
   ],
   "source": [
    "b.cdf([16, 17, 19, 20, 22, 23])\n"
   ]
  },
  {
   "cell_type": "markdown",
   "metadata": {},
   "source": [
    "Sometimes it's useful to generate random samples from a distribution.\n",
    "In other words, the numbers are generated as if they came from random\n",
    "variable values associated with the outcomes of the experiement.\n",
    "The `rvs` method is used for this."
   ]
  },
  {
   "cell_type": "code",
   "execution_count": 11,
   "metadata": {
    "collapsed": false
   },
   "outputs": [
    {
     "data": {
      "text/plain": [
       "array([16, 26, 13, 17, 18, 16, 20, 14, 15, 19, 15, 13, 16, 15, 22, 21, 19,\n",
       "       27, 23, 20, 13, 19, 20, 21, 17, 17, 23, 17, 17, 17, 22, 16, 23, 24,\n",
       "       18, 22, 17, 21, 10, 22, 17, 29, 21, 16, 26, 18, 21, 19, 22, 20, 20,\n",
       "       16, 20, 19, 26, 18, 22, 21, 24, 11, 25, 20, 21, 16, 32, 23, 22, 17,\n",
       "       15, 24, 18, 25, 20, 17, 12, 24, 23, 19, 20, 19, 26, 25, 28, 18, 17,\n",
       "       19, 21, 18, 25, 20, 16, 22, 17, 18, 16, 17, 16, 28, 19, 18])"
      ]
     },
     "execution_count": 11,
     "metadata": {},
     "output_type": "execute_result"
    }
   ],
   "source": [
    "b_sample = b.rvs(size=1000)\n",
    "b_sample[0:100]"
   ]
  },
  {
   "cell_type": "markdown",
   "metadata": {},
   "source": [
    "This simulates the arduous task of\n",
    "\n",
    "1. flipping an unfair coin (with 20% chance of heads) 100 times,\n",
    "2. noting the number of heads,\n",
    "3. writing it down,\n",
    "4. repeat steps 1-3 for 1,000 times\n",
    "\n",
    "It's fun to plot a histogram of our sample.\n",
    "It should have a shape close to our PMF."
   ]
  },
  {
   "cell_type": "code",
   "execution_count": 12,
   "metadata": {
    "collapsed": false
   },
   "outputs": [
    {
     "data": {
      "image/png": "[encoded data removed]",
      "text/plain": [
       "<matplotlib.figure.Figure at 0x10e3daba8>"
      ]
     },
     "metadata": {},
     "output_type": "display_data"
    }
   ],
   "source": [
    "fig, ax = plt.subplots()\n",
    "ax.hist(b_sample, bins=30, range=(0,100))\n",
    "plt.show()"
   ]
  },
  {
   "cell_type": "markdown",
   "metadata": {
    "collapsed": true
   },
   "source": [
    "## 2.2 Poisson\n",
    "\n",
    "The Poisson random variable represents the number of occurrences of an event\n",
    "over a fixed interval of time.\n",
    "An example could be the number of new cases opened per day.\n",
    "The parameter of the random variable, usually\n",
    "denoted by $\\lambda$, turns out to be the expected number of occurrences.\n",
    "The Poisson density function is given by\n",
    "\n",
    "$$\n",
    "f_X(i;\\lambda) = e^{-\\lambda} \\frac{\\lambda^i}{i!}\n",
    "$$\n",
    "\n",
    "For each $i$, this represents the probability of observing $i$ counts within\n",
    "the unit time period.\n",
    "The SciPy package provides the usual discrete random variable methods for\n",
    "a Poisson random variable object.\n",
    "\n",
    "* `pmf` - probability mass functon\n",
    "* `cdf` - cumulative distribution function\n",
    "* `ppf` - percentage point function (inverse of CDF)\n",
    "* `rvs` - random variate sample\n",
    "\n",
    "Let's consider a case of a process where the expected\n",
    "number of occurrences per time period is 5.  We'll freeze a SciPy Poisson\n",
    "object with this parameter."
   ]
  },
  {
   "cell_type": "code",
   "execution_count": 13,
   "metadata": {
    "collapsed": true
   },
   "outputs": [],
   "source": [
    "from scipy.stats import poisson\n",
    "p5 = poisson(5)"
   ]
  },
  {
   "cell_type": "markdown",
   "metadata": {},
   "source": [
    "Since 5 is the expected value, we expect the mass function to be\n",
    "strongest around 5."
   ]
  },
  {
   "cell_type": "code",
   "execution_count": 14,
   "metadata": {
    "collapsed": false
   },
   "outputs": [
    {
     "data": {
      "text/plain": [
       "array([ 14.03738958,  17.54673698,  10.4444863 ])"
      ]
     },
     "execution_count": 14,
     "metadata": {},
     "output_type": "execute_result"
    }
   ],
   "source": [
    "p5.pmf([3,5,7]) * 100"
   ]
  },
  {
   "cell_type": "markdown",
   "metadata": {},
   "source": [
    "We see a 14% chance of getting a count of **3**, a 17.5% chance\n",
    "of getting a **5** count, and a 10.4% chance of getting a **7** count.\n",
    "\n",
    "Now let's check the cumulative distribution function (CDF)."
   ]
  },
  {
   "cell_type": "code",
   "execution_count": 15,
   "metadata": {
    "collapsed": false
   },
   "outputs": [
    {
     "data": {
      "text/plain": [
       "array([ 26.50259153,  61.59606548,  86.66283259])"
      ]
     },
     "execution_count": 15,
     "metadata": {},
     "output_type": "execute_result"
    }
   ],
   "source": [
    "p5.cdf([3,5,7]) * 100"
   ]
  },
  {
   "cell_type": "markdown",
   "metadata": {},
   "source": [
    "The chance of getting\n",
    "* 3 or less is 27%\n",
    "* 5 or less is 62%\n",
    "* 7 or less is 87%\n",
    "\n",
    "Let's view this graphically."
   ]
  },
  {
   "cell_type": "code",
   "execution_count": 16,
   "metadata": {
    "collapsed": false
   },
   "outputs": [
    {
     "data": {
      "image/png": "[encoded data removed]",
      "text/plain": [
       "<matplotlib.figure.Figure at 0x113b8da20>"
      ]
     },
     "metadata": {},
     "output_type": "display_data"
    }
   ],
   "source": [
    "x = np.arange(21)\n",
    "fig, ax = plt.subplots(1,1)\n",
    "ax.plot(x, p5.pmf(x), 'r-', label=\"PMF\")\n",
    "ax.plot(x, p5.cdf(x), 'b-', label=\"CDF\")\n",
    "ax.legend()\n",
    "plt.title(\"Poisson, $\\lambda = 5$\")\n",
    "plt.show()"
   ]
  },
  {
   "cell_type": "markdown",
   "metadata": {},
   "source": [
    "The standard quartiles are given by"
   ]
  },
  {
   "cell_type": "code",
   "execution_count": 17,
   "metadata": {
    "collapsed": false
   },
   "outputs": [
    {
     "data": {
      "text/plain": [
       "array([ 3.,  5.,  6.])"
      ]
     },
     "execution_count": 17,
     "metadata": {},
     "output_type": "execute_result"
    }
   ],
   "source": [
    "p5.ppf([0.25, 0.5, 0.75])"
   ]
  },
  {
   "cell_type": "markdown",
   "metadata": {},
   "source": [
    "* 3 is the smallest count that occurs at least 25% of the time\n",
    "* 5 is the smallest count that occurs at least 50% of the time\n",
    "* 6 is the smallest count that occurs at least 75% of the time\n",
    "\n",
    "Finally, let's generate some Poisson random numbers.  This is\n",
    "like counting occurrences of 1,000 outcomes for a Poisson process\n",
    "with $\\lambda = 5$."
   ]
  },
  {
   "cell_type": "code",
   "execution_count": 18,
   "metadata": {
    "collapsed": false
   },
   "outputs": [
    {
     "data": {
      "text/plain": [
       "array([ 4,  9,  4,  7,  4,  2,  6,  5,  2,  7,  3,  6,  3,  3,  3,  4,  7,\n",
       "        2,  7, 10,  6,  7,  6,  4,  5,  9,  4,  3,  5,  6,  4,  4,  9,  3,\n",
       "        7,  7,  2,  0,  5,  4,  8,  5,  3,  7,  7,  7,  6,  2,  3,  4,  4,\n",
       "        9,  9,  6,  6,  2,  4,  4,  4,  8,  4,  4,  6,  5, 11,  4,  3,  5,\n",
       "        3,  4,  4,  7,  5,  4,  7, 10,  2,  7,  5,  6,  3,  1,  5,  3,  3,\n",
       "        5, 10,  4,  3,  5,  7,  1,  5,  5,  8,  6,  8,  7,  5, 10])"
      ]
     },
     "execution_count": 18,
     "metadata": {},
     "output_type": "execute_result"
    }
   ],
   "source": [
    "p5_sample = p5.rvs(size=1000)\n",
    "p5_sample[0:100]"
   ]
  },
  {
   "cell_type": "markdown",
   "metadata": {},
   "source": [
    "Let's check that the histogram of our sample looks anything like our PMF."
   ]
  },
  {
   "cell_type": "code",
   "execution_count": 19,
   "metadata": {
    "collapsed": false
   },
   "outputs": [
    {
     "data": {
      "image/png": "[encoded data removed]",
      "text/plain": [
       "<matplotlib.figure.Figure at 0x113f00240>"
      ]
     },
     "metadata": {},
     "output_type": "display_data"
    }
   ],
   "source": [
    "fig, ax = plt.subplots(1,1)\n",
    "ax.hist(p5_sample, bins=20, range=(0, 20))\n",
    "plt.title(\"1000 Poisson $\\lambda=5$ Samples\")\n",
    "plt.show()"
   ]
  },
  {
   "cell_type": "markdown",
   "metadata": {},
   "source": [
    "## 3 Continuous Distributions\n",
    "\n",
    "The following sections introduce SciPy objects working with\n",
    "continuous distributions.  In addition to methods particular\n",
    "to each distribution, the\n",
    "[rv_continuous](https://docs.scipy.org/doc/scipy/reference/generated/scipy.stats.rv_continuous.html#scipy.stats.rv_continuous)\n",
    "page documents methods common to all continuous distributions.\n",
    "\n",
    "The SciPy package provides the following continuous random variable\n",
    "methods.\n",
    "\n",
    "* `pdf` - probability density functon\n",
    "* `cdf` - cumulative distribution function\n",
    "* `ppf` - percentage point function (inverse of CDF)\n",
    "* `rvs` - random variate sample\n",
    "\n",
    "\n",
    "### 3.1 Normal\n",
    "\n",
    "The normal distribution is handled by the \n",
    "[norm](https://docs.scipy.org/doc/scipy/reference/generated/scipy.stats.norm.html#scipy.stats.norm)\n",
    "object.  We won't create a *frozen* instance since we'll\n",
    "work with mean 0 and standard deviation 1."
   ]
  },
  {
   "cell_type": "code",
   "execution_count": 20,
   "metadata": {
    "collapsed": false
   },
   "outputs": [
    {
     "data": {
      "text/plain": [
       "array([ 0.00443185,  0.05399097,  0.24197072,  0.39894228,  0.24197072,\n",
       "        0.05399097,  0.00443185])"
      ]
     },
     "execution_count": 20,
     "metadata": {},
     "output_type": "execute_result"
    }
   ],
   "source": [
    "from scipy.stats import norm\n",
    "norm.pdf([-3, -2, -1, 0, 1, 2, 3])"
   ]
  },
  {
   "cell_type": "markdown",
   "metadata": {},
   "source": [
    "The symmetric character of the normal distribution is apparent here.\n",
    "We don't interpret these as probabilities (like we did with discrete\n",
    "mass function) since the continuous case represents an infinitesimal\n",
    "range of the random variable.  But we still extract probabilities from\n",
    "the CDF."
   ]
  },
  {
   "cell_type": "code",
   "execution_count": 21,
   "metadata": {
    "collapsed": false
   },
   "outputs": [
    {
     "data": {
      "text/plain": [
       "array([  0.1349898 ,   2.27501319,  15.86552539,  50.        ,\n",
       "        84.13447461,  97.72498681,  99.8650102 ])"
      ]
     },
     "execution_count": 21,
     "metadata": {},
     "output_type": "execute_result"
    }
   ],
   "source": [
    "norm.cdf([-3, -2, -1, 0, 1, 2, 3,]) * 100"
   ]
  },
  {
   "cell_type": "code",
   "execution_count": 22,
   "metadata": {
    "collapsed": false
   },
   "outputs": [
    {
     "data": {
      "image/png": "[encoded data removed]",
      "text/plain": [
       "<matplotlib.figure.Figure at 0x113ed6d30>"
      ]
     },
     "metadata": {},
     "output_type": "display_data"
    }
   ],
   "source": [
    "x = np.linspace(-3, 3, 100)\n",
    "fig, ax = plt.subplots(1,1)\n",
    "ax.plot(x, norm.pdf(x), 'r-', label=\"PDF\")\n",
    "ax.plot(x, norm.cdf(x), 'b-', label=\"CDF\")\n",
    "ax.legend()\n",
    "plt.title(\"Standard Normal\")\n",
    "plt.show()"
   ]
  },
  {
   "cell_type": "markdown",
   "metadata": {},
   "source": [
    "The `ppf` function shows us where the quantiles are.  In most of the\n",
    "distribution examples, we've been displaying quantiles for quarters,\n",
    "i.e, the *quartiles*.  But due to role of normal distribution in the\n",
    "[Central Limit Theorem](https://en.wikipedia.org/wiki/Central_limit_theorem),\n",
    "we'll examine quantiles for 90%, 95%, and 97.5% since these are often\n",
    "referenced in the study of confidence intervals."
   ]
  },
  {
   "cell_type": "code",
   "execution_count": 23,
   "metadata": {
    "collapsed": false
   },
   "outputs": [
    {
     "data": {
      "text/plain": [
       "array([ 0.        ,  1.28155157,  1.64485363,  1.95996398])"
      ]
     },
     "execution_count": 23,
     "metadata": {},
     "output_type": "execute_result"
    }
   ],
   "source": [
    "norm.ppf([0.5, 0.9, 0.95, 0.975])"
   ]
  },
  {
   "cell_type": "markdown",
   "metadata": {},
   "source": [
    "Since the normal distribution is symmetric about the origin,\n",
    "we expect half to lie on one side of 0 and half on the other\n",
    "side.  The last number says that 97.5% of the curve lies to\n",
    "the left of **1.96**.  This is a number we'll commit to memory\n",
    "during the study of confidence intervals.\n",
    "\n",
    "\n",
    "### 3.2 Exponential Distribution\n",
    "\n",
    "The *exponential distribution* is a continuous distribution that\n",
    "complements the discrete Poisson distribution that we encountered\n",
    "above.  Whereas a Poisson random variable represents a count of\n",
    "events that occur over a fixed unit of time, an exponential\n",
    "random variable represents the amount of time between one such\n",
    "event and the next.\n",
    "\n",
    "The density function for the exponential distribution is\n",
    "\n",
    "$$\n",
    "f_X(x; \\lambda) = \\lambda e^{-\\lambda x}\n",
    "$$\n",
    "\n",
    "where the expected wait time is $1/\\lambda$.  The SciPy object\n",
    "is `expon`."
   ]
  },
  {
   "cell_type": "code",
   "execution_count": 24,
   "metadata": {
    "collapsed": true
   },
   "outputs": [],
   "source": [
    "from scipy.stats import expon\n",
    "exp3 = expon(scale=3)"
   ]
  },
  {
   "cell_type": "markdown",
   "metadata": {},
   "source": [
    "The second line creates a \"frozen\" exponential object with $1/\\lambda = 3$.\n",
    "Let's go through the usual motions.  The exponential density function decreases\n",
    "as x gets larger."
   ]
  },
  {
   "cell_type": "code",
   "execution_count": 25,
   "metadata": {
    "collapsed": false
   },
   "outputs": [
    {
     "data": {
      "text/plain": [
       "array([ 0.24,  0.17,  0.12,  0.09])"
      ]
     },
     "execution_count": 25,
     "metadata": {},
     "output_type": "execute_result"
    }
   ],
   "source": [
    "x = exp3.pdf([1,2,3,4])\n",
    "np.round(x, 2)"
   ]
  },
  {
   "cell_type": "markdown",
   "metadata": {},
   "source": [
    "Since the expected wait time is 3.0 units of time, we expect the CDF\n",
    "to cross 50% there."
   ]
  },
  {
   "cell_type": "code",
   "execution_count": 26,
   "metadata": {
    "collapsed": false
   },
   "outputs": [
    {
     "data": {
      "text/plain": [
       "array([ 0.28,  0.49,  0.63,  0.74])"
      ]
     },
     "execution_count": 26,
     "metadata": {},
     "output_type": "execute_result"
    }
   ],
   "source": [
    "x = exp3.cdf([1,2,3,4])\n",
    "np.round(x, 2)"
   ]
  },
  {
   "cell_type": "markdown",
   "metadata": {},
   "source": [
    "This is the exponential CDF and PDF graphically."
   ]
  },
  {
   "cell_type": "code",
   "execution_count": 27,
   "metadata": {
    "collapsed": false
   },
   "outputs": [
    {
     "data": {
      "text/plain": [
       "<matplotlib.text.Text at 0x11443e400>"
      ]
     },
     "execution_count": 27,
     "metadata": {},
     "output_type": "execute_result"
    },
    {
     "data": {
      "image/png": "[encoded data removed]",
      "text/plain": [
       "<matplotlib.figure.Figure at 0x1140cb4a8>"
      ]
     },
     "metadata": {},
     "output_type": "display_data"
    }
   ],
   "source": [
    "x = np.linspace(0, 12, 100)\n",
    "fig, ax = plt.subplots(1, 1)\n",
    "ax.plot(x, exp3.cdf(x), 'b-', label=\"CDF\")\n",
    "ax.plot(x, exp3.pdf(x), 'r-', label=\"PDF\")\n",
    "ax.legend()\n",
    "ax.set_title(\"Exponential, $\\lambda = 1/3$\")"
   ]
  },
  {
   "cell_type": "markdown",
   "metadata": {},
   "source": [
    "The standard quartile are given by"
   ]
  },
  {
   "cell_type": "code",
   "execution_count": 28,
   "metadata": {
    "collapsed": false
   },
   "outputs": [
    {
     "data": {
      "text/plain": [
       "array([ 0.86,  2.08,  4.16])"
      ]
     },
     "execution_count": 28,
     "metadata": {},
     "output_type": "execute_result"
    }
   ],
   "source": [
    "x = exp3.ppf([0.25, 0.5, 0.75])\n",
    "np.round(x, 2)"
   ]
  },
  {
   "cell_type": "markdown",
   "metadata": {},
   "source": [
    "Notice that the **median** (the .5 quantile) is 2.08.  This is\n",
    "an example where the median and the average do not agree, even\n",
    "for a continuous random variable.  These values tell us that\n",
    "we should expect a wait time of\n",
    "\n",
    "* 0.86 time units or less 25% of the time\n",
    "* 2.08 time units or less 50% of the time\n",
    "* 4.16 time units or less 75% of the time\n",
    "\n",
    "Let's generate some exponentially distributed times for a simulated\n",
    "Poisson process."
   ]
  },
  {
   "cell_type": "code",
   "execution_count": 29,
   "metadata": {
    "collapsed": false
   },
   "outputs": [
    {
     "data": {
      "text/plain": [
       "array([ 0.26,  0.34,  0.88,  4.09,  3.96,  2.24,  2.25,  0.29,  2.87,\n",
       "        1.75,  0.14,  2.54,  1.85,  2.6 ,  4.34,  8.25,  0.18,  8.08,\n",
       "        1.09,  3.63,  0.75,  0.54,  2.33,  0.37,  1.57,  1.04,  4.83,\n",
       "        0.56,  0.4 ,  5.2 ,  1.07,  1.31,  3.74,  2.57,  0.48,  0.48,\n",
       "        0.  ,  1.69,  5.89,  3.82])"
      ]
     },
     "execution_count": 29,
     "metadata": {},
     "output_type": "execute_result"
    }
   ],
   "source": [
    "e_sample = exp3.rvs(size=1000)\n",
    "np.round(e_sample[0:40], 2)"
   ]
  },
  {
   "cell_type": "code",
   "execution_count": 30,
   "metadata": {
    "collapsed": false
   },
   "outputs": [
    {
     "data": {
      "text/plain": [
       "<matplotlib.text.Text at 0x114776048>"
      ]
     },
     "execution_count": 30,
     "metadata": {},
     "output_type": "execute_result"
    },
    {
     "data": {
      "image/png": "[encoded data removed]",
      "text/plain": [
       "<matplotlib.figure.Figure at 0x114431d30>"
      ]
     },
     "metadata": {},
     "output_type": "display_data"
    }
   ],
   "source": [
    "fig, ax = plt.subplots(1,1)\n",
    "ax.hist(e_sample, bins=12, range=(0, 12))\n",
    "ax.set_title(\"1000 Exponential $\\lambda = 1/3$ Samples\")"
   ]
  },
  {
   "cell_type": "markdown",
   "metadata": {},
   "source": [
    "### 3.3 Gamma Distribution\n",
    "\n",
    "A *Gamma random variable* is often interpreted as a sum of $r$ independent\n",
    "exponential random variables with the same parameter $\\lambda$.  The density\n",
    "function is\n",
    "\n",
    "$$\n",
    "f_X(x; \\lambda, r) = \\frac{\\lambda}{\\Gamma(r)} (\\lambda x)^{r-1} e^{-\\lambda x}\n",
    "$$\n",
    "\n",
    "So we have a $r$ Poisson processes with an expected wait time of $1/\\lambda$.\n",
    "Let's continue using our Poisson process from before with an expected wait time\n",
    "of 3 time units; but this time let's assume we are waiting for five of them\n",
    "(one after another).  So in this particular case, our $\\lambda = 1/3$ and\n",
    "$r = 5$."
   ]
  },
  {
   "cell_type": "code",
   "execution_count": 31,
   "metadata": {
    "collapsed": false
   },
   "outputs": [
    {
     "data": {
      "text/plain": [
       "array([ 0.02,  0.06,  0.06,  0.03,  0.02])"
      ]
     },
     "execution_count": 31,
     "metadata": {},
     "output_type": "execute_result"
    }
   ],
   "source": [
    "from scipy.stats import gamma\n",
    "g35 = gamma(a=5, scale=3)\n",
    "x = g35.pdf([5, 10, 15, 20, 25])\n",
    "np.round(x, 2)"
   ]
  },
  {
   "cell_type": "markdown",
   "metadata": {},
   "source": [
    "The cumulative distibution function gives a better feel for the\n",
    "distribution."
   ]
  },
  {
   "cell_type": "code",
   "execution_count": 32,
   "metadata": {
    "collapsed": false
   },
   "outputs": [
    {
     "data": {
      "text/plain": [
       "array([ 0.03,  0.24,  0.56,  0.79,  0.92])"
      ]
     },
     "execution_count": 32,
     "metadata": {},
     "output_type": "execute_result"
    }
   ],
   "source": [
    "x = g35.cdf([5, 10, 15, 20, 25])\n",
    "np.round(x, 2)"
   ]
  },
  {
   "cell_type": "markdown",
   "metadata": {},
   "source": [
    "If we expect each event to take 3 time units on average, and there are\n",
    "five events, then 15 is a resonable half-way point."
   ]
  },
  {
   "cell_type": "code",
   "execution_count": 34,
   "metadata": {
    "collapsed": false
   },
   "outputs": [
    {
     "data": {
      "text/plain": [
       "<matplotlib.legend.Legend at 0x113e7bc88>"
      ]
     },
     "execution_count": 34,
     "metadata": {},
     "output_type": "execute_result"
    },
    {
     "data": {
      "image/png": "[encoded data removed]",
      "text/plain": [
       "<matplotlib.figure.Figure at 0x114391a20>"
      ]
     },
     "metadata": {},
     "output_type": "display_data"
    }
   ],
   "source": [
    "x = np.linspace(0, 30, 100)\n",
    "fig, ax = plt.subplots(1,1)\n",
    "ax.plot(x, g35.cdf(x), 'b-', label=\"CDF\")\n",
    "ax.plot(x, g35.pdf(x) * 10, 'r-', label=\"PDF * 10\")\n",
    "ax.legend(loc=\"upper left\")"
   ]
  },
  {
   "cell_type": "markdown",
   "metadata": {
    "collapsed": true
   },
   "source": [
    "I multiplied the PDF by 10 to make its shape more pronounced \n",
    "against the CDF.\n",
    "\n",
    "The quartiles are given by"
   ]
  },
  {
   "cell_type": "code",
   "execution_count": 35,
   "metadata": {
    "collapsed": false
   },
   "outputs": [
    {
     "data": {
      "text/plain": [
       "array([ 10.11,  14.01,  18.82])"
      ]
     },
     "execution_count": 35,
     "metadata": {},
     "output_type": "execute_result"
    }
   ],
   "source": [
    "x = g35.ppf([0.25, 0.5, 0.75])\n",
    "np.round(x, 2)"
   ]
  },
  {
   "cell_type": "markdown",
   "metadata": {},
   "source": [
    "This that we can expect a trial (which consists of\n",
    "5 independent Poisson processes, each with expected\n",
    "duration of 3 time units) to take less than\n",
    "\n",
    "* 10.11 time units 25% of the time\n",
    "* 14.01 time units 50% of the time\n",
    "* 18.82 time units 75% of the time\n",
    "\n",
    "Let's simulate 1,000 trials through a random number\n",
    "generator."
   ]
  },
  {
   "cell_type": "code",
   "execution_count": 37,
   "metadata": {
    "collapsed": false
   },
   "outputs": [
    {
     "data": {
      "text/plain": [
       "array([ 13.59,  11.32,  17.64,  25.96,  22.57,   6.71,  13.45,  39.36,\n",
       "        21.89,   6.35,  14.85,  19.43,  15.41,   9.01,  14.04,   1.74,\n",
       "        16.72,  20.34,  19.12,  11.55,  18.87,  10.84,  10.52,   5.79,\n",
       "        11.17,  53.16,  41.61,  23.08,  21.57,  17.6 ,  11.62,  26.77,\n",
       "         3.67,  13.68,   8.79,  11.6 ,   4.78,  13.86,  15.94,  14.19,\n",
       "         9.41,  15.88,  13.  ,  10.82,  17.79,  12.49,   7.86,  13.52,\n",
       "         9.65,  21.69])"
      ]
     },
     "execution_count": 37,
     "metadata": {},
     "output_type": "execute_result"
    }
   ],
   "source": [
    "g35_sample = g35.rvs(size=1000)\n",
    "np.round(g35_sample[0:50], 2)"
   ]
  },
  {
   "cell_type": "code",
   "execution_count": 38,
   "metadata": {
    "collapsed": false
   },
   "outputs": [
    {
     "data": {
      "text/plain": [
       "<matplotlib.text.Text at 0x113b7bbe0>"
      ]
     },
     "execution_count": 38,
     "metadata": {},
     "output_type": "execute_result"
    },
    {
     "data": {
      "image/png": "[encoded data removed]",
      "text/plain": [
       "<matplotlib.figure.Figure at 0x113ff9198>"
      ]
     },
     "metadata": {},
     "output_type": "display_data"
    }
   ],
   "source": [
    "fig, ax = plt.subplots(1,1)\n",
    "ax.hist(g35_sample, bins=15, range=(0,30))\n",
    "ax.set_title(\"Gamma Sample, $r=5, \\lambda=1/3$\")"
   ]
  }
 ],
 "metadata": {
  "kernelspec": {
   "display_name": "Python (p3)",
   "language": "python",
   "name": "p3"
  },
  "language_info": {
   "codemirror_mode": {
    "name": "ipython",
    "version": 3
   },
   "file_extension": ".py",
   "mimetype": "text/x-python",
   "name": "python",
   "nbconvert_exporter": "python",
   "pygments_lexer": "ipython3",
   "version": "3.5.1"
  }
 },
 "nbformat": 4,
 "nbformat_minor": 0
}
