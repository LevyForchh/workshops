{
 "cells": [
  {
   "cell_type": "markdown",
   "metadata": {},
   "source": [
    "# Some Probability Distributions\n",
    "\n",
    "This notebook introduces the **scipy.stats** package through a review of common probability distributions.\n",
    "\n",
    "## 1 Introduction\n",
    "\n",
    "### 1.1 Preparation\n",
    "\n",
    "You should already have Python 3 installed, hopefully through the **conda** utility.  But you may not have installed the **scipy** module.  It's easy enough to check.  If you have `scipy` installed, you can list its details in the following way.\n",
    "\n",
    "```\n",
    "workshops/distributions/python$ conda list scipy\n",
    "# packages in environment at /Users/pglezen/apps/miniconda3:\n",
    "#\n",
    "scipy                     0.17.0              np111py35_4\n",
    "```\n",
    "\n",
    "If instead of `scipy` you see a blank line, you can install it with the following `conda` command.\n",
    "\n",
    "```\n",
    "conda install scipy\n",
    "```\n",
    "\n",
    "If you already have it installed, you may still wish to update it to the latest version.\n",
    "\n",
    "```\n",
    "conda update scipy\n",
    "```\n",
    "\n",
    "Of course, this only applies to the *current conda execution environment*.  If you don't know what that is, then you probably only have one, so you're probably fine.\n",
    "\n",
    "Once you have the package installed, you should bookmark the documentation in your web browser for easy reference.  The **scipy** project has many nice packages.  The API for the **stats** package is available at\n",
    "\n",
    "<https://docs.scipy.org/doc/scipy/reference/stats.html>\n",
    "\n",
    "The SciPy homepage is https://scipy.org/.\n",
    "\n",
    "### 1.2 Conventions\n",
    "\n",
    "SciPy has consistent naming conventions for methods on probability\n",
    "distribution objects.\n",
    "\n",
    "* `pmf` - probability mass function for discrete distributions\n",
    "* `cdf` - cumulative distribution\n",
    "* `ppf` - percentage point function (inverse of CDF)\n",
    "* `rvs` - random variate sampling\n",
    "\n",
    "### Import\n",
    "\n",
    "The top level package name for the SciPy statistical objects is `scipy.stats`.  To make working with individual objects more\n",
    "convenient, we'll import them directly into our namespace rather\n",
    "than referencing them through their full package references.\n",
    "So instead of\n",
    "\n",
    "```\n",
    "import scipy.stats.binom\n",
    "```\n",
    "\n",
    "to reference binomial distribution functions through `scipy.stats.binom`, we'll use"
   ]
  },
  {
   "cell_type": "code",
   "execution_count": 1,
   "metadata": {
    "collapsed": true
   },
   "outputs": [],
   "source": [
    "from scipy.stats import binom\n",
    "from matplotlib import pyplot as plt\n",
    "import numpy as np\n",
    "\n",
    "%matplotlib inline"
   ]
  },
  {
   "cell_type": "markdown",
   "metadata": {},
   "source": [
    "This makes the `binom` object referenceable directly.  The\n",
    "\n",
    "```\n",
    "from <this package> import <that object>\n",
    "```\n",
    "\n",
    "style of import will be used throughout this workshop to\n",
    "reference Python distribution objects.\n",
    "\n",
    "### Frozen Parameters\n",
    "\n",
    "Most probability distributions require certain parameters\n",
    "to be completely specified.  For example, the binomial\n",
    "distribution requires two parameters:\n",
    "\n",
    "* `n` - the number of bernoulli trials\n",
    "* `p` - the probability of success for each trial\n",
    "\n",
    "These two parameters must be specified for each invocation\n",
    "of a `binom` object, along with the function arguments.  If\n",
    "the distribution parameters are expected to be constant through\n",
    "out a session, one can *freeze* the parameter values.\n",
    "\n",
    "```\n",
    "b = binom(100, 0.2)\n",
    "```\n",
    "You can then invoke all the `binom` methods on `myRV` without\n",
    "specifying the `n` and `p` parameters."
   ]
  },
  {
   "cell_type": "markdown",
   "metadata": {},
   "source": [
    "## 2 Discrete Distributions\n",
    "\n",
    "The following sections introduce SciPy objects working with\n",
    "discrete distributions.  In addition to methods particular\n",
    "to each distribution, the\n",
    "[rv_discrete](https://docs.scipy.org/doc/scipy/reference/generated/scipy.stats.rv_discrete.html#scipy.stats.rv_discrete)\n",
    "page documents methods common to all discrete distributions.\n",
    "\n",
    "### 2.1 Binomial\n",
    "\n",
    "The binomial distribution is handled by the \n",
    "[binom](https://docs.scipy.org/doc/scipy/reference/generated/scipy.stats.binom.html#scipy.stats.binom)\n",
    "object.  Let's create an instance **frozen** at 100 trials\n",
    "with probability of 0.2 success rate.  We'll invoke our \n",
    "distribution methods on this instance."
   ]
  },
  {
   "cell_type": "code",
   "execution_count": 2,
   "metadata": {
    "collapsed": true
   },
   "outputs": [],
   "source": [
    "b = binom(100, 0.2)"
   ]
  },
  {
   "cell_type": "markdown",
   "metadata": {},
   "source": [
    "With `b` as our binomial instance frozen at 100 trials with 0.2 chance\n",
    "of succeeding each time, let's start with the *probability mass function*,\n",
    "or `pmf`.  This is equation (7) of the math supplement.\n",
    "\n",
    "$$\n",
    "f_X(i) = \\sum_{i=0}^n {n \\choose i} p^i (1-p)^{n-i}\n",
    "$$\n",
    "\n",
    "Here we consider the case of $n=100$ and $p=0.2$. We suspect that\n",
    "the highest probability will be around 20 successes since the probability\n",
    "of each success is 0.2 and there are 100 trials.  The `pmf` function accepts\n",
    "numeric arrays, so we'll check `10`, `20`, and `30` in one go."
   ]
  },
  {
   "cell_type": "code",
   "execution_count": 3,
   "metadata": {
    "collapsed": false
   },
   "outputs": [
    {
     "data": {
      "text/plain": [
       "array([ 0.00336282,  0.09930021,  0.00518964])"
      ]
     },
     "execution_count": 3,
     "metadata": {},
     "output_type": "execute_result"
    }
   ],
   "source": [
    "b.pmf([10, 20, 30])"
   ]
  },
  {
   "cell_type": "markdown",
   "metadata": {},
   "source": [
    "Sure enough, the PMF function shows a 9.9% chance of obtaining\n",
    "exactly 20 successes.  The probabilities for 10 and 30 are each\n",
    "less than 1%.\n",
    "\n",
    "Now let's check the associated cumulative distribution function,\n",
    "or CDF.  The CDF at a point is the cumulation of probability from\n",
    "the PMF for all points equal or less.  Since we expect the average\n",
    "to be around 20, the CDF should be close to 0.5."
   ]
  },
  {
   "cell_type": "code",
   "execution_count": 4,
   "metadata": {
    "collapsed": false
   },
   "outputs": [
    {
     "data": {
      "text/plain": [
       "array([ 0.00569638,  0.55946158,  0.99394066])"
      ]
     },
     "execution_count": 4,
     "metadata": {},
     "output_type": "execute_result"
    }
   ],
   "source": [
    "b.cdf([10, 20, 30])"
   ]
  },
  {
   "cell_type": "markdown",
   "metadata": {},
   "source": [
    "This shows that the probability of having *less than or equal to 10 successes*\n",
    "is 0.57%.  The probability of having *less than or equal to 20 successes*\n",
    "is 56%.  The probabiliy of having *less than or equal to 30 successes*\n",
    "is 99.4%.\n",
    "\n",
    "To better see the relationship between the PMF and CDF, we can\n",
    "plot them."
   ]
  },
  {
   "cell_type": "code",
   "execution_count": 5,
   "metadata": {
    "collapsed": false
   },
   "outputs": [
    {
     "data": {
      "image/png": "[encoded data removed]",
      "text/plain": [
       "<matplotlib.figure.Figure at 0x10deb27b8>"
      ]
     },
     "metadata": {},
     "output_type": "display_data"
    }
   ],
   "source": [
    "fig, ax = plt.subplots(1,1)\n",
    "x = np.arange(101)\n",
    "ax.plot(x, b.pmf(x), 'ro')\n",
    "ax.plot(x, b.cdf(x), 'bo')\n",
    "plt.show()"
   ]
  },
  {
   "cell_type": "markdown",
   "metadata": {},
   "source": [
    "The PMF is in red.  The CDF is in blue.\n",
    "The blue value at each point is the sum of all the\n",
    "red points at or before it.  Let's verify this\n",
    "for the probability of 22 or fewer successes.\n",
    "The `np.arange` function is used which returns a\n",
    "sequence of integers from 0 to one less than the\n",
    "argument."
   ]
  },
  {
   "cell_type": "code",
   "execution_count": 6,
   "metadata": {
    "collapsed": false
   },
   "outputs": [
    {
     "data": {
      "text/plain": [
       "0.73893275233089051"
      ]
     },
     "execution_count": 6,
     "metadata": {},
     "output_type": "execute_result"
    }
   ],
   "source": [
    "b.pmf(np.arange(23)).sum()"
   ]
  },
  {
   "cell_type": "code",
   "execution_count": 7,
   "metadata": {
    "collapsed": false
   },
   "outputs": [
    {
     "data": {
      "text/plain": [
       "0.73893275233090572"
      ]
     },
     "execution_count": 7,
     "metadata": {},
     "output_type": "execute_result"
    }
   ],
   "source": [
    "b.cdf(22)"
   ]
  },
  {
   "cell_type": "markdown",
   "metadata": {},
   "source": [
    "With the `pmf`, we summed all the values of the PMF\n",
    "from 0 to 22.  But this is precisely what the CDF does.\n",
    "\n",
    "**Quantiles** are the inverse of the CDF function.\n",
    "For any probability, a quantile function tells us the\n",
    "value of the random variable for which the CDF is\n",
    "equal to that probability.  The SciPy stats function\n",
    "for this is **ppf**, or *percentage point function*.\n",
    "\n",
    "How many successes can we expect to happen 25% of the time?"
   ]
  },
  {
   "cell_type": "code",
   "execution_count": 8,
   "metadata": {
    "collapsed": false
   },
   "outputs": [
    {
     "data": {
      "text/plain": [
       "17.0"
      ]
     },
     "execution_count": 8,
     "metadata": {},
     "output_type": "execute_result"
    }
   ],
   "source": [
    "b.ppf(0.25)"
   ]
  },
  {
   "cell_type": "markdown",
   "metadata": {},
   "source": [
    "This means that 25% of the time, the number of successes\n",
    "will be 17 or less.  We can pass in arrays just like we\n",
    "did for `pmf`."
   ]
  },
  {
   "cell_type": "code",
   "execution_count": 9,
   "metadata": {
    "collapsed": false
   },
   "outputs": [
    {
     "data": {
      "text/plain": [
       "array([ 17.,  20.,  23.])"
      ]
     },
     "execution_count": 9,
     "metadata": {},
     "output_type": "execute_result"
    }
   ],
   "source": [
    "b.ppf([0.25, 0.5, 0.75])"
   ]
  },
  {
   "cell_type": "markdown",
   "metadata": {},
   "source": [
    "The reasons these come out exact integers is the\n",
    "binomial random variables only take integer values.\n",
    "The `ppf` can be interpreted as *the smallest integer\n",
    "number of successes with probabiliy greater than or equal\n",
    "the argument*.  So it's not a strict inverse."
   ]
  },
  {
   "cell_type": "code",
   "execution_count": 12,
   "metadata": {
    "collapsed": false
   },
   "outputs": [
    {
     "data": {
      "text/plain": [
       "array([ 0.19233758,  0.27118896,  0.46016137,  0.55946158,  0.73893275,\n",
       "        0.81091279])"
      ]
     },
     "execution_count": 12,
     "metadata": {},
     "output_type": "execute_result"
    }
   ],
   "source": [
    "b.cdf([16, 17, 19, 20, 22, 23])\n"
   ]
  },
  {
   "cell_type": "markdown",
   "metadata": {},
   "source": [
    "Sometimes it's useful to generate random samples from a distribution.\n",
    "In other words, the numbers are generated as if they came from random\n",
    "variable values associated with the outcomes of the experiement.\n",
    "The `rvs` method is used for this."
   ]
  },
  {
   "cell_type": "code",
   "execution_count": 11,
   "metadata": {
    "collapsed": false
   },
   "outputs": [
    {
     "data": {
      "text/plain": [
       "array([21, 20, 27, 15, 15, 14, 22, 21, 18, 22, 14, 17, 29, 24, 23, 25, 20,\n",
       "       22, 16, 23, 21, 17, 12, 27, 25, 20, 13, 15, 16, 21, 12, 19, 27, 24,\n",
       "       18, 31, 22, 21, 22, 17, 25, 18, 13, 21, 17, 19, 26, 22, 21, 21, 15,\n",
       "       22, 12, 18, 19, 23, 22, 13, 20, 19, 19, 23, 21, 14, 10, 18, 23, 25,\n",
       "       17, 17, 29, 20, 25, 26, 13, 25, 20, 23, 25, 22, 18, 18, 19, 24, 22,\n",
       "       21, 21, 22, 17, 18, 15, 19, 27, 19, 22, 17, 14, 20, 22, 18])"
      ]
     },
     "execution_count": 11,
     "metadata": {},
     "output_type": "execute_result"
    }
   ],
   "source": [
    "b_sample = b.rvs(size=1000)\n",
    "b_sample[0:100]"
   ]
  },
  {
   "cell_type": "markdown",
   "metadata": {},
   "source": [
    "This simulates the arduous task of\n",
    "\n",
    "1. flipping an unfair coin (with 20% chance of heads) 100 times,\n",
    "2. noting the number of heads,\n",
    "3. writing it down,\n",
    "4. repeat steps 1-3 for 1,000 times\n",
    "\n",
    "It's fun to plot a histogram of our sample.\n",
    "It should have a shape close to our PMF."
   ]
  },
  {
   "cell_type": "code",
   "execution_count": 14,
   "metadata": {
    "collapsed": false
   },
   "outputs": [
    {
     "data": {
      "image/png": "[encoded data removed]",
      "text/plain": [
       "<matplotlib.figure.Figure at 0x10ded79b0>"
      ]
     },
     "metadata": {},
     "output_type": "display_data"
    }
   ],
   "source": [
    "fig, ax = plt.subplots()\n",
    "ax.hist(b_sample, bins=30, range=(0,100))\n",
    "plt.show()"
   ]
  },
  {
   "cell_type": "code",
   "execution_count": null,
   "metadata": {
    "collapsed": true
   },
   "outputs": [],
   "source": []
  }
 ],
 "metadata": {
  "kernelspec": {
   "display_name": "Python 3",
   "language": "python",
   "name": "python3"
  },
  "language_info": {
   "codemirror_mode": {
    "name": "ipython",
    "version": 3
   },
   "file_extension": ".py",
   "mimetype": "text/x-python",
   "name": "python",
   "nbconvert_exporter": "python",
   "pygments_lexer": "ipython3",
   "version": "3.5.2"
  }
 },
 "nbformat": 4,
 "nbformat_minor": 0
}
