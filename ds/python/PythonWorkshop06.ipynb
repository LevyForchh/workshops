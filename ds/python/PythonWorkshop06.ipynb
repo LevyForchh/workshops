{
 "cells": [
  {
   "cell_type": "markdown",
   "metadata": {},
   "source": [
    "Python Workshop 6\n",
    "=========\n",
    "\n",
    "September 27, 2017\n"
   ]
  },
  {
   "cell_type": "markdown",
   "metadata": {},
   "source": [
    "# Welcome Back\n",
    "\n",
    "We've been on hiatus for a few months and most of us can barely\n",
    "remember any Python; or even whether it was Python, Go, JavaScript,\n",
    "Julia, Scala, or something else we were investigating.\n",
    "\n",
    "This is a good time to update our installation with the latest \n",
    "versions of our favorite packages and maybe even install some new ones.\n",
    "Recall that we used a Python environment manager named **conda**\n",
    "to manage our Python environment.  The name comes from the full blown\n",
    "installation called [Anaconda](https://docs.continuum.io/) originally\n",
    "developed by Continuum Analytics.  **conda** is a minimal\n",
    "installation that allows us to customize the packages we deploy.\n",
    "\n",
    "## Bluecoat\n",
    "\n",
    "Don't forget that our friend, Bluecoat, hasn't gone anywhere.\n",
    "In order for our **conda** environment manager to reach the\n",
    "package repository, we have to perform a few work-around tasks.\n",
    "\n",
    "### Authenticate Through Firewall\n",
    "\n",
    "Enter the following URL into your web browser.\n",
    "\n",
    "<https://repo.continuum.io/pkgs/>\n",
    "\n",
    "Authenticate through the firewall if you have to.\n",
    "\n",
    "### SSL Certificate Verification\n",
    "\n",
    "Because Bluecoat subverts the server certificate returned from\n",
    "the Conda repository servers, we must tell the conda client to\n",
    "skip the certificate verification step.\n",
    "\n",
    "```\n",
    "conda config --set ssl_verify false\n",
    "```\n",
    "\n",
    "You can check whether this was already done with \n",
    "\n",
    "```\n",
    "conda config --show | grep ssl\n",
    "```\n",
    "\n",
    "If your machine doesn't have grep (shame on you), you can\n",
    "manually scroll through the output and verify.  It should\n",
    "be near the bottom.\n",
    "\n",
    "Later we'll learn how to install the Bluecoat certificate\n",
    "into a conda certificate store.\n",
    "\n",
    "### Update Packages\n",
    "\n",
    "Using\n",
    "\n",
    "```\n",
    "conda update <package name>\n",
    "```\n",
    "\n",
    "update the following packages.\n",
    "\n",
    "* `conda` - tell conda to update itself\n",
    "* `python` - the Python interpreter\n",
    "* `requests` - high level HTTP package\n",
    "* `ipython` - the `ipython` shell\n",
    "* `pandas` - which in turn updates `NumPy` and others\n",
    "* `jupyter` - interactive web notebooks\n",
    "* `scipy` - utilities for probability \n",
    "* `matplotlib` - plotting\n",
    "* `seaborn` - more plotting\n",
    "* `statsmodels` - statistical modeling\n",
    "\n",
    "### IPython Options\n",
    "\n",
    "Upon starting our `IPython` session, we usually want to set\n",
    "display options to get the most from our screens.\n",
    "\n",
    "```\n",
    "pd.options.display.width\n",
    "pd.options.display.max_rows\n",
    "```\n",
    "\n",
    "Just typing these at the `IPython` command line will\n",
    "show their value.  You can also assign directly to them.\n",
    "\n",
    "\n",
    "# Data Frame Review\n",
    "\n",
    "Last spring we sourced most of our datasets from CSV files using\n",
    "`pd.read_csv`.  Let's use a related function, `pd.read_json` to\n",
    "load a dataset from the \n",
    "[Los Angeles County Open Data](https://data.lacounty.gov/)\n",
    "service.  There are many interesting data sets here.  Since most\n",
    "of us come from the justice community, we'll work with a Sheriff\n",
    "dataset concerning crimes reported within the last 12 months.\n",
    "\n",
    "<https://dev.socrata.com/foundry/data.lacounty.gov/uvdj-ch3p>\n",
    "\n",
    "Navigate to this page in your browser and you'll find good\n",
    "information on how to invoke the API and descriptions of the\n",
    "fields it returns.  At the bottom are small samples of invoking\n",
    "the API through a variety of client platforms.  We'll start with\n",
    "the Python Pandas API and invoke it with the `$limit` filter\n",
    "limit the number of rows we get back (the default is a maximum\n",
    "of 1,000 rows).  The URL of the service is\n",
    "\n",
    "```\n",
    "https://data.lacounty.gov/resource/uvdj-ch3p.json\n",
    "```"
   ]
  },
  {
   "cell_type": "code",
   "execution_count": 1,
   "metadata": {},
   "outputs": [
    {
     "data": {
      "text/plain": [
       "20"
      ]
     },
     "execution_count": 1,
     "metadata": {},
     "output_type": "execute_result"
    }
   ],
   "source": [
    "import pandas as pd\n",
    "df = pd.read_json('https://data.lacounty.gov/resource/uvdj-ch3p.json?$limit=20')\n",
    "len(df)"
   ]
  },
  {
   "cell_type": "markdown",
   "metadata": {},
   "source": [
    "We now have a data frame in the `df` variable.\n",
    "We'll have much more to say about invoking APIs over a network\n",
    "later.  For now we'll use this\n",
    "opportunity to review basic operations on a data frame.\n",
    "\n",
    "The `dtypes` attribute tells us the type for each column."
   ]
  },
  {
   "cell_type": "code",
   "execution_count": 35,
   "metadata": {},
   "outputs": [
    {
     "data": {
      "text/plain": [
       "city                             object\n",
       "crime_category_description       object\n",
       "crime_category_number             int64\n",
       "crime_date                       object\n",
       "crime_identifier                  int64\n",
       "crime_year                        int64\n",
       "gang_related                     object\n",
       "geo_location                     object\n",
       "geo_location_address             object\n",
       "geo_location_city                object\n",
       "geo_location_state               object\n",
       "geo_location_zip                float64\n",
       "latitude                        float64\n",
       "longitude                       float64\n",
       "reporting_district                int64\n",
       "state                            object\n",
       "station_identifier               object\n",
       "station_name                     object\n",
       "statistical_code                  int64\n",
       "statistical_code_description     object\n",
       "street                           object\n",
       "victim_count                      int64\n",
       "zip                             float64\n",
       "dtype: object"
      ]
     },
     "execution_count": 35,
     "metadata": {},
     "output_type": "execute_result"
    }
   ],
   "source": [
    "df.dtypes"
   ]
  },
  {
   "cell_type": "markdown",
   "metadata": {},
   "source": [
    "A dtype of `object` usually means a string.\n",
    "Most of these seem acceptable.  A few that\n",
    "stand out are\n",
    "\n",
    "* `crime_date` - should be a datetime.\n",
    "* `geo_location_zip` - should be a string.\n",
    "\n",
    "We can convert this within the `read_json` function call.\n",
    "We'll increase the `$limit=20` parameter so that\n",
    "we receive the default maximum number of rows,\n",
    "which for this API is 1,000."
   ]
  },
  {
   "cell_type": "code",
   "execution_count": 36,
   "metadata": {},
   "outputs": [
    {
     "data": {
      "text/plain": [
       "city                                    object\n",
       "crime_category_description              object\n",
       "crime_category_number                    int64\n",
       "crime_date                      datetime64[ns]\n",
       "crime_identifier                         int64\n",
       "crime_year                               int64\n",
       "gang_related                            object\n",
       "geo_location                            object\n",
       "geo_location_address                    object\n",
       "geo_location_city                       object\n",
       "geo_location_state                      object\n",
       "geo_location_zip                        object\n",
       "latitude                               float64\n",
       "longitude                              float64\n",
       "reporting_district                       int64\n",
       "state                                   object\n",
       "station_identifier                      object\n",
       "station_name                            object\n",
       "statistical_code                         int64\n",
       "statistical_code_description            object\n",
       "street                                  object\n",
       "victim_count                             int64\n",
       "zip                                    float64\n",
       "dtype: object"
      ]
     },
     "execution_count": 36,
     "metadata": {},
     "output_type": "execute_result"
    }
   ],
   "source": [
    "df = pd.read_json('https://data.lacounty.gov/resource/uvdj-ch3p.json?$limit=1000',\n",
    "                 dtype={'geo_location_zip': 'U'}, convert_dates=['crime_date'])\n",
    "df.dtypes"
   ]
  },
  {
   "cell_type": "markdown",
   "metadata": {},
   "source": [
    "We called the API like last time, but with a few extra parameters.\n",
    "\n",
    "* `dtype` - a dictionary where each name is a column name and each\n",
    "  value is a type.  The `U` here means UTF-8 string.\n",
    "* `convert_dates` - This works just like with `pd.csv_read`.  We\n",
    "  specify which columns are to be interpreted as dates or times.\n",
    "\n",
    "Let's drop some columns that we won't use in this session.\n",
    "The `drop` function accepts the following parameters.\n",
    "\n",
    "* a list of things to drop.\n",
    "* `axis` this defaults to `0` (the first parameter refers to\n",
    "  which rows to drop).  But we want to drop columns\n",
    "  (`axis=1`).  This interprets the list in the first parameter\n",
    "  as column names.\n",
    "* `inplace` default to `False` which means a new copy of the\n",
    "  data frame is returned (the original one is not changed).\n",
    "  In this case, we want to change the data frame in place."
   ]
  },
  {
   "cell_type": "code",
   "execution_count": 37,
   "metadata": {},
   "outputs": [
    {
     "data": {
      "text/html": [
       "<div>\n",
       "<style>\n",
       "    .dataframe thead tr:only-child th {\n",
       "        text-align: right;\n",
       "    }\n",
       "\n",
       "    .dataframe thead th {\n",
       "        text-align: left;\n",
       "    }\n",
       "\n",
       "    .dataframe tbody tr th {\n",
       "        vertical-align: top;\n",
       "    }\n",
       "</style>\n",
       "<table border=\"1\" class=\"dataframe\">\n",
       "  <thead>\n",
       "    <tr style=\"text-align: right;\">\n",
       "      <th></th>\n",
       "      <th>crime_category_description</th>\n",
       "      <th>crime_category_number</th>\n",
       "      <th>crime_date</th>\n",
       "      <th>crime_identifier</th>\n",
       "      <th>gang_related</th>\n",
       "      <th>geo_location_city</th>\n",
       "      <th>geo_location_state</th>\n",
       "      <th>geo_location_zip</th>\n",
       "      <th>reporting_district</th>\n",
       "      <th>station_identifier</th>\n",
       "      <th>station_name</th>\n",
       "      <th>statistical_code</th>\n",
       "      <th>statistical_code_description</th>\n",
       "      <th>victim_count</th>\n",
       "    </tr>\n",
       "  </thead>\n",
       "  <tbody>\n",
       "    <tr>\n",
       "      <th>0</th>\n",
       "      <td>BURGLARY</td>\n",
       "      <td>5</td>\n",
       "      <td>2017-08-21 02:08:00</td>\n",
       "      <td>18306371</td>\n",
       "      <td>N</td>\n",
       "      <td>CERRITOS</td>\n",
       "      <td>CA</td>\n",
       "      <td>90703</td>\n",
       "      <td>2314</td>\n",
       "      <td>CA01900R7</td>\n",
       "      <td>CERRITOS</td>\n",
       "      <td>71</td>\n",
       "      <td>BURGLARY, OTHER STRUCTURE: Night, Entry By Force</td>\n",
       "      <td>1</td>\n",
       "    </tr>\n",
       "    <tr>\n",
       "      <th>1</th>\n",
       "      <td>VEHICLE / BOATING LAWS</td>\n",
       "      <td>23</td>\n",
       "      <td>2017-07-20 17:07:00</td>\n",
       "      <td>18274453</td>\n",
       "      <td>N</td>\n",
       "      <td>LYNWOOD</td>\n",
       "      <td>CA</td>\n",
       "      <td>nan</td>\n",
       "      <td>2117</td>\n",
       "      <td>CA01900V3</td>\n",
       "      <td>CENTURY</td>\n",
       "      <td>255</td>\n",
       "      <td>VEHICLE AND BOATING LAWS: Misdemeanor</td>\n",
       "      <td>1</td>\n",
       "    </tr>\n",
       "    <tr>\n",
       "      <th>2</th>\n",
       "      <td>VEHICLE / BOATING LAWS</td>\n",
       "      <td>23</td>\n",
       "      <td>2017-06-21 04:06:00</td>\n",
       "      <td>18245488</td>\n",
       "      <td>N</td>\n",
       "      <td>PICO RIVERA</td>\n",
       "      <td>CA</td>\n",
       "      <td>nan</td>\n",
       "      <td>1512</td>\n",
       "      <td>CA0190015</td>\n",
       "      <td>PICO RIVERA</td>\n",
       "      <td>255</td>\n",
       "      <td>VEHICLE AND BOATING LAWS: Misdemeanor</td>\n",
       "      <td>1</td>\n",
       "    </tr>\n",
       "  </tbody>\n",
       "</table>\n",
       "</div>"
      ],
      "text/plain": [
       "  crime_category_description  crime_category_number          crime_date  \\\n",
       "0                   BURGLARY                      5 2017-08-21 02:08:00   \n",
       "1     VEHICLE / BOATING LAWS                     23 2017-07-20 17:07:00   \n",
       "2     VEHICLE / BOATING LAWS                     23 2017-06-21 04:06:00   \n",
       "\n",
       "   crime_identifier gang_related geo_location_city geo_location_state  \\\n",
       "0          18306371            N          CERRITOS                 CA   \n",
       "1          18274453            N           LYNWOOD                 CA   \n",
       "2          18245488            N       PICO RIVERA                 CA   \n",
       "\n",
       "  geo_location_zip  reporting_district station_identifier station_name  \\\n",
       "0            90703                2314          CA01900R7     CERRITOS   \n",
       "1              nan                2117          CA01900V3      CENTURY   \n",
       "2              nan                1512          CA0190015  PICO RIVERA   \n",
       "\n",
       "   statistical_code                      statistical_code_description  \\\n",
       "0                71  BURGLARY, OTHER STRUCTURE: Night, Entry By Force   \n",
       "1               255             VEHICLE AND BOATING LAWS: Misdemeanor   \n",
       "2               255             VEHICLE AND BOATING LAWS: Misdemeanor   \n",
       "\n",
       "   victim_count  \n",
       "0             1  \n",
       "1             1  \n",
       "2             1  "
      ]
     },
     "execution_count": 37,
     "metadata": {},
     "output_type": "execute_result"
    }
   ],
   "source": [
    "df.drop(['crime_year', 'geo_location', 'geo_location_address', \n",
    "         'latitude', 'longitude', 'street', 'city', 'state', 'zip'],\n",
    "       axis=1, inplace=True)\n",
    "df.head(3)"
   ]
  },
  {
   "cell_type": "markdown",
   "metadata": {},
   "source": [
    "Rename the rest of the columns.\n",
    "Use original names as a guide."
   ]
  },
  {
   "cell_type": "code",
   "execution_count": 38,
   "metadata": {},
   "outputs": [
    {
     "data": {
      "text/plain": [
       "Index(['crime_category_description', 'crime_category_number', 'crime_date',\n",
       "       'crime_identifier', 'gang_related', 'geo_location_city',\n",
       "       'geo_location_state', 'geo_location_zip', 'reporting_district',\n",
       "       'station_identifier', 'station_name', 'statistical_code',\n",
       "       'statistical_code_description', 'victim_count'],\n",
       "      dtype='object')"
      ]
     },
     "execution_count": 38,
     "metadata": {},
     "output_type": "execute_result"
    }
   ],
   "source": [
    "df.columns"
   ]
  },
  {
   "cell_type": "code",
   "execution_count": 39,
   "metadata": {},
   "outputs": [
    {
     "data": {
      "text/html": [
       "<div>\n",
       "<style>\n",
       "    .dataframe thead tr:only-child th {\n",
       "        text-align: right;\n",
       "    }\n",
       "\n",
       "    .dataframe thead th {\n",
       "        text-align: left;\n",
       "    }\n",
       "\n",
       "    .dataframe tbody tr th {\n",
       "        vertical-align: top;\n",
       "    }\n",
       "</style>\n",
       "<table border=\"1\" class=\"dataframe\">\n",
       "  <thead>\n",
       "    <tr style=\"text-align: right;\">\n",
       "      <th></th>\n",
       "      <th>cat_desc</th>\n",
       "      <th>cat_code</th>\n",
       "      <th>date</th>\n",
       "      <th>id</th>\n",
       "      <th>gang</th>\n",
       "      <th>city</th>\n",
       "      <th>state</th>\n",
       "      <th>zip</th>\n",
       "      <th>reporting_district</th>\n",
       "      <th>station_id</th>\n",
       "      <th>station_name</th>\n",
       "      <th>stat_code</th>\n",
       "      <th>stat_desc</th>\n",
       "      <th>victim_count</th>\n",
       "    </tr>\n",
       "  </thead>\n",
       "  <tbody>\n",
       "    <tr>\n",
       "      <th>0</th>\n",
       "      <td>BURGLARY</td>\n",
       "      <td>5</td>\n",
       "      <td>2017-08-21 02:08:00</td>\n",
       "      <td>18306371</td>\n",
       "      <td>N</td>\n",
       "      <td>CERRITOS</td>\n",
       "      <td>CA</td>\n",
       "      <td>90703</td>\n",
       "      <td>2314</td>\n",
       "      <td>CA01900R7</td>\n",
       "      <td>CERRITOS</td>\n",
       "      <td>71</td>\n",
       "      <td>BURGLARY, OTHER STRUCTURE: Night, Entry By Force</td>\n",
       "      <td>1</td>\n",
       "    </tr>\n",
       "    <tr>\n",
       "      <th>1</th>\n",
       "      <td>VEHICLE / BOATING LAWS</td>\n",
       "      <td>23</td>\n",
       "      <td>2017-07-20 17:07:00</td>\n",
       "      <td>18274453</td>\n",
       "      <td>N</td>\n",
       "      <td>LYNWOOD</td>\n",
       "      <td>CA</td>\n",
       "      <td>nan</td>\n",
       "      <td>2117</td>\n",
       "      <td>CA01900V3</td>\n",
       "      <td>CENTURY</td>\n",
       "      <td>255</td>\n",
       "      <td>VEHICLE AND BOATING LAWS: Misdemeanor</td>\n",
       "      <td>1</td>\n",
       "    </tr>\n",
       "    <tr>\n",
       "      <th>2</th>\n",
       "      <td>VEHICLE / BOATING LAWS</td>\n",
       "      <td>23</td>\n",
       "      <td>2017-06-21 04:06:00</td>\n",
       "      <td>18245488</td>\n",
       "      <td>N</td>\n",
       "      <td>PICO RIVERA</td>\n",
       "      <td>CA</td>\n",
       "      <td>nan</td>\n",
       "      <td>1512</td>\n",
       "      <td>CA0190015</td>\n",
       "      <td>PICO RIVERA</td>\n",
       "      <td>255</td>\n",
       "      <td>VEHICLE AND BOATING LAWS: Misdemeanor</td>\n",
       "      <td>1</td>\n",
       "    </tr>\n",
       "  </tbody>\n",
       "</table>\n",
       "</div>"
      ],
      "text/plain": [
       "                 cat_desc  cat_code                date        id gang  \\\n",
       "0                BURGLARY         5 2017-08-21 02:08:00  18306371    N   \n",
       "1  VEHICLE / BOATING LAWS        23 2017-07-20 17:07:00  18274453    N   \n",
       "2  VEHICLE / BOATING LAWS        23 2017-06-21 04:06:00  18245488    N   \n",
       "\n",
       "          city state    zip  reporting_district station_id station_name  \\\n",
       "0     CERRITOS    CA  90703                2314  CA01900R7     CERRITOS   \n",
       "1      LYNWOOD    CA    nan                2117  CA01900V3      CENTURY   \n",
       "2  PICO RIVERA    CA    nan                1512  CA0190015  PICO RIVERA   \n",
       "\n",
       "   stat_code                                         stat_desc  victim_count  \n",
       "0         71  BURGLARY, OTHER STRUCTURE: Night, Entry By Force             1  \n",
       "1        255             VEHICLE AND BOATING LAWS: Misdemeanor             1  \n",
       "2        255             VEHICLE AND BOATING LAWS: Misdemeanor             1  "
      ]
     },
     "execution_count": 39,
     "metadata": {},
     "output_type": "execute_result"
    }
   ],
   "source": [
    "df.columns = ['cat_desc', 'cat_code', 'date', 'id', 'gang', 'city',\n",
    "             'state','zip', 'reporting_district', 'station_id',\n",
    "             'station_name', 'stat_code', 'stat_desc', 'victim_count']\n",
    "df.head(3)"
   ]
  },
  {
   "cell_type": "markdown",
   "metadata": {
    "collapsed": true
   },
   "source": [
    "The `value_counts` function on a series gives us a quick table of\n",
    "the frequency of values.  This is useful for categorical values."
   ]
  },
  {
   "cell_type": "code",
   "execution_count": 40,
   "metadata": {},
   "outputs": [
    {
     "data": {
      "text/plain": [
       "LARCENY THEFT                   174\n",
       "VEHICLE / BOATING LAWS          154\n",
       "NARCOTICS                       106\n",
       "NON-AGGRAVATED ASSAULTS          84\n",
       "GRAND THEFT AUTO                 65\n",
       "VANDALISM                        59\n",
       "AGGRAVATED ASSAULT               56\n",
       "BURGLARY                         55\n",
       "FRAUD AND NSF CHECKS             44\n",
       "ROBBERY                          28\n",
       "FELONIES MISCELLANEOUS           24\n",
       "WEAPON LAWS                      24\n",
       "MISDEMEANORS MISCELLANEOUS       24\n",
       "FORGERY                          18\n",
       "SEX OFFENSES FELONIES            14\n",
       "DRUNK / ALCOHOL / DRUGS          11\n",
       "LIQUOR LAWS                       8\n",
       "SEX OFFENSES MISDEMEANORS         8\n",
       "CRIMINAL HOMICIDE                 7\n",
       "OFFENSES AGAINST FAMILY           7\n",
       "VAGRANCY                          6\n",
       "DRUNK DRIVING VEHICLE / BOAT      6\n",
       "FORCIBLE RAPE                     6\n",
       "ARSON                             4\n",
       "DISORDERLY CONDUCT                4\n",
       "FEDERAL OFFENSES WITH MONEY       2\n",
       "RECEIVING STOLEN PROPERTY         1\n",
       "WARRANTS                          1\n",
       "Name: cat_desc, dtype: int64"
      ]
     },
     "execution_count": 40,
     "metadata": {},
     "output_type": "execute_result"
    }
   ],
   "source": [
    "df['cat_desc'].value_counts()"
   ]
  },
  {
   "cell_type": "code",
   "execution_count": 41,
   "metadata": {},
   "outputs": [
    {
     "data": {
      "text/plain": [
       "N    980\n",
       "Y     20\n",
       "Name: gang, dtype: int64"
      ]
     },
     "execution_count": 41,
     "metadata": {},
     "output_type": "execute_result"
    }
   ],
   "source": [
    "df['gang'].value_counts()"
   ]
  },
  {
   "cell_type": "markdown",
   "metadata": {},
   "source": [
    "This `isnull()` function returns a data frame of booleans with\n",
    "the same shape of the source data frame.  We can invoke `sum()`\n",
    "to return the total null values for each column."
   ]
  },
  {
   "cell_type": "code",
   "execution_count": 43,
   "metadata": {},
   "outputs": [
    {
     "data": {
      "text/plain": [
       "cat_desc               0\n",
       "cat_code               0\n",
       "date                   0\n",
       "id                     0\n",
       "gang                   0\n",
       "city                  32\n",
       "state                 32\n",
       "zip                    0\n",
       "reporting_district     0\n",
       "station_id             0\n",
       "station_name           0\n",
       "stat_code              0\n",
       "stat_desc              0\n",
       "victim_count           0\n",
       "dtype: int64"
      ]
     },
     "execution_count": 43,
     "metadata": {},
     "output_type": "execute_result"
    }
   ],
   "source": [
    "df.isnull().sum()"
   ]
  },
  {
   "cell_type": "markdown",
   "metadata": {},
   "source": [
    "Without a specified index, pandas just assigns an integer sequence\n",
    "starting with zero.  If we wish to make our `id` column the index,\n",
    "we use the `set_index` function."
   ]
  },
  {
   "cell_type": "code",
   "execution_count": 44,
   "metadata": {
    "collapsed": true
   },
   "outputs": [],
   "source": [
    "df.set_index('id', inplace=True)"
   ]
  },
  {
   "cell_type": "code",
   "execution_count": 45,
   "metadata": {},
   "outputs": [
    {
     "data": {
      "text/html": [
       "<div>\n",
       "<style>\n",
       "    .dataframe thead tr:only-child th {\n",
       "        text-align: right;\n",
       "    }\n",
       "\n",
       "    .dataframe thead th {\n",
       "        text-align: left;\n",
       "    }\n",
       "\n",
       "    .dataframe tbody tr th {\n",
       "        vertical-align: top;\n",
       "    }\n",
       "</style>\n",
       "<table border=\"1\" class=\"dataframe\">\n",
       "  <thead>\n",
       "    <tr style=\"text-align: right;\">\n",
       "      <th></th>\n",
       "      <th>cat_desc</th>\n",
       "      <th>cat_code</th>\n",
       "      <th>date</th>\n",
       "      <th>gang</th>\n",
       "      <th>city</th>\n",
       "      <th>state</th>\n",
       "      <th>zip</th>\n",
       "      <th>reporting_district</th>\n",
       "      <th>station_id</th>\n",
       "      <th>station_name</th>\n",
       "      <th>stat_code</th>\n",
       "      <th>stat_desc</th>\n",
       "      <th>victim_count</th>\n",
       "    </tr>\n",
       "    <tr>\n",
       "      <th>id</th>\n",
       "      <th></th>\n",
       "      <th></th>\n",
       "      <th></th>\n",
       "      <th></th>\n",
       "      <th></th>\n",
       "      <th></th>\n",
       "      <th></th>\n",
       "      <th></th>\n",
       "      <th></th>\n",
       "      <th></th>\n",
       "      <th></th>\n",
       "      <th></th>\n",
       "      <th></th>\n",
       "    </tr>\n",
       "  </thead>\n",
       "  <tbody>\n",
       "    <tr>\n",
       "      <th>18306371</th>\n",
       "      <td>BURGLARY</td>\n",
       "      <td>5</td>\n",
       "      <td>2017-08-21 02:08:00</td>\n",
       "      <td>N</td>\n",
       "      <td>CERRITOS</td>\n",
       "      <td>CA</td>\n",
       "      <td>90703</td>\n",
       "      <td>2314</td>\n",
       "      <td>CA01900R7</td>\n",
       "      <td>CERRITOS</td>\n",
       "      <td>71</td>\n",
       "      <td>BURGLARY, OTHER STRUCTURE: Night, Entry By Force</td>\n",
       "      <td>1</td>\n",
       "    </tr>\n",
       "    <tr>\n",
       "      <th>18274453</th>\n",
       "      <td>VEHICLE / BOATING LAWS</td>\n",
       "      <td>23</td>\n",
       "      <td>2017-07-20 17:07:00</td>\n",
       "      <td>N</td>\n",
       "      <td>LYNWOOD</td>\n",
       "      <td>CA</td>\n",
       "      <td>nan</td>\n",
       "      <td>2117</td>\n",
       "      <td>CA01900V3</td>\n",
       "      <td>CENTURY</td>\n",
       "      <td>255</td>\n",
       "      <td>VEHICLE AND BOATING LAWS: Misdemeanor</td>\n",
       "      <td>1</td>\n",
       "    </tr>\n",
       "    <tr>\n",
       "      <th>18245488</th>\n",
       "      <td>VEHICLE / BOATING LAWS</td>\n",
       "      <td>23</td>\n",
       "      <td>2017-06-21 04:06:00</td>\n",
       "      <td>N</td>\n",
       "      <td>PICO RIVERA</td>\n",
       "      <td>CA</td>\n",
       "      <td>nan</td>\n",
       "      <td>1512</td>\n",
       "      <td>CA0190015</td>\n",
       "      <td>PICO RIVERA</td>\n",
       "      <td>255</td>\n",
       "      <td>VEHICLE AND BOATING LAWS: Misdemeanor</td>\n",
       "      <td>1</td>\n",
       "    </tr>\n",
       "    <tr>\n",
       "      <th>18307448</th>\n",
       "      <td>NARCOTICS</td>\n",
       "      <td>16</td>\n",
       "      <td>2017-08-22 17:08:00</td>\n",
       "      <td>N</td>\n",
       "      <td>CANYON COUNTRY</td>\n",
       "      <td>CA</td>\n",
       "      <td>nan</td>\n",
       "      <td>633</td>\n",
       "      <td>CA0190006</td>\n",
       "      <td>SANTA CLARITA VALLEY</td>\n",
       "      <td>184</td>\n",
       "      <td>Felony Possession of a Controlled Substance (e...</td>\n",
       "      <td>1</td>\n",
       "    </tr>\n",
       "    <tr>\n",
       "      <th>18332445</th>\n",
       "      <td>VANDALISM</td>\n",
       "      <td>24</td>\n",
       "      <td>2017-09-14 23:09:18</td>\n",
       "      <td>N</td>\n",
       "      <td>NaN</td>\n",
       "      <td>NaN</td>\n",
       "      <td>nan</td>\n",
       "      <td>1335</td>\n",
       "      <td>CA0190013</td>\n",
       "      <td>LAKEWOOD</td>\n",
       "      <td>263</td>\n",
       "      <td>VANDALISM FELONY</td>\n",
       "      <td>1</td>\n",
       "    </tr>\n",
       "  </tbody>\n",
       "</table>\n",
       "</div>"
      ],
      "text/plain": [
       "                        cat_desc  cat_code                date gang  \\\n",
       "id                                                                    \n",
       "18306371                BURGLARY         5 2017-08-21 02:08:00    N   \n",
       "18274453  VEHICLE / BOATING LAWS        23 2017-07-20 17:07:00    N   \n",
       "18245488  VEHICLE / BOATING LAWS        23 2017-06-21 04:06:00    N   \n",
       "18307448               NARCOTICS        16 2017-08-22 17:08:00    N   \n",
       "18332445               VANDALISM        24 2017-09-14 23:09:18    N   \n",
       "\n",
       "                    city state    zip  reporting_district station_id  \\\n",
       "id                                                                     \n",
       "18306371        CERRITOS    CA  90703                2314  CA01900R7   \n",
       "18274453         LYNWOOD    CA    nan                2117  CA01900V3   \n",
       "18245488     PICO RIVERA    CA    nan                1512  CA0190015   \n",
       "18307448  CANYON COUNTRY    CA    nan                 633  CA0190006   \n",
       "18332445             NaN   NaN    nan                1335  CA0190013   \n",
       "\n",
       "                  station_name  stat_code  \\\n",
       "id                                          \n",
       "18306371              CERRITOS         71   \n",
       "18274453               CENTURY        255   \n",
       "18245488           PICO RIVERA        255   \n",
       "18307448  SANTA CLARITA VALLEY        184   \n",
       "18332445              LAKEWOOD        263   \n",
       "\n",
       "                                                  stat_desc  victim_count  \n",
       "id                                                                         \n",
       "18306371   BURGLARY, OTHER STRUCTURE: Night, Entry By Force             1  \n",
       "18274453              VEHICLE AND BOATING LAWS: Misdemeanor             1  \n",
       "18245488              VEHICLE AND BOATING LAWS: Misdemeanor             1  \n",
       "18307448  Felony Possession of a Controlled Substance (e...             1  \n",
       "18332445                                   VANDALISM FELONY             1  "
      ]
     },
     "execution_count": 45,
     "metadata": {},
     "output_type": "execute_result"
    }
   ],
   "source": [
    "df.head()"
   ]
  },
  {
   "cell_type": "markdown",
   "metadata": {},
   "source": [
    "Sorting is done by either **by index** or **by value**."
   ]
  },
  {
   "cell_type": "code",
   "execution_count": 46,
   "metadata": {},
   "outputs": [
    {
     "data": {
      "text/html": [
       "<div>\n",
       "<style>\n",
       "    .dataframe thead tr:only-child th {\n",
       "        text-align: right;\n",
       "    }\n",
       "\n",
       "    .dataframe thead th {\n",
       "        text-align: left;\n",
       "    }\n",
       "\n",
       "    .dataframe tbody tr th {\n",
       "        vertical-align: top;\n",
       "    }\n",
       "</style>\n",
       "<table border=\"1\" class=\"dataframe\">\n",
       "  <thead>\n",
       "    <tr style=\"text-align: right;\">\n",
       "      <th></th>\n",
       "      <th>cat_desc</th>\n",
       "      <th>cat_code</th>\n",
       "      <th>date</th>\n",
       "      <th>gang</th>\n",
       "      <th>city</th>\n",
       "      <th>state</th>\n",
       "      <th>zip</th>\n",
       "      <th>reporting_district</th>\n",
       "      <th>station_id</th>\n",
       "      <th>station_name</th>\n",
       "      <th>stat_code</th>\n",
       "      <th>stat_desc</th>\n",
       "      <th>victim_count</th>\n",
       "    </tr>\n",
       "    <tr>\n",
       "      <th>id</th>\n",
       "      <th></th>\n",
       "      <th></th>\n",
       "      <th></th>\n",
       "      <th></th>\n",
       "      <th></th>\n",
       "      <th></th>\n",
       "      <th></th>\n",
       "      <th></th>\n",
       "      <th></th>\n",
       "      <th></th>\n",
       "      <th></th>\n",
       "      <th></th>\n",
       "      <th></th>\n",
       "    </tr>\n",
       "  </thead>\n",
       "  <tbody>\n",
       "    <tr>\n",
       "      <th>17934869</th>\n",
       "      <td>LARCENY THEFT</td>\n",
       "      <td>6</td>\n",
       "      <td>2016-10-14 11:10:00</td>\n",
       "      <td>N</td>\n",
       "      <td>INDUSTRY</td>\n",
       "      <td>CA</td>\n",
       "      <td>nan</td>\n",
       "      <td>1415</td>\n",
       "      <td>CA0190014</td>\n",
       "      <td>INDUSTRY</td>\n",
       "      <td>383</td>\n",
       "      <td>THEFT, PETTY: Shoplifting (From Dept Store, Mk...</td>\n",
       "      <td>1</td>\n",
       "    </tr>\n",
       "    <tr>\n",
       "      <th>17941914</th>\n",
       "      <td>WEAPON LAWS</td>\n",
       "      <td>14</td>\n",
       "      <td>2016-10-21 12:10:00</td>\n",
       "      <td>N</td>\n",
       "      <td>NaN</td>\n",
       "      <td>NaN</td>\n",
       "      <td>nan</td>\n",
       "      <td>1747</td>\n",
       "      <td>CA0190017</td>\n",
       "      <td>LOMITA</td>\n",
       "      <td>151</td>\n",
       "      <td>WEAPON LAWS: Felony</td>\n",
       "      <td>1</td>\n",
       "    </tr>\n",
       "    <tr>\n",
       "      <th>17943051</th>\n",
       "      <td>NON-AGGRAVATED ASSAULTS</td>\n",
       "      <td>13</td>\n",
       "      <td>2016-10-22 19:10:00</td>\n",
       "      <td>N</td>\n",
       "      <td>CANYON COUNTRY</td>\n",
       "      <td>CA</td>\n",
       "      <td>nan</td>\n",
       "      <td>610</td>\n",
       "      <td>CA0190006</td>\n",
       "      <td>SANTA CLARITA VALLEY</td>\n",
       "      <td>146</td>\n",
       "      <td>ASSAULT, NON-AGGRAVATED: DOMESTIC VIOLENCE</td>\n",
       "      <td>1</td>\n",
       "    </tr>\n",
       "    <tr>\n",
       "      <th>17943941</th>\n",
       "      <td>DRUNK DRIVING VEHICLE / BOAT</td>\n",
       "      <td>22</td>\n",
       "      <td>2016-10-24 04:10:46</td>\n",
       "      <td>N</td>\n",
       "      <td>NaN</td>\n",
       "      <td>NaN</td>\n",
       "      <td>nan</td>\n",
       "      <td>2612</td>\n",
       "      <td>CA01900W9</td>\n",
       "      <td>PALMDALE</td>\n",
       "      <td>242</td>\n",
       "      <td>DRUNK DRIVING - VEHICLE/BOAT: Alc/Drugs</td>\n",
       "      <td>1</td>\n",
       "    </tr>\n",
       "    <tr>\n",
       "      <th>18059054</th>\n",
       "      <td>NON-AGGRAVATED ASSAULTS</td>\n",
       "      <td>13</td>\n",
       "      <td>2017-02-15 17:02:00</td>\n",
       "      <td>N</td>\n",
       "      <td>LOS ANGELES</td>\n",
       "      <td>CA</td>\n",
       "      <td>90044</td>\n",
       "      <td>372</td>\n",
       "      <td>CA0190003</td>\n",
       "      <td>SOUTH LOS ANGELES</td>\n",
       "      <td>149</td>\n",
       "      <td>ASSAULT, NON-AGG: Child Assault</td>\n",
       "      <td>1</td>\n",
       "    </tr>\n",
       "  </tbody>\n",
       "</table>\n",
       "</div>"
      ],
      "text/plain": [
       "                              cat_desc  cat_code                date gang  \\\n",
       "id                                                                          \n",
       "17934869                 LARCENY THEFT         6 2016-10-14 11:10:00    N   \n",
       "17941914                   WEAPON LAWS        14 2016-10-21 12:10:00    N   \n",
       "17943051       NON-AGGRAVATED ASSAULTS        13 2016-10-22 19:10:00    N   \n",
       "17943941  DRUNK DRIVING VEHICLE / BOAT        22 2016-10-24 04:10:46    N   \n",
       "18059054       NON-AGGRAVATED ASSAULTS        13 2017-02-15 17:02:00    N   \n",
       "\n",
       "                    city state    zip  reporting_district station_id  \\\n",
       "id                                                                     \n",
       "17934869        INDUSTRY    CA    nan                1415  CA0190014   \n",
       "17941914             NaN   NaN    nan                1747  CA0190017   \n",
       "17943051  CANYON COUNTRY    CA    nan                 610  CA0190006   \n",
       "17943941             NaN   NaN    nan                2612  CA01900W9   \n",
       "18059054     LOS ANGELES    CA  90044                 372  CA0190003   \n",
       "\n",
       "                  station_name  stat_code  \\\n",
       "id                                          \n",
       "17934869              INDUSTRY        383   \n",
       "17941914                LOMITA        151   \n",
       "17943051  SANTA CLARITA VALLEY        146   \n",
       "17943941              PALMDALE        242   \n",
       "18059054     SOUTH LOS ANGELES        149   \n",
       "\n",
       "                                                  stat_desc  victim_count  \n",
       "id                                                                         \n",
       "17934869  THEFT, PETTY: Shoplifting (From Dept Store, Mk...             1  \n",
       "17941914                                WEAPON LAWS: Felony             1  \n",
       "17943051         ASSAULT, NON-AGGRAVATED: DOMESTIC VIOLENCE             1  \n",
       "17943941            DRUNK DRIVING - VEHICLE/BOAT: Alc/Drugs             1  \n",
       "18059054                    ASSAULT, NON-AGG: Child Assault             1  "
      ]
     },
     "execution_count": 46,
     "metadata": {},
     "output_type": "execute_result"
    }
   ],
   "source": [
    "df.sort_index().head()"
   ]
  },
  {
   "cell_type": "code",
   "execution_count": 47,
   "metadata": {},
   "outputs": [
    {
     "data": {
      "text/html": [
       "<div>\n",
       "<style>\n",
       "    .dataframe thead tr:only-child th {\n",
       "        text-align: right;\n",
       "    }\n",
       "\n",
       "    .dataframe thead th {\n",
       "        text-align: left;\n",
       "    }\n",
       "\n",
       "    .dataframe tbody tr th {\n",
       "        vertical-align: top;\n",
       "    }\n",
       "</style>\n",
       "<table border=\"1\" class=\"dataframe\">\n",
       "  <thead>\n",
       "    <tr style=\"text-align: right;\">\n",
       "      <th></th>\n",
       "      <th>cat_desc</th>\n",
       "      <th>cat_code</th>\n",
       "      <th>date</th>\n",
       "      <th>gang</th>\n",
       "      <th>city</th>\n",
       "      <th>state</th>\n",
       "      <th>zip</th>\n",
       "      <th>reporting_district</th>\n",
       "      <th>station_id</th>\n",
       "      <th>station_name</th>\n",
       "      <th>stat_code</th>\n",
       "      <th>stat_desc</th>\n",
       "      <th>victim_count</th>\n",
       "    </tr>\n",
       "    <tr>\n",
       "      <th>id</th>\n",
       "      <th></th>\n",
       "      <th></th>\n",
       "      <th></th>\n",
       "      <th></th>\n",
       "      <th></th>\n",
       "      <th></th>\n",
       "      <th></th>\n",
       "      <th></th>\n",
       "      <th></th>\n",
       "      <th></th>\n",
       "      <th></th>\n",
       "      <th></th>\n",
       "      <th></th>\n",
       "    </tr>\n",
       "  </thead>\n",
       "  <tbody>\n",
       "    <tr>\n",
       "      <th>18304157</th>\n",
       "      <td>CRIMINAL HOMICIDE</td>\n",
       "      <td>1</td>\n",
       "      <td>2017-08-19 00:08:00</td>\n",
       "      <td>Y</td>\n",
       "      <td>LOS ANGELES</td>\n",
       "      <td>CA</td>\n",
       "      <td>90001</td>\n",
       "      <td>2172</td>\n",
       "      <td>CA01900V3</td>\n",
       "      <td>CENTURY</td>\n",
       "      <td>11</td>\n",
       "      <td>CRIMINAL HOMICIDE: Murder</td>\n",
       "      <td>1</td>\n",
       "    </tr>\n",
       "    <tr>\n",
       "      <th>18302580</th>\n",
       "      <td>CRIMINAL HOMICIDE</td>\n",
       "      <td>1</td>\n",
       "      <td>2017-08-17 14:08:00</td>\n",
       "      <td>Y</td>\n",
       "      <td>LOS ANGELES</td>\n",
       "      <td>CA</td>\n",
       "      <td>90001</td>\n",
       "      <td>2175</td>\n",
       "      <td>CA01900V3</td>\n",
       "      <td>CENTURY</td>\n",
       "      <td>11</td>\n",
       "      <td>CRIMINAL HOMICIDE: Murder</td>\n",
       "      <td>1</td>\n",
       "    </tr>\n",
       "    <tr>\n",
       "      <th>18294920</th>\n",
       "      <td>CRIMINAL HOMICIDE</td>\n",
       "      <td>1</td>\n",
       "      <td>2017-08-09 21:08:00</td>\n",
       "      <td>Y</td>\n",
       "      <td>COMPTON</td>\n",
       "      <td>CA</td>\n",
       "      <td>nan</td>\n",
       "      <td>2830</td>\n",
       "      <td>CA0190042</td>\n",
       "      <td>COMPTON</td>\n",
       "      <td>11</td>\n",
       "      <td>CRIMINAL HOMICIDE: Murder</td>\n",
       "      <td>1</td>\n",
       "    </tr>\n",
       "    <tr>\n",
       "      <th>18287795</th>\n",
       "      <td>CRIMINAL HOMICIDE</td>\n",
       "      <td>1</td>\n",
       "      <td>2017-08-03 00:08:00</td>\n",
       "      <td>N</td>\n",
       "      <td>LANCASTER</td>\n",
       "      <td>CA</td>\n",
       "      <td>93535</td>\n",
       "      <td>1132</td>\n",
       "      <td>CA0190024</td>\n",
       "      <td>LANCASTER</td>\n",
       "      <td>11</td>\n",
       "      <td>CRIMINAL HOMICIDE: Murder</td>\n",
       "      <td>1</td>\n",
       "    </tr>\n",
       "    <tr>\n",
       "      <th>18282808</th>\n",
       "      <td>CRIMINAL HOMICIDE</td>\n",
       "      <td>1</td>\n",
       "      <td>2017-07-28 20:07:00</td>\n",
       "      <td>N</td>\n",
       "      <td>CERRITOS</td>\n",
       "      <td>CA</td>\n",
       "      <td>nan</td>\n",
       "      <td>2310</td>\n",
       "      <td>CA01900R7</td>\n",
       "      <td>CERRITOS</td>\n",
       "      <td>11</td>\n",
       "      <td>CRIMINAL HOMICIDE: Murder</td>\n",
       "      <td>1</td>\n",
       "    </tr>\n",
       "  </tbody>\n",
       "</table>\n",
       "</div>"
      ],
      "text/plain": [
       "                   cat_desc  cat_code                date gang         city  \\\n",
       "id                                                                            \n",
       "18304157  CRIMINAL HOMICIDE         1 2017-08-19 00:08:00    Y  LOS ANGELES   \n",
       "18302580  CRIMINAL HOMICIDE         1 2017-08-17 14:08:00    Y  LOS ANGELES   \n",
       "18294920  CRIMINAL HOMICIDE         1 2017-08-09 21:08:00    Y      COMPTON   \n",
       "18287795  CRIMINAL HOMICIDE         1 2017-08-03 00:08:00    N    LANCASTER   \n",
       "18282808  CRIMINAL HOMICIDE         1 2017-07-28 20:07:00    N     CERRITOS   \n",
       "\n",
       "         state    zip  reporting_district station_id station_name  stat_code  \\\n",
       "id                                                                             \n",
       "18304157    CA  90001                2172  CA01900V3      CENTURY         11   \n",
       "18302580    CA  90001                2175  CA01900V3      CENTURY         11   \n",
       "18294920    CA    nan                2830  CA0190042      COMPTON         11   \n",
       "18287795    CA  93535                1132  CA0190024    LANCASTER         11   \n",
       "18282808    CA    nan                2310  CA01900R7     CERRITOS         11   \n",
       "\n",
       "                          stat_desc  victim_count  \n",
       "id                                                 \n",
       "18304157  CRIMINAL HOMICIDE: Murder             1  \n",
       "18302580  CRIMINAL HOMICIDE: Murder             1  \n",
       "18294920  CRIMINAL HOMICIDE: Murder             1  \n",
       "18287795  CRIMINAL HOMICIDE: Murder             1  \n",
       "18282808  CRIMINAL HOMICIDE: Murder             1  "
      ]
     },
     "execution_count": 47,
     "metadata": {},
     "output_type": "execute_result"
    }
   ],
   "source": [
    "df.sort_values(by=['cat_code', 'date'], ascending=[True, False]).head()"
   ]
  },
  {
   "cell_type": "markdown",
   "metadata": {},
   "source": [
    "In the last example, we sorted on ascending `cat_code` and\n",
    "descending `date`.\n",
    "\n",
    "We can create a time series data frame by indexing on the\n",
    "`date` column instead of the `id` column.  This should be\n",
    "done in two steps:\n",
    "\n",
    "1. **reset_index** - Send `id` back to a regular column.\n",
    "2. **set_index** - Set `date` as the new index\n",
    "\n",
    "If we skip the first step, we'll lose the `id` column."
   ]
  },
  {
   "cell_type": "code",
   "execution_count": 48,
   "metadata": {},
   "outputs": [
    {
     "data": {
      "text/plain": [
       "False"
      ]
     },
     "execution_count": 48,
     "metadata": {},
     "output_type": "execute_result"
    }
   ],
   "source": [
    "ts = df.reset_index().set_index('date')\n",
    "ts.index.is_unique"
   ]
  },
  {
   "cell_type": "code",
   "execution_count": 49,
   "metadata": {},
   "outputs": [
    {
     "data": {
      "text/html": [
       "<div>\n",
       "<style>\n",
       "    .dataframe thead tr:only-child th {\n",
       "        text-align: right;\n",
       "    }\n",
       "\n",
       "    .dataframe thead th {\n",
       "        text-align: left;\n",
       "    }\n",
       "\n",
       "    .dataframe tbody tr th {\n",
       "        vertical-align: top;\n",
       "    }\n",
       "</style>\n",
       "<table border=\"1\" class=\"dataframe\">\n",
       "  <thead>\n",
       "    <tr style=\"text-align: right;\">\n",
       "      <th></th>\n",
       "      <th>id</th>\n",
       "      <th>cat_desc</th>\n",
       "      <th>cat_code</th>\n",
       "      <th>gang</th>\n",
       "      <th>city</th>\n",
       "      <th>state</th>\n",
       "      <th>zip</th>\n",
       "      <th>reporting_district</th>\n",
       "      <th>station_id</th>\n",
       "      <th>station_name</th>\n",
       "      <th>stat_code</th>\n",
       "      <th>stat_desc</th>\n",
       "      <th>victim_count</th>\n",
       "    </tr>\n",
       "    <tr>\n",
       "      <th>date</th>\n",
       "      <th></th>\n",
       "      <th></th>\n",
       "      <th></th>\n",
       "      <th></th>\n",
       "      <th></th>\n",
       "      <th></th>\n",
       "      <th></th>\n",
       "      <th></th>\n",
       "      <th></th>\n",
       "      <th></th>\n",
       "      <th></th>\n",
       "      <th></th>\n",
       "      <th></th>\n",
       "    </tr>\n",
       "  </thead>\n",
       "  <tbody>\n",
       "    <tr>\n",
       "      <th>2017-08-21 02:08:00</th>\n",
       "      <td>18306371</td>\n",
       "      <td>BURGLARY</td>\n",
       "      <td>5</td>\n",
       "      <td>N</td>\n",
       "      <td>CERRITOS</td>\n",
       "      <td>CA</td>\n",
       "      <td>90703</td>\n",
       "      <td>2314</td>\n",
       "      <td>CA01900R7</td>\n",
       "      <td>CERRITOS</td>\n",
       "      <td>71</td>\n",
       "      <td>BURGLARY, OTHER STRUCTURE: Night, Entry By Force</td>\n",
       "      <td>1</td>\n",
       "    </tr>\n",
       "    <tr>\n",
       "      <th>2017-07-20 17:07:00</th>\n",
       "      <td>18274453</td>\n",
       "      <td>VEHICLE / BOATING LAWS</td>\n",
       "      <td>23</td>\n",
       "      <td>N</td>\n",
       "      <td>LYNWOOD</td>\n",
       "      <td>CA</td>\n",
       "      <td>nan</td>\n",
       "      <td>2117</td>\n",
       "      <td>CA01900V3</td>\n",
       "      <td>CENTURY</td>\n",
       "      <td>255</td>\n",
       "      <td>VEHICLE AND BOATING LAWS: Misdemeanor</td>\n",
       "      <td>1</td>\n",
       "    </tr>\n",
       "    <tr>\n",
       "      <th>2017-06-21 04:06:00</th>\n",
       "      <td>18245488</td>\n",
       "      <td>VEHICLE / BOATING LAWS</td>\n",
       "      <td>23</td>\n",
       "      <td>N</td>\n",
       "      <td>PICO RIVERA</td>\n",
       "      <td>CA</td>\n",
       "      <td>nan</td>\n",
       "      <td>1512</td>\n",
       "      <td>CA0190015</td>\n",
       "      <td>PICO RIVERA</td>\n",
       "      <td>255</td>\n",
       "      <td>VEHICLE AND BOATING LAWS: Misdemeanor</td>\n",
       "      <td>1</td>\n",
       "    </tr>\n",
       "  </tbody>\n",
       "</table>\n",
       "</div>"
      ],
      "text/plain": [
       "                           id                cat_desc  cat_code gang  \\\n",
       "date                                                                   \n",
       "2017-08-21 02:08:00  18306371                BURGLARY         5    N   \n",
       "2017-07-20 17:07:00  18274453  VEHICLE / BOATING LAWS        23    N   \n",
       "2017-06-21 04:06:00  18245488  VEHICLE / BOATING LAWS        23    N   \n",
       "\n",
       "                            city state    zip  reporting_district station_id  \\\n",
       "date                                                                           \n",
       "2017-08-21 02:08:00     CERRITOS    CA  90703                2314  CA01900R7   \n",
       "2017-07-20 17:07:00      LYNWOOD    CA    nan                2117  CA01900V3   \n",
       "2017-06-21 04:06:00  PICO RIVERA    CA    nan                1512  CA0190015   \n",
       "\n",
       "                    station_name  stat_code  \\\n",
       "date                                          \n",
       "2017-08-21 02:08:00     CERRITOS         71   \n",
       "2017-07-20 17:07:00      CENTURY        255   \n",
       "2017-06-21 04:06:00  PICO RIVERA        255   \n",
       "\n",
       "                                                            stat_desc  \\\n",
       "date                                                                    \n",
       "2017-08-21 02:08:00  BURGLARY, OTHER STRUCTURE: Night, Entry By Force   \n",
       "2017-07-20 17:07:00             VEHICLE AND BOATING LAWS: Misdemeanor   \n",
       "2017-06-21 04:06:00             VEHICLE AND BOATING LAWS: Misdemeanor   \n",
       "\n",
       "                     victim_count  \n",
       "date                               \n",
       "2017-08-21 02:08:00             1  \n",
       "2017-07-20 17:07:00             1  \n",
       "2017-06-21 04:06:00             1  "
      ]
     },
     "execution_count": 49,
     "metadata": {},
     "output_type": "execute_result"
    }
   ],
   "source": [
    "ts.head(3)"
   ]
  },
  {
   "cell_type": "markdown",
   "metadata": {},
   "source": [
    "Now that we have a time series, we can investigate this dataset\n",
    "from the perspective of time.  Let's check the earliest and latest\n",
    "times in this dataset."
   ]
  },
  {
   "cell_type": "code",
   "execution_count": 50,
   "metadata": {},
   "outputs": [
    {
     "data": {
      "text/plain": [
       "(Timestamp('2016-10-02 00:10:00'), Timestamp('2017-09-15 04:09:43'))"
      ]
     },
     "execution_count": 50,
     "metadata": {},
     "output_type": "execute_result"
    }
   ],
   "source": [
    "(ts.index.min(), ts.index.max())"
   ]
  },
  {
   "cell_type": "markdown",
   "metadata": {},
   "source": [
    "We can subset a time series index by choosing broader portions\n",
    "of time."
   ]
  },
  {
   "cell_type": "code",
   "execution_count": 51,
   "metadata": {},
   "outputs": [
    {
     "data": {
      "text/html": [
       "<div>\n",
       "<style>\n",
       "    .dataframe thead tr:only-child th {\n",
       "        text-align: right;\n",
       "    }\n",
       "\n",
       "    .dataframe thead th {\n",
       "        text-align: left;\n",
       "    }\n",
       "\n",
       "    .dataframe tbody tr th {\n",
       "        vertical-align: top;\n",
       "    }\n",
       "</style>\n",
       "<table border=\"1\" class=\"dataframe\">\n",
       "  <thead>\n",
       "    <tr style=\"text-align: right;\">\n",
       "      <th></th>\n",
       "      <th>id</th>\n",
       "      <th>cat_desc</th>\n",
       "      <th>cat_code</th>\n",
       "      <th>gang</th>\n",
       "      <th>city</th>\n",
       "      <th>state</th>\n",
       "      <th>zip</th>\n",
       "      <th>reporting_district</th>\n",
       "      <th>station_id</th>\n",
       "      <th>station_name</th>\n",
       "      <th>stat_code</th>\n",
       "      <th>stat_desc</th>\n",
       "      <th>victim_count</th>\n",
       "    </tr>\n",
       "    <tr>\n",
       "      <th>date</th>\n",
       "      <th></th>\n",
       "      <th></th>\n",
       "      <th></th>\n",
       "      <th></th>\n",
       "      <th></th>\n",
       "      <th></th>\n",
       "      <th></th>\n",
       "      <th></th>\n",
       "      <th></th>\n",
       "      <th></th>\n",
       "      <th></th>\n",
       "      <th></th>\n",
       "      <th></th>\n",
       "    </tr>\n",
       "  </thead>\n",
       "  <tbody>\n",
       "    <tr>\n",
       "      <th>2017-02-02 17:02:00</th>\n",
       "      <td>18286145</td>\n",
       "      <td>FELONIES MISCELLANEOUS</td>\n",
       "      <td>29</td>\n",
       "      <td>N</td>\n",
       "      <td>NORWALK</td>\n",
       "      <td>CA</td>\n",
       "      <td>90650</td>\n",
       "      <td>451</td>\n",
       "      <td>CA0190004</td>\n",
       "      <td>NORWALK</td>\n",
       "      <td>325</td>\n",
       "      <td>FELONIES, MISCELLANEOUS: Perjury</td>\n",
       "      <td>1</td>\n",
       "    </tr>\n",
       "    <tr>\n",
       "      <th>2017-02-09 18:02:00</th>\n",
       "      <td>18288870</td>\n",
       "      <td>FELONIES MISCELLANEOUS</td>\n",
       "      <td>29</td>\n",
       "      <td>N</td>\n",
       "      <td>NORWALK</td>\n",
       "      <td>CA</td>\n",
       "      <td>90650</td>\n",
       "      <td>451</td>\n",
       "      <td>CA0190004</td>\n",
       "      <td>NORWALK</td>\n",
       "      <td>325</td>\n",
       "      <td>FELONIES, MISCELLANEOUS: Perjury</td>\n",
       "      <td>1</td>\n",
       "    </tr>\n",
       "    <tr>\n",
       "      <th>2017-02-08 18:02:00</th>\n",
       "      <td>18288871</td>\n",
       "      <td>FELONIES MISCELLANEOUS</td>\n",
       "      <td>29</td>\n",
       "      <td>N</td>\n",
       "      <td>NORWALK</td>\n",
       "      <td>CA</td>\n",
       "      <td>90650</td>\n",
       "      <td>451</td>\n",
       "      <td>CA0190004</td>\n",
       "      <td>NORWALK</td>\n",
       "      <td>325</td>\n",
       "      <td>FELONIES, MISCELLANEOUS: Perjury</td>\n",
       "      <td>1</td>\n",
       "    </tr>\n",
       "    <tr>\n",
       "      <th>2017-02-15 17:02:00</th>\n",
       "      <td>18059054</td>\n",
       "      <td>NON-AGGRAVATED ASSAULTS</td>\n",
       "      <td>13</td>\n",
       "      <td>N</td>\n",
       "      <td>LOS ANGELES</td>\n",
       "      <td>CA</td>\n",
       "      <td>90044</td>\n",
       "      <td>372</td>\n",
       "      <td>CA0190003</td>\n",
       "      <td>SOUTH LOS ANGELES</td>\n",
       "      <td>149</td>\n",
       "      <td>ASSAULT, NON-AGG: Child Assault</td>\n",
       "      <td>1</td>\n",
       "    </tr>\n",
       "    <tr>\n",
       "      <th>2017-02-22 18:02:02</th>\n",
       "      <td>18067626</td>\n",
       "      <td>NARCOTICS</td>\n",
       "      <td>16</td>\n",
       "      <td>N</td>\n",
       "      <td>PERRIS</td>\n",
       "      <td>CA</td>\n",
       "      <td>92570</td>\n",
       "      <td>3668</td>\n",
       "      <td>CA0190036</td>\n",
       "      <td>NARCOTICS BUREAU</td>\n",
       "      <td>184</td>\n",
       "      <td>Felony Possession of a Controlled Substance (e...</td>\n",
       "      <td>1</td>\n",
       "    </tr>\n",
       "    <tr>\n",
       "      <th>2017-02-28 01:02:00</th>\n",
       "      <td>18307740</td>\n",
       "      <td>FRAUD AND NSF CHECKS</td>\n",
       "      <td>10</td>\n",
       "      <td>N</td>\n",
       "      <td>LANCASTER</td>\n",
       "      <td>CA</td>\n",
       "      <td>93534</td>\n",
       "      <td>1104</td>\n",
       "      <td>CA0190024</td>\n",
       "      <td>LANCASTER</td>\n",
       "      <td>112</td>\n",
       "      <td>FRAUD: Fraud By False Pretenses</td>\n",
       "      <td>1</td>\n",
       "    </tr>\n",
       "    <tr>\n",
       "      <th>2017-02-18 21:02:00</th>\n",
       "      <td>18213539</td>\n",
       "      <td>FELONIES MISCELLANEOUS</td>\n",
       "      <td>29</td>\n",
       "      <td>Y</td>\n",
       "      <td>LOS ANGELES</td>\n",
       "      <td>CA</td>\n",
       "      <td>90059</td>\n",
       "      <td>2138</td>\n",
       "      <td>CA01900V3</td>\n",
       "      <td>CENTURY</td>\n",
       "      <td>339</td>\n",
       "      <td>FELONIES, MISCELLANEOUS: All Other Felonies</td>\n",
       "      <td>1</td>\n",
       "    </tr>\n",
       "    <tr>\n",
       "      <th>2017-02-02 14:02:00</th>\n",
       "      <td>18288865</td>\n",
       "      <td>FELONIES MISCELLANEOUS</td>\n",
       "      <td>29</td>\n",
       "      <td>N</td>\n",
       "      <td>NORWALK</td>\n",
       "      <td>CA</td>\n",
       "      <td>90650</td>\n",
       "      <td>451</td>\n",
       "      <td>CA0190004</td>\n",
       "      <td>NORWALK</td>\n",
       "      <td>325</td>\n",
       "      <td>FELONIES, MISCELLANEOUS: Perjury</td>\n",
       "      <td>1</td>\n",
       "    </tr>\n",
       "  </tbody>\n",
       "</table>\n",
       "</div>"
      ],
      "text/plain": [
       "                           id                 cat_desc  cat_code gang  \\\n",
       "date                                                                    \n",
       "2017-02-02 17:02:00  18286145   FELONIES MISCELLANEOUS        29    N   \n",
       "2017-02-09 18:02:00  18288870   FELONIES MISCELLANEOUS        29    N   \n",
       "2017-02-08 18:02:00  18288871   FELONIES MISCELLANEOUS        29    N   \n",
       "2017-02-15 17:02:00  18059054  NON-AGGRAVATED ASSAULTS        13    N   \n",
       "2017-02-22 18:02:02  18067626                NARCOTICS        16    N   \n",
       "2017-02-28 01:02:00  18307740     FRAUD AND NSF CHECKS        10    N   \n",
       "2017-02-18 21:02:00  18213539   FELONIES MISCELLANEOUS        29    Y   \n",
       "2017-02-02 14:02:00  18288865   FELONIES MISCELLANEOUS        29    N   \n",
       "\n",
       "                            city state    zip  reporting_district station_id  \\\n",
       "date                                                                           \n",
       "2017-02-02 17:02:00      NORWALK    CA  90650                 451  CA0190004   \n",
       "2017-02-09 18:02:00      NORWALK    CA  90650                 451  CA0190004   \n",
       "2017-02-08 18:02:00      NORWALK    CA  90650                 451  CA0190004   \n",
       "2017-02-15 17:02:00  LOS ANGELES    CA  90044                 372  CA0190003   \n",
       "2017-02-22 18:02:02       PERRIS    CA  92570                3668  CA0190036   \n",
       "2017-02-28 01:02:00    LANCASTER    CA  93534                1104  CA0190024   \n",
       "2017-02-18 21:02:00  LOS ANGELES    CA  90059                2138  CA01900V3   \n",
       "2017-02-02 14:02:00      NORWALK    CA  90650                 451  CA0190004   \n",
       "\n",
       "                          station_name  stat_code  \\\n",
       "date                                                \n",
       "2017-02-02 17:02:00            NORWALK        325   \n",
       "2017-02-09 18:02:00            NORWALK        325   \n",
       "2017-02-08 18:02:00            NORWALK        325   \n",
       "2017-02-15 17:02:00  SOUTH LOS ANGELES        149   \n",
       "2017-02-22 18:02:02   NARCOTICS BUREAU        184   \n",
       "2017-02-28 01:02:00          LANCASTER        112   \n",
       "2017-02-18 21:02:00            CENTURY        339   \n",
       "2017-02-02 14:02:00            NORWALK        325   \n",
       "\n",
       "                                                             stat_desc  \\\n",
       "date                                                                     \n",
       "2017-02-02 17:02:00                   FELONIES, MISCELLANEOUS: Perjury   \n",
       "2017-02-09 18:02:00                   FELONIES, MISCELLANEOUS: Perjury   \n",
       "2017-02-08 18:02:00                   FELONIES, MISCELLANEOUS: Perjury   \n",
       "2017-02-15 17:02:00                    ASSAULT, NON-AGG: Child Assault   \n",
       "2017-02-22 18:02:02  Felony Possession of a Controlled Substance (e...   \n",
       "2017-02-28 01:02:00                    FRAUD: Fraud By False Pretenses   \n",
       "2017-02-18 21:02:00        FELONIES, MISCELLANEOUS: All Other Felonies   \n",
       "2017-02-02 14:02:00                   FELONIES, MISCELLANEOUS: Perjury   \n",
       "\n",
       "                     victim_count  \n",
       "date                               \n",
       "2017-02-02 17:02:00             1  \n",
       "2017-02-09 18:02:00             1  \n",
       "2017-02-08 18:02:00             1  \n",
       "2017-02-15 17:02:00             1  \n",
       "2017-02-22 18:02:02             1  \n",
       "2017-02-28 01:02:00             1  \n",
       "2017-02-18 21:02:00             1  \n",
       "2017-02-02 14:02:00             1  "
      ]
     },
     "execution_count": 51,
     "metadata": {},
     "output_type": "execute_result"
    }
   ],
   "source": [
    "ts['2017-02']"
   ]
  },
  {
   "cell_type": "markdown",
   "metadata": {},
   "source": [
    "Let's remind ourselves that we aren't working with the full\n",
    "dataset.  We just chose the first 1,000 entries that the API\n",
    "has to offer.  So the above set does **not** necessarily\n",
    "represent all reported crimes in Febrary, 2017.  Also, if\n",
    "you're executing this notebook after February, 2018, you\n",
    "shouldn't see any entries.  You'll have to adjust the date.\n",
    "\n",
    "As shown above with `ts.index.is_unique`, this index is\n",
    "**not** unique.  Let's get an idea of how many of our\n",
    "incidents occur at the same time.  First, we'll create a\n",
    "series of `1` using the same index as our time series.\n",
    "Each entry will represent an `occurrence`."
   ]
  },
  {
   "cell_type": "code",
   "execution_count": 52,
   "metadata": {},
   "outputs": [
    {
     "data": {
      "text/plain": [
       "1     442\n",
       "2      77\n",
       "3      31\n",
       "4      21\n",
       "5       6\n",
       "6       6\n",
       "7       5\n",
       "8       3\n",
       "9       5\n",
       "10      2\n",
       "11      1\n",
       "12      1\n",
       "14      1\n",
       "dtype: int64"
      ]
     },
     "execution_count": 52,
     "metadata": {},
     "output_type": "execute_result"
    }
   ],
   "source": [
    "occurrences = pd.Series(1, index=ts.index)\n",
    "dup_times = occurrences.groupby(level=0).sum()\n",
    "dup_times.value_counts().sort_index()"
   ]
  },
  {
   "cell_type": "markdown",
   "metadata": {},
   "source": [
    "The `dup_times` variable holds a grouping of all the\n",
    "duplicate index entries.  The `groupby` operates on\n",
    "columns by default.  But `level=0` parameter specifies\n",
    "the index instead of the columns.  The `sum()` is the\n",
    "aggregation operation for the grouping.\n",
    "\n",
    "Later we'll dig much deeper into how we can manipulate\n",
    "time series."
   ]
  },
  {
   "cell_type": "markdown",
   "metadata": {
    "collapsed": true
   },
   "source": [
    "# HTTP Basics\n",
    "\n",
    "The HTTP protocol runs over TCP and is characterized by being\n",
    "\n",
    "* __text based__ - Headers and contents are text-based.\n",
    "* __stateless__ - No application state is maintained by the connection.\n",
    "  The connection (at the TCP level) is closed after the response is returned.\n",
    "\n",
    "These two characteristics make HTTP simpler to work with than other\n",
    "binary RPC (Remote Procedure Call) protocols.  They also severely limit\n",
    "what can be done with HTTP, which is why there are now routine \"end-arounds\"\n",
    "to both characteristics.  Since we're most interested in invoking REST APIs\n",
    "to retrieve JSON data, we can continue to think in terms of these simple\n",
    "characteristics for this workshop.\n",
    "\n",
    "The following is an example of an HTTP request and response.\n",
    "\n",
    "```\n",
    "1 GET /resources/uvdj-ch3p.json?$limit=3 HTTP/1.1\n",
    "2 Host: data.lacounty.gov\n",
    "3 User-Agent: curl/7.54.0\n",
    "4 Accept: */*\n",
    "5\n",
    "```\n",
    "\n",
    "**Request Notes**\n",
    "\n",
    "* Line 1 has three fields: (1) verb, (2) URL, (3) Protocol version.\n",
    "  The field separator is a space; which means the values of the\n",
    "  fields themselves cannot contain spaces.  In this example, the\n",
    "  verb is **GET**, the URL is `/resources/uvdj-ch3p.json?$limit=3`,\n",
    "  and the requested protocol version is `HTTP/1.1` (which may or\n",
    "  may not be honored).\n",
    "* Lines 2 - 4 are examples of request headers.\n",
    "* Line 5 is blank.  This is actually important.  This request doesn't\n",
    "  contain content.  But the separation between header and content is\n",
    "  denoted by a blank line (two line feeds in a row).\n",
    "\n",
    "The following is a sample response.\n",
    "\n",
    "```\n",
    "1 HTTP/1.1 404 Not Found\n",
    "2 Server: nginx\n",
    "3 Date: Mon, 11 Sep 2017 22:13:05 GMT\n",
    "4 Content-Type: text/html; charset=utf-8\n",
    "5\n",
    "6 <!DOCTYPE html PUBLIC \"-//W3C//DTD XHTML 1.0 Strict//EN\"\n",
    "7       \"http://www.w3.org/TR/xhtml1/DTD/xhtml1-strict.dtd\">\n",
    "8 . . .\n",
    "```\n",
    "\n",
    "**Response Notes**\n",
    "\n",
    "* Line 1 has three fields: (1) the protocol chosen by the server\n",
    "  (which doesn't necessarily honor the protocol requested by the\n",
    "  client), (2) the HTTP status code, (3) the reason code (which\n",
    "  might contain spaces, but that's ok since it's the last field\n",
    "  on the line.\n",
    "* Lines 2 - 4 are response headers.\n",
    "* Line 5 separates the response headers from the respone content.\n",
    "* Lines 6 through the rest of the response is the content.\n",
    "\n",
    "It's a struggle to stay awake reading about protocol headers.\n",
    "But understanding their basics can go a long way to writing\n",
    "robust API clients.  In the example above, the URL is wrong.\n",
    "The **status code** `404` was useful in telling us why our\n",
    "request did not succeed.  The 500 lines of JavaScript and HTML\n",
    "that was returned as content was **not useful**.  This waste\n",
    "of bandwidth could have been prevented if we had notified the\n",
    "server we were only interested in JSON responses.  But because\n",
    "our `Accept` header was ambiguous, the server responded as if\n",
    "our client was a browser.  If we had simply told the server\n",
    "we were only interested in JSON, we could have saved network\n",
    "bandwidth and memory.\n",
    "\n",
    "```\n",
    " 1 GET /resources/uvdj-ch3p.json?$limit=3 HTTP/1.1\n",
    " 2 Host: data.lacounty.gov\n",
    " 3 User-Agent: curl/7.54.0\n",
    " 3 Accept: application/json\n",
    " 4\n",
    " 5 HTTP/1.1 404 Not Found\n",
    " 6 Server: nginx\n",
    " 7 Date: Mon, 11 Sep 2017 22:10:51 GMT\n",
    " 8 Content-Type: application/json; charset=utf-8\n",
    " 9 . . .\n",
    "```\n",
    "\n",
    "This response provides us the same information without\n",
    "several thousand bytes of HTML and JavaScript.  In this\n",
    "case, the content was empty (I snipped the other response\n",
    "headers)."
   ]
  },
  {
   "cell_type": "markdown",
   "metadata": {
    "collapsed": true
   },
   "source": [
    "## The Requests Package\n",
    "\n",
    "The Python **Requests** package is documented at\n",
    "\n",
    "<http://docs.python-requests.org/en/master/>.\n",
    "\n",
    "Its slogan is *HTTP for humans*.  It is a usability layer on top\n",
    "of the [url.request](https://docs.python.org/3.5/library/urllib.request.html).\n",
    "While `url.request` is part of all standard Python distributions,\n",
    "`requests` is not.  It must be separately installed.  With **conda**\n",
    "this amounts to\n",
    "\n",
    "```\n",
    "conda install requests\n",
    "```\n",
    "\n",
    "Generally we try to stick to standard Python packages in this\n",
    "workshop (standard for Data Science, anyway).  But this package\n",
    "is actually suggested for use by the official Python\n",
    "`url.request` documentation for the simpler HTTP needs.\n",
    "\n",
    "Let's start with issuing the last HTTP request above\n",
    "(intentionally misspelling the URL) so that we receive a\n",
    "`404` status code."
   ]
  },
  {
   "cell_type": "code",
   "execution_count": 53,
   "metadata": {},
   "outputs": [
    {
     "data": {
      "text/plain": [
       "404"
      ]
     },
     "execution_count": 53,
     "metadata": {},
     "output_type": "execute_result"
    }
   ],
   "source": [
    "import requests\n",
    "r = requests.get('https://data.lacounty.gov/resources/uvdj-ch3p.json?$limit=3')\n",
    "r.status_code"
   ]
  },
  {
   "cell_type": "markdown",
   "metadata": {},
   "source": [
    "In the snippet above, `r` is the response object.\n",
    "`r.status_code` returns the status of the invocation.\n",
    "`r.text` returns the text of the response.  We did not\n",
    "set the `Accept` header; so we probably got a bunch of\n",
    "JavaScript and HTML detailing our `404`."
   ]
  },
  {
   "cell_type": "code",
   "execution_count": 54,
   "metadata": {},
   "outputs": [
    {
     "data": {
      "text/plain": [
       "'The length of the response was 109,963 utf-8 characters.'"
      ]
     },
     "execution_count": 54,
     "metadata": {},
     "output_type": "execute_result"
    }
   ],
   "source": [
    "\"The length of the response was {:,d} {} characters.\".format(len(r.text), r.encoding)"
   ]
  },
  {
   "cell_type": "code",
   "execution_count": 55,
   "metadata": {},
   "outputs": [
    {
     "data": {
      "text/plain": [
       "'<!DOCTYPE html PUBLIC \"-//W3C//DTD XHTML 1.0 Strict//EN\"\\n        \"http://www.w3.org/TR/xhtml1/DTD/xhtml1-strict.dtd\">\\n\\n<!--[if IE 8]>\\n  <html xmlns=\"http://www.w3.org/1999/xhtml\" xml:lang=\"en\" lang=\"en\"\\n        xmlns:v=\"urn:schemas-microsoft-com:vml\"\\n        xmlns:og=\"http://opengraphprotocol.org/sc'"
      ]
     },
     "execution_count": 55,
     "metadata": {},
     "output_type": "execute_result"
    }
   ],
   "source": [
    "r.text[:300]"
   ]
  },
  {
   "cell_type": "markdown",
   "metadata": {},
   "source": [
    "What a mess!  Let's send the `Accept` header this time."
   ]
  },
  {
   "cell_type": "code",
   "execution_count": 56,
   "metadata": {},
   "outputs": [
    {
     "data": {
      "text/plain": [
       "404"
      ]
     },
     "execution_count": 56,
     "metadata": {},
     "output_type": "execute_result"
    }
   ],
   "source": [
    "r = requests.get('https://data.lacounty.gov/resources/uvdj-ch3p.json?$limit=3',\n",
    "                headers={'Accept': 'application/json'})\n",
    "r.status_code"
   ]
  },
  {
   "cell_type": "code",
   "execution_count": 57,
   "metadata": {},
   "outputs": [
    {
     "data": {
      "text/plain": [
       "'The length of this response content was 0 utf-8 characters.'"
      ]
     },
     "execution_count": 57,
     "metadata": {},
     "output_type": "execute_result"
    }
   ],
   "source": [
    "\"The length of this response content was {:,d} {} characters.\".format(len(r.text), r.encoding)"
   ]
  },
  {
   "cell_type": "markdown",
   "metadata": {},
   "source": [
    "That's much better.  The `404` was all we needed to know to address\n",
    "this problem.  Now let's fix the URL and get something we can use."
   ]
  },
  {
   "cell_type": "code",
   "execution_count": 58,
   "metadata": {},
   "outputs": [
    {
     "data": {
      "text/plain": [
       "200"
      ]
     },
     "execution_count": 58,
     "metadata": {},
     "output_type": "execute_result"
    }
   ],
   "source": [
    "r = requests.get('https://data.lacounty.gov/resource/uvdj-ch3p.json?$limit=3',\n",
    "                headers={'Accept': 'application/json'})\n",
    "r.status_code"
   ]
  },
  {
   "cell_type": "code",
   "execution_count": 59,
   "metadata": {},
   "outputs": [
    {
     "data": {
      "text/plain": [
       "'[{\"city\":\"CERRITOS\",\"crime_category_description\":\"BURGLARY\",\"crime_category_number\":\"5\",\"crime_date\":\"2017-08-21T02:08:00.000\",\"crime_identifier\":\"18306371\",\"crime_year\":\"2017\",\"gang_related\":\"N\",\"geo'"
      ]
     },
     "execution_count": 59,
     "metadata": {},
     "output_type": "execute_result"
    }
   ],
   "source": [
    "r.text[:200]"
   ]
  },
  {
   "cell_type": "markdown",
   "metadata": {},
   "source": [
    "As we can see, this is precisely the JSON we asked for.\n",
    "A more robust way to check this is with the content type\n",
    "header."
   ]
  },
  {
   "cell_type": "code",
   "execution_count": 60,
   "metadata": {},
   "outputs": [
    {
     "data": {
      "text/plain": [
       "('application/json; charset=UTF-8', 'application/json; charset=UTF-8')"
      ]
     },
     "execution_count": 60,
     "metadata": {},
     "output_type": "execute_result"
    }
   ],
   "source": [
    "r.headers['content-type'], r.headers['Content-Type']"
   ]
  },
  {
   "cell_type": "markdown",
   "metadata": {},
   "source": [
    "Note the header names are case-insensitive in this special case.\n",
    "Python dictionaries are generally case sensitive.  But the **requests**\n",
    "package makes special allowances for response header names.\n",
    "Let's check all the response headers."
   ]
  },
  {
   "cell_type": "code",
   "execution_count": 61,
   "metadata": {},
   "outputs": [
    {
     "name": "stdout",
     "output_type": "stream",
     "text": [
      "Server                         nginx\n",
      "Date                           Mon, 25 Sep 2017 15:55:00 GMT\n",
      "Content-Type                   application/json; charset=UTF-8\n",
      "Transfer-Encoding              chunked\n",
      "Connection                     keep-alive\n",
      "X-Socrata-RequestId            7yp1gq6eda01qt3pwncj097ns\n",
      "Access-Control-Allow-Origin    *\n",
      "ETag                           W/\"YWxwaGEuNTE2MjZfM182ODA0OGlZLWgtaXFySkR1NEVVejJLUlpZRnR3cVm_lF0tHjk9QpfBvBFEi50gGj1ssg-gzip\"\n",
      "X-SODA2-Fields                 [\"city\",\"crime_category_description\",\"crime_category_number\",\"crime_date\",\"crime_identifier\",\"crime_year\",\"gang_related\",\"geo_location\",\"geo_location_address\",\"geo_location_city\",\"geo_location_state\",\"geo_location_zip\",\"latitude\",\"longitude\",\"reporting_district\",\"state\",\"station_identifier\",\"station_name\",\"statistical_code\",\"statistical_code_description\",\"street\",\"victim_count\",\"zip\"]\n",
      "X-SODA2-Types                  [\"text\",\"text\",\"number\",\"floating_timestamp\",\"number\",\"text\",\"text\",\"point\",\"text\",\"text\",\"text\",\"text\",\"number\",\"number\",\"text\",\"text\",\"text\",\"text\",\"number\",\"text\",\"text\",\"number\",\"text\"]\n",
      "X-SODA2-Data-Out-Of-Date       false\n",
      "X-SODA2-Truth-Last-Modified    Mon, 25 Sep 2017 14:08:35 GMT\n",
      "X-SODA2-Secondary-Last-Modified Mon, 25 Sep 2017 14:08:35 GMT\n",
      "Last-Modified                  Mon, 25 Sep 2017 14:08:35 GMT\n",
      "Age                            60\n",
      "X-Socrata-Region               aws-us-east-1-fedramp-prod\n",
      "Content-Encoding               gzip\n"
     ]
    }
   ],
   "source": [
    "for h,v in r.headers.items():\n",
    "    print(\"{:30} {}\".format(h, v))"
   ]
  },
  {
   "cell_type": "markdown",
   "metadata": {},
   "source": [
    "We can see that Socrata (the vendor for the LA County Open Data site)\n",
    "provides some extra goodies in the response headers.\n",
    "\n",
    "Since we now know that we got JSON back, let's parse it."
   ]
  },
  {
   "cell_type": "code",
   "execution_count": 62,
   "metadata": {},
   "outputs": [
    {
     "data": {
      "text/plain": [
       "3"
      ]
     },
     "execution_count": 62,
     "metadata": {},
     "output_type": "execute_result"
    }
   ],
   "source": [
    "crimes = r.json()\n",
    "len(crimes)"
   ]
  },
  {
   "cell_type": "code",
   "execution_count": 63,
   "metadata": {},
   "outputs": [
    {
     "data": {
      "text/plain": [
       "{'city': 'CERRITOS',\n",
       " 'crime_category_description': 'BURGLARY',\n",
       " 'crime_category_number': '5',\n",
       " 'crime_date': '2017-08-21T02:08:00.000',\n",
       " 'crime_identifier': '18306371',\n",
       " 'crime_year': '2017',\n",
       " 'gang_related': 'N',\n",
       " 'geo_location': {'coordinates': [-118.05631128867, 33.847230490799],\n",
       "  'type': 'Point'},\n",
       " 'geo_location_address': '4440 SNOWBIRD CIR',\n",
       " 'geo_location_city': 'CERRITOS',\n",
       " 'geo_location_state': 'CA',\n",
       " 'geo_location_zip': '90703',\n",
       " 'latitude': '33.8472304907994999617',\n",
       " 'longitude': '-118.05631128866967255278',\n",
       " 'reporting_district': '2314',\n",
       " 'state': 'CA',\n",
       " 'station_identifier': 'CA01900R7',\n",
       " 'station_name': 'CERRITOS',\n",
       " 'statistical_code': '71',\n",
       " 'statistical_code_description': 'BURGLARY, OTHER STRUCTURE: Night, Entry By Force',\n",
       " 'street': '4440 SNOWBIRD CIR',\n",
       " 'victim_count': '1',\n",
       " 'zip': '90703'}"
      ]
     },
     "execution_count": 63,
     "metadata": {},
     "output_type": "execute_result"
    }
   ],
   "source": [
    "crimes[0]"
   ]
  },
  {
   "cell_type": "markdown",
   "metadata": {},
   "source": [
    "If we wanted to start using pandas at this point,\n",
    "we could have pandas parse the json."
   ]
  },
  {
   "cell_type": "code",
   "execution_count": 64,
   "metadata": {},
   "outputs": [
    {
     "data": {
      "text/plain": [
       "(3, 23)"
      ]
     },
     "execution_count": 64,
     "metadata": {},
     "output_type": "execute_result"
    }
   ],
   "source": [
    "df = pd.read_json(r.text)\n",
    "df.shape"
   ]
  },
  {
   "cell_type": "markdown",
   "metadata": {},
   "source": [
    "Or we could let the response object parse it and feed pandas\n",
    "the dictionary."
   ]
  },
  {
   "cell_type": "code",
   "execution_count": 65,
   "metadata": {},
   "outputs": [
    {
     "data": {
      "text/plain": [
       "(3, 23)"
      ]
     },
     "execution_count": 65,
     "metadata": {},
     "output_type": "execute_result"
    }
   ],
   "source": [
    "df = pd.DataFrame(r.json())\n",
    "df.shape"
   ]
  },
  {
   "cell_type": "markdown",
   "metadata": {},
   "source": [
    "Of course, as we saw above, pandas is perfectly capable of\n",
    "fetching the dataset itself.  The Request package is good\n",
    "if you need the data for something else besides pandas."
   ]
  },
  {
   "cell_type": "markdown",
   "metadata": {},
   "source": []
  }
 ],
 "metadata": {
  "kernelspec": {
   "display_name": "Python 3",
   "language": "python",
   "name": "python3"
  },
  "language_info": {
   "codemirror_mode": {
    "name": "ipython",
    "version": 3
   },
   "file_extension": ".py",
   "mimetype": "text/x-python",
   "name": "python",
   "nbconvert_exporter": "python",
   "pygments_lexer": "ipython3",
   "version": "3.5.4"
  }
 },
 "nbformat": 4,
 "nbformat_minor": 1
}
