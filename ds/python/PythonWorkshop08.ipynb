{
 "cells": [
  {
   "cell_type": "markdown",
   "metadata": {},
   "source": [
    "# Python Workshop 8\n",
    "\n",
    "November 1, 2017\n",
    "\n",
    "## Time Series\n",
    "\n",
    "In the last workshop we reviewed how to create a time series\n",
    "by using timestamps for the index.  We used the\n",
    "`pd.date_range` function like in the example below."
   ]
  },
  {
   "cell_type": "code",
   "execution_count": 1,
   "metadata": {},
   "outputs": [
    {
     "data": {
      "text/plain": [
       "2017-12-12     90\n",
       "2017-12-13    100\n",
       "2017-12-14    116\n",
       "2017-12-15     94\n",
       "2017-12-16     85\n",
       "Freq: D, dtype: int64"
      ]
     },
     "execution_count": 1,
     "metadata": {},
     "output_type": "execute_result"
    }
   ],
   "source": [
    "import numpy as np\n",
    "import pandas as pd\n",
    "ts = pd.Series(np.random.poisson(100, 20),\n",
    "               index = pd.date_range(end='2017-12-31', periods=20))\n",
    "ts.head()"
   ]
  },
  {
   "cell_type": "markdown",
   "metadata": {},
   "source": [
    "The above time series simulates a Poisson process that averages\n",
    "`100` counts per day over `20` days ending on December 31, 2017.\n",
    "We can see that the time series frequency defaults to **days**.\n",
    "This is further confirmed in the output above, `Freq: D`.  The\n",
    "`D` means **days**.\n",
    "\n",
    "### Frequencies\n",
    "\n",
    "We can override the default to specify other indices.  `freq='B'`\n",
    "means *business days*."
   ]
  },
  {
   "cell_type": "code",
   "execution_count": 2,
   "metadata": {},
   "outputs": [
    {
     "data": {
      "text/plain": [
       "DatetimeIndex(['2017-12-04', '2017-12-05', '2017-12-06', '2017-12-07',\n",
       "               '2017-12-08', '2017-12-11', '2017-12-12', '2017-12-13',\n",
       "               '2017-12-14', '2017-12-15', '2017-12-18', '2017-12-19',\n",
       "               '2017-12-20', '2017-12-21', '2017-12-22', '2017-12-25',\n",
       "               '2017-12-26', '2017-12-27', '2017-12-28', '2017-12-29'],\n",
       "              dtype='datetime64[ns]', freq='B')"
      ]
     },
     "execution_count": 2,
     "metadata": {},
     "output_type": "execute_result"
    }
   ],
   "source": [
    "pd.date_range(end='2017-12-31', periods=20, freq='B')"
   ]
  },
  {
   "cell_type": "markdown",
   "metadata": {},
   "source": [
    "Even though we specified an end date of `2017-12-31`, since that is a\n",
    "Sunday and we specified *business days*, the actual end date is\n",
    "`2017-12-29`.\n",
    "\n",
    "End of month is specified with `freq='M'`."
   ]
  },
  {
   "cell_type": "code",
   "execution_count": 3,
   "metadata": {},
   "outputs": [
    {
     "data": {
      "text/plain": [
       "DatetimeIndex(['2016-05-31', '2016-06-30', '2016-07-31', '2016-08-31',\n",
       "               '2016-09-30', '2016-10-31', '2016-11-30', '2016-12-31',\n",
       "               '2017-01-31', '2017-02-28', '2017-03-31', '2017-04-30',\n",
       "               '2017-05-31', '2017-06-30', '2017-07-31', '2017-08-31',\n",
       "               '2017-09-30', '2017-10-31', '2017-11-30', '2017-12-31'],\n",
       "              dtype='datetime64[ns]', freq='M')"
      ]
     },
     "execution_count": 3,
     "metadata": {},
     "output_type": "execute_result"
    }
   ],
   "source": [
    "pd.date_range(end='2017-12-31', periods=20, freq='M')"
   ]
  },
  {
   "cell_type": "markdown",
   "metadata": {},
   "source": [
    "Business month end (the last business day of each month) is\n",
    "`freq='BM'`."
   ]
  },
  {
   "cell_type": "code",
   "execution_count": 4,
   "metadata": {},
   "outputs": [
    {
     "data": {
      "text/plain": [
       "DatetimeIndex(['2016-05-31', '2016-06-30', '2016-07-29', '2016-08-31',\n",
       "               '2016-09-30', '2016-10-31', '2016-11-30', '2016-12-30',\n",
       "               '2017-01-31', '2017-02-28', '2017-03-31', '2017-04-28',\n",
       "               '2017-05-31', '2017-06-30', '2017-07-31', '2017-08-31',\n",
       "               '2017-09-29', '2017-10-31', '2017-11-30', '2017-12-29'],\n",
       "              dtype='datetime64[ns]', freq='BM')"
      ]
     },
     "execution_count": 4,
     "metadata": {},
     "output_type": "execute_result"
    }
   ],
   "source": [
    "pd.date_range(end='2017-12-31', periods=20, freq='BM')"
   ]
  },
  {
   "cell_type": "markdown",
   "metadata": {},
   "source": [
    "Specific days of the week begin with `W-` followed by the day.\n",
    "The last 20 Wednesdays would be `freq='W-WED'`."
   ]
  },
  {
   "cell_type": "code",
   "execution_count": 5,
   "metadata": {},
   "outputs": [
    {
     "data": {
      "text/plain": [
       "DatetimeIndex(['2017-08-16', '2017-08-23', '2017-08-30', '2017-09-06',\n",
       "               '2017-09-13', '2017-09-20', '2017-09-27', '2017-10-04',\n",
       "               '2017-10-11', '2017-10-18', '2017-10-25', '2017-11-01',\n",
       "               '2017-11-08', '2017-11-15', '2017-11-22', '2017-11-29',\n",
       "               '2017-12-06', '2017-12-13', '2017-12-20', '2017-12-27'],\n",
       "              dtype='datetime64[ns]', freq='W-WED')"
      ]
     },
     "execution_count": 5,
     "metadata": {},
     "output_type": "execute_result"
    }
   ],
   "source": [
    "pd.date_range(end='2017-12-31', periods=20, freq='W-WED')"
   ]
  },
  {
   "cell_type": "markdown",
   "metadata": {},
   "source": [
    "LAJIS meetings occur on the first Thursday of each month.\n",
    "The frequence code for this is **WOM** for Week Of Month.\n",
    "The \"first Thursday\" is `1Thu`."
   ]
  },
  {
   "cell_type": "code",
   "execution_count": 6,
   "metadata": {},
   "outputs": [
    {
     "data": {
      "text/plain": [
       "DatetimeIndex(['2016-05-05', '2016-06-02', '2016-07-07', '2016-08-04',\n",
       "               '2016-09-01', '2016-10-06', '2016-11-03', '2016-12-01',\n",
       "               '2017-01-05', '2017-02-02', '2017-03-02', '2017-04-06',\n",
       "               '2017-05-04', '2017-06-01', '2017-07-06', '2017-08-03',\n",
       "               '2017-09-07', '2017-10-05', '2017-11-02', '2017-12-07'],\n",
       "              dtype='datetime64[ns]', freq='WOM-1THU')"
      ]
     },
     "execution_count": 6,
     "metadata": {},
     "output_type": "execute_result"
    }
   ],
   "source": [
    "pd.date_range(end='2017-12-31', periods=20, freq='WOM-1THU')"
   ]
  },
  {
   "cell_type": "markdown",
   "metadata": {},
   "source": [
    "The available base frequencies can be prefixed by a multiplier.\n",
    "Every other Wednesday is `freq='2W-WED'`."
   ]
  },
  {
   "cell_type": "code",
   "execution_count": 7,
   "metadata": {},
   "outputs": [
    {
     "data": {
      "text/plain": [
       "DatetimeIndex(['2017-08-23', '2017-09-06', '2017-09-20', '2017-10-04',\n",
       "               '2017-10-18', '2017-11-01', '2017-11-15', '2017-11-29',\n",
       "               '2017-12-13', '2017-12-27'],\n",
       "              dtype='datetime64[ns]', freq='2W-WED')"
      ]
     },
     "execution_count": 7,
     "metadata": {},
     "output_type": "execute_result"
    }
   ],
   "source": [
    "pd.date_range(end='2017-12-31', periods=10, freq='2W-WED')"
   ]
  },
  {
   "cell_type": "markdown",
   "metadata": {},
   "source": [
    "### Shifting\n",
    "\n",
    "Time series shifting is performed with the `shift` method.\n",
    "With only one parameter, the `shift` method leaves the index alone.\n",
    "This leaves the entry `NaN` when an entry is shifted away."
   ]
  },
  {
   "cell_type": "code",
   "execution_count": 8,
   "metadata": {},
   "outputs": [
    {
     "data": {
      "text/plain": [
       "2017-10-18    42\n",
       "2017-11-01    59\n",
       "2017-11-15    62\n",
       "2017-11-29    61\n",
       "Freq: 2W-WED, dtype: int64"
      ]
     },
     "execution_count": 8,
     "metadata": {},
     "output_type": "execute_result"
    }
   ],
   "source": [
    "ts = pd.Series(np.random.poisson(60, 4),\n",
    "               pd.date_range('2017-10-18', periods=4, freq='2W-WED'))\n",
    "ts"
   ]
  },
  {
   "cell_type": "code",
   "execution_count": 9,
   "metadata": {},
   "outputs": [
    {
     "data": {
      "text/plain": [
       "2017-10-18     NaN\n",
       "2017-11-01    42.0\n",
       "2017-11-15    59.0\n",
       "2017-11-29    62.0\n",
       "Freq: 2W-WED, dtype: float64"
      ]
     },
     "execution_count": 9,
     "metadata": {},
     "output_type": "execute_result"
    }
   ],
   "source": [
    "ts.shift(1)"
   ]
  },
  {
   "cell_type": "code",
   "execution_count": 10,
   "metadata": {},
   "outputs": [
    {
     "data": {
      "text/plain": [
       "2017-10-18    62.0\n",
       "2017-11-01    61.0\n",
       "2017-11-15     NaN\n",
       "2017-11-29     NaN\n",
       "Freq: 2W-WED, dtype: float64"
      ]
     },
     "execution_count": 10,
     "metadata": {},
     "output_type": "execute_result"
    }
   ],
   "source": [
    "ts.shift(-2)"
   ]
  },
  {
   "cell_type": "code",
   "execution_count": 11,
   "metadata": {},
   "outputs": [
    {
     "data": {
      "text/plain": [
       "2017-10-18    42.0\n",
       "2017-11-01    59.0\n",
       "2017-11-15     NaN\n",
       "2017-11-29     NaN\n",
       "Freq: 2W-WED, dtype: float64"
      ]
     },
     "execution_count": 11,
     "metadata": {},
     "output_type": "execute_result"
    }
   ],
   "source": [
    "ts.shift(2).shift(-2)"
   ]
  },
  {
   "cell_type": "markdown",
   "metadata": {},
   "source": [
    "By including a `freq` parameter, we also change the index."
   ]
  },
  {
   "cell_type": "code",
   "execution_count": 12,
   "metadata": {},
   "outputs": [
    {
     "data": {
      "text/plain": [
       "2017-10-19    42\n",
       "2017-11-02    59\n",
       "2017-11-16    62\n",
       "2017-11-30    61\n",
       "Freq: 2W-THU, dtype: int64"
      ]
     },
     "execution_count": 12,
     "metadata": {},
     "output_type": "execute_result"
    }
   ],
   "source": [
    "ts.shift(1, freq='D')"
   ]
  },
  {
   "cell_type": "markdown",
   "metadata": {},
   "source": [
    "By default, these dates have midnight for the time.\n",
    "But we can shift by times also."
   ]
  },
  {
   "cell_type": "code",
   "execution_count": 13,
   "metadata": {},
   "outputs": [
    {
     "data": {
      "text/plain": [
       "2017-10-18 01:30:00    42\n",
       "2017-11-01 01:30:00    59\n",
       "2017-11-15 01:30:00    62\n",
       "2017-11-29 01:30:00    61\n",
       "Freq: 2W-WED, dtype: int64"
      ]
     },
     "execution_count": 13,
     "metadata": {},
     "output_type": "execute_result"
    }
   ],
   "source": [
    "ts.shift(1, freq='90T')"
   ]
  },
  {
   "cell_type": "markdown",
   "metadata": {},
   "source": [
    "The `T` is a short-cut for `MIN`.\n",
    "\n",
    "We can apply this shifting to individual instances\n",
    "of a date/time.  For this we refer to the offset types\n",
    "in the `pandas.tseries.offsets` package.\n",
    "\n",
    "[Offset Object Names](https://pandas.pydata.org/pandas-docs/stable/timeseries.html#dateoffset-objects) - Pandas API\n",
    "\n"
   ]
  },
  {
   "cell_type": "code",
   "execution_count": 14,
   "metadata": {},
   "outputs": [
    {
     "data": {
      "text/plain": [
       "Timestamp('2017-11-08 09:15:45.871166')"
      ]
     },
     "execution_count": 14,
     "metadata": {},
     "output_type": "execute_result"
    }
   ],
   "source": [
    "from pandas.tseries.offsets import Week, BusinessMonthEnd\n",
    "from datetime import datetime\n",
    "\n",
    "now = datetime.now()\n",
    "Week().rollforward(now)"
   ]
  },
  {
   "cell_type": "code",
   "execution_count": 15,
   "metadata": {},
   "outputs": [
    {
     "data": {
      "text/plain": [
       "(Timestamp('2017-10-31 00:00:00'), Timestamp('2017-11-30 00:00:00'))"
      ]
     },
     "execution_count": 15,
     "metadata": {},
     "output_type": "execute_result"
    }
   ],
   "source": [
    "(BusinessMonthEnd().rollback(now).normalize(), \n",
    " BusinessMonthEnd().rollforward(now).normalize())"
   ]
  },
  {
   "cell_type": "markdown",
   "metadata": {},
   "source": [
    "`BusinessMonthEnd` is a special kind of offset called an **anchored offset**."
   ]
  },
  {
   "cell_type": "markdown",
   "metadata": {},
   "source": [
    "## Iterators, Iterables, and Generators\n",
    "\n",
    "We all have a general idea of what an iterator is.\n",
    "Python has  **iterators** and **iterables**.  Because\n",
    "they sound similar, it's easy to confuse one with the\n",
    "other.  An **iterator** is a Python object on which\n",
    "you can call the `next` function repeatedly to retrieve\n",
    "a sequence of the object's values.  When the values are\n",
    "exhausted, the `next` function throws **StopIteration**.\n",
    "\n",
    "**Iterable** is an adjective.  It applies to Python objects\n",
    "for which the built-in function `iter` returns an interator.\n",
    "Of course, that description simply begs the next question:\n",
    "for which objects does `iter` return an iterator?  The\n",
    "`iter` function\n",
    "\n",
    "1. Checks for the `__iter__` method on the class.\n",
    "\n",
    "2. If the object does not support the `__iter__` method,\n",
    "   check for the `__getitem__` method.\n",
    "\n",
    "3. If none of these methods are implemented, raise `TypeError`.\n",
    "\n",
    "For now, let's get a feel for the difference between\n",
    "iterators and iterables.  A list is **not** an interator."
   ]
  },
  {
   "cell_type": "code",
   "execution_count": 16,
   "metadata": {},
   "outputs": [
    {
     "ename": "TypeError",
     "evalue": "'list' object is not an iterator",
     "output_type": "error",
     "traceback": [
      "\u001b[0;31m---------------------------------------------------------------------------\u001b[0m",
      "\u001b[0;31mTypeError\u001b[0m                                 Traceback (most recent call last)",
      "\u001b[0;32m<ipython-input-16-52a482462763>\u001b[0m in \u001b[0;36m<module>\u001b[0;34m()\u001b[0m\n\u001b[1;32m      1\u001b[0m \u001b[0mx\u001b[0m \u001b[0;34m=\u001b[0m \u001b[0;34m[\u001b[0m\u001b[0;36m1\u001b[0m\u001b[0;34m,\u001b[0m \u001b[0;36m2\u001b[0m\u001b[0;34m,\u001b[0m \u001b[0;36m3\u001b[0m\u001b[0;34m]\u001b[0m\u001b[0;34m\u001b[0m\u001b[0m\n\u001b[0;32m----> 2\u001b[0;31m \u001b[0mnext\u001b[0m\u001b[0;34m(\u001b[0m\u001b[0mx\u001b[0m\u001b[0;34m)\u001b[0m\u001b[0;34m\u001b[0m\u001b[0m\n\u001b[0m",
      "\u001b[0;31mTypeError\u001b[0m: 'list' object is not an iterator"
     ]
    }
   ],
   "source": [
    "x = [1, 2, 3]\n",
    "next(x)"
   ]
  },
  {
   "cell_type": "markdown",
   "metadata": {},
   "source": [
    "However, a list **is** iterable."
   ]
  },
  {
   "cell_type": "code",
   "execution_count": 17,
   "metadata": {},
   "outputs": [
    {
     "data": {
      "text/plain": [
       "1"
      ]
     },
     "execution_count": 17,
     "metadata": {},
     "output_type": "execute_result"
    }
   ],
   "source": [
    "xit = iter(x)\n",
    "next(xit)"
   ]
  },
  {
   "cell_type": "code",
   "execution_count": 18,
   "metadata": {},
   "outputs": [
    {
     "data": {
      "text/plain": [
       "2"
      ]
     },
     "execution_count": 18,
     "metadata": {},
     "output_type": "execute_result"
    }
   ],
   "source": [
    "next(xit)"
   ]
  },
  {
   "cell_type": "code",
   "execution_count": 19,
   "metadata": {},
   "outputs": [
    {
     "data": {
      "text/plain": [
       "3"
      ]
     },
     "execution_count": 19,
     "metadata": {},
     "output_type": "execute_result"
    }
   ],
   "source": [
    "next(xit)"
   ]
  },
  {
   "cell_type": "code",
   "execution_count": 20,
   "metadata": {},
   "outputs": [
    {
     "ename": "StopIteration",
     "evalue": "",
     "output_type": "error",
     "traceback": [
      "\u001b[0;31m---------------------------------------------------------------------------\u001b[0m",
      "\u001b[0;31mStopIteration\u001b[0m                             Traceback (most recent call last)",
      "\u001b[0;32m<ipython-input-20-8d00a4ec575e>\u001b[0m in \u001b[0;36m<module>\u001b[0;34m()\u001b[0m\n\u001b[0;32m----> 1\u001b[0;31m \u001b[0mnext\u001b[0m\u001b[0;34m(\u001b[0m\u001b[0mxit\u001b[0m\u001b[0;34m)\u001b[0m\u001b[0;34m\u001b[0m\u001b[0m\n\u001b[0m",
      "\u001b[0;31mStopIteration\u001b[0m: "
     ]
    }
   ],
   "source": [
    "next(xit)"
   ]
  },
  {
   "cell_type": "markdown",
   "metadata": {},
   "source": [
    "We can see it returned a sequence of elements and then\n",
    "raised `StopIteration` when there was nothing left.\n",
    "\n",
    "We rarely have to call `next` ourselves directly.  Most\n",
    "Python looping structures do this for us automatically\n",
    "behind the scenes.  For example,\n",
    "the interpreter is doing this for us:"
   ]
  },
  {
   "cell_type": "code",
   "execution_count": 21,
   "metadata": {},
   "outputs": [
    {
     "name": "stdout",
     "output_type": "stream",
     "text": [
      "1\n",
      "2\n",
      "3\n"
     ]
    }
   ],
   "source": [
    "xit = iter(x)\n",
    "try:\n",
    "    while True:\n",
    "        y = next(xit)\n",
    "        print(y)\n",
    "except StopIteration:\n",
    "    pass"
   ]
  },
  {
   "cell_type": "markdown",
   "metadata": {},
   "source": [
    "when we code this:"
   ]
  },
  {
   "cell_type": "code",
   "execution_count": 22,
   "metadata": {},
   "outputs": [
    {
     "name": "stdout",
     "output_type": "stream",
     "text": [
      "1\n",
      "2\n",
      "3\n"
     ]
    }
   ],
   "source": [
    "for y in x:\n",
    "    print(y)"
   ]
  },
  {
   "cell_type": "markdown",
   "metadata": {
    "collapsed": true
   },
   "source": [
    "Let's say we want to write our own range function that\n",
    "returns the numbers 1, 2, ..., `n` given `n` (instead\n",
    "of 0, 1, ..., `n-1`).  Enter the following code into\n",
    "a file named `myrange.py`.  This file should be in the\n",
    "same directory from which you launched your IPython session.\n",
    "Keep your editor open; we'll be making changes soon.\n",
    "But make sure you save what is listed below."
   ]
  },
  {
   "cell_type": "code",
   "execution_count": 23,
   "metadata": {
    "collapsed": true
   },
   "outputs": [],
   "source": [
    "def myrg(n):\n",
    "    return [i+1 for i in range(n)]"
   ]
  },
  {
   "cell_type": "markdown",
   "metadata": {},
   "source": [
    "To make the `myrg` function available in your IPython session,\n",
    "execute the following *magic* command.\n",
    "\n",
    "```\n",
    "%run myrange.py\n",
    "```\n",
    "\n",
    "You shouldn't see anything happen because we simply defined a\n",
    "function.  We haven't executed it yet.  Let's do that now."
   ]
  },
  {
   "cell_type": "code",
   "execution_count": 24,
   "metadata": {},
   "outputs": [
    {
     "data": {
      "text/plain": [
       "[1, 2, 3, 4]"
      ]
     },
     "execution_count": 24,
     "metadata": {},
     "output_type": "execute_result"
    }
   ],
   "source": [
    "myrg(4)"
   ]
  },
  {
   "cell_type": "markdown",
   "metadata": {},
   "source": [
    "We see that a list returned just like we expected.\n",
    "We can use this for iterating three times."
   ]
  },
  {
   "cell_type": "code",
   "execution_count": 25,
   "metadata": {},
   "outputs": [
    {
     "name": "stdout",
     "output_type": "stream",
     "text": [
      "1\n",
      "2\n",
      "3\n"
     ]
    }
   ],
   "source": [
    "for x in myrg(3):\n",
    "    print(x)"
   ]
  },
  {
   "cell_type": "markdown",
   "metadata": {},
   "source": [
    "This is all good for small numbers.  But what if we wanted to\n",
    "loop 50,000,000,000 times?  We incur the cost of creating a\n",
    "list with 50,000,000,000 entries just to keep track of iteration.\n",
    "\n",
    "An iterator would help here.  It would hold an integer and\n",
    "increment it each time before returning it with the `next`\n",
    "function call.  Python provides a nice command for making\n",
    "this easy: the **yield** statement.\n",
    "\n",
    "Change our `myrange.py` function to use `yield`."
   ]
  },
  {
   "cell_type": "code",
   "execution_count": 26,
   "metadata": {
    "collapsed": true
   },
   "outputs": [],
   "source": [
    "def myrg(n):\n",
    "    i = 1\n",
    "    while i <= n:\n",
    "        yield i\n",
    "        i += 1"
   ]
  },
  {
   "cell_type": "markdown",
   "metadata": {},
   "source": [
    "This function looks strange without a `return` statement.\n",
    "It returns each time `yield` is encountered.  It picks up after\n",
    "the yield the next time `next` is called on it.  If there are\n",
    "no more `yield` statements to call, `StopIteration` is raised.\n",
    "\n",
    "A function which employs `yield` is called a **generator**."
   ]
  },
  {
   "cell_type": "code",
   "execution_count": 27,
   "metadata": {},
   "outputs": [
    {
     "data": {
      "text/plain": [
       "<generator object myrg at 0x10c6d0fc0>"
      ]
     },
     "execution_count": 27,
     "metadata": {},
     "output_type": "execute_result"
    }
   ],
   "source": [
    "myrg(3)"
   ]
  },
  {
   "cell_type": "code",
   "execution_count": 28,
   "metadata": {},
   "outputs": [
    {
     "name": "stdout",
     "output_type": "stream",
     "text": [
      "1\n",
      "2\n",
      "3\n"
     ]
    }
   ],
   "source": [
    "for x in myrg(3): print(x)"
   ]
  },
  {
   "cell_type": "markdown",
   "metadata": {},
   "source": [
    "This does not incur the expense of creating a list.\n",
    "Elements are provided only when they are needed.\n",
    "Of course, if you want a list, there is always the\n",
    "list-comp."
   ]
  },
  {
   "cell_type": "code",
   "execution_count": 29,
   "metadata": {},
   "outputs": [
    {
     "data": {
      "text/plain": [
       "[1, 2, 3]"
      ]
     },
     "execution_count": 29,
     "metadata": {},
     "output_type": "execute_result"
    }
   ],
   "source": [
    "[x for x in myrg(3)]"
   ]
  },
  {
   "cell_type": "markdown",
   "metadata": {},
   "source": [
    "## Grouping\n",
    "\n",
    "A grouping is generally a list of values as long as the number of rows\n",
    "in a dataset.  Items in this list with the same value are in the same group.\n",
    "There are three common ways to create such a grouping list.\n",
    "\n",
    "1. Compute or generate the list\n",
    "2. Use a column of values from the data frame (this will automatically\n",
    "   have the correct length).\n",
    "3. Apply some function to the axis index to generate the values.\n",
    "\n",
    "Let's take a quick review of groupings using the `ChickWeight.csv`\n",
    "dataset that is a standard sample included with most R installations."
   ]
  },
  {
   "cell_type": "code",
   "execution_count": 30,
   "metadata": {},
   "outputs": [
    {
     "data": {
      "text/html": [
       "<div>\n",
       "<style>\n",
       "    .dataframe thead tr:only-child th {\n",
       "        text-align: right;\n",
       "    }\n",
       "\n",
       "    .dataframe thead th {\n",
       "        text-align: left;\n",
       "    }\n",
       "\n",
       "    .dataframe tbody tr th {\n",
       "        vertical-align: top;\n",
       "    }\n",
       "</style>\n",
       "<table border=\"1\" class=\"dataframe\">\n",
       "  <thead>\n",
       "    <tr style=\"text-align: right;\">\n",
       "      <th></th>\n",
       "      <th>weight</th>\n",
       "      <th>Time</th>\n",
       "      <th>Chick</th>\n",
       "      <th>Diet</th>\n",
       "    </tr>\n",
       "  </thead>\n",
       "  <tbody>\n",
       "    <tr>\n",
       "      <th>0</th>\n",
       "      <td>42</td>\n",
       "      <td>0</td>\n",
       "      <td>1</td>\n",
       "      <td>1</td>\n",
       "    </tr>\n",
       "    <tr>\n",
       "      <th>1</th>\n",
       "      <td>51</td>\n",
       "      <td>2</td>\n",
       "      <td>1</td>\n",
       "      <td>1</td>\n",
       "    </tr>\n",
       "    <tr>\n",
       "      <th>2</th>\n",
       "      <td>59</td>\n",
       "      <td>4</td>\n",
       "      <td>1</td>\n",
       "      <td>1</td>\n",
       "    </tr>\n",
       "    <tr>\n",
       "      <th>3</th>\n",
       "      <td>64</td>\n",
       "      <td>6</td>\n",
       "      <td>1</td>\n",
       "      <td>1</td>\n",
       "    </tr>\n",
       "    <tr>\n",
       "      <th>4</th>\n",
       "      <td>76</td>\n",
       "      <td>8</td>\n",
       "      <td>1</td>\n",
       "      <td>1</td>\n",
       "    </tr>\n",
       "    <tr>\n",
       "      <th>5</th>\n",
       "      <td>93</td>\n",
       "      <td>10</td>\n",
       "      <td>1</td>\n",
       "      <td>1</td>\n",
       "    </tr>\n",
       "    <tr>\n",
       "      <th>6</th>\n",
       "      <td>106</td>\n",
       "      <td>12</td>\n",
       "      <td>1</td>\n",
       "      <td>1</td>\n",
       "    </tr>\n",
       "    <tr>\n",
       "      <th>7</th>\n",
       "      <td>125</td>\n",
       "      <td>14</td>\n",
       "      <td>1</td>\n",
       "      <td>1</td>\n",
       "    </tr>\n",
       "    <tr>\n",
       "      <th>8</th>\n",
       "      <td>149</td>\n",
       "      <td>16</td>\n",
       "      <td>1</td>\n",
       "      <td>1</td>\n",
       "    </tr>\n",
       "    <tr>\n",
       "      <th>9</th>\n",
       "      <td>171</td>\n",
       "      <td>18</td>\n",
       "      <td>1</td>\n",
       "      <td>1</td>\n",
       "    </tr>\n",
       "  </tbody>\n",
       "</table>\n",
       "</div>"
      ],
      "text/plain": [
       "   weight  Time  Chick  Diet\n",
       "0      42     0      1     1\n",
       "1      51     2      1     1\n",
       "2      59     4      1     1\n",
       "3      64     6      1     1\n",
       "4      76     8      1     1\n",
       "5      93    10      1     1\n",
       "6     106    12      1     1\n",
       "7     125    14      1     1\n",
       "8     149    16      1     1\n",
       "9     171    18      1     1"
      ]
     },
     "execution_count": 30,
     "metadata": {},
     "output_type": "execute_result"
    }
   ],
   "source": [
    "cw = pd.read_csv('ChickWeight.csv')\n",
    "cw.head(10)"
   ]
  },
  {
   "cell_type": "markdown",
   "metadata": {},
   "source": [
    "There is a collection of chicks.  Each chick is assigned\n",
    "one of four diets.  Every two days, the weight of each\n",
    "chick is recorded.  This results in four columns.\n",
    "\n",
    "* `Chick` - the baby chick ID\n",
    "* `Diet`  - the diet ID (1, 2, 3, or 4)\n",
    "* `Time`  - two day intervals\n",
    "* `Weight` - the weight of a chick on a certain diet and day.\n",
    "\n",
    "We obtain groupings on a data frame using the `groupby`\n",
    "method.  The input is an array of all the columns that\n",
    "must be held constant for a single group.  Let's try this for\n",
    "the `ChickWeight` dataset by grouping all weights that\n",
    "have the\n",
    "\n",
    "* same `Time`\n",
    "* same `Diet`"
   ]
  },
  {
   "cell_type": "code",
   "execution_count": 31,
   "metadata": {
    "collapsed": true
   },
   "outputs": [],
   "source": [
    "grp = cw.groupby(['Time', 'Diet'])"
   ]
  },
  {
   "cell_type": "markdown",
   "metadata": {},
   "source": [
    "The output is an\n",
    "intermediate result to which one applies a *summary function*.\n",
    "Summary functions are usually quantitative summaries such as\n",
    "`mean`, `min`, `max`, `count`, `sd`, etc.  One can assign\n",
    "the intermediate grouping to its own variable and reuse it\n",
    "across mutliple summaries."
   ]
  },
  {
   "cell_type": "code",
   "execution_count": 32,
   "metadata": {},
   "outputs": [
    {
     "data": {
      "text/html": [
       "<div>\n",
       "<style>\n",
       "    .dataframe thead tr:only-child th {\n",
       "        text-align: right;\n",
       "    }\n",
       "\n",
       "    .dataframe thead th {\n",
       "        text-align: left;\n",
       "    }\n",
       "\n",
       "    .dataframe tbody tr th {\n",
       "        vertical-align: top;\n",
       "    }\n",
       "</style>\n",
       "<table border=\"1\" class=\"dataframe\">\n",
       "  <thead>\n",
       "    <tr style=\"text-align: right;\">\n",
       "      <th></th>\n",
       "      <th></th>\n",
       "      <th>weight</th>\n",
       "      <th>Chick</th>\n",
       "    </tr>\n",
       "    <tr>\n",
       "      <th>Time</th>\n",
       "      <th>Diet</th>\n",
       "      <th></th>\n",
       "      <th></th>\n",
       "    </tr>\n",
       "  </thead>\n",
       "  <tbody>\n",
       "    <tr>\n",
       "      <th rowspan=\"4\" valign=\"top\">0</th>\n",
       "      <th>1</th>\n",
       "      <td>41.400000</td>\n",
       "      <td>10.500000</td>\n",
       "    </tr>\n",
       "    <tr>\n",
       "      <th>2</th>\n",
       "      <td>40.700000</td>\n",
       "      <td>25.500000</td>\n",
       "    </tr>\n",
       "    <tr>\n",
       "      <th>3</th>\n",
       "      <td>40.800000</td>\n",
       "      <td>35.500000</td>\n",
       "    </tr>\n",
       "    <tr>\n",
       "      <th>4</th>\n",
       "      <td>41.000000</td>\n",
       "      <td>45.500000</td>\n",
       "    </tr>\n",
       "    <tr>\n",
       "      <th rowspan=\"4\" valign=\"top\">2</th>\n",
       "      <th>1</th>\n",
       "      <td>47.250000</td>\n",
       "      <td>10.500000</td>\n",
       "    </tr>\n",
       "    <tr>\n",
       "      <th>2</th>\n",
       "      <td>49.400000</td>\n",
       "      <td>25.500000</td>\n",
       "    </tr>\n",
       "    <tr>\n",
       "      <th>3</th>\n",
       "      <td>50.400000</td>\n",
       "      <td>35.500000</td>\n",
       "    </tr>\n",
       "    <tr>\n",
       "      <th>4</th>\n",
       "      <td>51.800000</td>\n",
       "      <td>45.500000</td>\n",
       "    </tr>\n",
       "    <tr>\n",
       "      <th rowspan=\"2\" valign=\"top\">4</th>\n",
       "      <th>1</th>\n",
       "      <td>56.473684</td>\n",
       "      <td>10.105263</td>\n",
       "    </tr>\n",
       "    <tr>\n",
       "      <th>2</th>\n",
       "      <td>59.800000</td>\n",
       "      <td>25.500000</td>\n",
       "    </tr>\n",
       "  </tbody>\n",
       "</table>\n",
       "</div>"
      ],
      "text/plain": [
       "              weight      Chick\n",
       "Time Diet                      \n",
       "0    1     41.400000  10.500000\n",
       "     2     40.700000  25.500000\n",
       "     3     40.800000  35.500000\n",
       "     4     41.000000  45.500000\n",
       "2    1     47.250000  10.500000\n",
       "     2     49.400000  25.500000\n",
       "     3     50.400000  35.500000\n",
       "     4     51.800000  45.500000\n",
       "4    1     56.473684  10.105263\n",
       "     2     59.800000  25.500000"
      ]
     },
     "execution_count": 32,
     "metadata": {},
     "output_type": "execute_result"
    }
   ],
   "source": [
    "grp.mean().head(10)"
   ]
  },
  {
   "cell_type": "markdown",
   "metadata": {},
   "source": [
    "We can see that the `groupby` method gathered all rows\n",
    "with the same `Time` and `Diet` values.\n",
    "**These become the new index**.  The rest of the\n",
    "**numeric** columns are determined by the summary function.\n",
    "The left over numeric columns in this case were `weight`\n",
    "and `Chick`.  `Chick` is not strictly numeric.  The value\n",
    "represents an identifier, not a quantitative measurement.\n",
    "It's good to filter on just the columns for which the \n",
    "summary function makes sense."
   ]
  },
  {
   "cell_type": "code",
   "execution_count": 33,
   "metadata": {},
   "outputs": [
    {
     "data": {
      "text/plain": [
       "Time  Diet\n",
       "0     1       41.400000\n",
       "      2       40.700000\n",
       "      3       40.800000\n",
       "      4       41.000000\n",
       "2     1       47.250000\n",
       "      2       49.400000\n",
       "      3       50.400000\n",
       "      4       51.800000\n",
       "4     1       56.473684\n",
       "      2       59.800000\n",
       "Name: weight, dtype: float64"
      ]
     },
     "execution_count": 33,
     "metadata": {},
     "output_type": "execute_result"
    }
   ],
   "source": [
    "grp['weight'].mean().head(10)"
   ]
  },
  {
   "cell_type": "markdown",
   "metadata": {},
   "source": [
    "For each time, we have four diets stacked.\n",
    "We can use the `unstack` method to *pivot* the inner most\n",
    "index, the `Diet` component, into columns."
   ]
  },
  {
   "cell_type": "code",
   "execution_count": 34,
   "metadata": {},
   "outputs": [
    {
     "data": {
      "text/html": [
       "<div>\n",
       "<style>\n",
       "    .dataframe thead tr:only-child th {\n",
       "        text-align: right;\n",
       "    }\n",
       "\n",
       "    .dataframe thead th {\n",
       "        text-align: left;\n",
       "    }\n",
       "\n",
       "    .dataframe tbody tr th {\n",
       "        vertical-align: top;\n",
       "    }\n",
       "</style>\n",
       "<table border=\"1\" class=\"dataframe\">\n",
       "  <thead>\n",
       "    <tr style=\"text-align: right;\">\n",
       "      <th>Diet</th>\n",
       "      <th>1</th>\n",
       "      <th>2</th>\n",
       "      <th>3</th>\n",
       "      <th>4</th>\n",
       "    </tr>\n",
       "    <tr>\n",
       "      <th>Time</th>\n",
       "      <th></th>\n",
       "      <th></th>\n",
       "      <th></th>\n",
       "      <th></th>\n",
       "    </tr>\n",
       "  </thead>\n",
       "  <tbody>\n",
       "    <tr>\n",
       "      <th>0</th>\n",
       "      <td>41.400000</td>\n",
       "      <td>40.7</td>\n",
       "      <td>40.8</td>\n",
       "      <td>41.0</td>\n",
       "    </tr>\n",
       "    <tr>\n",
       "      <th>2</th>\n",
       "      <td>47.250000</td>\n",
       "      <td>49.4</td>\n",
       "      <td>50.4</td>\n",
       "      <td>51.8</td>\n",
       "    </tr>\n",
       "    <tr>\n",
       "      <th>4</th>\n",
       "      <td>56.473684</td>\n",
       "      <td>59.8</td>\n",
       "      <td>62.2</td>\n",
       "      <td>64.5</td>\n",
       "    </tr>\n",
       "    <tr>\n",
       "      <th>6</th>\n",
       "      <td>66.789474</td>\n",
       "      <td>75.4</td>\n",
       "      <td>77.9</td>\n",
       "      <td>83.9</td>\n",
       "    </tr>\n",
       "    <tr>\n",
       "      <th>8</th>\n",
       "      <td>79.684211</td>\n",
       "      <td>91.7</td>\n",
       "      <td>98.4</td>\n",
       "      <td>105.6</td>\n",
       "    </tr>\n",
       "    <tr>\n",
       "      <th>10</th>\n",
       "      <td>93.052632</td>\n",
       "      <td>108.5</td>\n",
       "      <td>117.1</td>\n",
       "      <td>126.0</td>\n",
       "    </tr>\n",
       "    <tr>\n",
       "      <th>12</th>\n",
       "      <td>108.526316</td>\n",
       "      <td>131.3</td>\n",
       "      <td>144.4</td>\n",
       "      <td>151.4</td>\n",
       "    </tr>\n",
       "    <tr>\n",
       "      <th>14</th>\n",
       "      <td>123.388889</td>\n",
       "      <td>141.9</td>\n",
       "      <td>164.5</td>\n",
       "      <td>161.8</td>\n",
       "    </tr>\n",
       "    <tr>\n",
       "      <th>16</th>\n",
       "      <td>144.647059</td>\n",
       "      <td>164.7</td>\n",
       "      <td>197.4</td>\n",
       "      <td>182.0</td>\n",
       "    </tr>\n",
       "    <tr>\n",
       "      <th>18</th>\n",
       "      <td>158.941176</td>\n",
       "      <td>187.7</td>\n",
       "      <td>233.1</td>\n",
       "      <td>202.9</td>\n",
       "    </tr>\n",
       "  </tbody>\n",
       "</table>\n",
       "</div>"
      ],
      "text/plain": [
       "Diet           1      2      3      4\n",
       "Time                                 \n",
       "0      41.400000   40.7   40.8   41.0\n",
       "2      47.250000   49.4   50.4   51.8\n",
       "4      56.473684   59.8   62.2   64.5\n",
       "6      66.789474   75.4   77.9   83.9\n",
       "8      79.684211   91.7   98.4  105.6\n",
       "10     93.052632  108.5  117.1  126.0\n",
       "12    108.526316  131.3  144.4  151.4\n",
       "14    123.388889  141.9  164.5  161.8\n",
       "16    144.647059  164.7  197.4  182.0\n",
       "18    158.941176  187.7  233.1  202.9"
      ]
     },
     "execution_count": 34,
     "metadata": {},
     "output_type": "execute_result"
    }
   ],
   "source": [
    "grp['weight'].mean().unstack().head(10)"
   ]
  },
  {
   "cell_type": "markdown",
   "metadata": {},
   "source": [
    "The implied input value to `unstack` is the inner most index\n",
    "column; in this case `unstack(1)`.  If we override this with\n",
    "the left most index column `0`, we transpose the result."
   ]
  },
  {
   "cell_type": "code",
   "execution_count": 35,
   "metadata": {},
   "outputs": [
    {
     "data": {
      "text/html": [
       "<div>\n",
       "<style>\n",
       "    .dataframe thead tr:only-child th {\n",
       "        text-align: right;\n",
       "    }\n",
       "\n",
       "    .dataframe thead th {\n",
       "        text-align: left;\n",
       "    }\n",
       "\n",
       "    .dataframe tbody tr th {\n",
       "        vertical-align: top;\n",
       "    }\n",
       "</style>\n",
       "<table border=\"1\" class=\"dataframe\">\n",
       "  <thead>\n",
       "    <tr style=\"text-align: right;\">\n",
       "      <th>Time</th>\n",
       "      <th>0</th>\n",
       "      <th>2</th>\n",
       "      <th>4</th>\n",
       "      <th>6</th>\n",
       "      <th>8</th>\n",
       "      <th>10</th>\n",
       "      <th>12</th>\n",
       "      <th>14</th>\n",
       "      <th>16</th>\n",
       "      <th>18</th>\n",
       "      <th>20</th>\n",
       "      <th>21</th>\n",
       "    </tr>\n",
       "    <tr>\n",
       "      <th>Diet</th>\n",
       "      <th></th>\n",
       "      <th></th>\n",
       "      <th></th>\n",
       "      <th></th>\n",
       "      <th></th>\n",
       "      <th></th>\n",
       "      <th></th>\n",
       "      <th></th>\n",
       "      <th></th>\n",
       "      <th></th>\n",
       "      <th></th>\n",
       "      <th></th>\n",
       "    </tr>\n",
       "  </thead>\n",
       "  <tbody>\n",
       "    <tr>\n",
       "      <th>1</th>\n",
       "      <td>41.4</td>\n",
       "      <td>47.25</td>\n",
       "      <td>56.473684</td>\n",
       "      <td>66.789474</td>\n",
       "      <td>79.684211</td>\n",
       "      <td>93.052632</td>\n",
       "      <td>108.526316</td>\n",
       "      <td>123.388889</td>\n",
       "      <td>144.647059</td>\n",
       "      <td>158.941176</td>\n",
       "      <td>170.411765</td>\n",
       "      <td>177.750000</td>\n",
       "    </tr>\n",
       "    <tr>\n",
       "      <th>2</th>\n",
       "      <td>40.7</td>\n",
       "      <td>49.40</td>\n",
       "      <td>59.800000</td>\n",
       "      <td>75.400000</td>\n",
       "      <td>91.700000</td>\n",
       "      <td>108.500000</td>\n",
       "      <td>131.300000</td>\n",
       "      <td>141.900000</td>\n",
       "      <td>164.700000</td>\n",
       "      <td>187.700000</td>\n",
       "      <td>205.600000</td>\n",
       "      <td>214.700000</td>\n",
       "    </tr>\n",
       "    <tr>\n",
       "      <th>3</th>\n",
       "      <td>40.8</td>\n",
       "      <td>50.40</td>\n",
       "      <td>62.200000</td>\n",
       "      <td>77.900000</td>\n",
       "      <td>98.400000</td>\n",
       "      <td>117.100000</td>\n",
       "      <td>144.400000</td>\n",
       "      <td>164.500000</td>\n",
       "      <td>197.400000</td>\n",
       "      <td>233.100000</td>\n",
       "      <td>258.900000</td>\n",
       "      <td>270.300000</td>\n",
       "    </tr>\n",
       "    <tr>\n",
       "      <th>4</th>\n",
       "      <td>41.0</td>\n",
       "      <td>51.80</td>\n",
       "      <td>64.500000</td>\n",
       "      <td>83.900000</td>\n",
       "      <td>105.600000</td>\n",
       "      <td>126.000000</td>\n",
       "      <td>151.400000</td>\n",
       "      <td>161.800000</td>\n",
       "      <td>182.000000</td>\n",
       "      <td>202.900000</td>\n",
       "      <td>233.888889</td>\n",
       "      <td>238.555556</td>\n",
       "    </tr>\n",
       "  </tbody>\n",
       "</table>\n",
       "</div>"
      ],
      "text/plain": [
       "Time    0      2          4          6           8           10          12  \\\n",
       "Diet                                                                          \n",
       "1     41.4  47.25  56.473684  66.789474   79.684211   93.052632  108.526316   \n",
       "2     40.7  49.40  59.800000  75.400000   91.700000  108.500000  131.300000   \n",
       "3     40.8  50.40  62.200000  77.900000   98.400000  117.100000  144.400000   \n",
       "4     41.0  51.80  64.500000  83.900000  105.600000  126.000000  151.400000   \n",
       "\n",
       "Time          14          16          18          20          21  \n",
       "Diet                                                              \n",
       "1     123.388889  144.647059  158.941176  170.411765  177.750000  \n",
       "2     141.900000  164.700000  187.700000  205.600000  214.700000  \n",
       "3     164.500000  197.400000  233.100000  258.900000  270.300000  \n",
       "4     161.800000  182.000000  202.900000  233.888889  238.555556  "
      ]
     },
     "execution_count": 35,
     "metadata": {},
     "output_type": "execute_result"
    }
   ],
   "source": [
    "grp['weight'].mean().unstack(0)"
   ]
  },
  {
   "cell_type": "code",
   "execution_count": 36,
   "metadata": {
    "collapsed": true
   },
   "outputs": [],
   "source": [
    "from matplotlib import pyplot as plt\n",
    "import seaborn as sns\n",
    "%matplotlib inline"
   ]
  },
  {
   "cell_type": "code",
   "execution_count": 37,
   "metadata": {},
   "outputs": [
    {
     "data": {
      "text/plain": [
       "<matplotlib.axes._subplots.AxesSubplot at 0x10f0f3f98>"
      ]
     },
     "execution_count": 37,
     "metadata": {},
     "output_type": "execute_result"
    },
    {
     "data": {
      "image/png": "[encoded data removed]",
      "text/plain": [
       "<matplotlib.figure.Figure at 0x10f0f3550>"
      ]
     },
     "metadata": {},
     "output_type": "display_data"
    }
   ],
   "source": [
    "cwus = cw.groupby(['Time', 'Diet'])['weight'].mean().unstack(1)\n",
    "cwus.plot()"
   ]
  },
  {
   "cell_type": "code",
   "execution_count": 38,
   "metadata": {},
   "outputs": [
    {
     "data": {
      "text/plain": [
       "array([<matplotlib.axes._subplots.AxesSubplot object at 0x10f0f3390>,\n",
       "       <matplotlib.axes._subplots.AxesSubplot object at 0x1125c99e8>,\n",
       "       <matplotlib.axes._subplots.AxesSubplot object at 0x11258b668>,\n",
       "       <matplotlib.axes._subplots.AxesSubplot object at 0x11265c0b8>], dtype=object)"
      ]
     },
     "execution_count": 38,
     "metadata": {},
     "output_type": "execute_result"
    },
    {
     "data": {
      "image/png": "[encoded data removed]",
      "text/plain": [
       "<matplotlib.figure.Figure at 0x112451860>"
      ]
     },
     "metadata": {},
     "output_type": "display_data"
    }
   ],
   "source": [
    "cwus.plot(subplots=True)"
   ]
  },
  {
   "cell_type": "code",
   "execution_count": 39,
   "metadata": {},
   "outputs": [
    {
     "data": {
      "text/plain": [
       "<matplotlib.axes._subplots.AxesSubplot at 0x11272d588>"
      ]
     },
     "execution_count": 39,
     "metadata": {},
     "output_type": "execute_result"
    },
    {
     "data": {
      "image/png": "[encoded data removed]",
      "text/plain": [
       "<matplotlib.figure.Figure at 0x11277ca90>"
      ]
     },
     "metadata": {},
     "output_type": "display_data"
    }
   ],
   "source": [
    "cwus.plot.bar()"
   ]
  },
  {
   "cell_type": "markdown",
   "metadata": {},
   "source": [
    "In the case where a single categorical variable\n",
    "defines the grouping, there are summary plots that\n",
    "allow one to visually render each group.\n",
    "Let's use the `InsectSprays.csv` dataset to review\n",
    "some of these using the Seaborn module."
   ]
  },
  {
   "cell_type": "code",
   "execution_count": 40,
   "metadata": {},
   "outputs": [
    {
     "data": {
      "text/html": [
       "<div>\n",
       "<style>\n",
       "    .dataframe thead tr:only-child th {\n",
       "        text-align: right;\n",
       "    }\n",
       "\n",
       "    .dataframe thead th {\n",
       "        text-align: left;\n",
       "    }\n",
       "\n",
       "    .dataframe tbody tr th {\n",
       "        vertical-align: top;\n",
       "    }\n",
       "</style>\n",
       "<table border=\"1\" class=\"dataframe\">\n",
       "  <thead>\n",
       "    <tr style=\"text-align: right;\">\n",
       "      <th></th>\n",
       "      <th>count</th>\n",
       "      <th>spray</th>\n",
       "    </tr>\n",
       "  </thead>\n",
       "  <tbody>\n",
       "    <tr>\n",
       "      <th>0</th>\n",
       "      <td>10</td>\n",
       "      <td>A</td>\n",
       "    </tr>\n",
       "    <tr>\n",
       "      <th>1</th>\n",
       "      <td>7</td>\n",
       "      <td>A</td>\n",
       "    </tr>\n",
       "    <tr>\n",
       "      <th>2</th>\n",
       "      <td>20</td>\n",
       "      <td>A</td>\n",
       "    </tr>\n",
       "    <tr>\n",
       "      <th>3</th>\n",
       "      <td>14</td>\n",
       "      <td>A</td>\n",
       "    </tr>\n",
       "    <tr>\n",
       "      <th>4</th>\n",
       "      <td>14</td>\n",
       "      <td>A</td>\n",
       "    </tr>\n",
       "  </tbody>\n",
       "</table>\n",
       "</div>"
      ],
      "text/plain": [
       "   count spray\n",
       "0     10     A\n",
       "1      7     A\n",
       "2     20     A\n",
       "3     14     A\n",
       "4     14     A"
      ]
     },
     "execution_count": 40,
     "metadata": {},
     "output_type": "execute_result"
    }
   ],
   "source": [
    "sprays = pd.read_csv('InsectSprays.csv')\n",
    "sprays.head()"
   ]
  },
  {
   "cell_type": "markdown",
   "metadata": {},
   "source": [
    "Each spray undergoes several experiences for insect\n",
    "irradication.  This results in a spread of counts."
   ]
  },
  {
   "cell_type": "code",
   "execution_count": 41,
   "metadata": {},
   "outputs": [
    {
     "data": {
      "text/plain": [
       "<matplotlib.axes._subplots.AxesSubplot at 0x1128c3f98>"
      ]
     },
     "execution_count": 41,
     "metadata": {},
     "output_type": "execute_result"
    },
    {
     "data": {
      "image/png": "[encoded data removed]",
      "text/plain": [
       "<matplotlib.figure.Figure at 0x112863320>"
      ]
     },
     "metadata": {},
     "output_type": "display_data"
    }
   ],
   "source": [
    "sns.barplot(x='spray', y='count', data=sprays)"
   ]
  },
  {
   "cell_type": "markdown",
   "metadata": {},
   "source": [
    "For each spray (the `x`-axis), a bar rendered with a height\n",
    "equal to the average of the values.  The vertical black line\n",
    "represents the `95%` confidence interval (the default)\n",
    "which is based on the spread of the values.  This says that\n",
    "if we do the experiment many many times, 19 out of 20 times\n",
    "the verical bar will cover the true mean.\n",
    "If we insist on 99% assurance, the intervals get bigger."
   ]
  },
  {
   "cell_type": "code",
   "execution_count": 42,
   "metadata": {},
   "outputs": [
    {
     "data": {
      "text/plain": [
       "<matplotlib.axes._subplots.AxesSubplot at 0x1129fecf8>"
      ]
     },
     "execution_count": 42,
     "metadata": {},
     "output_type": "execute_result"
    },
    {
     "data": {
      "image/png": "[encoded data removed]",
      "text/plain": [
       "<matplotlib.figure.Figure at 0x1128deb38>"
      ]
     },
     "metadata": {},
     "output_type": "display_data"
    }
   ],
   "source": [
    "sns.barplot(x='spray', y='count', data=sprays, ci=99)"
   ]
  },
  {
   "cell_type": "markdown",
   "metadata": {},
   "source": [
    "The `boxplot`, shown below, is another way to display\n",
    "the spread of values. The horizontal line across each\n",
    "box represents the mean of that group.\n",
    "The lower and upper boundaries of the box represent\n",
    "the 25% and 75% quartiles respectively."
   ]
  },
  {
   "cell_type": "code",
   "execution_count": 43,
   "metadata": {},
   "outputs": [
    {
     "data": {
      "text/plain": [
       "<matplotlib.axes._subplots.AxesSubplot at 0x112b24668>"
      ]
     },
     "execution_count": 43,
     "metadata": {},
     "output_type": "execute_result"
    },
    {
     "data": {
      "image/png": "[encoded data removed]",
      "text/plain": [
       "<matplotlib.figure.Figure at 0x1128c36d8>"
      ]
     },
     "metadata": {},
     "output_type": "display_data"
    }
   ],
   "source": [
    "sns.boxplot(x='spray', y='count', data=sprays)"
   ]
  },
  {
   "cell_type": "markdown",
   "metadata": {},
   "source": [
    "The \"wiskers\" are a bit more complicated.  In most cases,\n",
    "they represent the minimum and maximum.  But if either\n",
    "of these values is more than 1.5 times the\n",
    "*interquartile range* (IQR) (the distance between the\n",
    "upper and lower end of the box), then those are shown\n",
    "separately as dots (like with sprays `C` and `D` above)\n",
    "and the wiskers take on the next most extreme value.\n",
    "(If that's too much to take in, just enjoy the pretty colors)."
   ]
  },
  {
   "cell_type": "code",
   "execution_count": 44,
   "metadata": {},
   "outputs": [
    {
     "data": {
      "text/plain": [
       "<matplotlib.axes._subplots.AxesSubplot at 0x112c512e8>"
      ]
     },
     "execution_count": 44,
     "metadata": {},
     "output_type": "execute_result"
    },
    {
     "data": {
      "image/png": "[encoded data removed]",
      "text/plain": [
       "<matplotlib.figure.Figure at 0x112b241d0>"
      ]
     },
     "metadata": {},
     "output_type": "display_data"
    }
   ],
   "source": [
    "sns.violinplot(x='spray', y='count', data=sprays)"
   ]
  },
  {
   "cell_type": "markdown",
   "metadata": {},
   "source": [
    "The violin plots vary the thickness of the box to convey the\n",
    "distribution of the values.\n",
    "\n",
    "---------------------------------\n",
    "End of Workshop 8"
   ]
  }
 ],
 "metadata": {
  "kernelspec": {
   "display_name": "Python 3",
   "language": "python",
   "name": "python3"
  },
  "language_info": {
   "codemirror_mode": {
    "name": "ipython",
    "version": 3
   },
   "file_extension": ".py",
   "mimetype": "text/x-python",
   "name": "python",
   "nbconvert_exporter": "python",
   "pygments_lexer": "ipython3",
   "version": "3.5.4"
  }
 },
 "nbformat": 4,
 "nbformat_minor": 1
}
