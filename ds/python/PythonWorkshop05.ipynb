{
 "cells": [
  {
   "cell_type": "markdown",
   "metadata": {},
   "source": [
    "Python Workshop 5\n",
    "=========\n",
    "\n",
    "July 19, 2017\n"
   ]
  },
  {
   "cell_type": "markdown",
   "metadata": {},
   "source": [
    "# Aggregation\n",
    "\n",
    "In this workshop we're going to investigate some **pandas** features\n",
    "related to aggregating data based on grouping.  We'll use a dataset\n",
    "that comes with most R distributions called `ChickWeight`.  If you\n",
    "cloned this repository or manually downloaded its artifacts, you\n",
    "should have a file in your current directory named `ChickWeight.csv`.\n",
    "Let's read this in."
   ]
  },
  {
   "cell_type": "code",
   "execution_count": 1,
   "metadata": {},
   "outputs": [
    {
     "data": {
      "text/html": [
       "<div>\n",
       "<table border=\"1\" class=\"dataframe\">\n",
       "  <thead>\n",
       "    <tr style=\"text-align: right;\">\n",
       "      <th></th>\n",
       "      <th>weight</th>\n",
       "      <th>Time</th>\n",
       "      <th>Chick</th>\n",
       "      <th>Diet</th>\n",
       "    </tr>\n",
       "  </thead>\n",
       "  <tbody>\n",
       "    <tr>\n",
       "      <th>0</th>\n",
       "      <td>42</td>\n",
       "      <td>0</td>\n",
       "      <td>1</td>\n",
       "      <td>1</td>\n",
       "    </tr>\n",
       "    <tr>\n",
       "      <th>1</th>\n",
       "      <td>51</td>\n",
       "      <td>2</td>\n",
       "      <td>1</td>\n",
       "      <td>1</td>\n",
       "    </tr>\n",
       "    <tr>\n",
       "      <th>2</th>\n",
       "      <td>59</td>\n",
       "      <td>4</td>\n",
       "      <td>1</td>\n",
       "      <td>1</td>\n",
       "    </tr>\n",
       "    <tr>\n",
       "      <th>3</th>\n",
       "      <td>64</td>\n",
       "      <td>6</td>\n",
       "      <td>1</td>\n",
       "      <td>1</td>\n",
       "    </tr>\n",
       "    <tr>\n",
       "      <th>4</th>\n",
       "      <td>76</td>\n",
       "      <td>8</td>\n",
       "      <td>1</td>\n",
       "      <td>1</td>\n",
       "    </tr>\n",
       "    <tr>\n",
       "      <th>5</th>\n",
       "      <td>93</td>\n",
       "      <td>10</td>\n",
       "      <td>1</td>\n",
       "      <td>1</td>\n",
       "    </tr>\n",
       "    <tr>\n",
       "      <th>6</th>\n",
       "      <td>106</td>\n",
       "      <td>12</td>\n",
       "      <td>1</td>\n",
       "      <td>1</td>\n",
       "    </tr>\n",
       "    <tr>\n",
       "      <th>7</th>\n",
       "      <td>125</td>\n",
       "      <td>14</td>\n",
       "      <td>1</td>\n",
       "      <td>1</td>\n",
       "    </tr>\n",
       "    <tr>\n",
       "      <th>8</th>\n",
       "      <td>149</td>\n",
       "      <td>16</td>\n",
       "      <td>1</td>\n",
       "      <td>1</td>\n",
       "    </tr>\n",
       "    <tr>\n",
       "      <th>9</th>\n",
       "      <td>171</td>\n",
       "      <td>18</td>\n",
       "      <td>1</td>\n",
       "      <td>1</td>\n",
       "    </tr>\n",
       "    <tr>\n",
       "      <th>10</th>\n",
       "      <td>199</td>\n",
       "      <td>20</td>\n",
       "      <td>1</td>\n",
       "      <td>1</td>\n",
       "    </tr>\n",
       "    <tr>\n",
       "      <th>11</th>\n",
       "      <td>205</td>\n",
       "      <td>21</td>\n",
       "      <td>1</td>\n",
       "      <td>1</td>\n",
       "    </tr>\n",
       "    <tr>\n",
       "      <th>12</th>\n",
       "      <td>40</td>\n",
       "      <td>0</td>\n",
       "      <td>2</td>\n",
       "      <td>1</td>\n",
       "    </tr>\n",
       "    <tr>\n",
       "      <th>13</th>\n",
       "      <td>49</td>\n",
       "      <td>2</td>\n",
       "      <td>2</td>\n",
       "      <td>1</td>\n",
       "    </tr>\n",
       "    <tr>\n",
       "      <th>14</th>\n",
       "      <td>58</td>\n",
       "      <td>4</td>\n",
       "      <td>2</td>\n",
       "      <td>1</td>\n",
       "    </tr>\n",
       "  </tbody>\n",
       "</table>\n",
       "</div>"
      ],
      "text/plain": [
       "    weight  Time  Chick  Diet\n",
       "0       42     0      1     1\n",
       "1       51     2      1     1\n",
       "2       59     4      1     1\n",
       "3       64     6      1     1\n",
       "4       76     8      1     1\n",
       "5       93    10      1     1\n",
       "6      106    12      1     1\n",
       "7      125    14      1     1\n",
       "8      149    16      1     1\n",
       "9      171    18      1     1\n",
       "10     199    20      1     1\n",
       "11     205    21      1     1\n",
       "12      40     0      2     1\n",
       "13      49     2      2     1\n",
       "14      58     4      2     1"
      ]
     },
     "execution_count": 1,
     "metadata": {},
     "output_type": "execute_result"
    }
   ],
   "source": [
    "import numpy as np\n",
    "import pandas as pd\n",
    "\n",
    "cw = pd.read_csv('ChickWeight.csv')\n",
    "cw.head(15)"
   ]
  },
  {
   "cell_type": "markdown",
   "metadata": {},
   "source": [
    "The data tracks the weights of baby chickens in four groups based\n",
    "their diets.  The diets are just referred to as `1`, `2`, `3`, and\n",
    "`4`.  The chicks are numbered as well.\n",
    "\n",
    "Let's create a grouping of the chick weights based on `Time` of the\n",
    "weight and the `Diet`.  What we **won't** include is the identifier\n",
    "of the `Chick`.  Each `Time + Diet` group will contain weights for\n",
    "all chicks."
   ]
  },
  {
   "cell_type": "code",
   "execution_count": 2,
   "metadata": {},
   "outputs": [
    {
     "data": {
      "text/plain": [
       "pandas.core.groupby.SeriesGroupBy"
      ]
     },
     "execution_count": 2,
     "metadata": {},
     "output_type": "execute_result"
    }
   ],
   "source": [
    "chickgrp = cw['weight'].groupby([cw.Time, cw.Diet])\n",
    "type(chickgrp)"
   ]
  },
  {
   "cell_type": "markdown",
   "metadata": {},
   "source": [
    "Let's break this down.\n",
    "\n",
    "1. `cw` is a dataframe with an index and four columns.\n",
    "2. `cw['weight']` is a Series with the same index as the `cw` dataframe.\n",
    "3. `cw['weight'].groupby([cw.Time, cw.Diet])` is a `SeriesGroupBy` object.\n",
    "\n",
    "The `chickgrp` object is the basis for aggregations we might like to perform.\n",
    "We can average them, sum them, extract their min/max and many other things."
   ]
  },
  {
   "cell_type": "code",
   "execution_count": 3,
   "metadata": {},
   "outputs": [
    {
     "data": {
      "text/plain": [
       "Time  Diet\n",
       "0     1       41.400000\n",
       "      2       40.700000\n",
       "      3       40.800000\n",
       "      4       41.000000\n",
       "2     1       47.250000\n",
       "      2       49.400000\n",
       "      3       50.400000\n",
       "      4       51.800000\n",
       "4     1       56.473684\n",
       "      2       59.800000\n",
       "      3       62.200000\n",
       "      4       64.500000\n",
       "6     1       66.789474\n",
       "      2       75.400000\n",
       "      3       77.900000\n",
       "Name: weight, dtype: float64"
      ]
     },
     "execution_count": 3,
     "metadata": {},
     "output_type": "execute_result"
    }
   ],
   "source": [
    "avgchick = chickgrp.mean()\n",
    "maxchick = chickgrp.max()\n",
    "minchick = chickgrp.min()\n",
    "allchick = chickgrp.sum()\n",
    "avgchick.head(15)"
   ]
  },
  {
   "cell_type": "markdown",
   "metadata": {},
   "source": [
    "The `chickgrp` object is meant to be reused across many aggegrations.\n",
    "But if you only need it once, you usually issue the **combine** action\n",
    "in the same step."
   ]
  },
  {
   "cell_type": "code",
   "execution_count": 4,
   "metadata": {
    "collapsed": true
   },
   "outputs": [],
   "source": [
    "avgchick = cw['weight'].groupby([cw.Time, cw.Diet]).mean()"
   ]
  },
  {
   "cell_type": "markdown",
   "metadata": {},
   "source": [
    "# Stack and Unstack: Pivot Tables\n",
    "\n",
    "Take another look at the first 15 rows of the `avgchick` dataset.\n",
    "It's easy to compare the weights of two diets at the same point in time\n",
    "since the diet measurements are next to each other.  But comparing\n",
    "the same diet over time causes our eyes to have to skip over rows.\n",
    "Pandas refers to this as a *stacked dataframe*.  We can *unstack*\n",
    "it (or pivot on the `Diet` column)."
   ]
  },
  {
   "cell_type": "code",
   "execution_count": 5,
   "metadata": {},
   "outputs": [
    {
     "data": {
      "text/html": [
       "<div>\n",
       "<table border=\"1\" class=\"dataframe\">\n",
       "  <thead>\n",
       "    <tr style=\"text-align: right;\">\n",
       "      <th>Diet</th>\n",
       "      <th>1</th>\n",
       "      <th>2</th>\n",
       "      <th>3</th>\n",
       "      <th>4</th>\n",
       "    </tr>\n",
       "    <tr>\n",
       "      <th>Time</th>\n",
       "      <th></th>\n",
       "      <th></th>\n",
       "      <th></th>\n",
       "      <th></th>\n",
       "    </tr>\n",
       "  </thead>\n",
       "  <tbody>\n",
       "    <tr>\n",
       "      <th>0</th>\n",
       "      <td>41.400000</td>\n",
       "      <td>40.7</td>\n",
       "      <td>40.8</td>\n",
       "      <td>41.000000</td>\n",
       "    </tr>\n",
       "    <tr>\n",
       "      <th>2</th>\n",
       "      <td>47.250000</td>\n",
       "      <td>49.4</td>\n",
       "      <td>50.4</td>\n",
       "      <td>51.800000</td>\n",
       "    </tr>\n",
       "    <tr>\n",
       "      <th>4</th>\n",
       "      <td>56.473684</td>\n",
       "      <td>59.8</td>\n",
       "      <td>62.2</td>\n",
       "      <td>64.500000</td>\n",
       "    </tr>\n",
       "    <tr>\n",
       "      <th>6</th>\n",
       "      <td>66.789474</td>\n",
       "      <td>75.4</td>\n",
       "      <td>77.9</td>\n",
       "      <td>83.900000</td>\n",
       "    </tr>\n",
       "    <tr>\n",
       "      <th>8</th>\n",
       "      <td>79.684211</td>\n",
       "      <td>91.7</td>\n",
       "      <td>98.4</td>\n",
       "      <td>105.600000</td>\n",
       "    </tr>\n",
       "    <tr>\n",
       "      <th>10</th>\n",
       "      <td>93.052632</td>\n",
       "      <td>108.5</td>\n",
       "      <td>117.1</td>\n",
       "      <td>126.000000</td>\n",
       "    </tr>\n",
       "    <tr>\n",
       "      <th>12</th>\n",
       "      <td>108.526316</td>\n",
       "      <td>131.3</td>\n",
       "      <td>144.4</td>\n",
       "      <td>151.400000</td>\n",
       "    </tr>\n",
       "    <tr>\n",
       "      <th>14</th>\n",
       "      <td>123.388889</td>\n",
       "      <td>141.9</td>\n",
       "      <td>164.5</td>\n",
       "      <td>161.800000</td>\n",
       "    </tr>\n",
       "    <tr>\n",
       "      <th>16</th>\n",
       "      <td>144.647059</td>\n",
       "      <td>164.7</td>\n",
       "      <td>197.4</td>\n",
       "      <td>182.000000</td>\n",
       "    </tr>\n",
       "    <tr>\n",
       "      <th>18</th>\n",
       "      <td>158.941176</td>\n",
       "      <td>187.7</td>\n",
       "      <td>233.1</td>\n",
       "      <td>202.900000</td>\n",
       "    </tr>\n",
       "    <tr>\n",
       "      <th>20</th>\n",
       "      <td>170.411765</td>\n",
       "      <td>205.6</td>\n",
       "      <td>258.9</td>\n",
       "      <td>233.888889</td>\n",
       "    </tr>\n",
       "    <tr>\n",
       "      <th>21</th>\n",
       "      <td>177.750000</td>\n",
       "      <td>214.7</td>\n",
       "      <td>270.3</td>\n",
       "      <td>238.555556</td>\n",
       "    </tr>\n",
       "  </tbody>\n",
       "</table>\n",
       "</div>"
      ],
      "text/plain": [
       "Diet           1      2      3           4\n",
       "Time                                      \n",
       "0      41.400000   40.7   40.8   41.000000\n",
       "2      47.250000   49.4   50.4   51.800000\n",
       "4      56.473684   59.8   62.2   64.500000\n",
       "6      66.789474   75.4   77.9   83.900000\n",
       "8      79.684211   91.7   98.4  105.600000\n",
       "10     93.052632  108.5  117.1  126.000000\n",
       "12    108.526316  131.3  144.4  151.400000\n",
       "14    123.388889  141.9  164.5  161.800000\n",
       "16    144.647059  164.7  197.4  182.000000\n",
       "18    158.941176  187.7  233.1  202.900000\n",
       "20    170.411765  205.6  258.9  233.888889\n",
       "21    177.750000  214.7  270.3  238.555556"
      ]
     },
     "execution_count": 5,
     "metadata": {},
     "output_type": "execute_result"
    }
   ],
   "source": [
    "widechick = avgchick.unstack()\n",
    "widechick"
   ]
  },
  {
   "cell_type": "markdown",
   "metadata": {},
   "source": [
    "You can see that the `Diet` portion of the hierarchical index was\n",
    "unstacked (pivoted) into a column for each value.  How did it know\n",
    "we wanted to pivot `Diet` instead of `Time`?  By default, the\n",
    "`unstack` method pivots the inner-most component of a heirarchical\n",
    "index.\n",
    "\n",
    "The column names of `1`, `2`, `3`, and `4` almost seem numeric\n",
    "even though they are intended to be categorical.  Let's change\n",
    "the column names to make this explicit."
   ]
  },
  {
   "cell_type": "code",
   "execution_count": 6,
   "metadata": {},
   "outputs": [
    {
     "data": {
      "text/html": [
       "<div>\n",
       "<table border=\"1\" class=\"dataframe\">\n",
       "  <thead>\n",
       "    <tr style=\"text-align: right;\">\n",
       "      <th></th>\n",
       "      <th>diet1</th>\n",
       "      <th>diet2</th>\n",
       "      <th>diet3</th>\n",
       "      <th>diet4</th>\n",
       "    </tr>\n",
       "    <tr>\n",
       "      <th>Time</th>\n",
       "      <th></th>\n",
       "      <th></th>\n",
       "      <th></th>\n",
       "      <th></th>\n",
       "    </tr>\n",
       "  </thead>\n",
       "  <tbody>\n",
       "    <tr>\n",
       "      <th>0</th>\n",
       "      <td>41.400000</td>\n",
       "      <td>40.7</td>\n",
       "      <td>40.8</td>\n",
       "      <td>41.000000</td>\n",
       "    </tr>\n",
       "    <tr>\n",
       "      <th>2</th>\n",
       "      <td>47.250000</td>\n",
       "      <td>49.4</td>\n",
       "      <td>50.4</td>\n",
       "      <td>51.800000</td>\n",
       "    </tr>\n",
       "    <tr>\n",
       "      <th>4</th>\n",
       "      <td>56.473684</td>\n",
       "      <td>59.8</td>\n",
       "      <td>62.2</td>\n",
       "      <td>64.500000</td>\n",
       "    </tr>\n",
       "    <tr>\n",
       "      <th>6</th>\n",
       "      <td>66.789474</td>\n",
       "      <td>75.4</td>\n",
       "      <td>77.9</td>\n",
       "      <td>83.900000</td>\n",
       "    </tr>\n",
       "    <tr>\n",
       "      <th>8</th>\n",
       "      <td>79.684211</td>\n",
       "      <td>91.7</td>\n",
       "      <td>98.4</td>\n",
       "      <td>105.600000</td>\n",
       "    </tr>\n",
       "    <tr>\n",
       "      <th>10</th>\n",
       "      <td>93.052632</td>\n",
       "      <td>108.5</td>\n",
       "      <td>117.1</td>\n",
       "      <td>126.000000</td>\n",
       "    </tr>\n",
       "    <tr>\n",
       "      <th>12</th>\n",
       "      <td>108.526316</td>\n",
       "      <td>131.3</td>\n",
       "      <td>144.4</td>\n",
       "      <td>151.400000</td>\n",
       "    </tr>\n",
       "    <tr>\n",
       "      <th>14</th>\n",
       "      <td>123.388889</td>\n",
       "      <td>141.9</td>\n",
       "      <td>164.5</td>\n",
       "      <td>161.800000</td>\n",
       "    </tr>\n",
       "    <tr>\n",
       "      <th>16</th>\n",
       "      <td>144.647059</td>\n",
       "      <td>164.7</td>\n",
       "      <td>197.4</td>\n",
       "      <td>182.000000</td>\n",
       "    </tr>\n",
       "    <tr>\n",
       "      <th>18</th>\n",
       "      <td>158.941176</td>\n",
       "      <td>187.7</td>\n",
       "      <td>233.1</td>\n",
       "      <td>202.900000</td>\n",
       "    </tr>\n",
       "    <tr>\n",
       "      <th>20</th>\n",
       "      <td>170.411765</td>\n",
       "      <td>205.6</td>\n",
       "      <td>258.9</td>\n",
       "      <td>233.888889</td>\n",
       "    </tr>\n",
       "    <tr>\n",
       "      <th>21</th>\n",
       "      <td>177.750000</td>\n",
       "      <td>214.7</td>\n",
       "      <td>270.3</td>\n",
       "      <td>238.555556</td>\n",
       "    </tr>\n",
       "  </tbody>\n",
       "</table>\n",
       "</div>"
      ],
      "text/plain": [
       "           diet1  diet2  diet3       diet4\n",
       "Time                                      \n",
       "0      41.400000   40.7   40.8   41.000000\n",
       "2      47.250000   49.4   50.4   51.800000\n",
       "4      56.473684   59.8   62.2   64.500000\n",
       "6      66.789474   75.4   77.9   83.900000\n",
       "8      79.684211   91.7   98.4  105.600000\n",
       "10     93.052632  108.5  117.1  126.000000\n",
       "12    108.526316  131.3  144.4  151.400000\n",
       "14    123.388889  141.9  164.5  161.800000\n",
       "16    144.647059  164.7  197.4  182.000000\n",
       "18    158.941176  187.7  233.1  202.900000\n",
       "20    170.411765  205.6  258.9  233.888889\n",
       "21    177.750000  214.7  270.3  238.555556"
      ]
     },
     "execution_count": 6,
     "metadata": {},
     "output_type": "execute_result"
    }
   ],
   "source": [
    "widechick.columns = ['diet1', 'diet2', 'diet3', 'diet4']\n",
    "widechick"
   ]
  },
  {
   "cell_type": "markdown",
   "metadata": {},
   "source": [
    "We should be able to plot these easily."
   ]
  },
  {
   "cell_type": "code",
   "execution_count": 26,
   "metadata": {},
   "outputs": [
    {
     "data": {
      "text/plain": [
       "<matplotlib.axes._subplots.AxesSubplot at 0x10a9325f8>"
      ]
     },
     "execution_count": 26,
     "metadata": {},
     "output_type": "execute_result"
    },
    {
     "data": {
      "text/plain": [
       "<matplotlib.figure.Figure at 0x1034fb048>"
      ]
     },
     "metadata": {},
     "output_type": "display_data"
    },
    {
     "data": {
      "image/png": "[encoded data removed]",
      "text/plain": [
       "<matplotlib.figure.Figure at 0x10a8b79b0>"
      ]
     },
     "metadata": {},
     "output_type": "display_data"
    }
   ],
   "source": [
    "from matplotlib import pyplot as plt\n",
    "%matplotlib inline\n",
    "plt.figure()\n",
    "widechick.plot()"
   ]
  },
  {
   "cell_type": "markdown",
   "metadata": {},
   "source": [
    "This is not a bad plot considering we got it for free\n",
    "(didn't provide any customization parameters).  But\n",
    "we can provide additional parameters to get other\n",
    "effects.  Let's see what we can get if we do decide\n",
    "to set some parameters.\n",
    "\n",
    "In the figure below, I appealed to the `plot` method API at\n",
    "\n",
    "http://pandas.pydata.org/pandas-docs/stable/generated/pandas.DataFrame.plot.html#pandas.DataFrame.plot\n",
    "\n",
    "and chose the\n",
    "\n",
    "* `subplots`\n",
    "* `sharex`\n",
    "\n",
    "parameters to override."
   ]
  },
  {
   "cell_type": "code",
   "execution_count": 28,
   "metadata": {},
   "outputs": [
    {
     "data": {
      "text/plain": [
       "array([<matplotlib.axes._subplots.AxesSubplot object at 0x10b03ae10>,\n",
       "       <matplotlib.axes._subplots.AxesSubplot object at 0x10b0e6f98>,\n",
       "       <matplotlib.axes._subplots.AxesSubplot object at 0x10adfcef0>,\n",
       "       <matplotlib.axes._subplots.AxesSubplot object at 0x10b14d9e8>], dtype=object)"
      ]
     },
     "execution_count": 28,
     "metadata": {},
     "output_type": "execute_result"
    },
    {
     "data": {
      "text/plain": [
       "<matplotlib.figure.Figure at 0x109dc5908>"
      ]
     },
     "metadata": {},
     "output_type": "display_data"
    },
    {
     "data": {
      "image/png": "[encoded data removed]",
      "text/plain": [
       "<matplotlib.figure.Figure at 0x10b02efd0>"
      ]
     },
     "metadata": {},
     "output_type": "display_data"
    }
   ],
   "source": [
    "plt.figure()\n",
    "widechick.plot(subplots=True, sharex=True)"
   ]
  },
  {
   "cell_type": "markdown",
   "metadata": {},
   "source": [
    "OK.  Maybe that didn't look so good.  In the next one,\n",
    "I choose\n",
    "\n",
    "* `title`\n",
    "* `grid`\n",
    "\n",
    "I also use the Matplotlib `Axes` object that is returned\n",
    "from the `plot` invocation.  The Matplotlib documentation\n",
    "has a list of all kinds of things one can do with an `Axes`\n",
    "object here.\n",
    "\n",
    "http://matplotlib.org/api/axes_api.html\n",
    "\n",
    "I settle for labeling the Y-axis."
   ]
  },
  {
   "cell_type": "code",
   "execution_count": 35,
   "metadata": {},
   "outputs": [
    {
     "data": {
      "text/plain": [
       "<matplotlib.text.Text at 0x10b6043c8>"
      ]
     },
     "execution_count": 35,
     "metadata": {},
     "output_type": "execute_result"
    },
    {
     "data": {
      "text/plain": [
       "<matplotlib.figure.Figure at 0x10b6e4630>"
      ]
     },
     "metadata": {},
     "output_type": "display_data"
    },
    {
     "data": {
      "image/png": "[encoded data removed]",
      "text/plain": [
       "<matplotlib.figure.Figure at 0x10b34abe0>"
      ]
     },
     "metadata": {},
     "output_type": "display_data"
    }
   ],
   "source": [
    "plt.figure()\n",
    "ax = widechick.plot(title=\"Chick Weights\", grid=True)\n",
    "ax.set_ylabel(\"Weights\")"
   ]
  },
  {
   "cell_type": "markdown",
   "metadata": {},
   "source": [
    "There are many buttons and knobs for customizing your figure.\n",
    "But let's get back to stracking and unstacking.\n",
    "\n",
    "The reverse of `unstack` is `stack`.  This creates a **long**\n",
    "dataframe from a **wide** dataframe."
   ]
  },
  {
   "cell_type": "code",
   "execution_count": 7,
   "metadata": {},
   "outputs": [
    {
     "data": {
      "text/plain": [
       "Time       \n",
       "0     diet1    41.400000\n",
       "      diet2    40.700000\n",
       "      diet3    40.800000\n",
       "      diet4    41.000000\n",
       "2     diet1    47.250000\n",
       "      diet2    49.400000\n",
       "      diet3    50.400000\n",
       "      diet4    51.800000\n",
       "4     diet1    56.473684\n",
       "      diet2    59.800000\n",
       "      diet3    62.200000\n",
       "      diet4    64.500000\n",
       "6     diet1    66.789474\n",
       "      diet2    75.400000\n",
       "      diet3    77.900000\n",
       "dtype: float64"
      ]
     },
     "execution_count": 7,
     "metadata": {},
     "output_type": "execute_result"
    }
   ],
   "source": [
    "longchick = widechick.stack()\n",
    "longchick.head(15)"
   ]
  },
  {
   "cell_type": "markdown",
   "metadata": {},
   "source": [
    "We have our original dataframe back with the inner component\n",
    "of the hierarchical index as a string."
   ]
  },
  {
   "cell_type": "markdown",
   "metadata": {},
   "source": [
    "# Code Organization\n",
    "\n",
    "In this section we introduce some concepts related to organizing\n",
    "your code into script files.  Most of the information and even some\n",
    "of the examples come from the online Python tutorial.\n",
    "\n",
    "<https://docs.python.org/3.5/tutorial/index.html>\n",
    "\n",
    "* [Chapter 6 - Modules](https://docs.python.org/3.5/tutorial/modules.html)\n",
    "* [Chapter 9 - Classes](https://docs.python.org/3.5/tutorial/classes.html)\n",
    "\n",
    "These sections and the tutorial in general are recommended reading.\n",
    "\n",
    "\n",
    "## Modules\n",
    "\n",
    "For the most part, our experience with modules have been limited to\n",
    "importing them.  We hardly do anything in these workshops before we\n",
    "import `numpy` and `pandas`.\n",
    "\n",
    "```\n",
    "import numpy as np\n",
    "import pandas as pd\n",
    "```\n",
    "\n",
    "These statements make the  **NumPy** and **pandas** modules\n",
    "available as `np` and `pd` respectively.  Let's\n",
    "create our own module and determine how to reference it.\n",
    "\n",
    "### What's in a `__name__`?\n",
    "\n",
    "For most of this workshop we've been working directly in IPython rather\n",
    "than executing script files.  But even at the Python interpter prompt\n",
    "we are executing within a module.  To determine its name, print the\n",
    "value of the `__name__` variable which is a module attribute populated\n",
    "for every module."
   ]
  },
  {
   "cell_type": "code",
   "execution_count": 8,
   "metadata": {},
   "outputs": [
    {
     "data": {
      "text/plain": [
       "'__main__'"
      ]
     },
     "execution_count": 8,
     "metadata": {},
     "output_type": "execute_result"
    }
   ],
   "source": [
    "__name__"
   ]
  },
  {
   "cell_type": "markdown",
   "metadata": {},
   "source": [
    "The value `__main__` is the default module.\n",
    "Our code runs in this module under two conditions.\n",
    "\n",
    "1. Entering commands interactively through the Python\n",
    "   or IPython environments.\n",
    "2. Running a Python script from the command line as\n",
    "   in: `python my_script.py`."
   ]
  },
  {
   "cell_type": "markdown",
   "metadata": {},
   "source": [
    "We saw the first case above.  Let's try the second case.\n",
    "\n",
    "1. Exit the IPython shell.\n",
    "2. Create a file named `simple.py` that contains a single line: `print(__name__)`\n",
    "3. Run: `python simple.py`\n",
    "\n",
    "You should see the same result.  Within your Python script **invoked\n",
    "directly from the Python interpreter**, your module is named `__main__`.\n",
    "Let's place our `print` function inside of another function.  Change\n",
    "`simply.py` like the sample below."
   ]
  },
  {
   "cell_type": "code",
   "execution_count": 9,
   "metadata": {},
   "outputs": [
    {
     "name": "stdout",
     "output_type": "stream",
     "text": [
      "__main__\n"
     ]
    }
   ],
   "source": [
    "def show_module_name():\n",
    "   print(__name__)\n",
    "\n",
    "show_module_name()"
   ]
  },
  {
   "cell_type": "markdown",
   "metadata": {},
   "source": [
    "You can see above that when the function is defined interactively\n",
    "from the command line, we're still executing within the `__main__`\n",
    "module.  Verify the same behavior from your OS command line by\n",
    "running\n",
    "\n",
    "```\n",
    "python simple.py\n",
    "```\n",
    "\n",
    "The result should still be `__main__` since we invoked our new\n",
    "version of `simple.py` directly from the Python interpreter.  The\n",
    "fact that we called another method before printing the value does\n",
    "not change anything.  At this point we have two things in the\n",
    "`__main__` module.\n",
    "\n",
    "1. An attribute named `__name__` with the value `__main__`.\n",
    "2. A function we defined named `show_module_name`.\n",
    "\n",
    "Because our code runs in the `__main__` module, we don't need to\n",
    "provide the module name while referencing these two things.  They\n",
    "are available to us unqualified.\n",
    "\n",
    "Now let's make things more interesting.  Start your IPython shell\n",
    "again.  You should be starting from the directory that contains\n",
    "your script `simple.py`.  Try running your function.\n",
    "\n",
    "Strike 1!  You've done nothing to load your module into your\n",
    "current Python environment.  Execute the following in your\n",
    "IPython sessions.  Note that we do **not** specify the `.py` \n",
    "file extension.  Just the base name.\n",
    "\n",
    "```\n",
    "import simple\n",
    "show_module_name()\n",
    "```\n",
    "\n",
    "Strike 2!  The `simple` module is available.  But it's components\n",
    "must be qualified with the module name to reference them.  Now try\n",
    "this.\n",
    "\n",
    "```\n",
    "simple.show_module_name()\n",
    "```\n",
    "\n",
    "It should respond with `simple`, because that's the module name for\n",
    "the `simple.show_module_name()` function.  You've just created and\n",
    "invoked your own module.  Let's review the steps.\n",
    "\n",
    "1. Create a Python script file with your function definitions.\n",
    "   The name should end with `.py`.\n",
    "2. Start your Python interpreter.\n",
    "3. Import your module using the base name of the file.\n",
    "4. Invoke your functions qualified by your module name.\n",
    "\n",
    "### Module or Script?\n",
    "\n",
    "We've seen that creating a module is as simple is creating a script.\n",
    "But sometimes we want to do things differently depending on whether\n",
    "we're called directly as a script versus as a module called by another\n",
    "script.  For example, look back at your IPython window.  Notice\n",
    "how when you imported `simple`, the result was printing out the\n",
    "module name.  That's because importing the module executes the\n",
    "whole Python program **once**.  Most modules just define things.\n",
    "But the last line of `simple.py` executes `show_module_name()`\n",
    "after the definition.  That's what we wanted when executing the\n",
    "script from the OS command line: `python simple.py`.  But when\n",
    "we load the `simple` module, we don't want the method executed\n",
    "until we call it.  We want to make the invocation of `show_module_name`\n",
    "conditional on whether it was **called from a script** or\n",
    "**is the script**.\n",
    "\n",
    "The stock way of doing this is to compare the module name with\n",
    "`__main__`.  If your module's `__name__` attribute is `__main__`,\n",
    "then your module is being invoked as a top-level Python script.\n",
    "Unless you execute some commands, your script will simply define\n",
    "some functions and then execute without doing anything.  On the\n",
    "otherhand, when other Python modules import your module, they\n",
    "do for access to your module's functions.  They usually prefer\n",
    "to be the ones doing the function calling; not your module.\n",
    "\n",
    "Let's implement this with `simple.py`.\n",
    "Exit your IPython shell and change `simple.py` to the following.\n",
    "\n",
    "```\n",
    "def show_module_name():\n",
    "   print(__name__)\n",
    "\n",
    "if __name__ == '__main__':\n",
    "   show_module_name()\n",
    "else:\n",
    "   print(\"Loaded 'simple' version 1.0\")\n",
    "```\n",
    "\n",
    "First run the script from your OS prompt: `python simple.py`\n",
    "\n",
    "You should see the `__main__` module name print since `simple.py`\n",
    "was loaded directly by the interpreter.  Now start the IPython\n",
    "shell in interactive mode and import the module.\n",
    "\n",
    "```\n",
    ">>> import simple\n",
    "Loaded 'simple' version 1.0\n",
    ">>> simple.show_module_name()\n",
    "simple\n",
    "```\n",
    "\n",
    "You can see the import of `simple` responded with a version\n",
    "message.  But the `show_module_name()` function didn't run\n",
    "until we called it explicitly.  Often there is no **else**\n",
    "clause; it's good to have your module load as silently as\n",
    "possible when there are no errors.\n",
    "\n",
    "\n",
    "### Module Aliases\n",
    "\n",
    "Recall how we assigned NumPy and pandas the aliases of `np` and `pd`\n",
    "respectively to save on typing.  You can do the same with your\n",
    "aliases.\n",
    "\n",
    "```\n",
    "In [1]: import simple as si\n",
    "simple\n",
    "\n",
    "In [2]: si.show_module_name()\n",
    "simple\n",
    "```\n",
    "\n",
    "Note that the alias `si` doesn't change the name of the module,\n",
    "just the local alias by which we reference the module."
   ]
  },
  {
   "cell_type": "markdown",
   "metadata": {},
   "source": [
    "## Namespaces and Scopes\n",
    "\n",
    "There are at least three scopes for any code being executed by\n",
    "a Python interpreter.\n",
    "\n",
    "1. __local scope__ - This may be in a code block or at the\n",
    "   top level of the interpeter.\n",
    "2. __enclosing functions__ - This refers to variables within\n",
    "   enclosing functions.  This does not refer functions deeper\n",
    "   in the call stack (which is dynamic).\n",
    "3. __next_to_last__ - This is the global scope of the current\n",
    "   module.\n",
    "4. __outermost__ - This is the scope of the **builtin** functions.\n",
    "\n",
    "There are at least three, because there can be zero to many enclosing\n",
    "functions.  But the `builtin` scope is always there; we saw from the\n",
    "last section that we're always in a module; and we always have a local\n",
    "scope where new variables get created.  (It may be that we haven't\n",
    "added any variables to this local scope, but the scope is still there.)\n",
    "\n",
    "While the scopes listed above are hierarchical, namespaces are not.\n",
    "Each module defines its own namespace and there is only one namespace\n",
    "excecuting at any given moment."
   ]
  },
  {
   "cell_type": "markdown",
   "metadata": {
    "collapsed": true
   },
   "source": [
    "## Classes\n",
    "\n",
    "Let's create a class that reads some crime data and makes\n",
    "it available through some methods.  We'll use a dataset\n",
    "that is available in R distributions as `USArrests`.\n",
    "It's a table of arrests by state for various crimes\n",
    "recorded in 1973."
   ]
  },
  {
   "cell_type": "code",
   "execution_count": 10,
   "metadata": {},
   "outputs": [
    {
     "data": {
      "text/html": [
       "<div>\n",
       "<table border=\"1\" class=\"dataframe\">\n",
       "  <thead>\n",
       "    <tr style=\"text-align: right;\">\n",
       "      <th></th>\n",
       "      <th>State</th>\n",
       "      <th>Murder</th>\n",
       "      <th>Assault</th>\n",
       "      <th>UrbanPop</th>\n",
       "      <th>Rape</th>\n",
       "    </tr>\n",
       "  </thead>\n",
       "  <tbody>\n",
       "    <tr>\n",
       "      <th>0</th>\n",
       "      <td>Alabama</td>\n",
       "      <td>13.2</td>\n",
       "      <td>236</td>\n",
       "      <td>58</td>\n",
       "      <td>21.2</td>\n",
       "    </tr>\n",
       "    <tr>\n",
       "      <th>1</th>\n",
       "      <td>Alaska</td>\n",
       "      <td>10.0</td>\n",
       "      <td>263</td>\n",
       "      <td>48</td>\n",
       "      <td>44.5</td>\n",
       "    </tr>\n",
       "    <tr>\n",
       "      <th>2</th>\n",
       "      <td>Arizona</td>\n",
       "      <td>8.1</td>\n",
       "      <td>294</td>\n",
       "      <td>80</td>\n",
       "      <td>31.0</td>\n",
       "    </tr>\n",
       "    <tr>\n",
       "      <th>3</th>\n",
       "      <td>Arkansas</td>\n",
       "      <td>8.8</td>\n",
       "      <td>190</td>\n",
       "      <td>50</td>\n",
       "      <td>19.5</td>\n",
       "    </tr>\n",
       "    <tr>\n",
       "      <th>4</th>\n",
       "      <td>California</td>\n",
       "      <td>9.0</td>\n",
       "      <td>276</td>\n",
       "      <td>91</td>\n",
       "      <td>40.6</td>\n",
       "    </tr>\n",
       "  </tbody>\n",
       "</table>\n",
       "</div>"
      ],
      "text/plain": [
       "        State  Murder  Assault  UrbanPop  Rape\n",
       "0     Alabama    13.2      236        58  21.2\n",
       "1      Alaska    10.0      263        48  44.5\n",
       "2     Arizona     8.1      294        80  31.0\n",
       "3    Arkansas     8.8      190        50  19.5\n",
       "4  California     9.0      276        91  40.6"
      ]
     },
     "execution_count": 10,
     "metadata": {},
     "output_type": "execute_result"
    }
   ],
   "source": [
    "ar = pd.read_csv('USArrests.csv')\n",
    "ar.head()"
   ]
  },
  {
   "cell_type": "markdown",
   "metadata": {},
   "source": [
    "As you can see above, **pandas** already has a class called\n",
    "`DataFrame` that works pretty well.  But we're going to\n",
    "create our own for illustrative purposes.\n",
    "\n",
    "### Aside: Tuples\n",
    "\n",
    "We briefly mentioned tuples before.  But we didn't talk much\n",
    "about unpacking.  This is really helpful when you're dealing\n",
    "with rows that contain fields.  Recall that a tuple look like\n",
    "arrays, but are delimited by `(` and `)` instead of square\n",
    "brackets."
   ]
  },
  {
   "cell_type": "code",
   "execution_count": 11,
   "metadata": {
    "collapsed": true
   },
   "outputs": [],
   "source": [
    "a_tuple = (3, 5, 6, 'hi', 'there', ('x', 'y'))"
   ]
  },
  {
   "cell_type": "markdown",
   "metadata": {},
   "source": [
    "They are very convenient to unpack."
   ]
  },
  {
   "cell_type": "code",
   "execution_count": 12,
   "metadata": {},
   "outputs": [
    {
     "name": "stdout",
     "output_type": "stream",
     "text": [
      "3 5 6 hi there ('x', 'y')\n"
     ]
    }
   ],
   "source": [
    "three = a_tuple[0]  # Please don't\n",
    "five  = a_tuple[1]  # unpack it\n",
    "six   = a_tuple[2]  # like this\n",
    "hi    = a_tuple[3]  # even\n",
    "there = a_tuple[4]  # though\n",
    "pair  = a_tuple[5]  # you can.\n",
    "\n",
    "three, five, six, hi, there, pair = a_tuple  # Unpack this way.\n",
    "\n",
    "print(three, five, six, hi, there, pair)"
   ]
  },
  {
   "cell_type": "markdown",
   "metadata": {},
   "source": [
    "Tuples are read-only once created."
   ]
  },
  {
   "cell_type": "code",
   "execution_count": 13,
   "metadata": {},
   "outputs": [
    {
     "ename": "TypeError",
     "evalue": "'tuple' object does not support item assignment",
     "output_type": "error",
     "traceback": [
      "\u001b[0;31m---------------------------------------------------------------------------\u001b[0m",
      "\u001b[0;31mTypeError\u001b[0m                                 Traceback (most recent call last)",
      "\u001b[0;32m<ipython-input-13-c7a2076512e7>\u001b[0m in \u001b[0;36m<module>\u001b[0;34m()\u001b[0m\n\u001b[0;32m----> 1\u001b[0;31m \u001b[0ma_tuple\u001b[0m\u001b[0;34m[\u001b[0m\u001b[0;36m2\u001b[0m\u001b[0;34m]\u001b[0m \u001b[0;34m=\u001b[0m \u001b[0;36m4\u001b[0m\u001b[0;34m\u001b[0m\u001b[0m\n\u001b[0m",
      "\u001b[0;31mTypeError\u001b[0m: 'tuple' object does not support item assignment"
     ]
    }
   ],
   "source": [
    "a_tuple[2] = 4"
   ]
  },
  {
   "cell_type": "markdown",
   "metadata": {},
   "source": [
    "### Aside: CSV Module\n",
    "\n",
    "The CSV module provides for parsing of CSV files.\n",
    "It basically makes the result of each row of the\n",
    "file available as a list.  A list can be assigned\n",
    "to a tuple."
   ]
  },
  {
   "cell_type": "code",
   "execution_count": 14,
   "metadata": {},
   "outputs": [
    {
     "data": {
      "text/plain": [
       "['State', 'Murder', 'Assault', 'UrbanPop', 'Rape']"
      ]
     },
     "execution_count": 14,
     "metadata": {},
     "output_type": "execute_result"
    }
   ],
   "source": [
    "import csv\n",
    "states = {}\n",
    "with open('USArrests.csv', newline='') as csvfile:\n",
    "    arrestReader = csv.reader(csvfile)\n",
    "    header = next(arrestReader) # read header\n",
    "    for row in arrestReader:    # row is a list\n",
    "        name = row[0]\n",
    "        states[name] = tuple(row[1:])\n",
    "header"
   ]
  },
  {
   "cell_type": "markdown",
   "metadata": {},
   "source": [
    "Let's recall some things.\n",
    "\n",
    "* The **with** statement is used to scope a resource.\n",
    "  In this case, the resource is a file object named `csvfile`.\n",
    "* The `csv.reader` function wraps a file object with a CSV\n",
    "  interface.  We name this wrapper `arrestReader`.\n",
    "* The first line is header, not data.  We read it outside the\n",
    "  loop using the **next** function.  This function, when\n",
    "  invoked on any Python object that implements the iterator\n",
    "  interface, tells that object to read the current item and\n",
    "  advance the pointer to the next element.\n",
    "* Each `row` instance represents a row from the CSV as a list\n",
    "  of fields.  The first one, `name` will be the key of the\n",
    "  `dict` entry.  The rest will become a `tuple` value."
   ]
  },
  {
   "cell_type": "code",
   "execution_count": 15,
   "metadata": {},
   "outputs": [
    {
     "data": {
      "text/plain": [
       "('8.8', '190', '50', '19.5')"
      ]
     },
     "execution_count": 15,
     "metadata": {},
     "output_type": "execute_result"
    }
   ],
   "source": [
    "states['Arkansas']"
   ]
  },
  {
   "cell_type": "markdown",
   "metadata": {},
   "source": [
    "This is not too bad; so long as we remember the order\n",
    "of the fields.  We can add field names using class\n",
    "from the **collections** module called **namedtuple**.\n",
    "It allows us to name the elements within a tuple."
   ]
  },
  {
   "cell_type": "code",
   "execution_count": 16,
   "metadata": {},
   "outputs": [
    {
     "data": {
      "text/plain": [
       "State(Murder=12.7, Assault=201, UrbanPop=80, Rape=25.5)"
      ]
     },
     "execution_count": 16,
     "metadata": {},
     "output_type": "execute_result"
    }
   ],
   "source": [
    "from collections import namedtuple\n",
    "State = namedtuple('State', 'Murder Assault UrbanPop Rape')\n",
    "tx = State(12.7, 201, 80, 25.5)\n",
    "tx"
   ]
  },
  {
   "cell_type": "markdown",
   "metadata": {},
   "source": [
    "We've, in effect, defined a value object of type `State`.\n",
    "We named the fields with a single string using the space\n",
    "as a separator."
   ]
  },
  {
   "cell_type": "code",
   "execution_count": 17,
   "metadata": {},
   "outputs": [
    {
     "data": {
      "text/plain": [
       "12.7"
      ]
     },
     "execution_count": 17,
     "metadata": {},
     "output_type": "execute_result"
    }
   ],
   "source": [
    "tx.Murder"
   ]
  },
  {
   "cell_type": "markdown",
   "metadata": {},
   "source": [
    "Let's apply this to reading the CSV file.\n",
    "Whereas the **tuple** class accepted a list in its\n",
    "constructor, the **namedtuple** `State` expects \n",
    "four separate parameters.  We convert `row[1:]`\n",
    "from a list to a set of parameters by putting\n",
    "a `*` in front.  This substitutes the elements\n",
    "of the list `row[1:]` into the function call as\n",
    "if they had been placed there individually.\n",
    "The `*` symbol is **not a pointer dereferencing**\n",
    "like in C or C++."
   ]
  },
  {
   "cell_type": "code",
   "execution_count": 18,
   "metadata": {},
   "outputs": [
    {
     "data": {
      "text/plain": [
       "50"
      ]
     },
     "execution_count": 18,
     "metadata": {},
     "output_type": "execute_result"
    }
   ],
   "source": [
    "states = {}\n",
    "with open('USArrests.csv', newline='') as csvfile:\n",
    "    arrestReader = csv.reader(csvfile)\n",
    "    next(arrestReader)         # skip header\n",
    "    for row in arrestReader:   # row is a list\n",
    "        name = row[0]\n",
    "        states[name] = State(*row[1:])\n",
    "len(states)"
   ]
  },
  {
   "cell_type": "code",
   "execution_count": 19,
   "metadata": {},
   "outputs": [
    {
     "data": {
      "text/plain": [
       "'8.8'"
      ]
     },
     "execution_count": 19,
     "metadata": {},
     "output_type": "execute_result"
    }
   ],
   "source": [
    "states['Arkansas'].Murder"
   ]
  },
  {
   "cell_type": "markdown",
   "metadata": {},
   "source": [
    "### Back to the Class\n",
    "\n",
    "Let's create a class that reads crime data from a file\n",
    "and makes certain information about it available through\n",
    "methods."
   ]
  },
  {
   "cell_type": "code",
   "execution_count": 20,
   "metadata": {},
   "outputs": [
    {
     "data": {
      "text/plain": [
       "50"
      ]
     },
     "execution_count": 20,
     "metadata": {},
     "output_type": "execute_result"
    }
   ],
   "source": [
    "import csv\n",
    "from collections import namedtuple\n",
    "\n",
    "State = namedtuple('State', 'Murder Assault UrbanPop Rape')\n",
    "\n",
    "class Crime:\n",
    "    states = {}\n",
    "    \n",
    "    def __init__(self, filename):\n",
    "        self._readfrom = filename\n",
    "        with open(filename, newline='') as csvfile:\n",
    "            arrestReader = csv.reader(csvfile)\n",
    "            next(arrestReader)         # skip header\n",
    "            for row in arrestReader:   # row is a list\n",
    "                name = row[0]\n",
    "                self.states[name] = State(*row[1:])\n",
    "        self._year = 1973\n",
    "\n",
    "    def year(self):\n",
    "        return self._year\n",
    "\n",
    "    def file(self):\n",
    "        return self._readfrom\n",
    "\n",
    "    def __len__(self):\n",
    "        return len(self.states)\n",
    "\n",
    "    def __getitem__(self, name):\n",
    "        return self.states[name]\n",
    "\n",
    "    def __repr__(self):\n",
    "        return \"Crime data from <{}>, year={}\".format(self._readfrom, self._year)\n",
    "\n",
    "    def __str__(self):\n",
    "        return ' '.join(self.states.keys())\n",
    "\n",
    "c1973 = Crime('USArrests.csv')\n",
    "len(c1973)"
   ]
  },
  {
   "cell_type": "markdown",
   "metadata": {},
   "source": [
    "The **class** keyword begins a class definition.\n",
    "There are several things to note.\n",
    "\n",
    "1. Like other kinds of code blocks, the indentation determines\n",
    "   how far the class definition extends.\n",
    "2. The `states` element is a class variable.  It is neither\n",
    "   private nor specific to an instance.\n",
    "3. The `__init__` is the constructor.  The first parameter,\n",
    "   `self` represents a reference to instance content.\n",
    "4. The `self._readfrom` was created without declaring it outside\n",
    "   the `__init__` method.  It will be available for other\n",
    "   instance methods (through the `self` reference).\n",
    "5. All references to instance state must be made through\n",
    "   the `self` reference.  You'll remember this after you\n",
    "   screw it up a few dozen times.\n",
    "6. The `year` and `file` methods are just plain methods.\n",
    "7. The `__len__` special method is invoked on this instance when\n",
    "   consumers of this class invoke `len(myObject)`.  Classes\n",
    "   that have a notion of length implement this.\n",
    "8. The `__getitem__` special method works like a dictionary.\n",
    "9. The `__repr__` special method provides a summary for programmers\n",
    "   using your class.\n",
    "10. The `__str__` special method is used by `print` functions.\n",
    "\n",
    "See the Python API Documentation for a list of\n",
    "[Python special names](https://docs.python.org/3.5/reference/datamodel.html#special-method-names).\n",
    "\n",
    "The Python class model is a big topic; we're only scatching the\n",
    "surface here.  The `__repr__` method is what prints at the command\n",
    "line.  It is meant to be seen by other developers."
   ]
  },
  {
   "cell_type": "code",
   "execution_count": 21,
   "metadata": {},
   "outputs": [
    {
     "data": {
      "text/plain": [
       "Crime data from <USArrests.csv>, year=1973"
      ]
     },
     "execution_count": 21,
     "metadata": {},
     "output_type": "execute_result"
    }
   ],
   "source": [
    "c1973"
   ]
  },
  {
   "cell_type": "markdown",
   "metadata": {},
   "source": [
    "In contrast, the `__str__` method is what results from passing\n",
    "the object to the `print` method."
   ]
  },
  {
   "cell_type": "code",
   "execution_count": 22,
   "metadata": {},
   "outputs": [
    {
     "name": "stdout",
     "output_type": "stream",
     "text": [
      "North Carolina Ohio Washington Kansas New Hampshire Georgia North Dakota Missouri Idaho Hawaii Colorado Texas Maine Massachusetts Indiana Vermont Illinois Michigan New York New Mexico Nevada Oklahoma Rhode Island Wisconsin Delaware Utah Maryland Nebraska Alabama Connecticut Pennsylvania Arizona South Dakota Wyoming Alaska South Carolina New Jersey Mississippi Tennessee Montana Arkansas West Virginia California Kentucky Louisiana Minnesota Iowa Oregon Virginia Florida\n"
     ]
    }
   ],
   "source": [
    "print(c1973)"
   ]
  },
  {
   "cell_type": "markdown",
   "metadata": {},
   "source": [
    "The `__getitem__` is invoked when an instance is indexed like a dictionary."
   ]
  },
  {
   "cell_type": "code",
   "execution_count": 23,
   "metadata": {},
   "outputs": [
    {
     "data": {
      "text/plain": [
       "State(Murder='6', Assault='115', UrbanPop='66', Rape='18')"
      ]
     },
     "execution_count": 23,
     "metadata": {},
     "output_type": "execute_result"
    }
   ],
   "source": [
    "c1973['Kansas']"
   ]
  },
  {
   "cell_type": "markdown",
   "metadata": {},
   "source": [
    "The other methods, such as `file` are not *special*.\n",
    "They are invoked on the object."
   ]
  },
  {
   "cell_type": "code",
   "execution_count": 24,
   "metadata": {},
   "outputs": [
    {
     "data": {
      "text/plain": [
       "'USArrests.csv'"
      ]
     },
     "execution_count": 24,
     "metadata": {},
     "output_type": "execute_result"
    }
   ],
   "source": [
    "c1973.file()"
   ]
  },
  {
   "cell_type": "markdown",
   "metadata": {},
   "source": [
    "You can also invoke the class directly, passing in the\n",
    "instance explicitly."
   ]
  },
  {
   "cell_type": "code",
   "execution_count": 25,
   "metadata": {},
   "outputs": [
    {
     "data": {
      "text/plain": [
       "'USArrests.csv'"
      ]
     },
     "execution_count": 25,
     "metadata": {},
     "output_type": "execute_result"
    }
   ],
   "source": [
    "Crime.file(c1973)"
   ]
  },
  {
   "cell_type": "markdown",
   "metadata": {},
   "source": [
    "This was a very brief look at classes.\n",
    "There are all kinds of special methods your class can\n",
    "implement to make it seemlessly integrate with the\n",
    "Python universe."
   ]
  },
  {
   "cell_type": "markdown",
   "metadata": {},
   "source": [
    "----------------\n",
    "End of Workshop 5"
   ]
  }
 ],
 "metadata": {
  "kernelspec": {
   "display_name": "Python 3",
   "language": "python",
   "name": "python3"
  },
  "language_info": {
   "codemirror_mode": {
    "name": "ipython",
    "version": 3
   },
   "file_extension": ".py",
   "mimetype": "text/x-python",
   "name": "python",
   "nbconvert_exporter": "python",
   "pygments_lexer": "ipython3",
   "version": "3.5.4"
  }
 },
 "nbformat": 4,
 "nbformat_minor": 1
}
