{
 "cells": [
  {
   "cell_type": "markdown",
   "metadata": {},
   "source": [
    "R Workshop 3\n",
    "=======\n",
    "\n",
    "June 21, 2017\n",
    "\n",
    "\n",
    "# Review from Workshop 2\n",
    "\n",
    "## Factors and Tabulations\n",
    "\n",
    "Last time we introduced the concept of a **factor** variable and used\n",
    "the `ChickWeight` data set to introduce the `table` and `xtabs`\n",
    "functions tabulating them."
   ]
  },
  {
   "cell_type": "code",
   "execution_count": 1,
   "metadata": {},
   "outputs": [
    {
     "data": {
      "text/html": [
       "<table>\n",
       "<thead><tr><th scope=col>weight</th><th scope=col>Time</th><th scope=col>Chick</th><th scope=col>Diet</th></tr></thead>\n",
       "<tbody>\n",
       "\t<tr><td>42</td><td> 0</td><td>1 </td><td>1 </td></tr>\n",
       "\t<tr><td>51</td><td> 2</td><td>1 </td><td>1 </td></tr>\n",
       "\t<tr><td>59</td><td> 4</td><td>1 </td><td>1 </td></tr>\n",
       "\t<tr><td>64</td><td> 6</td><td>1 </td><td>1 </td></tr>\n",
       "\t<tr><td>76</td><td> 8</td><td>1 </td><td>1 </td></tr>\n",
       "\t<tr><td>93</td><td>10</td><td>1 </td><td>1 </td></tr>\n",
       "</tbody>\n",
       "</table>\n"
      ],
      "text/latex": [
       "\\begin{tabular}{r|llll}\n",
       " weight & Time & Chick & Diet\\\\\n",
       "\\hline\n",
       "\t 42 &  0 & 1  & 1 \\\\\n",
       "\t 51 &  2 & 1  & 1 \\\\\n",
       "\t 59 &  4 & 1  & 1 \\\\\n",
       "\t 64 &  6 & 1  & 1 \\\\\n",
       "\t 76 &  8 & 1  & 1 \\\\\n",
       "\t 93 & 10 & 1  & 1 \\\\\n",
       "\\end{tabular}\n"
      ],
      "text/markdown": [
       "\n",
       "weight | Time | Chick | Diet | \n",
       "|---|---|---|---|---|---|\n",
       "| 42 |  0 | 1  | 1  | \n",
       "| 51 |  2 | 1  | 1  | \n",
       "| 59 |  4 | 1  | 1  | \n",
       "| 64 |  6 | 1  | 1  | \n",
       "| 76 |  8 | 1  | 1  | \n",
       "| 93 | 10 | 1  | 1  | \n",
       "\n",
       "\n"
      ],
      "text/plain": [
       "  weight Time Chick Diet\n",
       "1 42      0   1     1   \n",
       "2 51      2   1     1   \n",
       "3 59      4   1     1   \n",
       "4 64      6   1     1   \n",
       "5 76      8   1     1   \n",
       "6 93     10   1     1   "
      ]
     },
     "metadata": {},
     "output_type": "display_data"
    },
    {
     "data": {
      "text/plain": [
       "    Diet\n",
       "Time    1    2    3    4\n",
       "  0   828  407  408  410\n",
       "  2   945  494  504  518\n",
       "  4  1073  598  622  645\n",
       "  6  1269  754  779  839\n",
       "  8  1514  917  984 1056\n",
       "  10 1768 1085 1171 1260"
      ]
     },
     "metadata": {},
     "output_type": "display_data"
    }
   ],
   "source": [
    "cw <- ChickWeight\n",
    "head(cw)\n",
    "head(xtabs(weight ~ Time + Diet, cw))"
   ]
  },
  {
   "cell_type": "markdown",
   "metadata": {},
   "source": [
    "The first parameter to the `xtabs` function is an R *formula*.\n",
    "R formulas pop up in various commands.  The context of the\n",
    "command determines the valid syntax of the formula and how to\n",
    "interpret the formula.  In the context of the `xtabs`\n",
    "command the formula has the following meaning.\n",
    "\n",
    "* __RHS__ - the columns to tabulate.  If there is only one\n",
    "  element on the RHS, the result is a one dimensional vector.\n",
    "  If there are two elements (like the example above), they\n",
    "  should be separated by a `+` and will be arranged as a\n",
    "  table with the first element specifying the rows and the \n",
    "  second element the columns.\n",
    "  \n",
    "* __LHS__ - (*optional*) If absent, the number of entries is\n",
    "  tabulated.  This is helpful for determining whether you\n",
    "  have an equal number of different factors.  If present,\n",
    "  then the values for all the factors combination are summed.\n",
    "  \n",
    "\n",
    "Compare the following.\n",
    "\n",
    "```\n",
    "table(cw$Diet)                  # a 1-d table of Diet counts\n",
    "table(cw$Time)                  # a 1-d table of Time counts\n",
    "table(cw$Time, cw$Diet)         # a 2-d table of Time x Diet counts\n",
    "xtabs( ~ Diet, cw)              # a 1-d table of Diet counts\n",
    "xtabs( ~ Time, cw)              # a 1-d table of Time counts\n",
    "xtabs( ~ Time + Diet, cw)       # a 2-d table of Time x Diet counts\n",
    "xtabs(weight ~ Time + Diet, cw) # a 2-d table of Time x Diet sum of weights\n",
    "```\n",
    "\n",
    "Factor variables are essential to the *split-apply-combine*\n",
    "paradigm that we'll delve into later.\n",
    "\n",
    "## Base Graphics\n",
    "\n",
    "In the last workshop I described three plotting systems in R at a high level.\n",
    "\n",
    "1. __Base__ - The name \"base\" belies its capabilities.\n",
    "   There are many fancy things you can do with the base\n",
    "   package.  The base plot does not need to be imported.\n",
    "\n",
    "2. __Lattice__ - This specialized plotting system is designed to\n",
    "   present a grid of plots, where each square is a \n",
    "   different aspect of the data.\n",
    "   \n",
    "3. __ggplot2__ - The Grammar of Graphics is becoming the\n",
    "   plotting system of choice for many R applications.\n",
    "   It's not as immediately intuitive as base plot.  But\n",
    "   its power soon becomes apparent and it's sometimes\n",
    "   difficult to go back.\n",
    "\n",
    "I don't recommend learning more than one package at a time.\n",
    "It's so easy to confuse options between them that you find\n",
    "it difficult to get far with any of them.  We'll focus\n",
    "on base plot through the summer and start ggplot in the Fall.\n",
    "\n",
    "We introduced base graphics through the single variable\n",
    "plotting functions `stripchart` and `dotchart`.  We ran\n",
    "out of time before the end of this topic, so let's review\n",
    "it and finish it up.\n",
    "\n",
    "For this topic, we've been following Chapter 3 and 4 of\n",
    "the O'Reilly book\n",
    "*Graphing Data with R* by John Jay Hilfiger.  We saw the\n",
    "`stripchart` function was a very basic but quick way to\n",
    "visualize how a set of numbers is distributed."
   ]
  },
  {
   "cell_type": "code",
   "execution_count": 2,
   "metadata": {},
   "outputs": [
    {
     "data": {
      "image/png": "[encoded data removed]",
      "text/plain": [
       "plot without title"
      ]
     },
     "metadata": {},
     "output_type": "display_data"
    }
   ],
   "source": [
    "options(repr.plot.width=5, repr.plot.height=4)\n",
    "stripchart(trees$Volume, method='jitter')"
   ]
  },
  {
   "cell_type": "markdown",
   "metadata": {},
   "source": [
    "Note how the points are hollow squares.\n",
    "We can change this default for most plots by \n",
    "including the Plot CHaracter argument, pch.\n",
    "Run `?pch` for a table of *pch* values.\n",
    "\n",
    "We ran out of time viewing **USArrests**\n",
    "data with the `dotchart` function.\n",
    "We had gotten as far as printing labels that didn't\n",
    "overlap each other."
   ]
  },
  {
   "cell_type": "code",
   "execution_count": 3,
   "metadata": {},
   "outputs": [
    {
     "data": {
      "image/png": "[encoded data removed]",
      "text/plain": [
       "plot without title"
      ]
     },
     "metadata": {},
     "output_type": "display_data"
    }
   ],
   "source": [
    "dotchart(USArrests$Murder, labels=row.names(USArrests), cex=.5)"
   ]
  },
  {
   "cell_type": "markdown",
   "metadata": {},
   "source": [
    "The entries are ordered alphabetically by state.\n",
    "Let's order them quantitatively.  The `order` function\n",
    "is used to obtain a list of indices ordered by a set\n",
    "of criteria."
   ]
  },
  {
   "cell_type": "code",
   "execution_count": 4,
   "metadata": {},
   "outputs": [
    {
     "data": {
      "text/html": [
       "<ol class=list-inline>\n",
       "\t<li>34</li>\n",
       "\t<li>19</li>\n",
       "\t<li>29</li>\n",
       "\t<li>15</li>\n",
       "\t<li>45</li>\n",
       "\t<li>12</li>\n",
       "\t<li>49</li>\n",
       "\t<li>23</li>\n",
       "\t<li>44</li>\n",
       "\t<li>7</li>\n",
       "</ol>\n"
      ],
      "text/latex": [
       "\\begin{enumerate*}\n",
       "\\item 34\n",
       "\\item 19\n",
       "\\item 29\n",
       "\\item 15\n",
       "\\item 45\n",
       "\\item 12\n",
       "\\item 49\n",
       "\\item 23\n",
       "\\item 44\n",
       "\\item 7\n",
       "\\end{enumerate*}\n"
      ],
      "text/markdown": [
       "1. 34\n",
       "2. 19\n",
       "3. 29\n",
       "4. 15\n",
       "5. 45\n",
       "6. 12\n",
       "7. 49\n",
       "8. 23\n",
       "9. 44\n",
       "10. 7\n",
       "\n",
       "\n"
      ],
      "text/plain": [
       " [1] 34 19 29 15 45 12 49 23 44  7"
      ]
     },
     "metadata": {},
     "output_type": "display_data"
    }
   ],
   "source": [
    "murder_order <- order(USArrests$Murder)\n",
    "murder_order[1:10]"
   ]
  },
  {
   "cell_type": "markdown",
   "metadata": {},
   "source": [
    "We can then re-order the data using these indices.\n",
    "In the plot below, we added a few more options.\n",
    "\n",
    "* `main` and `xlab` for labels\n",
    "* `cex.main` and `cex.lab` to override `cex` for specific cases\n",
    "* `col` for color"
   ]
  },
  {
   "cell_type": "code",
   "execution_count": 5,
   "metadata": {},
   "outputs": [
    {
     "data": {
      "image/png": "[encoded data removed]",
      "text/plain": [
       "Plot with title “Murder arrests by state, 1973”"
      ]
     },
     "metadata": {},
     "output_type": "display_data"
    }
   ],
   "source": [
    "arrests2 <- USArrests[murder_order,]\n",
    "dotchart(arrests2$Murder, labels=row.names(arrests2), cex=.5,\n",
    "         main=\"Murder arrests by state, 1973\",\n",
    "         xlab=\"Murder arrests per 100,000 population\",\n",
    "         col=c(\"brown2\", \"slateblue2\"),\n",
    "         cex.main=2, cex.lab=1.5, pch=19)"
   ]
  },
  {
   "cell_type": "markdown",
   "metadata": {},
   "source": [
    "The `col` parameter is a recycled vector.  The length of the\n",
    "parameter must divide the number of rows (in this case 50).\n",
    "A single color will be repeated 50 times.  A pair of colors\n",
    "will alternate.  Run `demo(colors)` at your command line and \n",
    "pick five colors to place in your `col` vector.\n",
    "\n",
    "## Math\n",
    "\n",
    "Last time we introduced the formulas for expectation\n",
    "and variance for a discrete random variable.  We\n",
    "derived a short cut for the variance.\n",
    "\n",
    "$$\n",
    "\\mbox{Var}[X] = E[X^2] - E[X]^2\n",
    "$$\n",
    "\n",
    "We derived the expected value for the discrete uniform\n",
    "distribution and found it was what we intuitively expected.\n",
    "\n",
    "$$\n",
    "E[X] = \\frac{n+1}{2}\n",
    "$$\n",
    "\n",
    "where X is a random variable with equal probability for\n",
    "integers between 1 and $n$.  The variance was a bit tougher.\n",
    "We needed a little help from the following trick.\n",
    "\n",
    "$$\n",
    "\\sum_{k=0}^n k^3 = \\sum_{k=0}^n (k+1)^3 - (n+1)^3\n",
    "$$\n",
    "\n",
    "By expanding the cubic binomial and canceling out the cubic\n",
    "terms, we arrived at the well-known sum-of-squares formula.\n",
    "\n",
    "$$\n",
    "\\sum_{k=1}^n k^2 = \\frac{n(n+1)(2n+1)}{6}\n",
    "$$\n",
    "\n",
    "This expression can then be used in our variance short cut for\n",
    "the discrete uniform distribution.\n",
    "\n",
    "$$\n",
    "\\begin{aligned}\n",
    "\\mbox{Var}[X] &= E[X^2] - E[X]^2 \\\\\n",
    "    &= \\frac{1}{n}\\sum_{i=1}^n i^2 - \\left(\\frac{n+1}{2} \\right)^2 \\\\\n",
    "    &= \\frac{1}{n}\\frac{n(n+1)(2n+1)}{6} - \\frac{n^2 + 2n + 1}{4} \\\\\n",
    "    &= \\frac{2(2n^2 + 2n + n + 1)}{2 \\cdot 6} - \\frac{3n^2 + 6n + 3}{3 \\cdot 4} \\\\\n",
    "    &= \\frac{4n^2 + 6n + 2 - 3n^2 - 6n - 3}{12} \\\\\n",
    "    &= \\frac{n^2-1}{12}\n",
    "\\end{aligned}\n",
    "$$\n",
    "\n",
    "Let's see if there is anything close to what we get with\n",
    "random sampling.  In the last workshop, we introduced\n",
    "the `sample` function.  Let's genenerate 1,000 samples\n",
    "from a uniform distribution of 1 to 20.  We expect\n",
    "\n",
    "$$\n",
    "\\mbox{Var}[X] = \\frac{20^2 -1}{12}\n",
    "$$"
   ]
  },
  {
   "cell_type": "code",
   "execution_count": 6,
   "metadata": {},
   "outputs": [
    {
     "data": {
      "text/html": [
       "33.9257817817818"
      ],
      "text/latex": [
       "33.9257817817818"
      ],
      "text/markdown": [
       "33.9257817817818"
      ],
      "text/plain": [
       "[1] 33.92578"
      ]
     },
     "metadata": {},
     "output_type": "display_data"
    },
    {
     "data": {
      "text/html": [
       "33.25"
      ],
      "text/latex": [
       "33.25"
      ],
      "text/markdown": [
       "33.25"
      ],
      "text/plain": [
       "[1] 33.25"
      ]
     },
     "metadata": {},
     "output_type": "display_data"
    }
   ],
   "source": [
    "uni_sample = sample(1:20, size=1000, replace=TRUE)\n",
    "var(uni_sample)\n",
    "(20**2 - 1)/12"
   ]
  },
  {
   "cell_type": "markdown",
   "metadata": {},
   "source": [
    "That's not too bad.  But that is one of the easier ones.\n",
    "We introduced the\n",
    "*moment generating function* for discrete random variables.\n",
    "\n",
    "$$\n",
    "m_X(t) = E[e^{xt}] = \\sum_{i=-\\infty}^{\\infty} e^{it} f_X(i)\n",
    "$$\n",
    "\n",
    "and noted its utility for generating moments based on analytic\n",
    "function theory.\n",
    "\n",
    "$$\n",
    "E[X] = m_X'(0)\n",
    "$$\n",
    "and\n",
    "$$\n",
    "E[X^2] = m_X''(0)\n",
    "$$\n",
    "\n",
    "where $m'(t)$ and $m''(t)$ are the first and second derivatives with\n",
    "respect to $t$.  We then applied it to the binomial random variable.\n",
    "\n",
    "$$\n",
    "m_X(t) = \\sum_{i=1}^n e^{it} {n \\choose i} p^i q^{n-i}\n",
    "  = \\sum_{i=1}^n {n \\choose i} (pe^t)^i q^{n-i}\n",
    "  = (pe^t + q)^n\n",
    "$$\n",
    "\n",
    "where $q = 1-p$.\n",
    "\n",
    "Our \"assignment\" from the last workshop was to derive the mean and\n",
    "variance via moment generating functions during any boring meetings\n",
    "we attended.  We apply the product rule for derivatives to\n",
    "to find $m_X'(t)$ and $m_X''(t)$.\n",
    "\n",
    "\n",
    "$$\n",
    "\\begin{aligned}\n",
    "m_X'(t) &= n(pe^t+q)^{n-1}pe^t \\\\\n",
    "m_X''(t) &= n(n-1)(pe^t+q)^{n-2}pe^tpe^t + n(pe^t + q)^{n-1}pe^t\n",
    "\\end{aligned}\n",
    "$$\n",
    "\n",
    "It's getting ugly, but now we can substitute $t=0$.\n",
    "\n",
    "$$\n",
    "\\begin{aligned}\n",
    "m_X'(0) &= n(pe^0+q)^{n-1}pe^0 = n(p+q)^{n-1}p = np \\\\\n",
    "m_X''(0) &= n(n-1)(pe^0+q)^{n-2}pe^0pe^0 + n(pe^0 + q)^{n-1}pe^0 \\\\\n",
    "         &= (n^2 - n)pp + np \\\\\n",
    "         &= (np)^2 + npq\n",
    "\\end{aligned}\n",
    "$$\n",
    "\n",
    "We can then plug these two values into our formula for variance.\n",
    "\n",
    "$$\n",
    "\\begin{aligned}\n",
    "\\mbox{Var}[X] &= E[X^2] - E[X]^2 \\\\\n",
    "   &= \\left[(np)^2 + npq \\right] - \\left[ (np)^2 \\right] \\\\\n",
    "   &= npq\n",
    "\\end{aligned}\n",
    "$$\n",
    "\n",
    "This verifies the fact that a binomial random variable with\n",
    "$n$ trials, each with probability $p$ of success, has $np$ for\n",
    "the expected number of successes and a variance of $np(1-p)$."
   ]
  },
  {
   "cell_type": "markdown",
   "metadata": {},
   "source": [
    "# Split, Apply, and Combine\n",
    "\n",
    "Last week we introduced factor variables and the functions\n",
    "`table` and `xtabs` to demonstrate tabulation capabilities.\n",
    "Factor variables are also fundamental to another paradigm\n",
    "known as *split, apply, and combine*.  It's a simple concept:\n",
    "\n",
    "1. Split a vector or data frame into parts.\n",
    "2. Apply a function to each part, usually one that reduces the\n",
    "   part to a single number or row.\n",
    "3. Combine the \"part-reductions\" into a new thing.\n",
    "\n",
    "There are R commands that can perform all steps with one\n",
    "invocation.  But first we'll introduce each of these steps\n",
    "in its own section; then tie them all together at the end.\n",
    "\n",
    "## Split\n",
    "\n",
    "Factor variables are a useful tool in splitting a dataset.\n",
    "Often the dataset is a data frame and there is a factor\n",
    "variable with a value for each row of the data frame.  The\n",
    "`InsectSprays` dataset provides a convenient example."
   ]
  },
  {
   "cell_type": "code",
   "execution_count": 7,
   "metadata": {},
   "outputs": [
    {
     "data": {
      "text/html": [
       "<table>\n",
       "<thead><tr><th scope=col>count</th><th scope=col>spray</th></tr></thead>\n",
       "<tbody>\n",
       "\t<tr><td>10</td><td>A </td></tr>\n",
       "\t<tr><td> 7</td><td>A </td></tr>\n",
       "\t<tr><td>20</td><td>A </td></tr>\n",
       "\t<tr><td>14</td><td>A </td></tr>\n",
       "\t<tr><td>14</td><td>A </td></tr>\n",
       "\t<tr><td>12</td><td>A </td></tr>\n",
       "</tbody>\n",
       "</table>\n"
      ],
      "text/latex": [
       "\\begin{tabular}{r|ll}\n",
       " count & spray\\\\\n",
       "\\hline\n",
       "\t 10 & A \\\\\n",
       "\t  7 & A \\\\\n",
       "\t 20 & A \\\\\n",
       "\t 14 & A \\\\\n",
       "\t 14 & A \\\\\n",
       "\t 12 & A \\\\\n",
       "\\end{tabular}\n"
      ],
      "text/markdown": [
       "\n",
       "count | spray | \n",
       "|---|---|---|---|---|---|\n",
       "| 10 | A  | \n",
       "|  7 | A  | \n",
       "| 20 | A  | \n",
       "| 14 | A  | \n",
       "| 14 | A  | \n",
       "| 12 | A  | \n",
       "\n",
       "\n"
      ],
      "text/plain": [
       "  count spray\n",
       "1 10    A    \n",
       "2  7    A    \n",
       "3 20    A    \n",
       "4 14    A    \n",
       "5 14    A    \n",
       "6 12    A    "
      ]
     },
     "metadata": {},
     "output_type": "display_data"
    },
    {
     "data": {
      "text/html": [
       "<ol class=list-inline>\n",
       "\t<li>'A'</li>\n",
       "\t<li>'B'</li>\n",
       "\t<li>'C'</li>\n",
       "\t<li>'D'</li>\n",
       "\t<li>'E'</li>\n",
       "\t<li>'F'</li>\n",
       "</ol>\n"
      ],
      "text/latex": [
       "\\begin{enumerate*}\n",
       "\\item 'A'\n",
       "\\item 'B'\n",
       "\\item 'C'\n",
       "\\item 'D'\n",
       "\\item 'E'\n",
       "\\item 'F'\n",
       "\\end{enumerate*}\n"
      ],
      "text/markdown": [
       "1. 'A'\n",
       "2. 'B'\n",
       "3. 'C'\n",
       "4. 'D'\n",
       "5. 'E'\n",
       "6. 'F'\n",
       "\n",
       "\n"
      ],
      "text/plain": [
       "[1] \"A\" \"B\" \"C\" \"D\" \"E\" \"F\""
      ]
     },
     "metadata": {},
     "output_type": "display_data"
    }
   ],
   "source": [
    "head(InsectSprays)\n",
    "levels(InsectSprays$spray)"
   ]
  },
  {
   "cell_type": "markdown",
   "metadata": {
    "collapsed": true
   },
   "source": [
    "Its `spray` column is a factor variable corresponding to an\n",
    "insect repellant brand.  The `count` column represents the\n",
    "number of insects erradicated for a given trial.  The `split`\n",
    "command will split this dataset into a list where each element\n",
    "contains entries for a particular brand.  It takes two arguments.\n",
    "\n",
    "1. the thing to be split (usually a vector or data frame)\n",
    "2. a factor vector with the same length as the first parameter"
   ]
  },
  {
   "cell_type": "code",
   "execution_count": 8,
   "metadata": {},
   "outputs": [
    {
     "data": {
      "text/html": [
       "<ol class=list-inline>\n",
       "\t<li>'A'</li>\n",
       "\t<li>'B'</li>\n",
       "\t<li>'C'</li>\n",
       "\t<li>'D'</li>\n",
       "\t<li>'E'</li>\n",
       "\t<li>'F'</li>\n",
       "</ol>\n"
      ],
      "text/latex": [
       "\\begin{enumerate*}\n",
       "\\item 'A'\n",
       "\\item 'B'\n",
       "\\item 'C'\n",
       "\\item 'D'\n",
       "\\item 'E'\n",
       "\\item 'F'\n",
       "\\end{enumerate*}\n"
      ],
      "text/markdown": [
       "1. 'A'\n",
       "2. 'B'\n",
       "3. 'C'\n",
       "4. 'D'\n",
       "5. 'E'\n",
       "6. 'F'\n",
       "\n",
       "\n"
      ],
      "text/plain": [
       "[1] \"A\" \"B\" \"C\" \"D\" \"E\" \"F\""
      ]
     },
     "metadata": {},
     "output_type": "display_data"
    },
    {
     "data": {
      "text/html": [
       "<table>\n",
       "<thead><tr><th></th><th scope=col>count</th><th scope=col>spray</th></tr></thead>\n",
       "<tbody>\n",
       "\t<tr><th scope=row>25</th><td>0</td><td>C</td></tr>\n",
       "\t<tr><th scope=row>26</th><td>1</td><td>C</td></tr>\n",
       "\t<tr><th scope=row>27</th><td>7</td><td>C</td></tr>\n",
       "\t<tr><th scope=row>28</th><td>2</td><td>C</td></tr>\n",
       "\t<tr><th scope=row>29</th><td>3</td><td>C</td></tr>\n",
       "\t<tr><th scope=row>30</th><td>1</td><td>C</td></tr>\n",
       "</tbody>\n",
       "</table>\n"
      ],
      "text/latex": [
       "\\begin{tabular}{r|ll}\n",
       "  & count & spray\\\\\n",
       "\\hline\n",
       "\t25 & 0 & C\\\\\n",
       "\t26 & 1 & C\\\\\n",
       "\t27 & 7 & C\\\\\n",
       "\t28 & 2 & C\\\\\n",
       "\t29 & 3 & C\\\\\n",
       "\t30 & 1 & C\\\\\n",
       "\\end{tabular}\n"
      ],
      "text/markdown": [
       "\n",
       "| <!--/--> | count | spray | \n",
       "|---|---|---|---|---|---|\n",
       "| 25 | 0 | C | \n",
       "| 26 | 1 | C | \n",
       "| 27 | 7 | C | \n",
       "| 28 | 2 | C | \n",
       "| 29 | 3 | C | \n",
       "| 30 | 1 | C | \n",
       "\n",
       "\n"
      ],
      "text/plain": [
       "   count spray\n",
       "25 0     C    \n",
       "26 1     C    \n",
       "27 7     C    \n",
       "28 2     C    \n",
       "29 3     C    \n",
       "30 1     C    "
      ]
     },
     "metadata": {},
     "output_type": "display_data"
    }
   ],
   "source": [
    "isl <- split(InsectSprays, InsectSprays$spray)\n",
    "names(isl)\n",
    "head(isl[['C']])"
   ]
  },
  {
   "cell_type": "markdown",
   "metadata": {},
   "source": [
    "It was very convenient that the `InsectSprays` data frame had a factor\n",
    "column defined just the way we wanted it.  And fortunately, that's often\n",
    "the case in practice.  But sometimes our data doesn't come with a factor\n",
    "column that we need and we have to make our own.\n",
    "\n",
    "### Generate Levels\n",
    "\n",
    "We can generate a fixed number of levels with the **gl** command.  Its\n",
    "parameters are\n",
    "\n",
    "* `n` - the number of levels to generate for the factor.\n",
    "* `k` - the number of consecutive times each level is repeated.\n",
    "* `l` - *(optional)* the total length, n * k by default.\n",
    "* `labels` - *(optional)* the names of the factors of length n.\n",
    "\n",
    "A few quick examples will help."
   ]
  },
  {
   "cell_type": "code",
   "execution_count": 9,
   "metadata": {},
   "outputs": [
    {
     "data": {
      "text/html": [
       "<ol class=list-inline>\n",
       "\t<li>this</li>\n",
       "\t<li>this</li>\n",
       "\t<li>this</li>\n",
       "\t<li>this</li>\n",
       "\t<li>that</li>\n",
       "\t<li>that</li>\n",
       "\t<li>that</li>\n",
       "\t<li>that</li>\n",
       "</ol>\n"
      ],
      "text/latex": [
       "\\begin{enumerate*}\n",
       "\\item this\n",
       "\\item this\n",
       "\\item this\n",
       "\\item this\n",
       "\\item that\n",
       "\\item that\n",
       "\\item that\n",
       "\\item that\n",
       "\\end{enumerate*}\n"
      ],
      "text/markdown": [
       "1. this\n",
       "2. this\n",
       "3. this\n",
       "4. this\n",
       "5. that\n",
       "6. that\n",
       "7. that\n",
       "8. that\n",
       "\n",
       "\n"
      ],
      "text/plain": [
       "[1] this this this this that that that that\n",
       "Levels: this that"
      ]
     },
     "metadata": {},
     "output_type": "display_data"
    }
   ],
   "source": [
    "gl(2, 4, labels=c('this', 'that'))"
   ]
  },
  {
   "cell_type": "code",
   "execution_count": 10,
   "metadata": {},
   "outputs": [
    {
     "data": {
      "text/html": [
       "<ol class=list-inline>\n",
       "\t<li>this</li>\n",
       "\t<li>that</li>\n",
       "\t<li>this</li>\n",
       "\t<li>that</li>\n",
       "\t<li>this</li>\n",
       "\t<li>that</li>\n",
       "\t<li>this</li>\n",
       "\t<li>that</li>\n",
       "</ol>\n"
      ],
      "text/latex": [
       "\\begin{enumerate*}\n",
       "\\item this\n",
       "\\item that\n",
       "\\item this\n",
       "\\item that\n",
       "\\item this\n",
       "\\item that\n",
       "\\item this\n",
       "\\item that\n",
       "\\end{enumerate*}\n"
      ],
      "text/markdown": [
       "1. this\n",
       "2. that\n",
       "3. this\n",
       "4. that\n",
       "5. this\n",
       "6. that\n",
       "7. this\n",
       "8. that\n",
       "\n",
       "\n"
      ],
      "text/plain": [
       "[1] this that this that this that this that\n",
       "Levels: this that"
      ]
     },
     "metadata": {},
     "output_type": "display_data"
    }
   ],
   "source": [
    "gl(2, 1, 8, labels=c('this', 'that'))"
   ]
  },
  {
   "cell_type": "markdown",
   "metadata": {},
   "source": [
    "### Level Interactions\n",
    "\n",
    "Sometimes you need two factors to *interact*, that is,\n",
    "to create a new factor variable where each value is\n",
    "provided by a combination of two other values.  The\n",
    "**interaction** function provides such an interaction."
   ]
  },
  {
   "cell_type": "code",
   "execution_count": 11,
   "metadata": {},
   "outputs": [
    {
     "data": {
      "text/html": [
       "<ol class=list-inline>\n",
       "\t<li>this</li>\n",
       "\t<li>this</li>\n",
       "\t<li>that</li>\n",
       "\t<li>that</li>\n",
       "</ol>\n"
      ],
      "text/latex": [
       "\\begin{enumerate*}\n",
       "\\item this\n",
       "\\item this\n",
       "\\item that\n",
       "\\item that\n",
       "\\end{enumerate*}\n"
      ],
      "text/markdown": [
       "1. this\n",
       "2. this\n",
       "3. that\n",
       "4. that\n",
       "\n",
       "\n"
      ],
      "text/plain": [
       "[1] this this that that\n",
       "Levels: this that"
      ]
     },
     "metadata": {},
     "output_type": "display_data"
    },
    {
     "data": {
      "text/html": [
       "<ol class=list-inline>\n",
       "\t<li>one</li>\n",
       "\t<li>other</li>\n",
       "</ol>\n"
      ],
      "text/latex": [
       "\\begin{enumerate*}\n",
       "\\item one\n",
       "\\item other\n",
       "\\end{enumerate*}\n"
      ],
      "text/markdown": [
       "1. one\n",
       "2. other\n",
       "\n",
       "\n"
      ],
      "text/plain": [
       "[1] one   other\n",
       "Levels: one other"
      ]
     },
     "metadata": {},
     "output_type": "display_data"
    },
    {
     "data": {
      "text/html": [
       "<ol class=list-inline>\n",
       "\t<li>this.one</li>\n",
       "\t<li>this.other</li>\n",
       "\t<li>that.one</li>\n",
       "\t<li>that.other</li>\n",
       "</ol>\n"
      ],
      "text/latex": [
       "\\begin{enumerate*}\n",
       "\\item this.one\n",
       "\\item this.other\n",
       "\\item that.one\n",
       "\\item that.other\n",
       "\\end{enumerate*}\n"
      ],
      "text/markdown": [
       "1. this.one\n",
       "2. this.other\n",
       "3. that.one\n",
       "4. that.other\n",
       "\n",
       "\n"
      ],
      "text/plain": [
       "[1] this.one   this.other that.one   that.other\n",
       "Levels: this.one that.one this.other that.other"
      ]
     },
     "metadata": {},
     "output_type": "display_data"
    }
   ],
   "source": [
    "f1 <- gl(2, 2, labels=c('this', 'that'))\n",
    "f1\n",
    "f2 <- gl(2, 1, labels=c('one', 'other'))\n",
    "f2\n",
    "interaction(f1, f2)"
   ]
  },
  {
   "cell_type": "markdown",
   "metadata": {},
   "source": [
    "In the example above, `f2` had to be recycled to match the length\n",
    "of `f1`.  The number of distinct interactions is not necessarily\n",
    "the product."
   ]
  },
  {
   "cell_type": "code",
   "execution_count": 12,
   "metadata": {},
   "outputs": [
    {
     "data": {
      "text/html": [
       "<ol class=list-inline>\n",
       "\t<li>this.one</li>\n",
       "\t<li>this.one</li>\n",
       "\t<li>that.other</li>\n",
       "\t<li>that.other</li>\n",
       "</ol>\n"
      ],
      "text/latex": [
       "\\begin{enumerate*}\n",
       "\\item this.one\n",
       "\\item this.one\n",
       "\\item that.other\n",
       "\\item that.other\n",
       "\\end{enumerate*}\n"
      ],
      "text/markdown": [
       "1. this.one\n",
       "2. this.one\n",
       "3. that.other\n",
       "4. that.other\n",
       "\n",
       "\n"
      ],
      "text/plain": [
       "[1] this.one   this.one   that.other that.other\n",
       "Levels: this.one that.one this.other that.other"
      ]
     },
     "metadata": {},
     "output_type": "display_data"
    }
   ],
   "source": [
    "f2 <- gl(2, 2, labels=c('one', 'other'))\n",
    "interaction(f1, f2)"
   ]
  },
  {
   "cell_type": "markdown",
   "metadata": {},
   "source": [
    "### Column Computations\n",
    "\n",
    "You can create factor variables of the right length with computations\n",
    "involving other columns of a data frame.  Let's contrive an example\n",
    "with `InsectSprays` by making a factor variable from the `count` variable\n",
    "modulo 5."
   ]
  },
  {
   "cell_type": "code",
   "execution_count": 13,
   "metadata": {},
   "outputs": [
    {
     "data": {
      "text/html": [
       "<ol class=list-inline>\n",
       "\t<li>one</li>\n",
       "\t<li>three</li>\n",
       "\t<li>one</li>\n",
       "\t<li>five</li>\n",
       "\t<li>five</li>\n",
       "\t<li>three</li>\n",
       "\t<li>one</li>\n",
       "\t<li>four</li>\n",
       "\t<li>three</li>\n",
       "\t<li>one</li>\n",
       "</ol>\n"
      ],
      "text/latex": [
       "\\begin{enumerate*}\n",
       "\\item one\n",
       "\\item three\n",
       "\\item one\n",
       "\\item five\n",
       "\\item five\n",
       "\\item three\n",
       "\\item one\n",
       "\\item four\n",
       "\\item three\n",
       "\\item one\n",
       "\\end{enumerate*}\n"
      ],
      "text/markdown": [
       "1. one\n",
       "2. three\n",
       "3. one\n",
       "4. five\n",
       "5. five\n",
       "6. three\n",
       "7. one\n",
       "8. four\n",
       "9. three\n",
       "10. one\n",
       "\n",
       "\n"
      ],
      "text/plain": [
       " [1] one   three one   five  five  three one   four  three one  \n",
       "Levels: one two three four five"
      ]
     },
     "metadata": {},
     "output_type": "display_data"
    }
   ],
   "source": [
    "cm5 <- factor(InsectSprays$count %% 5, labels=c('one', 'two', 'three', 'four', 'five'))\n",
    "cm5[1:10]"
   ]
  },
  {
   "cell_type": "markdown",
   "metadata": {},
   "source": [
    "The **mtcars** dataset relates attributes of select cars from a 1973\n",
    "issue of Motor Trend magazine."
   ]
  },
  {
   "cell_type": "code",
   "execution_count": 14,
   "metadata": {},
   "outputs": [
    {
     "data": {
      "text/html": [
       "<table>\n",
       "<thead><tr><th></th><th scope=col>mpg</th><th scope=col>cyl</th><th scope=col>disp</th><th scope=col>hp</th><th scope=col>drat</th><th scope=col>wt</th><th scope=col>qsec</th><th scope=col>vs</th><th scope=col>am</th><th scope=col>gear</th><th scope=col>carb</th></tr></thead>\n",
       "<tbody>\n",
       "\t<tr><th scope=row>Mazda RX4</th><td>21.0 </td><td>6    </td><td>160  </td><td>110  </td><td>3.90 </td><td>2.620</td><td>16.46</td><td>0    </td><td>1    </td><td>4    </td><td>4    </td></tr>\n",
       "\t<tr><th scope=row>Mazda RX4 Wag</th><td>21.0 </td><td>6    </td><td>160  </td><td>110  </td><td>3.90 </td><td>2.875</td><td>17.02</td><td>0    </td><td>1    </td><td>4    </td><td>4    </td></tr>\n",
       "\t<tr><th scope=row>Datsun 710</th><td>22.8 </td><td>4    </td><td>108  </td><td> 93  </td><td>3.85 </td><td>2.320</td><td>18.61</td><td>1    </td><td>1    </td><td>4    </td><td>1    </td></tr>\n",
       "\t<tr><th scope=row>Hornet 4 Drive</th><td>21.4 </td><td>6    </td><td>258  </td><td>110  </td><td>3.08 </td><td>3.215</td><td>19.44</td><td>1    </td><td>0    </td><td>3    </td><td>1    </td></tr>\n",
       "\t<tr><th scope=row>Hornet Sportabout</th><td>18.7 </td><td>8    </td><td>360  </td><td>175  </td><td>3.15 </td><td>3.440</td><td>17.02</td><td>0    </td><td>0    </td><td>3    </td><td>2    </td></tr>\n",
       "\t<tr><th scope=row>Valiant</th><td>18.1 </td><td>6    </td><td>225  </td><td>105  </td><td>2.76 </td><td>3.460</td><td>20.22</td><td>1    </td><td>0    </td><td>3    </td><td>1    </td></tr>\n",
       "</tbody>\n",
       "</table>\n"
      ],
      "text/latex": [
       "\\begin{tabular}{r|lllllllllll}\n",
       "  & mpg & cyl & disp & hp & drat & wt & qsec & vs & am & gear & carb\\\\\n",
       "\\hline\n",
       "\tMazda RX4 & 21.0  & 6     & 160   & 110   & 3.90  & 2.620 & 16.46 & 0     & 1     & 4     & 4    \\\\\n",
       "\tMazda RX4 Wag & 21.0  & 6     & 160   & 110   & 3.90  & 2.875 & 17.02 & 0     & 1     & 4     & 4    \\\\\n",
       "\tDatsun 710 & 22.8  & 4     & 108   &  93   & 3.85  & 2.320 & 18.61 & 1     & 1     & 4     & 1    \\\\\n",
       "\tHornet 4 Drive & 21.4  & 6     & 258   & 110   & 3.08  & 3.215 & 19.44 & 1     & 0     & 3     & 1    \\\\\n",
       "\tHornet Sportabout & 18.7  & 8     & 360   & 175   & 3.15  & 3.440 & 17.02 & 0     & 0     & 3     & 2    \\\\\n",
       "\tValiant & 18.1  & 6     & 225   & 105   & 2.76  & 3.460 & 20.22 & 1     & 0     & 3     & 1    \\\\\n",
       "\\end{tabular}\n"
      ],
      "text/markdown": [
       "\n",
       "| <!--/--> | mpg | cyl | disp | hp | drat | wt | qsec | vs | am | gear | carb | \n",
       "|---|---|---|---|---|---|\n",
       "| Mazda RX4 | 21.0  | 6     | 160   | 110   | 3.90  | 2.620 | 16.46 | 0     | 1     | 4     | 4     | \n",
       "| Mazda RX4 Wag | 21.0  | 6     | 160   | 110   | 3.90  | 2.875 | 17.02 | 0     | 1     | 4     | 4     | \n",
       "| Datsun 710 | 22.8  | 4     | 108   |  93   | 3.85  | 2.320 | 18.61 | 1     | 1     | 4     | 1     | \n",
       "| Hornet 4 Drive | 21.4  | 6     | 258   | 110   | 3.08  | 3.215 | 19.44 | 1     | 0     | 3     | 1     | \n",
       "| Hornet Sportabout | 18.7  | 8     | 360   | 175   | 3.15  | 3.440 | 17.02 | 0     | 0     | 3     | 2     | \n",
       "| Valiant | 18.1  | 6     | 225   | 105   | 2.76  | 3.460 | 20.22 | 1     | 0     | 3     | 1     | \n",
       "\n",
       "\n"
      ],
      "text/plain": [
       "                  mpg  cyl disp hp  drat wt    qsec  vs am gear carb\n",
       "Mazda RX4         21.0 6   160  110 3.90 2.620 16.46 0  1  4    4   \n",
       "Mazda RX4 Wag     21.0 6   160  110 3.90 2.875 17.02 0  1  4    4   \n",
       "Datsun 710        22.8 4   108   93 3.85 2.320 18.61 1  1  4    1   \n",
       "Hornet 4 Drive    21.4 6   258  110 3.08 3.215 19.44 1  0  3    1   \n",
       "Hornet Sportabout 18.7 8   360  175 3.15 3.440 17.02 0  0  3    2   \n",
       "Valiant           18.1 6   225  105 2.76 3.460 20.22 1  0  3    1   "
      ]
     },
     "metadata": {},
     "output_type": "display_data"
    }
   ],
   "source": [
    "head(mtcars)"
   ]
  },
  {
   "cell_type": "markdown",
   "metadata": {},
   "source": [
    "The `cyl` column is the number of cylinders.  The `am` column\n",
    "is whether transmission is manual (0), or automatic (1).  We\n",
    "can create a new factor variable based on the interaction of\n",
    "these two."
   ]
  },
  {
   "cell_type": "code",
   "execution_count": 15,
   "metadata": {},
   "outputs": [
    {
     "data": {
      "text/html": [
       "<ol class=list-inline>\n",
       "\t<li>6.auto</li>\n",
       "\t<li>6.auto</li>\n",
       "\t<li>4.auto</li>\n",
       "\t<li>6.manual</li>\n",
       "\t<li>8.manual</li>\n",
       "\t<li>6.manual</li>\n",
       "\t<li>8.manual</li>\n",
       "\t<li>4.manual</li>\n",
       "\t<li>4.manual</li>\n",
       "\t<li>6.manual</li>\n",
       "\t<li>6.manual</li>\n",
       "\t<li>8.manual</li>\n",
       "\t<li>8.manual</li>\n",
       "\t<li>8.manual</li>\n",
       "\t<li>8.manual</li>\n",
       "\t<li>8.manual</li>\n",
       "\t<li>8.manual</li>\n",
       "\t<li>4.auto</li>\n",
       "\t<li>4.auto</li>\n",
       "\t<li>4.auto</li>\n",
       "\t<li>4.manual</li>\n",
       "\t<li>8.manual</li>\n",
       "\t<li>8.manual</li>\n",
       "\t<li>8.manual</li>\n",
       "\t<li>8.manual</li>\n",
       "\t<li>4.auto</li>\n",
       "\t<li>4.auto</li>\n",
       "\t<li>4.auto</li>\n",
       "\t<li>8.auto</li>\n",
       "\t<li>6.auto</li>\n",
       "\t<li>8.auto</li>\n",
       "\t<li>4.auto</li>\n",
       "</ol>\n"
      ],
      "text/latex": [
       "\\begin{enumerate*}\n",
       "\\item 6.auto\n",
       "\\item 6.auto\n",
       "\\item 4.auto\n",
       "\\item 6.manual\n",
       "\\item 8.manual\n",
       "\\item 6.manual\n",
       "\\item 8.manual\n",
       "\\item 4.manual\n",
       "\\item 4.manual\n",
       "\\item 6.manual\n",
       "\\item 6.manual\n",
       "\\item 8.manual\n",
       "\\item 8.manual\n",
       "\\item 8.manual\n",
       "\\item 8.manual\n",
       "\\item 8.manual\n",
       "\\item 8.manual\n",
       "\\item 4.auto\n",
       "\\item 4.auto\n",
       "\\item 4.auto\n",
       "\\item 4.manual\n",
       "\\item 8.manual\n",
       "\\item 8.manual\n",
       "\\item 8.manual\n",
       "\\item 8.manual\n",
       "\\item 4.auto\n",
       "\\item 4.auto\n",
       "\\item 4.auto\n",
       "\\item 8.auto\n",
       "\\item 6.auto\n",
       "\\item 8.auto\n",
       "\\item 4.auto\n",
       "\\end{enumerate*}\n"
      ],
      "text/markdown": [
       "1. 6.auto\n",
       "2. 6.auto\n",
       "3. 4.auto\n",
       "4. 6.manual\n",
       "5. 8.manual\n",
       "6. 6.manual\n",
       "7. 8.manual\n",
       "8. 4.manual\n",
       "9. 4.manual\n",
       "10. 6.manual\n",
       "11. 6.manual\n",
       "12. 8.manual\n",
       "13. 8.manual\n",
       "14. 8.manual\n",
       "15. 8.manual\n",
       "16. 8.manual\n",
       "17. 8.manual\n",
       "18. 4.auto\n",
       "19. 4.auto\n",
       "20. 4.auto\n",
       "21. 4.manual\n",
       "22. 8.manual\n",
       "23. 8.manual\n",
       "24. 8.manual\n",
       "25. 8.manual\n",
       "26. 4.auto\n",
       "27. 4.auto\n",
       "28. 4.auto\n",
       "29. 8.auto\n",
       "30. 6.auto\n",
       "31. 8.auto\n",
       "32. 4.auto\n",
       "\n",
       "\n"
      ],
      "text/plain": [
       " [1] 6.auto   6.auto   4.auto   6.manual 8.manual 6.manual 8.manual 4.manual\n",
       " [9] 4.manual 6.manual 6.manual 8.manual 8.manual 8.manual 8.manual 8.manual\n",
       "[17] 8.manual 4.auto   4.auto   4.auto   4.manual 8.manual 8.manual 8.manual\n",
       "[25] 8.manual 4.auto   4.auto   4.auto   8.auto   6.auto   8.auto   4.auto  \n",
       "Levels: 4.manual 6.manual 8.manual 4.auto 6.auto 8.auto"
      ]
     },
     "metadata": {},
     "output_type": "display_data"
    }
   ],
   "source": [
    "interaction(mtcars$cyl, factor(mtcars$am, labels=c('manual', 'auto')))"
   ]
  },
  {
   "cell_type": "markdown",
   "metadata": {},
   "source": [
    "We'll revisit this when we're interested in investigating fuel economy\n",
    "based on cylinder and transmission type.\n",
    "\n",
    "--------------\n",
    "We saw how the `split` function performed a split on a data frame based\n",
    "on factor values.  We'll look at a few more commands that also split based\n",
    "on factor values.  The fundamental skill is acquiring the proper factor\n",
    "variable for a desired split.\n",
    "\n",
    "## Apply\n",
    "\n",
    "The apply step applies a function to each element of a list.\n",
    "R provides the **lapply** function for this purpose.  The two required\n",
    "arguments are\n",
    "\n",
    "* an input list\n",
    "* a function to apply to each element of the list\n",
    "\n",
    "The result will be a new list with the same length of the input list.\n",
    "The elements of the new list will be the value of the function applied\n",
    "to elements of the input list.\n",
    "\n",
    "Let's revisit our split on `InsectSprays`.  In the last section we created\n",
    "a variable `isl` which is a list of subsets of `InsectSprays` where each\n",
    "subset is restricted to a particular spray.  Let's create a new list where\n",
    "element corresponds to the mean number of insects erraticated for a spray."
   ]
  },
  {
   "cell_type": "code",
   "execution_count": 16,
   "metadata": {},
   "outputs": [
    {
     "data": {
      "text/html": [
       "<dl>\n",
       "\t<dt>$A</dt>\n",
       "\t\t<dd>14.5</dd>\n",
       "\t<dt>$B</dt>\n",
       "\t\t<dd>15.3333333333333</dd>\n",
       "\t<dt>$C</dt>\n",
       "\t\t<dd>2.08333333333333</dd>\n",
       "\t<dt>$D</dt>\n",
       "\t\t<dd>4.91666666666667</dd>\n",
       "\t<dt>$E</dt>\n",
       "\t\t<dd>3.5</dd>\n",
       "\t<dt>$F</dt>\n",
       "\t\t<dd>16.6666666666667</dd>\n",
       "</dl>\n"
      ],
      "text/latex": [
       "\\begin{description}\n",
       "\\item[\\$A] 14.5\n",
       "\\item[\\$B] 15.3333333333333\n",
       "\\item[\\$C] 2.08333333333333\n",
       "\\item[\\$D] 4.91666666666667\n",
       "\\item[\\$E] 3.5\n",
       "\\item[\\$F] 16.6666666666667\n",
       "\\end{description}\n"
      ],
      "text/markdown": [
       "$A\n",
       ":   14.5\n",
       "$B\n",
       ":   15.3333333333333\n",
       "$C\n",
       ":   2.08333333333333\n",
       "$D\n",
       ":   4.91666666666667\n",
       "$E\n",
       ":   3.5\n",
       "$F\n",
       ":   16.6666666666667\n",
       "\n",
       "\n"
      ],
      "text/plain": [
       "$A\n",
       "[1] 14.5\n",
       "\n",
       "$B\n",
       "[1] 15.33333\n",
       "\n",
       "$C\n",
       "[1] 2.083333\n",
       "\n",
       "$D\n",
       "[1] 4.916667\n",
       "\n",
       "$E\n",
       "[1] 3.5\n",
       "\n",
       "$F\n",
       "[1] 16.66667\n"
      ]
     },
     "metadata": {},
     "output_type": "display_data"
    }
   ],
   "source": [
    "isMeanList <- lapply(isl, function(x) { mean(x$count) })\n",
    "isMeanList"
   ]
  },
  {
   "cell_type": "markdown",
   "metadata": {},
   "source": [
    "Notice the function we passed into `lapply`.\n",
    "\n",
    "* If it was a more complicated function, we might have defined\n",
    "  it separately and simply passed a reference.  Simple computations\n",
    "  are easily defined inline.  This is equivalent to the\n",
    "  currently-fashionable *lambda expressions* in Python and Java.\n",
    "\n",
    "* The function has a single argument.  Its value will be an\n",
    "  element of the input list.  In this case, it's a subset of the\n",
    "  `InsectSprays` data frame consisting of elements with a common\n",
    "  value for the `spray` variable.  That's how we use it within\n",
    "  the function.\n",
    "\n",
    "* The return value of an R function is the value of the last\n",
    "  statement within the function.  The `return` key word is\n",
    "  allowed, but not required.\n",
    "\n",
    "The result, `isMeanList`, has the same number of elements as the\n",
    "input list.  Each element has the same name (`A`, `B`, etc).\n",
    "The difference is that instead of a data frame subset, each\n",
    "element is a number representing the mean value of `count` for\n",
    "that particular spray.\n",
    "\n",
    "## Combine\n",
    "\n",
    "Lists are great for holding intermediate computations of\n",
    "heterogeneous results.  But ultimately, we want the result to\n",
    "either be a data frame or a vector.  Since vectors are atomic\n",
    "(all values are of the same type) the list must be atomic to\n",
    "convert it directly into a vector.  This is the case for our\n",
    "`isMeanList` above.  In this case we can use the `unlist`\n",
    "function to combine the results into a vector."
   ]
  },
  {
   "cell_type": "code",
   "execution_count": 17,
   "metadata": {},
   "outputs": [
    {
     "data": {
      "text/html": [
       "<dl class=dl-horizontal>\n",
       "\t<dt>A</dt>\n",
       "\t\t<dd>14.5</dd>\n",
       "\t<dt>B</dt>\n",
       "\t\t<dd>15.3333333333333</dd>\n",
       "\t<dt>C</dt>\n",
       "\t\t<dd>2.08333333333333</dd>\n",
       "\t<dt>D</dt>\n",
       "\t\t<dd>4.91666666666667</dd>\n",
       "\t<dt>E</dt>\n",
       "\t\t<dd>3.5</dd>\n",
       "\t<dt>F</dt>\n",
       "\t\t<dd>16.6666666666667</dd>\n",
       "</dl>\n"
      ],
      "text/latex": [
       "\\begin{description*}\n",
       "\\item[A] 14.5\n",
       "\\item[B] 15.3333333333333\n",
       "\\item[C] 2.08333333333333\n",
       "\\item[D] 4.91666666666667\n",
       "\\item[E] 3.5\n",
       "\\item[F] 16.6666666666667\n",
       "\\end{description*}\n"
      ],
      "text/markdown": [
       "A\n",
       ":   14.5B\n",
       ":   15.3333333333333C\n",
       ":   2.08333333333333D\n",
       ":   4.91666666666667E\n",
       ":   3.5F\n",
       ":   16.6666666666667\n",
       "\n"
      ],
      "text/plain": [
       "        A         B         C         D         E         F \n",
       "14.500000 15.333333  2.083333  4.916667  3.500000 16.666667 "
      ]
     },
     "metadata": {},
     "output_type": "display_data"
    }
   ],
   "source": [
    "isMean <- unlist(isMeanList)\n",
    "isMean"
   ]
  },
  {
   "cell_type": "markdown",
   "metadata": {},
   "source": [
    "This situation is so common that a companion function `sapply`\n",
    "is provided to automatically perform the `unlist` step in the\n",
    "case where the output is atomic.  The **s** in `sapply` means\n",
    "\"simplify\"."
   ]
  },
  {
   "cell_type": "code",
   "execution_count": 18,
   "metadata": {},
   "outputs": [
    {
     "data": {
      "text/html": [
       "<dl class=dl-horizontal>\n",
       "\t<dt>A</dt>\n",
       "\t\t<dd>14.5</dd>\n",
       "\t<dt>B</dt>\n",
       "\t\t<dd>15.3333333333333</dd>\n",
       "\t<dt>C</dt>\n",
       "\t\t<dd>2.08333333333333</dd>\n",
       "\t<dt>D</dt>\n",
       "\t\t<dd>4.91666666666667</dd>\n",
       "\t<dt>E</dt>\n",
       "\t\t<dd>3.5</dd>\n",
       "\t<dt>F</dt>\n",
       "\t\t<dd>16.6666666666667</dd>\n",
       "</dl>\n"
      ],
      "text/latex": [
       "\\begin{description*}\n",
       "\\item[A] 14.5\n",
       "\\item[B] 15.3333333333333\n",
       "\\item[C] 2.08333333333333\n",
       "\\item[D] 4.91666666666667\n",
       "\\item[E] 3.5\n",
       "\\item[F] 16.6666666666667\n",
       "\\end{description*}\n"
      ],
      "text/markdown": [
       "A\n",
       ":   14.5B\n",
       ":   15.3333333333333C\n",
       ":   2.08333333333333D\n",
       ":   4.91666666666667E\n",
       ":   3.5F\n",
       ":   16.6666666666667\n",
       "\n"
      ],
      "text/plain": [
       "        A         B         C         D         E         F \n",
       "14.500000 15.333333  2.083333  4.916667  3.500000 16.666667 "
      ]
     },
     "metadata": {},
     "output_type": "display_data"
    }
   ],
   "source": [
    "sapply(isl, function(x) { mean(x$count) })"
   ]
  },
  {
   "cell_type": "markdown",
   "metadata": {},
   "source": [
    "---------------------\n",
    "\n",
    "In this workshop we examined each of the split, apply, and combine\n",
    "phases in detail and introduced R functions that applied to each\n",
    "phase.  In the next workshop we'll introduce higher level functions\n",
    "which accomplished multiple phases of the split-apply-combine in a\n",
    "single call."
   ]
  },
  {
   "cell_type": "markdown",
   "metadata": {
    "collapsed": true
   },
   "source": [
    "# More Single Variable Plots\n",
    "\n",
    "In this workshop we'll wrap up our introduction to single variable plots.\n",
    "\n",
    "## Boxplots\n",
    "\n",
    "Box plots are one of the most popular ways to summarize a collection of\n",
    "numbers.  Unlike `stripchart` and `dotchart`, which don't seem (to me)\n",
    "to be as popular as they should be, **boxplot** is a very popular plot\n",
    "form.  Let's boxplot our `InsectSpray` dataset (yes, I used it as a verb)."
   ]
  },
  {
   "cell_type": "code",
   "execution_count": 19,
   "metadata": {},
   "outputs": [
    {
     "data": {
      "image/png": "[encoded data removed]",
      "text/plain": [
       "Plot with title “Insect Spray Erradication Counts”"
      ]
     },
     "metadata": {},
     "output_type": "display_data"
    }
   ],
   "source": [
    "bp <- boxplot(InsectSprays$count, main=\"Insect Spray Erradication Counts\")"
   ]
  },
  {
   "cell_type": "markdown",
   "metadata": {},
   "source": [
    "One of the first things to notice is that I assigned the result\n",
    "of the invocation to a variable `bp`.  This is not often done;\n",
    "I only do it here to help with the discussion."
   ]
  },
  {
   "cell_type": "code",
   "execution_count": 20,
   "metadata": {},
   "outputs": [
    {
     "data": {
      "text/html": [
       "<ol class=list-inline>\n",
       "\t<li>0</li>\n",
       "\t<li>3</li>\n",
       "\t<li>7</li>\n",
       "\t<li>14.5</li>\n",
       "\t<li>26</li>\n",
       "</ol>\n"
      ],
      "text/latex": [
       "\\begin{enumerate*}\n",
       "\\item 0\n",
       "\\item 3\n",
       "\\item 7\n",
       "\\item 14.5\n",
       "\\item 26\n",
       "\\end{enumerate*}\n"
      ],
      "text/markdown": [
       "1. 0\n",
       "2. 3\n",
       "3. 7\n",
       "4. 14.5\n",
       "5. 26\n",
       "\n",
       "\n"
      ],
      "text/plain": [
       "[1]  0.0  3.0  7.0 14.5 26.0"
      ]
     },
     "metadata": {},
     "output_type": "display_data"
    }
   ],
   "source": [
    "bp$stats[1:5]"
   ]
  },
  {
   "cell_type": "markdown",
   "metadata": {},
   "source": [
    "The middle number, 7, represents the median of the erradication counts.\n",
    "This is different from the average.  We've seen the formula for the\n",
    "average.  The median, loosely speaking, is the value of the element in\n",
    "the middle after sorting the values.  Of course, there can only be one\n",
    "\"element in the middle\"\n",
    "if there is an odd number of elements.  If there is an even number,\n",
    "there are two such elements.  In this case, the median is the average\n",
    "of the two elements in the middle.\n",
    "\n",
    "**Note:** I've noticed the definition of *median* is not consistent\n",
    "from one place to the next.  We're working with the definition that\n",
    "R uses.  Things get more complicated (more options) with quartiles\n",
    "and other quantiles.\n",
    "\n",
    "The bold line in the boxplot presents the median.\n",
    "\n",
    "The *boxplot* gets its name from the box inside it.  The lower and\n",
    "upper bounds of this box correspond to the .25 and .75 quantiles\n",
    "respectively.  That is, 25% of the data points lie below the lower\n",
    "border of the box; 75% lie below the upper border of the box.  The\n",
    "region between the lower and upper border is called the\n",
    "**interquartile range**.\n",
    "\n",
    "Let's run these numbers through the **quantile** function to see how\n",
    "they align with the numbers from `bp$stats`."
   ]
  },
  {
   "cell_type": "code",
   "execution_count": 21,
   "metadata": {},
   "outputs": [
    {
     "data": {
      "text/html": [
       "<dl class=dl-horizontal>\n",
       "\t<dt>25%</dt>\n",
       "\t\t<dd>3</dd>\n",
       "\t<dt>50%</dt>\n",
       "\t\t<dd>7</dd>\n",
       "\t<dt>75%</dt>\n",
       "\t\t<dd>14.25</dd>\n",
       "</dl>\n"
      ],
      "text/latex": [
       "\\begin{description*}\n",
       "\\item[25\\textbackslash{}\\%] 3\n",
       "\\item[50\\textbackslash{}\\%] 7\n",
       "\\item[75\\textbackslash{}\\%] 14.25\n",
       "\\end{description*}\n"
      ],
      "text/markdown": [
       "25%\n",
       ":   350%\n",
       ":   775%\n",
       ":   14.25\n",
       "\n"
      ],
      "text/plain": [
       "  25%   50%   75% \n",
       " 3.00  7.00 14.25 "
      ]
     },
     "metadata": {},
     "output_type": "display_data"
    }
   ],
   "source": [
    "quantile(InsectSprays$count, c(1,2,3)/4)"
   ]
  },
  {
   "cell_type": "markdown",
   "metadata": {},
   "source": [
    "It's a little different.\n",
    "\n",
    "| Quantile | `boxplot` | `quantile` |\n",
    "|----------|-----------|------------|\n",
    "| 25%   | 3     | 3     |\n",
    "| 50%   | 7     | 7     |\n",
    "| 75%   | 14.50 | 14.25 |\n",
    "\n",
    "This is nothing to be alarmed about.  Just slightly different ways of\n",
    "thinking about quantiles.  These differences get smaller with larger\n",
    "volumes of data.\n",
    "\n",
    "Finally, in the boxplot above, we have the *wiskers*.  These are\n",
    "short horizontal lines near the top and bottom of the figure extended\n",
    "by dashes away from the box.  The upper wisker is computed in the\n",
    "following way.\n",
    "\n",
    "1. multiple the interquartile range by 1.5,\n",
    "2. add it to the top of the box,\n",
    "3. find the closest data point *below* this.\n",
    "\n",
    "The lower wisker is similar - subtract 1.5 times the interquartile\n",
    "range from the bottom of the box and choose the closest value *above* it.\n",
    "Let's verify these values manually ourselves."
   ]
  },
  {
   "cell_type": "code",
   "execution_count": 22,
   "metadata": {},
   "outputs": [
    {
     "data": {
      "text/html": [
       "<ol class=list-inline>\n",
       "\t<li>-14.25</li>\n",
       "\t<li>31.75</li>\n",
       "</ol>\n"
      ],
      "text/latex": [
       "\\begin{enumerate*}\n",
       "\\item -14.25\n",
       "\\item 31.75\n",
       "\\end{enumerate*}\n"
      ],
      "text/markdown": [
       "1. -14.25\n",
       "2. 31.75\n",
       "\n",
       "\n"
      ],
      "text/plain": [
       "[1] -14.25  31.75"
      ]
     },
     "metadata": {},
     "output_type": "display_data"
    },
    {
     "data": {
      "text/html": [
       "<ol class=list-inline>\n",
       "\t<li>0</li>\n",
       "\t<li>26</li>\n",
       "</ol>\n"
      ],
      "text/latex": [
       "\\begin{enumerate*}\n",
       "\\item 0\n",
       "\\item 26\n",
       "\\end{enumerate*}\n"
      ],
      "text/markdown": [
       "1. 0\n",
       "2. 26\n",
       "\n",
       "\n"
      ],
      "text/plain": [
       "[1]  0 26"
      ]
     },
     "metadata": {},
     "output_type": "display_data"
    }
   ],
   "source": [
    "interQuartileRange <- bp$stats[4] - bp$stats[2]\n",
    "maxTopWisker       <- bp$stats[4] + 1.5 * interQuartileRange\n",
    "minBottomWisker    <- bp$stats[2] - 1.5 * interQuartileRange\n",
    "c(minBottomWisker, maxTopWisker)\n",
    "c(min(InsectSprays$count), max(InsectSprays$count))"
   ]
  },
  {
   "cell_type": "markdown",
   "metadata": {},
   "source": [
    "In this case, the \"min/max wisker range\" is greater than the min/max\n",
    "of the data.  So in this case, the wiskers take the min/max of the data.\n",
    "In cases where the data is more spread apart, some data points will\n",
    "extend past the wiskers.  In that case, they'll be plotted so you can\n",
    "see them.\n",
    "\n",
    "## Boxplots and Factors\n",
    "\n",
    "A single boxplot for a single set of values is fine for a quick look\n",
    "at a distribution.  But in published reports they are usually employed\n",
    "to compare data with different factor values.  In this scenario the\n",
    "`boxplot` function is usually invoked with its formula interface.  For\n",
    "**boxplot formulas** we have\n",
    "\n",
    " * __LHS__ - the numeric values to be boxed\n",
    " * __RHS__ - the factors on which to split the boxes\n",
    " \n",
    " In the case of the `InsectSprays` dataset, instead of considering\n",
    " all counts together, we can split the counts on the brand of spray."
   ]
  },
  {
   "cell_type": "code",
   "execution_count": 23,
   "metadata": {},
   "outputs": [
    {
     "data": {
      "image/png": "[encoded data removed]",
      "text/plain": [
       "plot without title"
      ]
     },
     "metadata": {},
     "output_type": "display_data"
    }
   ],
   "source": [
    "boxplot(count ~ spray, data=InsectSprays)"
   ]
  },
  {
   "cell_type": "markdown",
   "metadata": {},
   "source": [
    "**Exercises**\n",
    "\n",
    "1. Add the `col` parameter to provide color.\n",
    "2. Add more color by making the value of the `col` parameter a vector of colors.\n",
    "3. Add a title using the `main` parameter.\n",
    "4. Use `xlab` and `ylab` to add axis labels.\n",
    "5. After the `boxplot` command, draw a mean line: `abline(h=mean(InsectSprays$counts))`.\n",
    "\n",
    "## Histograms\n",
    "\n",
    "One of the most common single variable plot types is the histogram.\n",
    "In the first workshop we used the `hist` function to compare how well\n",
    "a distribution sampling function compared to the density of the\n",
    "distribution itself (we did it for the binomial distribution).\n",
    "\n",
    "The `hist` function is really good at giving us a quick and dirty\n",
    "look at how values are distributed.  Let's revisit our `trees` dataset\n",
    "that started single variable investigations.  The quick and dirty\n",
    "histogram is\n",
    "\n",
    "```\n",
    "hist(trees$Volume)\n",
    "```\n",
    "\n",
    "But we change a few things.  The most common thing to adjust is the\n",
    "`breaks` parameter."
   ]
  },
  {
   "cell_type": "code",
   "execution_count": 24,
   "metadata": {},
   "outputs": [
    {
     "data": {
      "image/png": "[encoded data removed]",
      "text/plain": [
       "Plot with title “Histogram of trees$Volume”"
      ]
     },
     "metadata": {},
     "output_type": "display_data"
    }
   ],
   "source": [
    "hist(trees$Volume, breaks=20, col='lightblue')"
   ]
  },
  {
   "cell_type": "markdown",
   "metadata": {},
   "source": [
    "By default, the x-axis has the range of values.\n",
    "But you might want to specify it explicitly if you are comparing\n",
    "to other graphs."
   ]
  },
  {
   "cell_type": "code",
   "execution_count": 25,
   "metadata": {},
   "outputs": [
    {
     "data": {
      "image/png": "[encoded data removed]",
      "text/plain": [
       "Plot with title “Histogram of trees$Volume”"
      ]
     },
     "metadata": {},
     "output_type": "display_data"
    }
   ],
   "source": [
    "hist(trees$Volume, breaks=30, col='lightblue', xlim=c(0, 100))"
   ]
  },
  {
   "cell_type": "markdown",
   "metadata": {},
   "source": [
    "Exercise:\n",
    "* Customize the x and y labels with the `xlab` and `ylab` methods."
   ]
  },
  {
   "cell_type": "markdown",
   "metadata": {},
   "source": [
    "# Math\n",
    "\n",
    "## Continuous Distributions\n",
    "\n",
    "The last couple of workshops introduced some discrete random variables\n",
    "such as the bernoulli and the binomial.  The range of values taken by\n",
    "these random variables were non-negative integer counts.  A\n",
    "*continuous random variable* has a range that varies continuously.\n",
    "Example of continuous random variables in practice are time intervals\n",
    "or averages of a collection of counts.\n",
    "\n",
    "Most concepts of continuous distributions are similar to discrete\n",
    "distributions.  But they are different enough to be treated separately\n",
    "in most proofs in Probability and Statistics theory.\n",
    "\n",
    "Cumulative distribution functions (CDFs) are defined the same way for\n",
    "a continuous random variable X.\n",
    "\n",
    "$$\n",
    "F_X(x) = P[X \\le x]\n",
    "$$\n",
    "\n",
    "This makes as much sense for continuous random variables as it does\n",
    "for discrete.  Discrete random variables have the notion of a\n",
    "*probability mass function* that take probability values at each\n",
    "point.  Continuous random variables have a slightly different notion.\n",
    "They define a *probability density function* as the derivative of the\n",
    "continuous CDF.\n",
    "\n",
    "$$\n",
    "f_X(x) = \\frac{dF_X(x)}{dx}\n",
    "$$\n",
    "\n",
    "This leads to an integral relationship that replaces the summation\n",
    "relationship of discrete random variables for $P[a \\lt X \\le b]$.\n",
    "\n",
    "$$\n",
    "\\begin{align}\n",
    "\\mbox{discrete:} \\; &F_X(b) - F_X(a) = \\sum_{a \\lt i \\le b} f_X(i) \\\\\n",
    "\\mbox{continuous:} \\; &F_X(b) - F_X(a) = \\int_b^a \\frac{dF_X}{dt}(t) dt = \\int_b^a f_X(t) dt\n",
    "\\end{align}\n",
    "$$\n",
    "\n",
    "In the discrete case, $f_X(i) = P[X = i]$.  The value of a\n",
    "discrete probability mass function represents the probability of\n",
    "the random variable taking that value.  No such interpretation\n",
    "exists for the continuous case.  Rather, we only speak of intervals\n",
    "in the continuous case.  The probability of a random variable taking\n",
    "any exact value in the continous case is zero if the CDF is continuous.\n",
    "\n",
    "Moment generating functions are defined in a similar way.\n",
    "\n",
    "$$\n",
    "m_X(t) = E[e^{xt}] = \\int e^{xt}f_X(x) dx\n",
    "$$\n",
    "\n",
    "------------------------\n",
    "End of R Workshop 3"
   ]
  }
 ],
 "metadata": {
  "kernelspec": {
   "display_name": "R",
   "language": "R",
   "name": "ir"
  },
  "language_info": {
   "codemirror_mode": "r",
   "file_extension": ".r",
   "mimetype": "text/x-r-source",
   "name": "R",
   "pygments_lexer": "r",
   "version": "3.3.2"
  }
 },
 "nbformat": 4,
 "nbformat_minor": 1
}
