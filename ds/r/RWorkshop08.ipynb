{
 "cells": [
  {
   "cell_type": "markdown",
   "metadata": {},
   "source": [
    "# R Workshop 8\n",
    "\n",
    "## Review\n",
    "\n",
    "In the last workshop we rounded out the **dplyr** functions with\n",
    "\n",
    "* `arrange` - sorting rows,\n",
    "* `select` - restricting columns,\n",
    "* `mutate` - computing new columns,\n",
    "* `transmute` - replacing columns,\n",
    "* `groupby` - specifying groups of rows,\n",
    "* `summarize` - summarizing groups of rows\n",
    "\n",
    "We found that each of these functions is pretty simple on its own.\n",
    "The dataset is always the first argument.  The other parameters\n",
    "determine how to process the data.\n",
    "\n",
    "The real power comes with combining these functions into a **pipeline**.\n",
    "The dplyr pipeline operator is `%>%`.  This is introduced in\n",
    "Section 5.6.1 of **R for Data Science**.\n",
    "\n",
    "<http://r4ds.had.co.nz/transform.html#grouped-summaries-with-summarise>\n",
    "\n",
    "When these functions are cascaded into a dplyr pipeline,\n",
    "the input is implied to come from the previous stage.\n",
    "\n",
    "```\n",
    "result <- mydata    %>%\n",
    "          f1(args1) %>%\n",
    "          f2(args2) %>%\n",
    "          f3(args3)\n",
    "```\n",
    "\n",
    "where `f1`, `f2`, and `f3` are any of the dplyr functions.\n",
    "This is equivalent to the following.\n",
    "\n",
    "```\n",
    "temp1  <- f1(mydata, args1)\n",
    "temp2  <- f2(temp1, args2)\n",
    "result <- f3(temp2, args3)\n",
    "```\n",
    "\n",
    "The pipeline is a bit cleaner in that it\n",
    "\n",
    "* is easier to read, and\n",
    "* reduces temporary variables.\n",
    "\n",
    "The simply example above only seems a bit cleaner;\n",
    "but as the problems get more involved, the improvement\n",
    "is greater."
   ]
  },
  {
   "cell_type": "code",
   "execution_count": 1,
   "metadata": {},
   "outputs": [
    {
     "name": "stderr",
     "output_type": "stream",
     "text": [
      "Loading tidyverse: ggplot2\n",
      "Loading tidyverse: tibble\n",
      "Loading tidyverse: tidyr\n",
      "Loading tidyverse: readr\n",
      "Loading tidyverse: purrr\n",
      "Loading tidyverse: dplyr\n",
      "Conflicts with tidy packages ---------------------------------------------------\n",
      "filter(): dplyr, stats\n",
      "lag():    dplyr, stats\n"
     ]
    }
   ],
   "source": [
    "library(nycflights13)\n",
    "library(tidyverse)"
   ]
  },
  {
   "cell_type": "markdown",
   "metadata": {},
   "source": [
    "Let's dig into the syntax to understand it better and consider\n",
    "what benefits it may have.  First notice the plus sign, `+`, as\n",
    "if we're adding two numbers together.  This is an example of\n",
    "*operator overloading*.  The developers of **ggplot** have overloaded\n",
    "the `+` operator to represent **layering** of plot components.\n",
    "\n",
    "In the above example, there are only two layers.  The first layer\n",
    "assigns the data frame that is the source of the data.  This implies\n",
    "that the source dataset for **ggplot** is always a `data.frame` object;\n",
    "and this is true.  Only `data.frame` objects can be plotted with\n",
    "**ggplot**.  Most **ggplot** invocations will start with a call to the\n",
    "`ggplot` function passing in the source `data.frame` object.  At this\n",
    "point we've provided no information on which parts to render or how\n",
    "to render it.\n",
    "\n",
    "The next layer will generally be a **geom** (pronounced GEE-ohm).\n",
    "It's short for \"geometry\" and represents of type of plot.  The\n",
    "`geom_point` function plots points; the `geom_line` function plots\n",
    "lines.  A rendering can have several geom layers.  The most important\n",
    "parameter to a geom function is the **aesthetic**.  The aesthetic\n",
    "determines which elements of the data frame are mapped to aesthetics\n",
    "of the geom.  The most common aesthetics are `x` and `y` positions.\n",
    "But as we saw in the example above, `color` is also useful.\n",
    "\n",
    "Look at Exercise `1` of Section `3.3.1` in\n",
    "[R for Data Science](http://r4ds.had.co.nz/data-visualisation.html#aesthetic-mappings).\n",
    "This is a good way to avoid a common misunderstanding.\n",
    "\n",
    "```\n",
    "geom_point(mapping = aes(x = displ, y = hwy, color = \"blue\"))\n",
    "```\n",
    "\n",
    "Someone might think this should make all points blue.\n",
    "But an assignment within an aesthetic **always** applies to the\n",
    "underlying data frame.  In this case, it looks for a column in\n",
    "the data frame named `blue` and attempt to set the color based\n",
    "on this (likely non-existing) content.  The intention was probably\n",
    "\n",
    "```\n",
    "geom_point(mapping = aes(x = displ, y = hwy), col = \"blue\")\n",
    "```\n",
    "\n",
    "Notice how the color assignment was done **outside** the `aes`\n",
    "function, but still within the `geom_point` function.\n",
    "\n",
    "Now read through Sections\n",
    "[3.5](http://r4ds.had.co.nz/data-visualisation.html#facets)\n",
    "and\n",
    "[3.6](http://r4ds.had.co.nz/data-visualisation.html#geometric-objects)\n",
    "of the **R for Data Science** Visualization section."
   ]
  },
  {
   "cell_type": "markdown",
   "metadata": {},
   "source": [
    "## R Studio\n",
    "\n",
    "Let's do some work in R Studio and see how it helps us go from\n",
    "free exploration to scripting to documented analysis.\n",
    "We'll explore some data from the LA County Sheriff's Open Data Portal.\n",
    "This data is made available through JSON over HTTP.  Details are\n",
    "provided at the following URL.\n",
    "\n",
    "<https://dev.socrata.com/foundry/data.lacounty.gov/uvdj-ch3p>\n",
    "\n",
    "We'll use the **httr** package to invoke the API and parse the\n",
    "JSON.  The tricky part will involve converting the JSON to a\n",
    "data frame."
   ]
  },
  {
   "cell_type": "code",
   "execution_count": 7,
   "metadata": {},
   "outputs": [
    {
     "data": {
      "text/html": [
       "200"
      ],
      "text/latex": [
       "200"
      ],
      "text/markdown": [
       "200"
      ],
      "text/plain": [
       "[1] 200"
      ]
     },
     "metadata": {},
     "output_type": "display_data"
    }
   ],
   "source": [
    "library(httr)\n",
    "response <- GET('https://data.lacounty.gov/',\n",
    "                path='resource/uvdj-ch3p',\n",
    "                query=list('$limit'='5'),\n",
    "                add_headers(accept='application/json'))\n",
    "response$status_code"
   ]
  },
  {
   "cell_type": "markdown",
   "metadata": {},
   "source": [
    "If the status code is anything other than `200`, we need provide\n",
    "additional handling.  Anything `400` and above usually means an error.\n",
    "The `content` function is part of the **httr** package.  It uses the\n",
    "`Content-Type` response header as a clue on how to parse the content.\n",
    "In the present case, we expect the content type to be `application/json`,\n",
    "which will cause the `content` function to parse the response as JSON.\n",
    "The result will be a list of top level JSON elements, one for each row."
   ]
  },
  {
   "cell_type": "code",
   "execution_count": 8,
   "metadata": {},
   "outputs": [
    {
     "data": {
      "text/html": [
       "5"
      ],
      "text/latex": [
       "5"
      ],
      "text/markdown": [
       "5"
      ],
      "text/plain": [
       "[1] 5"
      ]
     },
     "metadata": {},
     "output_type": "display_data"
    }
   ],
   "source": [
    "result_rows <- content(response)\n",
    "length(result_rows)"
   ]
  },
  {
   "cell_type": "markdown",
   "metadata": {},
   "source": [
    "The number of result rows should equal the limit we placed in the API's URL.\n",
    "In this case, this is `5`.\n",
    "\n",
    "We are presented with a few challenges when trying to wedge `result_rows`\n",
    "into a data frame.\n",
    "\n",
    "1. The first is that `result_rows` is organized by rows.\n",
    "   Each top level element is a row.  But an R `data.frame`, internally,\n",
    "   is a list of columns.  In order to convert `result_rows` to a\n",
    "   `data.frame` we need to somehow exchange rows and columns.\n",
    "\n",
    "2. Not all rows in `result_rows` have the same columns.  Moreover, some\n",
    "   columns have values which are themselves lists.  We need to determine\n",
    "   which columns we want and handle missing values.\n",
    "\n",
    "Let's review the available columns by printing the names of the first row."
   ]
  },
  {
   "cell_type": "code",
   "execution_count": 9,
   "metadata": {},
   "outputs": [
    {
     "data": {
      "text/html": [
       "<ol class=list-inline>\n",
       "\t<li>'city'</li>\n",
       "\t<li>'crime_category_description'</li>\n",
       "\t<li>'crime_category_number'</li>\n",
       "\t<li>'crime_date'</li>\n",
       "\t<li>'crime_identifier'</li>\n",
       "\t<li>'crime_year'</li>\n",
       "\t<li>'gang_related'</li>\n",
       "\t<li>'geo_location'</li>\n",
       "\t<li>'geo_location_address'</li>\n",
       "\t<li>'geo_location_city'</li>\n",
       "\t<li>'geo_location_state'</li>\n",
       "\t<li>'geo_location_zip'</li>\n",
       "\t<li>'latitude'</li>\n",
       "\t<li>'longitude'</li>\n",
       "\t<li>'reporting_district'</li>\n",
       "\t<li>'state'</li>\n",
       "\t<li>'station_identifier'</li>\n",
       "\t<li>'station_name'</li>\n",
       "\t<li>'statistical_code'</li>\n",
       "\t<li>'statistical_code_description'</li>\n",
       "\t<li>'street'</li>\n",
       "\t<li>'victim_count'</li>\n",
       "\t<li>'zip'</li>\n",
       "</ol>\n"
      ],
      "text/latex": [
       "\\begin{enumerate*}\n",
       "\\item 'city'\n",
       "\\item 'crime\\_category\\_description'\n",
       "\\item 'crime\\_category\\_number'\n",
       "\\item 'crime\\_date'\n",
       "\\item 'crime\\_identifier'\n",
       "\\item 'crime\\_year'\n",
       "\\item 'gang\\_related'\n",
       "\\item 'geo\\_location'\n",
       "\\item 'geo\\_location\\_address'\n",
       "\\item 'geo\\_location\\_city'\n",
       "\\item 'geo\\_location\\_state'\n",
       "\\item 'geo\\_location\\_zip'\n",
       "\\item 'latitude'\n",
       "\\item 'longitude'\n",
       "\\item 'reporting\\_district'\n",
       "\\item 'state'\n",
       "\\item 'station\\_identifier'\n",
       "\\item 'station\\_name'\n",
       "\\item 'statistical\\_code'\n",
       "\\item 'statistical\\_code\\_description'\n",
       "\\item 'street'\n",
       "\\item 'victim\\_count'\n",
       "\\item 'zip'\n",
       "\\end{enumerate*}\n"
      ],
      "text/markdown": [
       "1. 'city'\n",
       "2. 'crime_category_description'\n",
       "3. 'crime_category_number'\n",
       "4. 'crime_date'\n",
       "5. 'crime_identifier'\n",
       "6. 'crime_year'\n",
       "7. 'gang_related'\n",
       "8. 'geo_location'\n",
       "9. 'geo_location_address'\n",
       "10. 'geo_location_city'\n",
       "11. 'geo_location_state'\n",
       "12. 'geo_location_zip'\n",
       "13. 'latitude'\n",
       "14. 'longitude'\n",
       "15. 'reporting_district'\n",
       "16. 'state'\n",
       "17. 'station_identifier'\n",
       "18. 'station_name'\n",
       "19. 'statistical_code'\n",
       "20. 'statistical_code_description'\n",
       "21. 'street'\n",
       "22. 'victim_count'\n",
       "23. 'zip'\n",
       "\n",
       "\n"
      ],
      "text/plain": [
       " [1] \"city\"                         \"crime_category_description\"  \n",
       " [3] \"crime_category_number\"        \"crime_date\"                  \n",
       " [5] \"crime_identifier\"             \"crime_year\"                  \n",
       " [7] \"gang_related\"                 \"geo_location\"                \n",
       " [9] \"geo_location_address\"         \"geo_location_city\"           \n",
       "[11] \"geo_location_state\"           \"geo_location_zip\"            \n",
       "[13] \"latitude\"                     \"longitude\"                   \n",
       "[15] \"reporting_district\"           \"state\"                       \n",
       "[17] \"station_identifier\"           \"station_name\"                \n",
       "[19] \"statistical_code\"             \"statistical_code_description\"\n",
       "[21] \"street\"                       \"victim_count\"                \n",
       "[23] \"zip\"                         "
      ]
     },
     "metadata": {},
     "output_type": "display_data"
    }
   ],
   "source": [
    "names(result_rows[[1]])"
   ]
  },
  {
   "cell_type": "markdown",
   "metadata": {},
   "source": [
    "This is somewhat haphazard since this row could be missing columns.\n",
    "We're going to choose from this list the columns we want to handle."
   ]
  },
  {
   "cell_type": "code",
   "execution_count": 10,
   "metadata": {},
   "outputs": [
    {
     "data": {
      "text/html": [
       "<ol class=list-inline>\n",
       "\t<li>'city'</li>\n",
       "\t<li>'crime_category_description'</li>\n",
       "\t<li>'crime_category_number'</li>\n",
       "\t<li>'crime_date'</li>\n",
       "\t<li>'crime_identifier'</li>\n",
       "\t<li>'gang_related'</li>\n",
       "\t<li>'reporting_district'</li>\n",
       "\t<li>'state'</li>\n",
       "\t<li>'station_identifier'</li>\n",
       "\t<li>'station_name'</li>\n",
       "\t<li>'statistical_code'</li>\n",
       "\t<li>'statistical_code_description'</li>\n",
       "\t<li>'street'</li>\n",
       "\t<li>'victim_count'</li>\n",
       "\t<li>'zip'</li>\n",
       "</ol>\n"
      ],
      "text/latex": [
       "\\begin{enumerate*}\n",
       "\\item 'city'\n",
       "\\item 'crime\\_category\\_description'\n",
       "\\item 'crime\\_category\\_number'\n",
       "\\item 'crime\\_date'\n",
       "\\item 'crime\\_identifier'\n",
       "\\item 'gang\\_related'\n",
       "\\item 'reporting\\_district'\n",
       "\\item 'state'\n",
       "\\item 'station\\_identifier'\n",
       "\\item 'station\\_name'\n",
       "\\item 'statistical\\_code'\n",
       "\\item 'statistical\\_code\\_description'\n",
       "\\item 'street'\n",
       "\\item 'victim\\_count'\n",
       "\\item 'zip'\n",
       "\\end{enumerate*}\n"
      ],
      "text/markdown": [
       "1. 'city'\n",
       "2. 'crime_category_description'\n",
       "3. 'crime_category_number'\n",
       "4. 'crime_date'\n",
       "5. 'crime_identifier'\n",
       "6. 'gang_related'\n",
       "7. 'reporting_district'\n",
       "8. 'state'\n",
       "9. 'station_identifier'\n",
       "10. 'station_name'\n",
       "11. 'statistical_code'\n",
       "12. 'statistical_code_description'\n",
       "13. 'street'\n",
       "14. 'victim_count'\n",
       "15. 'zip'\n",
       "\n",
       "\n"
      ],
      "text/plain": [
       " [1] \"city\"                         \"crime_category_description\"  \n",
       " [3] \"crime_category_number\"        \"crime_date\"                  \n",
       " [5] \"crime_identifier\"             \"gang_related\"                \n",
       " [7] \"reporting_district\"           \"state\"                       \n",
       " [9] \"station_identifier\"           \"station_name\"                \n",
       "[11] \"statistical_code\"             \"statistical_code_description\"\n",
       "[13] \"street\"                       \"victim_count\"                \n",
       "[15] \"zip\"                         "
      ]
     },
     "metadata": {},
     "output_type": "display_data"
    }
   ],
   "source": [
    "our_columns <- names(result_rows[[1]])[c(1:5, 7, 15:23)]\n",
    "our_columns"
   ]
  },
  {
   "cell_type": "markdown",
   "metadata": {},
   "source": [
    "`result_rows` is a list of lists.  Each top level element\n",
    "is a row.  The \"inner list\" is the set of named columns.\n",
    "We want to create the opposite: a list of columns, each\n",
    "element of which is an atomic vector (*atomic* means\n",
    "\"same type for all elements).  Given a column name, we\n",
    "can create it's atomic vector with the following function.\n",
    "\n",
    "```\n",
    "sapply(result_rows, function(row) { row[[col_name]] }\n",
    "```\n",
    "\n",
    "The `sapply` function iterates over a list and does something\n",
    "with each element.  It has two arguments.\n",
    "\n",
    "1. a list\n",
    "2. a function to be applied to each element of the list\n",
    "\n",
    "The result is a new list with the same number of elements as\n",
    "the first argument.  The value of each element is the\n",
    "result of calling the function from the second argument.\n",
    "The `s` in the name of `sapply` means *simplify if possible*.\n",
    "This means that if the resulting list contains primitive elements\n",
    "of the same type, the list is converted to a vector before returning.\n",
    "Otherwise it's left as a new list.\n",
    "\n",
    "Recall the second challenge described above: not all rows have all\n",
    "columns.  When a column is missing, `result_row['col_name']` will\n",
    "return `NULL`.  This will cause the lengths of the column vectors\n",
    "to be unequal (which will cause the conversion to a `data.frame` to\n",
    "fail).  To maintain placeholders for missing elements, we assign `NA`\n",
    "instead of `NULL`.\n",
    "\n",
    "```\n",
    "sapply(result_rows, function(row) { \n",
    "    if ( is.null(row[[col_name]]) ) \n",
    "       NA\n",
    "    else\n",
    "       row[[col_name]] \n",
    "    })\n",
    "```\n",
    "\n",
    "This will assign `NA` if the value is `NULL`, or the value if\n",
    "it is not `NULL`.  Let's see this in action.  First let's\n",
    "apply it to a column with no `NULL` values to see the simple case."
   ]
  },
  {
   "cell_type": "code",
   "execution_count": 15,
   "metadata": {},
   "outputs": [
    {
     "data": {
      "text/html": [
       "<ol class=list-inline>\n",
       "\t<li>'18351963'</li>\n",
       "\t<li>'18355628'</li>\n",
       "\t<li>'18274453'</li>\n",
       "\t<li>'18245488'</li>\n",
       "\t<li>'18307448'</li>\n",
       "</ol>\n"
      ],
      "text/latex": [
       "\\begin{enumerate*}\n",
       "\\item '18351963'\n",
       "\\item '18355628'\n",
       "\\item '18274453'\n",
       "\\item '18245488'\n",
       "\\item '18307448'\n",
       "\\end{enumerate*}\n"
      ],
      "text/markdown": [
       "1. '18351963'\n",
       "2. '18355628'\n",
       "3. '18274453'\n",
       "4. '18245488'\n",
       "5. '18307448'\n",
       "\n",
       "\n"
      ],
      "text/plain": [
       "[1] \"18351963\" \"18355628\" \"18274453\" \"18245488\" \"18307448\""
      ]
     },
     "metadata": {},
     "output_type": "display_data"
    }
   ],
   "source": [
    "col_name <- 'crime_identifier'\n",
    "sapply(result_rows, function(row) { row[[col_name]] })"
   ]
  },
  {
   "cell_type": "code",
   "execution_count": 16,
   "metadata": {},
   "outputs": [
    {
     "data": {
      "text/html": [
       "<ol>\n",
       "\t<li>'93536'</li>\n",
       "\t<li>'90262'</li>\n",
       "\t<li>NULL</li>\n",
       "\t<li>NULL</li>\n",
       "\t<li>NULL</li>\n",
       "</ol>\n"
      ],
      "text/latex": [
       "\\begin{enumerate}\n",
       "\\item '93536'\n",
       "\\item '90262'\n",
       "\\item NULL\n",
       "\\item NULL\n",
       "\\item NULL\n",
       "\\end{enumerate}\n"
      ],
      "text/markdown": [
       "1. '93536'\n",
       "2. '90262'\n",
       "3. NULL\n",
       "4. NULL\n",
       "5. NULL\n",
       "\n",
       "\n"
      ],
      "text/plain": [
       "[[1]]\n",
       "[1] \"93536\"\n",
       "\n",
       "[[2]]\n",
       "[1] \"90262\"\n",
       "\n",
       "[[3]]\n",
       "NULL\n",
       "\n",
       "[[4]]\n",
       "NULL\n",
       "\n",
       "[[5]]\n",
       "NULL\n"
      ]
     },
     "metadata": {},
     "output_type": "display_data"
    }
   ],
   "source": [
    "col_name <- 'zip'\n",
    "sapply(result_rows, function(row) { row[[col_name]] })"
   ]
  },
  {
   "cell_type": "code",
   "execution_count": 18,
   "metadata": {},
   "outputs": [
    {
     "data": {
      "text/html": [
       "<ol class=list-inline>\n",
       "\t<li>'93536'</li>\n",
       "\t<li>'90262'</li>\n",
       "\t<li>NA</li>\n",
       "\t<li>NA</li>\n",
       "\t<li>NA</li>\n",
       "</ol>\n"
      ],
      "text/latex": [
       "\\begin{enumerate*}\n",
       "\\item '93536'\n",
       "\\item '90262'\n",
       "\\item NA\n",
       "\\item NA\n",
       "\\item NA\n",
       "\\end{enumerate*}\n"
      ],
      "text/markdown": [
       "1. '93536'\n",
       "2. '90262'\n",
       "3. NA\n",
       "4. NA\n",
       "5. NA\n",
       "\n",
       "\n"
      ],
      "text/plain": [
       "[1] \"93536\" \"90262\" NA      NA      NA     "
      ]
     },
     "metadata": {},
     "output_type": "display_data"
    }
   ],
   "source": [
    "sapply(result_rows, function(row) { \n",
    "    if (is.null(row[[col_name]]))\n",
    "        NA\n",
    "    else\n",
    "        row[[col_name]]\n",
    "    })"
   ]
  },
  {
   "cell_type": "markdown",
   "metadata": {},
   "source": [
    "The last two executions demonstrate the need for the check.\n",
    "In the case with `NULL` values, this will result in vector\n",
    "of length `2`.  But the `NA` values maintain a length of `5`.\n",
    "\n",
    "This handles the \"*inner loop*\".  The outer loop is just the\n",
    "number of column names."
   ]
  },
  {
   "cell_type": "code",
   "execution_count": 19,
   "metadata": {
    "collapsed": true
   },
   "outputs": [],
   "source": [
    "predf <- lapply(our_columns, function(col_name) {\n",
    "    sapply(result_rows, function(row) { \n",
    "    if (is.null(row[[col_name]]))\n",
    "        NA\n",
    "    else\n",
    "        row[[col_name]]\n",
    "    })\n",
    "})"
   ]
  },
  {
   "cell_type": "markdown",
   "metadata": {},
   "source": [
    "`predf` is basically a transpose of `result_rows`; but with\n",
    "only certain columns selected and `NA` in place of `NULL`.\n",
    "`predf` is a list of equal length vectors.  We can now create\n",
    "a `data.frame` object."
   ]
  },
  {
   "cell_type": "code",
   "execution_count": 22,
   "metadata": {},
   "outputs": [
    {
     "data": {
      "text/html": [
       "<ol class=list-inline>\n",
       "\t<li>5</li>\n",
       "\t<li>15</li>\n",
       "</ol>\n"
      ],
      "text/latex": [
       "\\begin{enumerate*}\n",
       "\\item 5\n",
       "\\item 15\n",
       "\\end{enumerate*}\n"
      ],
      "text/markdown": [
       "1. 5\n",
       "2. 15\n",
       "\n",
       "\n"
      ],
      "text/plain": [
       "[1]  5 15"
      ]
     },
     "metadata": {},
     "output_type": "display_data"
    }
   ],
   "source": [
    "df <- as.data.frame(predf, stringsAsFactors=FALSE,\n",
    "                           row.names=predf[[5]], \n",
    "                           col.names=our_columns)\n",
    "dim(df)"
   ]
  },
  {
   "cell_type": "markdown",
   "metadata": {},
   "source": [
    "This is a data frame with `5` rows and `15` columns.\n",
    "\n",
    "**Exercise**: Create an R script in R Studio using the\n",
    "commands from this session."
   ]
  }
 ],
 "metadata": {
  "kernelspec": {
   "display_name": "R",
   "language": "R",
   "name": "ir"
  },
  "language_info": {
   "codemirror_mode": "r",
   "file_extension": ".r",
   "mimetype": "text/x-r-source",
   "name": "R",
   "pygments_lexer": "r",
   "version": "3.3.2"
  }
 },
 "nbformat": 4,
 "nbformat_minor": 1
}
