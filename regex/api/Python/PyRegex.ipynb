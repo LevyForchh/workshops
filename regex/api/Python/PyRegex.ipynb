{
 "cells": [
  {
   "cell_type": "markdown",
   "metadata": {},
   "source": [
    "# Python Regular Expressions\n",
    "\n",
    "Python's regular expression API is provided by the **re** package.\n",
    "The official documentation for `re` is provided by the\n",
    "[re section of the Python Standard Library](https://docs.python.org/3.5/library/re.html).\n",
    "Open this link in a separate window as you work through\n",
    "these exercises and become familiar with the documentation.\n",
    "\n",
    "## 1. Preliminaries\n",
    "\n",
    "The following sections need to be understood before getting started\n",
    "with Python regular expressions.\n",
    "\n",
    "### Import and Compile\n",
    "\n",
    "Be sure to import `re` in any script or interactive\n",
    "session in which you expect to use regular expressions."
   ]
  },
  {
   "cell_type": "code",
   "execution_count": 32,
   "metadata": {
    "collapsed": true
   },
   "outputs": [],
   "source": [
    "import re"
   ]
  },
  {
   "cell_type": "markdown",
   "metadata": {},
   "source": [
    "Regular expressions need to be compiled before they can be applied\n",
    "to strings to determine a match."
   ]
  },
  {
   "cell_type": "code",
   "execution_count": 33,
   "metadata": {
    "collapsed": true
   },
   "outputs": [],
   "source": [
    "findData = re.compile('\\\\s[Dd]ata\\\\s')"
   ]
  },
  {
   "cell_type": "markdown",
   "metadata": {},
   "source": [
    "This will match \"`data`\" or \"`Data`\" as standalone words.\n",
    "Recall that `\\b` means boundary between words and whitespaces.\n",
    "Also recall that Python treats the backslash as an escape\n",
    "character in a string.  That means Python will convert `\\b`\n",
    "to a backspace before it passes the result to the `compile`\n",
    "method.  In order to pass a back slash `\\b`, we need to pass\n",
    "`\\\\b`.  Python will convert the `\\\\` to a single slash\n",
    "and leave the `b` alone."
   ]
  },
  {
   "cell_type": "code",
   "execution_count": 34,
   "metadata": {
    "collapsed": false
   },
   "outputs": [
    {
     "name": "stdout",
     "output_type": "stream",
     "text": [
      "Found\n"
     ]
    }
   ],
   "source": [
    "# Apply regular expression from compilation above\n",
    "found = findData.search(\"Where is my data now?\")\n",
    "\n",
    "# Compile and apply in a single step.\n",
    "found = re.search('\\\\s[Dd]ata\\\\s', \"Where is my data now?\")\n",
    "\n",
    "print(\"Found\" if found else \"Not found\")"
   ]
  },
  {
   "cell_type": "markdown",
   "metadata": {},
   "source": [
    "\n",
    "### Raw Strings\n",
    "\n",
    "The more involved regular expressions can contain quite a few\n",
    "back slashes.  This is confusing enough and is further compounded\n",
    "when string meta-character interpretation forces us to\n",
    "*double the number of backslashes*!  To help reduce this mess,\n",
    "Python provides the notion of a **raw string** in which back slashes\n",
    "are left alone.  This doesn't mean the regular expression compiler\n",
    "will leave them alone; but the Python string literal parser will.\n",
    "A raw string literal is prefixed with a lower-case **r**.\n",
    "So the regular expression above could be equivalently expressed as"
   ]
  },
  {
   "cell_type": "code",
   "execution_count": 35,
   "metadata": {
    "collapsed": true
   },
   "outputs": [],
   "source": [
    "findData = re.compile(r'\\s[Dd]ata\\s')"
   ]
  },
  {
   "cell_type": "markdown",
   "metadata": {},
   "source": [
    "## 2. Regular Expression Methods\n",
    "\n",
    "Python compiled regular expressions may be applied to strings\n",
    "through several methods.  These methods may be invoked in one\n",
    "of two ways.\n",
    "\n",
    "1. As a method of the compiled regular expression object, or\n",
    "2. As a static method defined on `re`.\n",
    "\n",
    "The first case requires two steps.  The first step, invoking\n",
    "the `compile` method was shown in the previous section.\n",
    "Then apply the regular expression to a string in a separate\n",
    "statement.\n",
    "\n",
    "By splitting compilation and application, it's\n",
    "especially suitable for applying a regular expression in a loop\n",
    "since the compilation is done once outside the loop and applied\n",
    "within the loop.\n",
    "\n",
    "The second method is more convenient for the programmer.  The\n",
    "regular expression and the string on which to apply it are\n",
    "specified in the same method call.  This performs the compilation\n",
    "and evaluation in one step.  This is easier to code and read\n",
    "most of the time.  We'll demonstrate both types below.\n",
    "\n",
    "Most of these methods return a\n",
    "**Match** object.  There are several ways to interogate a\n",
    "`Match` object.  The most basic way is treat it like a boolean.\n",
    "In this case, **Match always returns `True`**.  In other words,\n",
    "if one of the methods returned a `Match` object at all, something\n",
    "was matched.  If nothing was matched, the method will return\n",
    "`None` (which evaluates to `False` as a boolean).\n",
    "\n",
    "### Search\n",
    "\n",
    "The `search` method searches for the presence of a match anywhere\n",
    "in the string."
   ]
  },
  {
   "cell_type": "code",
   "execution_count": 36,
   "metadata": {
    "collapsed": false
   },
   "outputs": [
    {
     "name": "stdout",
     "output_type": "stream",
     "text": [
      "Found\n"
     ]
    }
   ],
   "source": [
    "found = re.search(r'\\s[Dd]ata\\s', \"My data is here.\")\n",
    "print(\"Found\" if found else \"Not found\")"
   ]
  },
  {
   "cell_type": "code",
   "execution_count": 37,
   "metadata": {
    "collapsed": false
   },
   "outputs": [
    {
     "name": "stdout",
     "output_type": "stream",
     "text": [
      "Not found\n"
     ]
    }
   ],
   "source": [
    "found = re.search(r'\\s[Dd]ata\\s', \"Here is my data.\")\n",
    "print(\"Found\" if found else \"Not found\")"
   ]
  },
  {
   "cell_type": "markdown",
   "metadata": {},
   "source": [
    "Note that we didn't match `data` in `sentence2` like we\n",
    "wanted.  We wanted to match `data` alone (not part of\n",
    "another word).  So we insisted on a space on each side.\n",
    "But we didn't count on punctuation or other non-space\n",
    "items such as beginning or end of line.  Rather than\n",
    "using space (`\\s`) as a delimiter, the boundary (`\\b`)\n",
    "is a better one for this case.  It represents the boundary\n",
    "between a word and a non-word."
   ]
  },
  {
   "cell_type": "code",
   "execution_count": 38,
   "metadata": {
    "collapsed": false
   },
   "outputs": [
    {
     "name": "stdout",
     "output_type": "stream",
     "text": [
      "1 found\n",
      "2 found\n"
     ]
    }
   ],
   "source": [
    "found = re.search(r'\\b[Dd]ata\\b', \"My data is here.\")\n",
    "print(\"1 found\" if found else \"1 not found\")\n",
    "found = re.search(r'\\b[Dd]ata\\b', \"Here is my data.\")\n",
    "print(\"2 found\" if found else \"2 not found\")"
   ]
  },
  {
   "cell_type": "markdown",
   "metadata": {},
   "source": [
    "### Match\n",
    "\n",
    "The `match` method is similar to `search`.\n",
    "The main difference is that `match` presumes the search to\n",
    "start from the beginning of the string or line."
   ]
  },
  {
   "cell_type": "code",
   "execution_count": 39,
   "metadata": {
    "collapsed": false
   },
   "outputs": [
    {
     "name": "stdout",
     "output_type": "stream",
     "text": [
      "1 found\n",
      "2 not found\n"
     ]
    }
   ],
   "source": [
    "found = re.match(r'\\b[Dd]ata\\b', \"Data is here.\")\n",
    "print(\"1 found\" if found else \"1 not found\")\n",
    "found = re.match(r'\\b[Dd]ata\\b', \"Here is data.\")\n",
    "print(\"2 found\" if found else \"2 not found\")"
   ]
  },
  {
   "cell_type": "markdown",
   "metadata": {},
   "source": [
    "### Split\n",
    "\n",
    "The `split` method uses the regular expression as the criterion\n",
    "for delimiters in splitting strings."
   ]
  },
  {
   "cell_type": "code",
   "execution_count": 40,
   "metadata": {
    "collapsed": false
   },
   "outputs": [
    {
     "data": {
      "text/plain": [
       "['Here ', ', there ', ', too much ', ' everywhere']"
      ]
     },
     "execution_count": 40,
     "metadata": {},
     "output_type": "execute_result"
    }
   ],
   "source": [
    "re.split(\"data\", \"Here data, there data, too much data everywhere\")"
   ]
  },
  {
   "cell_type": "markdown",
   "metadata": {},
   "source": [
    "Note that spaces and punctuation are part of the tokenize list elements.\n",
    "Also notice that the things we matched were not part of the list."
   ]
  },
  {
   "cell_type": "code",
   "execution_count": 41,
   "metadata": {
    "collapsed": false
   },
   "outputs": [
    {
     "data": {
      "text/plain": [
       "['Here data', ' there data', ' too much data everywhere']"
      ]
     },
     "execution_count": 41,
     "metadata": {},
     "output_type": "execute_result"
    }
   ],
   "source": [
    "re.split(r',', \"Here data, there data, too much data everywhere\")"
   ]
  },
  {
   "cell_type": "code",
   "execution_count": 42,
   "metadata": {
    "collapsed": false
   },
   "outputs": [
    {
     "data": {
      "text/plain": [
       "['Here', '', '', 'there', 'b', 'too', 'much', '', '', 'everywhere']"
      ]
     },
     "execution_count": 42,
     "metadata": {},
     "output_type": "execute_result"
    }
   ],
   "source": [
    "re.split(r'\\s+|\\W+|data', \"Here data, there b, too much data everywhere\")"
   ]
  },
  {
   "cell_type": "markdown",
   "metadata": {},
   "source": [
    "In the last example, we matched multiple separators in a row.\n",
    "When there is nothing between two separators, an empty string is \"the token\"."
   ]
  },
  {
   "cell_type": "markdown",
   "metadata": {},
   "source": [
    "## 3. Grouping\n",
    "\n",
    "Grouping is a very powerful technique with regular expressions.\n",
    "It allows us to select a particular piece of an expression from\n",
    "the braoder context of the match."
   ]
  },
  {
   "cell_type": "markdown",
   "metadata": {},
   "source": [
    "A group in a regular expression is the portion within parenthesis"
   ]
  },
  {
   "cell_type": "code",
   "execution_count": 49,
   "metadata": {
    "collapsed": true
   },
   "outputs": [],
   "source": [
    "match = re.search(r'(.*) data, (.*) data,', 'Here data, there data, too much data everywhere')"
   ]
  },
  {
   "cell_type": "markdown",
   "metadata": {},
   "source": [
    "The group method will allow you to grab groups from a match. Passing a 0 into the group method will return the entire match"
   ]
  },
  {
   "cell_type": "code",
   "execution_count": 44,
   "metadata": {
    "collapsed": false
   },
   "outputs": [
    {
     "data": {
      "text/plain": [
       "'Here data, there data,'"
      ]
     },
     "execution_count": 44,
     "metadata": {},
     "output_type": "execute_result"
    }
   ],
   "source": [
    "match.group(0)"
   ]
  },
  {
   "cell_type": "markdown",
   "metadata": {},
   "source": [
    "Let's find out how many matches we found."
   ]
  },
  {
   "cell_type": "code",
   "execution_count": 48,
   "metadata": {
    "collapsed": false
   },
   "outputs": [
    {
     "data": {
      "text/plain": [
       "2"
      ]
     },
     "execution_count": 48,
     "metadata": {},
     "output_type": "execute_result"
    }
   ],
   "source": [
    "len(match.groups())"
   ]
  },
  {
   "cell_type": "markdown",
   "metadata": {},
   "source": [
    "Passing a number other than 0 into the group method will return the respective group matched"
   ]
  },
  {
   "cell_type": "code",
   "execution_count": 50,
   "metadata": {
    "collapsed": false
   },
   "outputs": [
    {
     "data": {
      "text/plain": [
       "'Here'"
      ]
     },
     "execution_count": 50,
     "metadata": {},
     "output_type": "execute_result"
    }
   ],
   "source": [
    "match.group(1)"
   ]
  },
  {
   "cell_type": "code",
   "execution_count": 51,
   "metadata": {
    "collapsed": false
   },
   "outputs": [
    {
     "data": {
      "text/plain": [
       "'there'"
      ]
     },
     "execution_count": 51,
     "metadata": {},
     "output_type": "execute_result"
    }
   ],
   "source": [
    "match.group(2)"
   ]
  }
 ],
 "metadata": {
  "kernelspec": {
   "display_name": "Python 3",
   "language": "python",
   "name": "python3"
  },
  "language_info": {
   "codemirror_mode": {
    "name": "ipython",
    "version": 3
   },
   "file_extension": ".py",
   "mimetype": "text/x-python",
   "name": "python",
   "nbconvert_exporter": "python",
   "pygments_lexer": "ipython3",
   "version": "3.5.2"
  }
 },
 "nbformat": 4,
 "nbformat_minor": 0
}
